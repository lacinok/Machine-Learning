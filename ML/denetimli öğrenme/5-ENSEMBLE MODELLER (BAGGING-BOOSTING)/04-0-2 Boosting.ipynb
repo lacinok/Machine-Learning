{
 "cells": [
  {
   "cell_type": "markdown",
   "metadata": {},
   "source": [
    "# Boosting"
   ]
  },
  {
   "cell_type": "markdown",
   "metadata": {},
   "source": [
    "*Boosting* de bagging gibi bir çok modeli bir arada kullanarak bir sonucun uretildigi baska bir *ensemble* teknigidir."
   ]
  },
  {
   "cell_type": "markdown",
   "metadata": {},
   "source": [
    "Bagging'in aksine, *boosting* tekniginde uretilen modeller birbirinden bagimsiz degildir.\n",
    "\n",
    "> Her bir model, kendinden onceki modellerin hatalarini duzeltmek uzere uretilir.\n",
    ">\n",
    "> Buna gore, *boosting*de kullanilan modellerin kompleks olmaktan uzak, genel modeller olmasi gerekir. (Hata olmazsa duzeltme yapacak sonraki modellere ihtiyac olmazdi.)\n",
    "\n",
    "\n",
    "Asagida iki ayri *boosting* teknigini gorecegiz:\n",
    "\n",
    "- **Adaptive Boosting (ADAboost)**\n",
    "- **Gradient Boosting (GB)**"
   ]
  },
  {
   "cell_type": "code",
   "execution_count": 1,
   "metadata": {},
   "outputs": [],
   "source": [
    "from sklearn import datasets, tree, ensemble, metrics\n",
    "import numpy as np\n",
    "import matplotlib.pyplot as plt\n",
    "import pandas as pd\n",
    "from ipywidgets import interact, interactive, fixed, interact_manual\n",
    "import warnings"
   ]
  },
  {
   "cell_type": "code",
   "execution_count": 2,
   "metadata": {},
   "outputs": [],
   "source": [
    "X, y = datasets.make_classification(\n",
    "    n_samples=35, \n",
    "    n_features=2, \n",
    "    n_informative=2, \n",
    "    n_redundant=0, \n",
    "    n_repeated=0, \n",
    "    n_classes=2, \n",
    "    n_clusters_per_class=1, \n",
    "    weights=None, \n",
    "    flip_y=0.0, \n",
    "    class_sep=0.8, hypercube=True, shift=0.0, scale=1.0, shuffle=True, random_state=27)"
   ]
  },
  {
   "cell_type": "code",
   "execution_count": 3,
   "metadata": {},
   "outputs": [
    {
     "data": {
      "image/png": "[encoded data removed]",
      "text/plain": [
       "<Figure size 432x288 with 1 Axes>"
      ]
     },
     "metadata": {
      "needs_background": "light"
     },
     "output_type": "display_data"
    }
   ],
   "source": [
    "plt.scatter(*X[y==1].T, color='r', marker='x')\n",
    "plt.scatter(*X[y==0].T, color='b', marker='o');"
   ]
  },
  {
   "cell_type": "code",
   "execution_count": 4,
   "metadata": {},
   "outputs": [],
   "source": [
    "xx, yy = np.meshgrid(np.linspace(-4, 4, 100), np.linspace(-4, 4, 100))"
   ]
  },
  {
   "cell_type": "markdown",
   "metadata": {},
   "source": [
    "# Adaptive Boosting (ADABoost)"
   ]
  },
  {
   "cell_type": "markdown",
   "metadata": {},
   "source": [
    "## Egitim"
   ]
  },
  {
   "cell_type": "markdown",
   "metadata": {},
   "source": [
    "*ADABoost* tekniginde, genellikle karar kutukleri (decision stumps) kullanilir.\n",
    "\n",
    "0. Tum ornekler esit agirliga sahiptir.\n",
    "1. Zayif model egitim verisi uzerinde egitilir.\n",
    "2. Her bir ornek icin yapilan hata hesaplanir.\n",
    "3. **Modelin genel hatasi kullanilarak modele bir agirlik atanir.**\n",
    "4. **Her bir ornegin hatasi kullanilarak, orneklerin egitimdeki agirliklarina duzeltme uygulanir.**\n",
    "5. Orneklerin yeni agirliklari kullanilarak yeni bir model tekrar uretilir.\n",
    "    - Yeni model, agirligi daha yuksek olan ornekleri daha dogru tahmin etmek uzere hareket edecektir.\n",
    "6. `2`, `3`, `4` ve `5.` adimlar tekrarlanir."
   ]
  },
  {
   "cell_type": "markdown",
   "metadata": {},
   "source": [
    "### Hatanin hesaplanmasi"
   ]
  },
  {
   "cell_type": "markdown",
   "metadata": {},
   "source": [
    "Bir ornegin $t$'inci iterasyonda agirliginin $D_t(i)$ oldugunu varsayalim.\n"
   ]
  },
  {
   "cell_type": "markdown",
   "metadata": {},
   "source": [
    "Buna gore $t$'inci iterasyonda egitilen ogrenicinin hata orani:\n",
    "\n",
    "$$ \\epsilon_t =  \\frac{\\sum_{i=1}^{N}{D_t(i) \\bm{I}[y_i \\ne G_t(X_i)]}}{\\sum_{i=1}^{N}{D_t(i)}}$$"
   ]
  },
  {
   "cell_type": "markdown",
   "metadata": {},
   "source": [
    "Yukaridaki islem kisaca; her bir hatayi ornek agirliklariyla carpip normalize etmeye karsilik gelmektedir.\n",
    "\n",
    "$\\bm{I}[y_i \\ne G_t(X_i)]$ terimi, eger yapilan tahmin ile gercek sinif uyusuyorsa 0, uyusmuyorsa 1 degerini verir."
   ]
  },
  {
   "cell_type": "markdown",
   "metadata": {},
   "source": [
    "### Ogrenici katsayisinin hesaplanmasi"
   ]
  },
  {
   "cell_type": "markdown",
   "metadata": {},
   "source": [
    "Yukarida hesapladigimiz hata oranini kullanarak, ogreniciye bir katsayi atayabiliriz:"
   ]
  },
  {
   "cell_type": "markdown",
   "metadata": {},
   "source": [
    "$$ \\alpha_t = \\gamma_0 \\ln{\\frac{1 - \\epsilon_t}{\\epsilon_t}} $$"
   ]
  },
  {
   "cell_type": "markdown",
   "metadata": {},
   "source": [
    "$\\gamma_0$ terimi, ogrenme orani olup basta belirnenen sabit bir degerdir."
   ]
  },
  {
   "cell_type": "markdown",
   "metadata": {},
   "source": [
    "Burada onemli husus, zayif ogrenicinin basari oraninin $0.5$'den daha buyuk olmasi ihtiyacidir (yani hata orani $0.5$'den kucuk olmali)."
   ]
  },
  {
   "cell_type": "markdown",
   "metadata": {},
   "source": [
    "### Ornek agirliklarinin guncellenmesi: *SAMME algoritmasi*"
   ]
  },
  {
   "cell_type": "markdown",
   "metadata": {},
   "source": [
    "\n",
    "Ornek olarak, *SAMME* algoritmasindaki ornek agirligi guncellemesi su sekilde olmaktadir:"
   ]
  },
  {
   "cell_type": "markdown",
   "metadata": {},
   "source": [
    "$$ D_{t+1}(i)  = { D_t(i) e^{-\\alpha_t Y_i \\bm{I[y_i \\ne G_t(X_i)]}} }$$"
   ]
  },
  {
   "cell_type": "markdown",
   "metadata": {},
   "source": [
    "Muteakiben, isterseniz agirliklari normalize edebilirsiniz."
   ]
  },
  {
   "cell_type": "markdown",
   "metadata": {},
   "source": [
    "### Tahmin"
   ]
  },
  {
   "cell_type": "markdown",
   "metadata": {},
   "source": [
    "Egitmis oldugumuz boosting algoritmasinin tahmini, tum zayif ogrenicilerin tahminlerinin bir lineer kombinasyonu olarak bulunur:"
   ]
  },
  {
   "cell_type": "markdown",
   "metadata": {},
   "source": [
    "$$ \\hat{y_i} = sgn{[\\sum_{t=1}^{m}{\\alpha_t G_t(X_i)}]} $$"
   ]
  },
  {
   "cell_type": "code",
   "execution_count": 5,
   "metadata": {},
   "outputs": [],
   "source": [
    "class IncelenebilirAdaBooster(ensemble.AdaBoostClassifier):\n",
    "    def _boost(self, iboost, X, y, sample_weight, random_state):\n",
    "        args = super()._boost(iboost, X, y, sample_weight, random_state)\n",
    "        self.last_weights_ = args[0]\n",
    "        return args"
   ]
  },
  {
   "cell_type": "code",
   "execution_count": 6,
   "metadata": {},
   "outputs": [
    {
     "data": {
      "application/vnd.jupyter.widget-view+json": {
       "model_id": "a17a5094f1be498cbbada6c9de758e9c",
       "version_major": 2,
       "version_minor": 0
      },
      "text/plain": [
       "interactive(children=(IntSlider(value=0, description='learning_rate', max=3, min=-3), Output()), _dom_classes=…"
      ]
     },
     "metadata": {},
     "output_type": "display_data"
    }
   ],
   "source": [
    "@interact\n",
    "def lrviz(learning_rate=(-3,3,1)):\n",
    "    @interact(n_iters=(1,100,1))\n",
    "    def boostviz(n_iters=1):\n",
    "        model = IncelenebilirAdaBooster(\n",
    "            base_estimator=tree.DecisionTreeClassifier(max_depth=1),\n",
    "            n_estimators=n_iters,\n",
    "            learning_rate=10**learning_rate,\n",
    "            algorithm='SAMME.R',\n",
    "            random_state=None,\n",
    "            )\n",
    "        plt.figure(figsize=(18,6))\n",
    "        with warnings.catch_warnings():\n",
    "            warnings.simplefilter('error')\n",
    "            try:\n",
    "                model.fit(X, y)\n",
    "            except RuntimeWarning as e:\n",
    "                plt.scatter(*X[y==1].T, color='r', marker='x')\n",
    "                plt.scatter(*X[y==0].T, color='b', marker='o');                \n",
    "                plt.text(-2, 0, \"W A S T E D\" , fontsize=156, color='red')\n",
    "                plt.title(f\"{e}: Ornek agirliklari asiri artti.\")\n",
    "                return\n",
    "\n",
    "        zz = np.array(list(model.staged_decision_function(np.c_[xx.ravel(), yy.ravel()])))\n",
    "        ax = plt.subplot(1, 3, 1)\n",
    "        plt.contourf(xx, yy, zz[n_iters-1].reshape(xx.shape), cmap=plt.cm.PuBu)\n",
    "        plt.colorbar().set_label('$\\mathbf{f(x)}$')\n",
    "        plt.scatter(*X[y==1].T, color='r', marker='x')\n",
    "        plt.scatter(*X[y==0].T, color='b', marker='o');\n",
    "        plt.title('Boosting karar fonksiyonu')\n",
    "\n",
    "        plt.subplot(1, 3, 2, sharey=ax)\n",
    "        plt.title('Ornek agirliklari')\n",
    "        plt.scatter(X[:, 0], X[:, 1], c=model.last_weights_)\n",
    "        plt.colorbar().set_label('$\\mathbf{w}$')\n",
    "\n",
    "        plt.subplot(1, 3, 3, sharey=ax)\n",
    "        plt.contourf(xx, yy, model.predict(np.c_[xx.ravel(), yy.ravel()]).reshape(xx.shape), cmap=plt.cm.PuBu)\n",
    "        plt.colorbar().set_label('$\\mathbf{\\hat{y}}$')\n",
    "        plt.scatter(X[:, 0], X[:, 1], c=y)\n",
    "        plt.title('Boosting karar sinirlari')\n",
    "        plt.suptitle('AdaBoost karar sinirlari - LR = $10^{}$'.format(learning_rate))\n",
    "\n",
    "\n",
    "    "
   ]
  },
  {
   "cell_type": "markdown",
   "metadata": {},
   "source": [
    "# Gradient Boosting (GB)"
   ]
  },
  {
   "cell_type": "markdown",
   "metadata": {},
   "source": [
    "Adaptive boosting, gercekte GB'nin ozel bir durumu, diger bir deyisle GB, adaptive boosting'in bir genellemesidir."
   ]
  },
  {
   "cell_type": "markdown",
   "metadata": {},
   "source": [
    "Her bir iterasyonda, bir onceki ogrenicinin hatasini kapatacak bir tahminleme yapmaya dayali sistemimizi biraz daha farkli bir sekilde uygulayacagiz.\n",
    "\n",
    "$$ F_{t+1}(X_i) = F_t(X_i) + \\gamma $$"
   ]
  },
  {
   "cell_type": "markdown",
   "metadata": {},
   "source": [
    "Asagida karar agaclari ile uygulanan GB icin bir pseudokod bulunmaktadir:\n"
   ]
  },
  {
   "cell_type": "markdown",
   "metadata": {},
   "source": [
    "0. Sabit bir tahmin ile basla: $F_0(x) = a$\n",
    "1. Her bir ornek icin hatalari hesapla\n",
    "2. Orneklerin hatalarina en iyi uyum saglayacak agaci egit.\n",
    "3. Agacin her yapragindaki ornek icin, onceki karar fonksiyonunun uzerine hatayi kucultecek bir miktar ekle.\n",
    "4. `1`, `2` ve `3` nolu adimlari tekrar et.\n"
   ]
  },
  {
   "cell_type": "markdown",
   "metadata": {},
   "source": [
    "Gradient Boosting ornegini, daha anlasilabilir olmasi acisindan regresyon ile yapalim:"
   ]
  },
  {
   "cell_type": "code",
   "execution_count": 7,
   "metadata": {},
   "outputs": [
    {
     "data": {
      "image/png": "[encoded data removed]",
      "text/plain": [
       "<Figure size 432x288 with 1 Axes>"
      ]
     },
     "metadata": {
      "needs_background": "light"
     },
     "output_type": "display_data"
    }
   ],
   "source": [
    "np.random.seed(43)\n",
    "X1 = np.random.randn(15, 1)\n",
    "\n",
    "forig = lambda x: x**2 + 2*x\n",
    "\n",
    "y1 = forig(X1).ravel()\n",
    "plt.scatter(X1, y1, color='r', marker='x');"
   ]
  },
  {
   "cell_type": "markdown",
   "metadata": {},
   "source": [
    "### Baslangic"
   ]
  },
  {
   "cell_type": "markdown",
   "metadata": {},
   "source": [
    "Sabit bir deger ile tahminlerimizi baslatiriz. \n",
    "\n",
    "Regresyon icin bu sabit tahmin $\\bar{y}$ olabilir."
   ]
  },
  {
   "cell_type": "code",
   "execution_count": 8,
   "metadata": {},
   "outputs": [],
   "source": [
    "from sklearn import dummy"
   ]
  },
  {
   "cell_type": "code",
   "execution_count": 9,
   "metadata": {},
   "outputs": [
    {
     "data": {
      "text/plain": [
       "array([0.86465924, 0.86465924, 0.86465924, 0.86465924, 0.86465924,\n",
       "       0.86465924, 0.86465924, 0.86465924, 0.86465924, 0.86465924,\n",
       "       0.86465924, 0.86465924, 0.86465924, 0.86465924, 0.86465924])"
      ]
     },
     "execution_count": 9,
     "metadata": {},
     "output_type": "execute_result"
    }
   ],
   "source": [
    "d = dummy.DummyRegressor(strategy='mean')\n",
    "d.fit(X1, y1)\n",
    "d.predict(X1)"
   ]
  },
  {
   "cell_type": "code",
   "execution_count": 10,
   "metadata": {},
   "outputs": [],
   "source": [
    "def f0(x):\n",
    "    return d.predict(x)"
   ]
  },
  {
   "cell_type": "markdown",
   "metadata": {},
   "source": [
    "### Hatalar"
   ]
  },
  {
   "cell_type": "code",
   "execution_count": 11,
   "metadata": {},
   "outputs": [],
   "source": [
    "p_residuals = y1 - d.predict(X1)"
   ]
  },
  {
   "cell_type": "markdown",
   "metadata": {},
   "source": [
    "### Hatalara uyum saglayan agac"
   ]
  },
  {
   "cell_type": "code",
   "execution_count": 12,
   "metadata": {},
   "outputs": [
    {
     "data": {
      "text/plain": [
       "DecisionTreeRegressor(max_depth=1)"
      ]
     },
     "execution_count": 12,
     "metadata": {},
     "output_type": "execute_result"
    }
   ],
   "source": [
    "t1 = tree.DecisionTreeRegressor(max_depth=1)\n",
    "t1.fit(X1, p_residuals)"
   ]
  },
  {
   "cell_type": "markdown",
   "metadata": {},
   "source": [
    "### Hatalari kuculten miktar"
   ]
  },
  {
   "cell_type": "markdown",
   "metadata": {},
   "source": [
    "Hatalari minimize eden sabit sayi, MSE icin her yaprakta kalan hatanin ortalamalari olacaktir.\n",
    "\n",
    "**Bu duruma ozel olarak** agacimizin ogrendigi degerleri dogrudan tahmin icin kullanabiliriz."
   ]
  },
  {
   "cell_type": "markdown",
   "metadata": {},
   "source": [
    "### Yeni tahmin fonksiyonu"
   ]
  },
  {
   "cell_type": "markdown",
   "metadata": {},
   "source": [
    "Yeni tahmin fonksiyonumuz su sekilde olacaktir:\n",
    "\n",
    "$$ F_{t+1}(X) = F_t(X) + \\alpha h_{t+1}(X) $$\n",
    "\n",
    "\n",
    "Buradaki $\\alpha$ ogrenme ornai olup, *gradient descent*'e benzer bir fonksiyon ustlenecektir."
   ]
  },
  {
   "cell_type": "code",
   "execution_count": 13,
   "metadata": {},
   "outputs": [],
   "source": [
    "alpha = 0.1"
   ]
  },
  {
   "cell_type": "code",
   "execution_count": 14,
   "metadata": {},
   "outputs": [],
   "source": [
    "def f1(x):\n",
    "    return d.predict(x) + alpha * t1.predict(x)"
   ]
  },
  {
   "cell_type": "markdown",
   "metadata": {},
   "source": [
    "### Tekrar hatalar..."
   ]
  },
  {
   "cell_type": "code",
   "execution_count": 15,
   "metadata": {},
   "outputs": [],
   "source": [
    "p_residuals = y1 - f1(X1)"
   ]
  },
  {
   "cell_type": "markdown",
   "metadata": {},
   "source": [
    "### Tekrar egitim ..."
   ]
  },
  {
   "cell_type": "code",
   "execution_count": 16,
   "metadata": {},
   "outputs": [],
   "source": [
    "t2 = tree.DecisionTreeRegressor(max_depth=1)\n",
    "t2.fit(X1, p_residuals)\n",
    "\n",
    "def f2(x):\n",
    "    return f1(x) + alpha * t2.predict(x)"
   ]
  },
  {
   "cell_type": "code",
   "execution_count": 17,
   "metadata": {},
   "outputs": [
    {
     "data": {
      "text/plain": [
       "<AxesSubplot:xlabel='x'>"
      ]
     },
     "execution_count": 17,
     "metadata": {},
     "output_type": "execute_result"
    },
    {
     "data": {
      "image/png": "[encoded data removed]",
      "text/plain": [
       "<Figure size 432x288 with 1 Axes>"
      ]
     },
     "metadata": {
      "needs_background": "light"
     },
     "output_type": "display_data"
    }
   ],
   "source": [
    "pd.DataFrame().assign(y=y1).assign(f0=f0(X1)).assign(f1=f1(X1)).assign(f2=f2(X1)).assign(x=X1[:, 0]).sort_values('x').plot(x='x', y=['y', 'f0', 'f1', 'f2'], marker='o')"
   ]
  },
  {
   "cell_type": "markdown",
   "metadata": {},
   "source": [
    "Asagida bu islemi iterasyonlar boyunca interaktif olarak yaparak sonucun gelisimini gozlemleyelim:"
   ]
  },
  {
   "cell_type": "code",
   "execution_count": 18,
   "metadata": {},
   "outputs": [
    {
     "data": {
      "application/vnd.jupyter.widget-view+json": {
       "model_id": "d6dba9a9fb12432ab8376ed71b5dc77a",
       "version_major": 2,
       "version_minor": 0
      },
      "text/plain": [
       "interactive(children=(FloatSlider(value=0.1, description='alpha', max=1.0, min=0.1), IntSlider(value=1, descri…"
      ]
     },
     "metadata": {},
     "output_type": "display_data"
    }
   ],
   "source": [
    "@interact(alpha=(0.1,1,0.1), max_depth=(1,8,1))\n",
    "def aviz(alpha=0.1, max_depth=1):\n",
    "    @interact(iters=(0,100,1))\n",
    "    def gbregviz(iters=0):\n",
    "        d = dummy.DummyRegressor(strategy='mean')\n",
    "        d.fit(X1, y1)\n",
    "        agaclar = [d]\n",
    "\n",
    "        def f(x):\n",
    "            p = d.predict(x)\n",
    "            for agac in agaclar:\n",
    "                p += alpha * agac.predict(x)\n",
    "            return p\n",
    "\n",
    "\n",
    "        for i in range(1, iters+1):\n",
    "            r = y1 - f(X1)\n",
    "            t = tree.DecisionTreeRegressor(max_depth=max_depth)\n",
    "            t.fit(X1, r)\n",
    "            agaclar.append(t)\n",
    "        rng = np.linspace(-3, 3, 100)\n",
    "\n",
    "        plt.plot(rng, forig(rng), color='g', linestyle='dashed', label='Gercek fonksiyon')\n",
    "        plt.plot(rng, f(rng[:, None]), color='r', label='Boosting ciktisi')\n",
    "        plt.scatter(X1, y1, color='b', marker='x', label='Ornekler')\n",
    "        plt.legend()"
   ]
  },
  {
   "cell_type": "markdown",
   "metadata": {},
   "source": [
    "## Gradient descent ile karsilastirma"
   ]
  },
  {
   "cell_type": "code",
   "execution_count": null,
   "metadata": {},
   "outputs": [],
   "source": []
  },
  {
   "cell_type": "code",
   "execution_count": 20,
   "metadata": {},
   "outputs": [
    {
     "data": {
      "application/vnd.jupyter.widget-view+json": {
       "model_id": "dd9b784aaac449acaad48874cce24495",
       "version_major": 2,
       "version_minor": 0
      },
      "text/plain": [
       "interactive(children=(FloatLogSlider(value=0.0009765625, base=2.0, description='alpha', max=0.0, min=-10.0), O…"
      ]
     },
     "metadata": {},
     "output_type": "display_data"
    }
   ],
   "source": [
    "from sklearn import linear_model, pipeline, preprocessing\n",
    "from ipywidgets import FloatLogSlider\n",
    "@interact(alpha=FloatLogSlider(min=-10, max=0, value=0, step=0.1, description='alpha', base=2))\n",
    "def lrviz(alpha=1./64.):\n",
    "    @interact(iters=(0,100,1))\n",
    "    def gdviz(iters=0):\n",
    "        p = preprocessing.PolynomialFeatures(degree=2, include_bias=False)\n",
    "        model = linear_model.SGDRegressor(loss='squared_error', penalty='l2', max_iter=1, tol=1e-3, shuffle=True, random_state=None, eta0=alpha, validation_fraction=1e-5)\n",
    "        xp = p.fit_transform(X1)\n",
    "        model._check_n_features(xp.shape[1], True)\n",
    "        model.coef_ = np.zeros(xp.shape[1])\n",
    "        model.intercept_ = np.array([0.0])\n",
    "        for i in range(iters):\n",
    "            model.partial_fit(xp, y1, )\n",
    "        t = np.linspace(-3, 3, 100)\n",
    "        plt.plot(t, forig(t), color='g', linestyle='dashed', label='Gercek fonksiyon')\n",
    "        plt.plot(t, model.predict(p.transform(t[:, None])), color='r', label='Gradient Descent')\n",
    "        plt.scatter(X1, y1, color='b', marker='x', label='Ornekler')\n",
    "        plt.legend()\n",
    "        plt.title(f\"{iters} iterasyon sonunda karar fonksiyonu\")\n"
   ]
  },
  {
   "cell_type": "markdown",
   "metadata": {},
   "source": [
    "## Tasniflendirme icin boosting"
   ]
  },
  {
   "cell_type": "code",
   "execution_count": 19,
   "metadata": {},
   "outputs": [
    {
     "data": {
      "application/vnd.jupyter.widget-view+json": {
       "model_id": "11af3f08bf4342179374b1db1af5acb1",
       "version_major": 2,
       "version_minor": 0
      },
      "text/plain": [
       "interactive(children=(FloatSlider(value=0.0, description='learning_rate', max=3.0, min=-3.0), Output()), _dom_…"
      ]
     },
     "metadata": {},
     "output_type": "display_data"
    }
   ],
   "source": [
    "@interact(learning_rate=(-3.,3.,.1))\n",
    "def gbviz(learning_rate=0):\n",
    "    @interact(n_iters=(1,100,1))\n",
    "    def boostviz(n_iters=1):\n",
    "        model = ensemble.GradientBoostingClassifier(\n",
    "            n_estimators=n_iters,\n",
    "            learning_rate=10**learning_rate,\n",
    "            max_depth=1,\n",
    "            random_state=None,\n",
    "            )\n",
    "        plt.figure(figsize=(18,6))\n",
    "\n",
    "        model.fit(X, y)\n",
    "\n",
    "\n",
    "        zz = np.array(list(model.staged_decision_function(np.c_[xx.ravel(), yy.ravel()])))\n",
    "\n",
    "        ax = plt.subplot(1, 4, 1)\n",
    "        plt.contourf(xx, yy, zz[n_iters-1].reshape(xx.shape), cmap=plt.cm.PuBu)\n",
    "        plt.colorbar().set_label('$\\mathbf{f(x)}$')\n",
    "        plt.scatter(*X[y==1].T, color='r', marker='x')\n",
    "        plt.scatter(*X[y==0].T, color='b', marker='o');\n",
    "        plt.title('Boosting karar fonksiyonu')\n",
    "\n",
    "        plt.subplot(1, 4, 2, sharey=ax)\n",
    "        plt.title('Ornek gradyanlari')\n",
    "        plt.scatter(X[:, 0], X[:, 1], c=model.loss_.negative_gradient(y, model.decision_function(X),))\n",
    "        plt.colorbar().set_label('$\\mathbf{w}$')\n",
    "\n",
    "        plt.subplot(1, 4, 3, sharey=ax)\n",
    "        plt.contourf(xx, yy, model.predict(np.c_[xx.ravel(), yy.ravel()]).reshape(xx.shape), cmap=plt.cm.PuBu)\n",
    "        plt.scatter(*X[y==1].T, color='r', marker='x')\n",
    "        plt.scatter(*X[y==0].T, color='b', marker='o');\n",
    "        plt.title('Karar sinirlari')\n",
    "\n",
    "        plt.suptitle('GradientBoost karar sinirlari - LR = $10^{{{}}}$'.format(learning_rate))\n",
    "\n",
    "        plt.subplot(1, 4, 4)\n",
    "        accuracy = [metrics.log_loss(y, i) for i in model.staged_decision_function(X)]\n",
    "        plt.plot(accuracy, marker='o')\n",
    "        plt.semilogy()\n",
    "        plt.grid()\n",
    "        plt.xlabel('Iterasyon')\n",
    "        plt.ylabel('Logloss')\n",
    "        plt.title('Kayip')\n",
    "\n"
   ]
  }
 ],
 "metadata": {
  "kernelspec": {
   "display_name": "cons1",
   "language": "python",
   "name": "cons1"
  },
  "language_info": {
   "codemirror_mode": {
    "name": "ipython",
    "version": 3
   },
   "file_extension": ".py",
   "mimetype": "text/x-python",
   "name": "python",
   "nbconvert_exporter": "python",
   "pygments_lexer": "ipython3",
   "version": "3.8.12"
  },
  "vscode": {
   "interpreter": {
    "hash": "a571a25d3379e9645cc932b401c674531bbcf658e9b176b05ab9004deb2f65c4"
   }
  }
 },
 "nbformat": 4,
 "nbformat_minor": 2
}
