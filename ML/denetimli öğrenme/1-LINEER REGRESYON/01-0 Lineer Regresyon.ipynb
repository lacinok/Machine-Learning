{
 "cells": [
  {
   "cell_type": "markdown",
   "metadata": {},
   "source": [
    "# Lineer Regresyon"
   ]
  },
  {
   "cell_type": "code",
   "execution_count": 21,
   "metadata": {},
   "outputs": [],
   "source": [
    "import numpy as np\n",
    "import pandas as pd\n",
    "import matplotlib.pyplot as plt\n",
    "import seaborn as sns # Dataset icin import ettik\n",
    "from sympy import *"
   ]
  },
  {
   "cell_type": "markdown",
   "metadata": {},
   "source": [
    "Islemlerimizde `seaborn` kutuphanesinde bulunan `\"diamonds\"` veri setini kullanacagiz."
   ]
  },
  {
   "cell_type": "code",
   "execution_count": 22,
   "metadata": {},
   "outputs": [
    {
     "data": {
      "text/html": [
       "<div>\n",
       "<style scoped>\n",
       "    .dataframe tbody tr th:only-of-type {\n",
       "        vertical-align: middle;\n",
       "    }\n",
       "\n",
       "    .dataframe tbody tr th {\n",
       "        vertical-align: top;\n",
       "    }\n",
       "\n",
       "    .dataframe thead th {\n",
       "        text-align: right;\n",
       "    }\n",
       "</style>\n",
       "<table border=\"1\" class=\"dataframe\">\n",
       "  <thead>\n",
       "    <tr style=\"text-align: right;\">\n",
       "      <th></th>\n",
       "      <th>carat</th>\n",
       "      <th>cut</th>\n",
       "      <th>color</th>\n",
       "      <th>clarity</th>\n",
       "      <th>depth</th>\n",
       "      <th>table</th>\n",
       "      <th>price</th>\n",
       "      <th>x</th>\n",
       "      <th>y</th>\n",
       "      <th>z</th>\n",
       "    </tr>\n",
       "  </thead>\n",
       "  <tbody>\n",
       "    <tr>\n",
       "      <th>11336</th>\n",
       "      <td>1.01</td>\n",
       "      <td>Good</td>\n",
       "      <td>F</td>\n",
       "      <td>SI1</td>\n",
       "      <td>63.7</td>\n",
       "      <td>57.0</td>\n",
       "      <td>4989</td>\n",
       "      <td>6.40</td>\n",
       "      <td>6.35</td>\n",
       "      <td>4.06</td>\n",
       "    </tr>\n",
       "    <tr>\n",
       "      <th>1687</th>\n",
       "      <td>0.71</td>\n",
       "      <td>Very Good</td>\n",
       "      <td>D</td>\n",
       "      <td>VS2</td>\n",
       "      <td>63.0</td>\n",
       "      <td>57.0</td>\n",
       "      <td>3033</td>\n",
       "      <td>5.67</td>\n",
       "      <td>5.70</td>\n",
       "      <td>3.58</td>\n",
       "    </tr>\n",
       "    <tr>\n",
       "      <th>32387</th>\n",
       "      <td>0.32</td>\n",
       "      <td>Very Good</td>\n",
       "      <td>D</td>\n",
       "      <td>VVS2</td>\n",
       "      <td>60.1</td>\n",
       "      <td>58.0</td>\n",
       "      <td>791</td>\n",
       "      <td>4.41</td>\n",
       "      <td>4.44</td>\n",
       "      <td>2.66</td>\n",
       "    </tr>\n",
       "    <tr>\n",
       "      <th>34437</th>\n",
       "      <td>0.46</td>\n",
       "      <td>Premium</td>\n",
       "      <td>I</td>\n",
       "      <td>SI2</td>\n",
       "      <td>61.0</td>\n",
       "      <td>58.0</td>\n",
       "      <td>863</td>\n",
       "      <td>5.03</td>\n",
       "      <td>4.97</td>\n",
       "      <td>3.05</td>\n",
       "    </tr>\n",
       "    <tr>\n",
       "      <th>10756</th>\n",
       "      <td>1.01</td>\n",
       "      <td>Premium</td>\n",
       "      <td>E</td>\n",
       "      <td>SI1</td>\n",
       "      <td>62.9</td>\n",
       "      <td>59.0</td>\n",
       "      <td>4853</td>\n",
       "      <td>6.38</td>\n",
       "      <td>6.30</td>\n",
       "      <td>3.99</td>\n",
       "    </tr>\n",
       "  </tbody>\n",
       "</table>\n",
       "</div>"
      ],
      "text/plain": [
       "       carat        cut color clarity  depth  table  price     x     y     z\n",
       "11336   1.01       Good     F     SI1   63.7   57.0   4989  6.40  6.35  4.06\n",
       "1687    0.71  Very Good     D     VS2   63.0   57.0   3033  5.67  5.70  3.58\n",
       "32387   0.32  Very Good     D    VVS2   60.1   58.0    791  4.41  4.44  2.66\n",
       "34437   0.46    Premium     I     SI2   61.0   58.0    863  5.03  4.97  3.05\n",
       "10756   1.01    Premium     E     SI1   62.9   59.0   4853  6.38  6.30  3.99"
      ]
     },
     "execution_count": 22,
     "metadata": {},
     "output_type": "execute_result"
    }
   ],
   "source": [
    "sns.load_dataset('diamonds').sample(5)"
   ]
  },
  {
   "cell_type": "markdown",
   "metadata": {},
   "source": [
    "Veri setinden;\n",
    "- 150 ornek alip,\n",
    "- carat ve price kolonlarini seciyoruz,\n",
    "- satir numaralarini 0'dan baslatiyoruz."
   ]
  },
  {
   "cell_type": "code",
   "execution_count": 23,
   "metadata": {},
   "outputs": [],
   "source": [
    "np.random.seed(42)\n",
    "df = sns.load_dataset('diamonds').sample(150)[['carat', 'price']].reset_index(drop=True)"
   ]
  },
  {
   "cell_type": "code",
   "execution_count": 24,
   "metadata": {},
   "outputs": [
    {
     "data": {
      "text/html": [
       "<div>\n",
       "<style scoped>\n",
       "    .dataframe tbody tr th:only-of-type {\n",
       "        vertical-align: middle;\n",
       "    }\n",
       "\n",
       "    .dataframe tbody tr th {\n",
       "        vertical-align: top;\n",
       "    }\n",
       "\n",
       "    .dataframe thead th {\n",
       "        text-align: right;\n",
       "    }\n",
       "</style>\n",
       "<table border=\"1\" class=\"dataframe\">\n",
       "  <thead>\n",
       "    <tr style=\"text-align: right;\">\n",
       "      <th></th>\n",
       "      <th>carat</th>\n",
       "      <th>price</th>\n",
       "    </tr>\n",
       "  </thead>\n",
       "  <tbody>\n",
       "    <tr>\n",
       "      <th>0</th>\n",
       "      <td>0.24</td>\n",
       "      <td>559</td>\n",
       "    </tr>\n",
       "    <tr>\n",
       "      <th>1</th>\n",
       "      <td>0.58</td>\n",
       "      <td>2201</td>\n",
       "    </tr>\n",
       "    <tr>\n",
       "      <th>2</th>\n",
       "      <td>0.40</td>\n",
       "      <td>1238</td>\n",
       "    </tr>\n",
       "    <tr>\n",
       "      <th>3</th>\n",
       "      <td>0.43</td>\n",
       "      <td>1304</td>\n",
       "    </tr>\n",
       "    <tr>\n",
       "      <th>4</th>\n",
       "      <td>1.55</td>\n",
       "      <td>6901</td>\n",
       "    </tr>\n",
       "  </tbody>\n",
       "</table>\n",
       "</div>"
      ],
      "text/plain": [
       "   carat  price\n",
       "0   0.24    559\n",
       "1   0.58   2201\n",
       "2   0.40   1238\n",
       "3   0.43   1304\n",
       "4   1.55   6901"
      ]
     },
     "execution_count": 24,
     "metadata": {},
     "output_type": "execute_result"
    }
   ],
   "source": [
    "df.head()"
   ]
  },
  {
   "cell_type": "code",
   "execution_count": 25,
   "metadata": {},
   "outputs": [
    {
     "data": {
      "image/png": "[encoded data removed]",
      "text/plain": [
       "<Figure size 432x288 with 1 Axes>"
      ]
     },
     "metadata": {
      "needs_background": "light"
     },
     "output_type": "display_data"
    }
   ],
   "source": [
    "plt.scatter(df['carat'], df['price'])\n",
    "plt.xlabel('Carat')\n",
    "plt.ylabel('Price')\n",
    "plt.grid();"
   ]
  },
  {
   "cell_type": "code",
   "execution_count": 26,
   "metadata": {},
   "outputs": [],
   "source": [
    "J = Function(\"J\")\n",
    "a, b, m, i = symbols('a b m i')\n",
    "X = IndexedBase('X')\n",
    "Y = IndexedBase('Y')\n",
    "Yhat = IndexedBase('Yhat')\n",
    "maliyet = Eq(J(Yhat[i]), Sum((-Y[i] + Yhat[i])**2, (i, 0, m-1))/m/2)\n"
   ]
  },
  {
   "cell_type": "markdown",
   "metadata": {},
   "source": [
    "Maliyet fonksiyonumuz:"
   ]
  },
  {
   "cell_type": "code",
   "execution_count": 27,
   "metadata": {},
   "outputs": [
    {
     "data": {
      "text/latex": [
       "$\\displaystyle J{\\left({\\hat{Y}}_{i} \\right)} = \\frac{\\sum_{i=0}^{m - 1} \\left(- {Y}_{i} + {\\hat{Y}}_{i}\\right)^{2}}{2 m}$"
      ],
      "text/plain": [
       "Eq(J(Yhat[i]), Sum((-Y[i] + Yhat[i])**2, (i, 0, m - 1))/(2*m))"
      ]
     },
     "metadata": {},
     "output_type": "display_data"
    },
    {
     "data": {
      "text/latex": [
       "$\\displaystyle {\\hat{Y}}_{i} = a {X}_{i} + b$"
      ],
      "text/plain": [
       "Eq(Yhat[i], a*X[i] + b)"
      ]
     },
     "metadata": {},
     "output_type": "display_data"
    },
    {
     "data": {
      "text/latex": [
       "$\\displaystyle J{\\left(a,b \\right)} = \\frac{\\sum_{i=0}^{m - 1} \\left(a {X}_{i} + b - {Y}_{i}\\right)^{2}}{2 m}$"
      ],
      "text/plain": [
       "Eq(J(a, b), Sum((a*X[i] + b - Y[i])**2, (i, 0, m - 1))/(2*m))"
      ]
     },
     "metadata": {},
     "output_type": "display_data"
    }
   ],
   "source": [
    "display(maliyet)\n",
    "display(Eq(Yhat[i], a*X[i] + b))\n",
    "display(Eq(J(a, b), Sum((-Y[i] + a*X[i] + b)**2, (i, 0, m-1))/m/2))"
   ]
  },
  {
   "cell_type": "markdown",
   "metadata": {},
   "source": [
    "Bagimsiz degisken(ler): `X` ve bagimli degisken `y`.\n",
    "\n",
    "- `X` ayni zamanda *dizayn matrisi* ya da *features* olarak da adlandirilmistir.\n",
    "- `y` ayni zamanda *target* ya da *label* olarak da adlandirilmistir."
   ]
  },
  {
   "cell_type": "code",
   "execution_count": 28,
   "metadata": {},
   "outputs": [],
   "source": [
    "X = df['carat']\n",
    "Y = df['price']"
   ]
  },
  {
   "cell_type": "code",
   "execution_count": 29,
   "metadata": {},
   "outputs": [
    {
     "data": {
      "text/plain": [
       "0    0.24\n",
       "1    0.58\n",
       "2    0.40\n",
       "3    0.43\n",
       "4    1.55\n",
       "Name: carat, dtype: float64"
      ]
     },
     "execution_count": 29,
     "metadata": {},
     "output_type": "execute_result"
    }
   ],
   "source": [
    "X.head()"
   ]
  },
  {
   "cell_type": "code",
   "execution_count": 30,
   "metadata": {},
   "outputs": [],
   "source": [
    "def maliyetOlustur(X, Y):\n",
    "    \"\"\"Verilen dataset icin maliyet hesabi yapan fonksiyon verir.\"\"\"\n",
    "    def J(a, b):\n",
    "        \"\"\"Verilen a ve b degerlerine gore maliyet hesabi yapar.\"\"\"\n",
    "        m = len(X)\n",
    "        mse = sum([(a * X[i] + b - Y[i])**2 for i in range(m)]) / m\n",
    "        return mse\n",
    "    return J"
   ]
  },
  {
   "cell_type": "code",
   "execution_count": 31,
   "metadata": {},
   "outputs": [],
   "source": [
    "J = maliyetOlustur(X, Y)"
   ]
  },
  {
   "cell_type": "code",
   "execution_count": 32,
   "metadata": {},
   "outputs": [],
   "source": [
    "a = 0.\n",
    "b = 0.\n",
    "m = len(X)\n",
    "alpha = 1e-1"
   ]
  },
  {
   "cell_type": "code",
   "execution_count": 33,
   "metadata": {},
   "outputs": [
    {
     "data": {
      "text/plain": [
       "35755873.27333333"
      ]
     },
     "execution_count": 33,
     "metadata": {},
     "output_type": "execute_result"
    }
   ],
   "source": [
    "J(0, 0)"
   ]
  },
  {
   "cell_type": "code",
   "execution_count": 34,
   "metadata": {},
   "outputs": [],
   "source": [
    "da = sum([(a*X[i] + b - Y[i]) * X[i] for i in range(m)]) / m\n",
    "db = sum([(a * X[i] + b - Y[i]) * 1 for i in range(m)]) / m"
   ]
  },
  {
   "cell_type": "code",
   "execution_count": 35,
   "metadata": {},
   "outputs": [],
   "source": [
    "a = a - alpha * da\n",
    "b = b - alpha * db"
   ]
  },
  {
   "cell_type": "code",
   "execution_count": 36,
   "metadata": {},
   "outputs": [
    {
     "data": {
      "text/plain": [
       "27283401.44416835"
      ]
     },
     "execution_count": 36,
     "metadata": {},
     "output_type": "execute_result"
    }
   ],
   "source": [
    "J(a, b)"
   ]
  },
  {
   "cell_type": "code",
   "execution_count": 37,
   "metadata": {},
   "outputs": [],
   "source": [
    "Jt = []\n",
    "at = [0., a]\n",
    "bt = [0., b]\n",
    "for i in range(100):\n",
    "    da = sum([2 * (a*X[i] + b - Y[i]) * X[i] for i in range(m)]) / m\n",
    "    db = sum([2 * (a * X[i] + b - Y[i]) * 1 for i in range(m)]) / m\n",
    "    a = a - alpha * da\n",
    "    b = b - alpha * db\n",
    "    at += [a]\n",
    "    bt += [b]\n",
    "    Jt += [J(a, b)]"
   ]
  },
  {
   "cell_type": "code",
   "execution_count": 38,
   "metadata": {},
   "outputs": [
    {
     "data": {
      "image/png": "[encoded data removed]",
      "text/plain": [
       "<Figure size 432x288 with 1 Axes>"
      ]
     },
     "metadata": {
      "needs_background": "light"
     },
     "output_type": "display_data"
    }
   ],
   "source": [
    "plt.plot(Jt, marker='o')\n",
    "plt.semilogy()\n",
    "plt.xlabel('Iterasyon')\n",
    "plt.ylabel('Maliyet $\\ J(a, b)$')\n",
    "plt.grid();"
   ]
  },
  {
   "cell_type": "code",
   "execution_count": 39,
   "metadata": {},
   "outputs": [],
   "source": [
    "aa, bb = np.meshgrid(np.linspace(-2000, 10000, 100), np.linspace(-10000, 5000, 100))\n",
    "Jr = J(aa.ravel(), bb.ravel()).reshape(aa.shape)"
   ]
  },
  {
   "cell_type": "code",
   "execution_count": 40,
   "metadata": {},
   "outputs": [
    {
     "data": {
      "text/plain": [
       "<matplotlib.legend.Legend at 0x2d05f19dc10>"
      ]
     },
     "execution_count": 40,
     "metadata": {},
     "output_type": "execute_result"
    },
    {
     "data": {
      "image/png": "[encoded data removed]",
      "text/plain": [
       "<Figure size 1296x720 with 2 Axes>"
      ]
     },
     "metadata": {
      "needs_background": "light"
     },
     "output_type": "display_data"
    }
   ],
   "source": [
    "plt.figure(figsize=(18, 10))\n",
    "plt.scatter(0, 0, color='orange', label='Baslangic')\n",
    "plt.contourf(aa, bb, np.log(Jr), levels=100, cmap='jet')\n",
    "plt.colorbar().set_label('Maliyet $\\ \\log{J(a, b)}$')\n",
    "plt.xlabel('a')\n",
    "plt.ylabel('b')\n",
    "for i in range(len(at)-1):\n",
    "    plt.arrow(at[i], bt[i], at[i+1] - at[i], bt[i+1] - bt[i], color='r', width=22, label=None if i>0 else \"Katsayilar yolu\")\n",
    "plt.scatter(at[-1], bt[-1], color='green', label='Bitis')\n",
    "plt.legend()\n"
   ]
  },
  {
   "cell_type": "code",
   "execution_count": 41,
   "metadata": {},
   "outputs": [
    {
     "data": {
      "text/plain": [
       "-68.04453711589368"
      ]
     },
     "execution_count": 41,
     "metadata": {},
     "output_type": "execute_result"
    }
   ],
   "source": [
    "da"
   ]
  },
  {
   "cell_type": "code",
   "execution_count": 42,
   "metadata": {},
   "outputs": [
    {
     "data": {
      "text/plain": [
       "65.50763240812519"
      ]
     },
     "execution_count": 42,
     "metadata": {},
     "output_type": "execute_result"
    }
   ],
   "source": [
    "db"
   ]
  },
  {
   "cell_type": "code",
   "execution_count": 43,
   "metadata": {},
   "outputs": [],
   "source": [
    "class Model:\n",
    "    \"\"\"a ve b'yi tutan, kullaniciya tahmin icin bir metod saglayan bir class ornegi.\"\"\"\n",
    "    def __init__(self, a, b):\n",
    "        self.a = a\n",
    "        self.b = b\n",
    "\n",
    "    def predict(self, x):\n",
    "        return self.a * x + self.b"
   ]
  },
  {
   "cell_type": "code",
   "execution_count": 44,
   "metadata": {},
   "outputs": [
    {
     "data": {
      "text/latex": [
       "$\\displaystyle a x + b$"
      ],
      "text/plain": [
       "a*x + b"
      ]
     },
     "execution_count": 44,
     "metadata": {},
     "output_type": "execute_result"
    }
   ],
   "source": [
    "# Sembolik degerlendirme.\n",
    "m2 = Model(Symbol('a'), Symbol('b'))\n",
    "m2.predict(Symbol('x'))"
   ]
  },
  {
   "cell_type": "code",
   "execution_count": 45,
   "metadata": {},
   "outputs": [
    {
     "data": {
      "text/plain": [
       "10"
      ]
     },
     "execution_count": 45,
     "metadata": {},
     "output_type": "execute_result"
    }
   ],
   "source": [
    "# Keyfi bir model olusturuyoruz.\n",
    "m1 = Model(3, 4)\n",
    "m1.predict(2)"
   ]
  },
  {
   "cell_type": "code",
   "execution_count": 46,
   "metadata": {},
   "outputs": [],
   "source": [
    "class LineerRegresyon:\n",
    "    \"\"\"For donguleri ile kurulmus ilk lineer regresyon model sinifimiz.\n",
    "    \n",
    "    Parametreler:\n",
    "    ----------\n",
    "    alpha : float, default=1e-4\n",
    "        Ogrenim katsayisi.\n",
    "    tol : float, default=1e-4\n",
    "        Hata toleransi. a ve b'nin turevi bu sayinin altina duserse iterasyon durdurulur.\n",
    "    max_iter : int, default=1000\n",
    "        Iterasyon sayisi. Bu sayida iterasyon yapilirsa algoritma durur.\n",
    "\n",
    "    Notlar:\n",
    "    ------\n",
    "    Bu sinifin instance'i egit metodunu muteakip a ve b katsayilarini ogrenip saklar.\n",
    "    \n",
    "        \n",
    "    \"\"\"\n",
    "    def __init__(self, alpha=1e-4, tol=1e-4, max_iter=1000):\n",
    "        self.alpha = alpha\n",
    "        self.tol = tol\n",
    "        self.max_iter = max_iter\n",
    "        self.a = None\n",
    "        self.b = None\n",
    "\n",
    "    def egit(self, X, Y):\n",
    "        a = 0\n",
    "        b = 0\n",
    "        m = len(X)\n",
    "        \n",
    "        iter_ = 0\n",
    "        # iterasyon\n",
    "        while True:\n",
    "            da = sum([2 * (a*X[i] + b - Y[i]) * X[i] for i in range(m)]) / m\n",
    "            db = sum([2 * (a * X[i] + b - Y[i]) * 1 for i in range(m)]) / m\n",
    "            a = a - self.alpha * da\n",
    "            b = b - self.alpha * db\n",
    "\n",
    "            if (abs(da) < self.tol and abs(db) < self.tol) or iter_ >= self.max_iter:\n",
    "                break\n",
    "\n",
    "            iter_ += 1\n",
    "\n",
    "        if iter_ >= self.max_iter:\n",
    "            print(\"Max iter ulasildi.\")\n",
    "        a: float\n",
    "        b: float\n",
    "\n",
    "        self.a = a\n",
    "        self.b = b\n",
    "\n",
    "    def tahmin(self, x):\n",
    "        return self.a * x + self.b\n"
   ]
  },
  {
   "cell_type": "code",
   "execution_count": 47,
   "metadata": {},
   "outputs": [],
   "source": [
    "lr = LineerRegresyon(alpha=5e-1)\n",
    "lr.egit(X, Y)"
   ]
  },
  {
   "cell_type": "code",
   "execution_count": 48,
   "metadata": {},
   "outputs": [
    {
     "data": {
      "image/png": "[encoded data removed]",
      "text/plain": [
       "<Figure size 432x288 with 1 Axes>"
      ]
     },
     "metadata": {
      "needs_background": "light"
     },
     "output_type": "display_data"
    }
   ],
   "source": [
    "rng = np.linspace(0, 3, 1000)\n",
    "plt.scatter(df['carat'], df['price'])\n",
    "plt.plot(rng, [lr.tahmin(x) for x in rng], color='red')\n",
    "plt.xlabel('carat')\n",
    "plt.ylabel('price');"
   ]
  },
  {
   "cell_type": "code",
   "execution_count": 49,
   "metadata": {},
   "outputs": [],
   "source": [
    "class LineerRegresyonV(LineerRegresyon):\n",
    "    \"\"\"LineerRegresyon sinifinin vektorize implementasyonu.\n",
    "    \n",
    "    Hipotez fonksiyonu ve turevler matrisler cinsinden ifade edilebiliyorsa bundan\n",
    "    yararlanarak islemlerimizi hizlandirabiliriz.\n",
    "\n",
    "    Ebeveyn sinifinin baslangic parametrelerini (alpha, tol, max_iter) kullanirken\n",
    "    vektorize implementasyon icin `egit` ve `tahmin` metodlarini overload ederiz.\n",
    "\n",
    "    Notlar:\n",
    "    ------\n",
    "    Bu sinifin instance'i egit metodunu muteakip A katsayi matrisini ogrenip saklar.\n",
    "    \"\"\"\n",
    "\n",
    "    def xitemizle(self, X):\n",
    "        \"\"\"Verilen X matrisine sabit sayi 1 ekle.\n",
    "        \n",
    "        Intersept degeri, dizayn matrisi X'e sabit kolon 1 eklenerek elde edilebilir.\n",
    "        Oyleyse bu sinifimizi coklu lineer regresyon icin de kullanamaz miyiz?\n",
    "        \n",
    "        \"\"\"\n",
    "        X = np.array(X)\n",
    "\n",
    "        if X.ndim == 1:\n",
    "            X = pd.DataFrame({'x': X}).assign(c=1).values\n",
    "        else:\n",
    "            X = pd.DataFrame(X).assign(c=1).values\n",
    "        return X\n",
    "\n",
    "    def egit(self, X, Y):\n",
    "        X = self.xitemizle(X)\n",
    "        \n",
    "        m, n = X.shape\n",
    "\n",
    "        A = np.random.randn(n, 1)\n",
    "        Y = Y.values[:, None]\n",
    "\n",
    "        dA = 2 * X.T @ (X @ A - Y) / m\n",
    "        \n",
    "        iter_ = 0\n",
    "        # iterasyon\n",
    "        while True:\n",
    "\n",
    "\n",
    "            dA = 2 * X.T @ (X @ A - Y) / m\n",
    "            self.dA = dA\n",
    "            A = A - self.alpha * dA\n",
    "\n",
    "            if (np.abs(dA) <= self.tol).all() or iter_ >= self.max_iter:\n",
    "                break\n",
    "\n",
    "            iter_ += 1\n",
    "\n",
    "        if iter_ >= self.max_iter:\n",
    "            print(\"Max iter ulasildi.\")\n",
    "        \n",
    "        self.A = A\n",
    "\n",
    "    def tahmin(self, X):\n",
    "        X = self.xitemizle(X)\n",
    "        return X @ self.A\n"
   ]
  },
  {
   "cell_type": "markdown",
   "metadata": {},
   "source": [
    "Vektorize ve dongulu uygulamalar arasindaki zaman farki"
   ]
  },
  {
   "cell_type": "code",
   "execution_count": 50,
   "metadata": {},
   "outputs": [
    {
     "name": "stdout",
     "output_type": "stream",
     "text": [
      "Wall time: 548 ms\n"
     ]
    }
   ],
   "source": [
    "%%time\n",
    "lr = LineerRegresyon(alpha=5e-1)\n",
    "lr.egit(X, Y)"
   ]
  },
  {
   "cell_type": "code",
   "execution_count": 51,
   "metadata": {},
   "outputs": [
    {
     "name": "stdout",
     "output_type": "stream",
     "text": [
      "Wall time: 18.1 ms\n"
     ]
    }
   ],
   "source": [
    "%%time\n",
    "lrv = LineerRegresyonV(alpha=5e-1)\n",
    "lrv.egit(X, Y)"
   ]
  },
  {
   "cell_type": "markdown",
   "metadata": {},
   "source": [
    "Sonucta ayni katsayilara erisiyoruz."
   ]
  },
  {
   "cell_type": "code",
   "execution_count": 52,
   "metadata": {},
   "outputs": [
    {
     "data": {
      "text/plain": [
       "[<matplotlib.lines.Line2D at 0x2d05f22e880>]"
      ]
     },
     "execution_count": 52,
     "metadata": {},
     "output_type": "execute_result"
    },
    {
     "data": {
      "image/png": "[encoded data removed]",
      "text/plain": [
       "<Figure size 432x288 with 1 Axes>"
      ]
     },
     "metadata": {
      "needs_background": "light"
     },
     "output_type": "display_data"
    }
   ],
   "source": [
    "rng = np.linspace(0, 3, 1000)\n",
    "plt.scatter(df['carat'], df['price'])\n",
    "plt.plot(rng, lrv.tahmin(rng), color='red')"
   ]
  },
  {
   "cell_type": "code",
   "execution_count": 53,
   "metadata": {},
   "outputs": [
    {
     "data": {
      "text/plain": [
       "(7814.455658644848, -2289.1616562265035)"
      ]
     },
     "metadata": {},
     "output_type": "display_data"
    },
    {
     "data": {
      "text/plain": [
       "array([[ 7814.45565866],\n",
       "       [-2289.16165624]])"
      ]
     },
     "metadata": {},
     "output_type": "display_data"
    }
   ],
   "source": [
    "display((lr.a, lr.b))\n",
    "display(lrv.A)"
   ]
  },
  {
   "cell_type": "markdown",
   "metadata": {},
   "source": [
    "## Coklu Lineer Regresyon\n",
    "\n",
    "Basit lineer regresyonun lineer cebirsel gosteriminde sabit sayi ekleyerek yeni bir *feature* olusturmus ve problemi bu sekilde cozmustuk. Ayni prensibi var olan diger degiskenlere genisletebiliriz."
   ]
  },
  {
   "cell_type": "code",
   "execution_count": 54,
   "metadata": {},
   "outputs": [],
   "source": [
    "m, n, i, k = symbols('m n i k', integer=True)\n",
    "\n",
    "X = MatrixSymbol('X', m, n)\n",
    "A = MatrixSymbol('A', n, 1)\n",
    "Y = MatrixSymbol('Y', m, 1)\n",
    "b = IndexedBase('b')"
   ]
  },
  {
   "cell_type": "markdown",
   "metadata": {},
   "source": [
    "Coklu lineer regresyonda her degiskenin kendine ait bir katsayisi olacaktir."
   ]
  },
  {
   "cell_type": "code",
   "execution_count": 55,
   "metadata": {},
   "outputs": [
    {
     "data": {
      "text/latex": [
       "$\\displaystyle {\\hat{Y}}_{i} = {b}_{0} + \\sum_{k=0}^{n - 1} {b}_{k + 1} X_{i, k}$"
      ],
      "text/plain": [
       "Eq(Yhat[i], b[0] + Sum(b[k + 1]*X[i, k], (k, 0, n - 1)))"
      ]
     },
     "execution_count": 55,
     "metadata": {},
     "output_type": "execute_result"
    }
   ],
   "source": [
    "Eq(Yhat[i], Sum(X[i, k] * b[k+1], (k, 0, n-1)) + b[0])"
   ]
  },
  {
   "cell_type": "markdown",
   "metadata": {},
   "source": [
    "Vektorel gosterimde ise bir farklilik olmadigini goruyoruz:"
   ]
  },
  {
   "cell_type": "markdown",
   "metadata": {},
   "source": [
    "$$\\hat{Y} = X A$$"
   ]
  },
  {
   "cell_type": "markdown",
   "metadata": {},
   "source": [
    "Bu calisma icin `carat` kolonuna ek olarak yeni *feature*'lar cekiyoruz."
   ]
  },
  {
   "cell_type": "code",
   "execution_count": 56,
   "metadata": {},
   "outputs": [],
   "source": [
    "np.random.seed(42)\n",
    "df = sns.load_dataset('diamonds').sample(150)[['carat', 'depth', 'table', 'price']].reset_index(drop=True)"
   ]
  },
  {
   "cell_type": "code",
   "execution_count": 57,
   "metadata": {},
   "outputs": [
    {
     "data": {
      "text/html": [
       "<div>\n",
       "<style scoped>\n",
       "    .dataframe tbody tr th:only-of-type {\n",
       "        vertical-align: middle;\n",
       "    }\n",
       "\n",
       "    .dataframe tbody tr th {\n",
       "        vertical-align: top;\n",
       "    }\n",
       "\n",
       "    .dataframe thead th {\n",
       "        text-align: right;\n",
       "    }\n",
       "</style>\n",
       "<table border=\"1\" class=\"dataframe\">\n",
       "  <thead>\n",
       "    <tr style=\"text-align: right;\">\n",
       "      <th></th>\n",
       "      <th>carat</th>\n",
       "      <th>depth</th>\n",
       "      <th>table</th>\n",
       "      <th>price</th>\n",
       "    </tr>\n",
       "  </thead>\n",
       "  <tbody>\n",
       "    <tr>\n",
       "      <th>0</th>\n",
       "      <td>0.24</td>\n",
       "      <td>62.1</td>\n",
       "      <td>56.0</td>\n",
       "      <td>559</td>\n",
       "    </tr>\n",
       "    <tr>\n",
       "      <th>1</th>\n",
       "      <td>0.58</td>\n",
       "      <td>60.0</td>\n",
       "      <td>57.0</td>\n",
       "      <td>2201</td>\n",
       "    </tr>\n",
       "    <tr>\n",
       "      <th>2</th>\n",
       "      <td>0.40</td>\n",
       "      <td>62.1</td>\n",
       "      <td>55.0</td>\n",
       "      <td>1238</td>\n",
       "    </tr>\n",
       "    <tr>\n",
       "      <th>3</th>\n",
       "      <td>0.43</td>\n",
       "      <td>60.8</td>\n",
       "      <td>57.0</td>\n",
       "      <td>1304</td>\n",
       "    </tr>\n",
       "    <tr>\n",
       "      <th>4</th>\n",
       "      <td>1.55</td>\n",
       "      <td>62.3</td>\n",
       "      <td>55.0</td>\n",
       "      <td>6901</td>\n",
       "    </tr>\n",
       "  </tbody>\n",
       "</table>\n",
       "</div>"
      ],
      "text/plain": [
       "   carat  depth  table  price\n",
       "0   0.24   62.1   56.0    559\n",
       "1   0.58   60.0   57.0   2201\n",
       "2   0.40   62.1   55.0   1238\n",
       "3   0.43   60.8   57.0   1304\n",
       "4   1.55   62.3   55.0   6901"
      ]
     },
     "execution_count": 57,
     "metadata": {},
     "output_type": "execute_result"
    }
   ],
   "source": [
    "df.head()"
   ]
  },
  {
   "cell_type": "code",
   "execution_count": 58,
   "metadata": {},
   "outputs": [],
   "source": [
    "X = df[['carat', 'depth', 'table']]\n",
    "Y = df['price']"
   ]
  },
  {
   "cell_type": "code",
   "execution_count": 59,
   "metadata": {},
   "outputs": [
    {
     "name": "stdout",
     "output_type": "stream",
     "text": [
      "Max iter ulasildi.\n"
     ]
    }
   ],
   "source": [
    "coklu_lr = LineerRegresyonV(alpha=1.4e-4, max_iter=100_000, tol=1e-5)\n",
    "coklu_lr.egit(X, Y)"
   ]
  },
  {
   "cell_type": "code",
   "execution_count": 60,
   "metadata": {},
   "outputs": [
    {
     "data": {
      "text/plain": [
       "array([[-1.9907571 ],\n",
       "       [-0.00938536],\n",
       "       [ 0.06479962],\n",
       "       [-1.50850574]])"
      ]
     },
     "execution_count": 60,
     "metadata": {},
     "output_type": "execute_result"
    }
   ],
   "source": [
    "coklu_lr.dA"
   ]
  },
  {
   "cell_type": "markdown",
   "metadata": {},
   "source": [
    "Max iterasyon sonunda turevlerin tolerans altina dusmedigini goruyoruz."
   ]
  },
  {
   "cell_type": "markdown",
   "metadata": {},
   "source": [
    "Daha efektif (hizli ve stabil) bir optimizasyon icin degiskenleri ayni olcege getirmek faydali olabilir mi?\n",
    "\n",
    "Bu uygulamada, pek cok olcekleme biciminden biri olan standardizasyonu kullaniyoruz:\n",
    "\n",
    "$$x_n = (x - \\bar{x})/s$$"
   ]
  },
  {
   "cell_type": "code",
   "execution_count": 61,
   "metadata": {},
   "outputs": [],
   "source": [
    "Xnorm = (X - X.mean()) / X.std()"
   ]
  },
  {
   "cell_type": "code",
   "execution_count": 62,
   "metadata": {},
   "outputs": [],
   "source": [
    "coklu_lr = LineerRegresyonV(alpha=1.4e-4, max_iter=100_000, tol=1e-4)\n",
    "coklu_lr.egit(Xnorm, Y)"
   ]
  },
  {
   "cell_type": "markdown",
   "metadata": {},
   "source": [
    "Olceklemeden sonra ayni iterasyon sayisi icerisinde turevler tolerans degerinin altina dustu."
   ]
  },
  {
   "cell_type": "code",
   "execution_count": 63,
   "metadata": {},
   "outputs": [
    {
     "data": {
      "text/plain": [
       "array([[-3.15482540e-05],\n",
       "       [ 9.24236879e-05],\n",
       "       [ 9.99898405e-05],\n",
       "       [-2.48404103e-08]])"
      ]
     },
     "execution_count": 63,
     "metadata": {},
     "output_type": "execute_result"
    }
   ],
   "source": [
    "coklu_lr.dA"
   ]
  },
  {
   "cell_type": "markdown",
   "metadata": {},
   "source": [
    "### Coklu Lineer Regresyon ile tahmin"
   ]
  },
  {
   "cell_type": "markdown",
   "metadata": {},
   "source": [
    "carat=0.29, depth=60.3, table=56 olan bir elmasin fiyatini tahmin etmek istiyoruz:"
   ]
  },
  {
   "cell_type": "markdown",
   "metadata": {},
   "source": [
    "Coklu lineer regresyon modelimizi egitirken olceklenmis degiskenler kullanmistik."
   ]
  },
  {
   "cell_type": "code",
   "execution_count": 64,
   "metadata": {},
   "outputs": [
    {
     "data": {
      "text/plain": [
       "array([[-5498.73790574]])"
      ]
     },
     "execution_count": 64,
     "metadata": {},
     "output_type": "execute_result"
    }
   ],
   "source": [
    "coklu_lr.tahmin([[0.29, 60.3, 56]]) # Hata !"
   ]
  },
  {
   "cell_type": "markdown",
   "metadata": {},
   "source": [
    "Dolayisiyla tahminleri de ayni ortalama ve standart sapma ile olceklenmis girdiler uzerinde yapmaliyiz.\n",
    "\n",
    "Ornek olcekleme:\n",
    "> Egitim verisini olceklemede kullanilan ortalama ve standart sapmanin kullanildigina dikkat ediniz."
   ]
  },
  {
   "cell_type": "code",
   "execution_count": 65,
   "metadata": {},
   "outputs": [
    {
     "data": {
      "text/plain": [
       "array([[-0.98181704, -1.01579889, -0.5267022 ]])"
      ]
     },
     "execution_count": 65,
     "metadata": {},
     "output_type": "execute_result"
    }
   ],
   "source": [
    "(np.array([[0.29, 60.3, 56]]) - X.mean().values) / X.std().values"
   ]
  },
  {
   "cell_type": "code",
   "execution_count": 66,
   "metadata": {},
   "outputs": [
    {
     "data": {
      "text/plain": [
       "array([[59.92621708]])"
      ]
     },
     "execution_count": 66,
     "metadata": {},
     "output_type": "execute_result"
    }
   ],
   "source": [
    "coklu_lr.tahmin((np.array([[0.29, 60.3, 56]]) - X.mean().values) / X.std().values) # Olceklenmis deger ile dogru tahmin"
   ]
  },
  {
   "cell_type": "code",
   "execution_count": 67,
   "metadata": {},
   "outputs": [
    {
     "data": {
      "text/plain": [
       "array([[4175.38183272],\n",
       "       [ -16.07742302],\n",
       "       [-174.84101242],\n",
       "       [4050.96666665]])"
      ]
     },
     "execution_count": 67,
     "metadata": {},
     "output_type": "execute_result"
    }
   ],
   "source": [
    "coklu_lr.A"
   ]
  },
  {
   "cell_type": "markdown",
   "metadata": {},
   "source": [
    ">Lineer regresyonda girdilerin sabit sayilarla olceklenmesi sonucu degistirmeyecektir. Asagida keyfi bir olcekleme goruyorsunuz:"
   ]
  },
  {
   "cell_type": "code",
   "execution_count": 68,
   "metadata": {},
   "outputs": [],
   "source": [
    "coklu_lr2 = LineerRegresyonV(alpha=1.4e-2, max_iter=400_000, tol=1e-4)\n",
    "coklu_lr2.egit(Xnorm / 19 + 0.2, Y)"
   ]
  },
  {
   "cell_type": "markdown",
   "metadata": {},
   "source": [
    "Bulunan katsayilar farkli:"
   ]
  },
  {
   "cell_type": "code",
   "execution_count": 69,
   "metadata": {},
   "outputs": [
    {
     "data": {
      "text/plain": [
       "array([[ 79332.24910393],\n",
       "       [  -305.4424008 ],\n",
       "       [ -3321.94926283],\n",
       "       [-11090.00483894]])"
      ]
     },
     "execution_count": 69,
     "metadata": {},
     "output_type": "execute_result"
    }
   ],
   "source": [
    "coklu_lr2.A"
   ]
  },
  {
   "cell_type": "markdown",
   "metadata": {},
   "source": [
    "Alinan sonuc ise ayni:"
   ]
  },
  {
   "cell_type": "code",
   "execution_count": 70,
   "metadata": {},
   "outputs": [
    {
     "data": {
      "text/plain": [
       "array([[59.92413311]])"
      ]
     },
     "execution_count": 70,
     "metadata": {},
     "output_type": "execute_result"
    }
   ],
   "source": [
    "coklu_lr2.tahmin((np.array([[0.29, 60.3, 56]]) - X.mean().values) / X.std().values / 19 + 0.2)"
   ]
  },
  {
   "cell_type": "markdown",
   "metadata": {},
   "source": [
    "### Lineer regresyon probleminin kapali form cozumu"
   ]
  },
  {
   "cell_type": "markdown",
   "metadata": {},
   "source": [
    "Maliyet fonksiyonun parametrelere gore turevi $0$'a esitlenip elde edilen lineer sistemin cozumuyle katsayilari bulmak mumkundur (`n` degisken, `n` denklem).\n",
    "\n",
    "> Bu cozumun elde edilmesini odev kismina birakiyoruz."
   ]
  },
  {
   "cell_type": "markdown",
   "metadata": {},
   "source": [
    "### Hazir kutuphaneler"
   ]
  },
  {
   "cell_type": "code",
   "execution_count": 71,
   "metadata": {},
   "outputs": [],
   "source": [
    "from sklearn import linear_model"
   ]
  },
  {
   "cell_type": "markdown",
   "metadata": {},
   "source": [
    "Modelin kurulmasi"
   ]
  },
  {
   "cell_type": "code",
   "execution_count": 72,
   "metadata": {},
   "outputs": [
    {
     "data": {
      "text/plain": [
       "LinearRegression()"
      ]
     },
     "execution_count": 72,
     "metadata": {},
     "output_type": "execute_result"
    }
   ],
   "source": [
    "model = linear_model.LinearRegression()\n",
    "model.fit(X, Y)"
   ]
  },
  {
   "cell_type": "markdown",
   "metadata": {},
   "source": [
    "Tahminleme"
   ]
  },
  {
   "cell_type": "code",
   "execution_count": 73,
   "metadata": {},
   "outputs": [
    {
     "data": {
      "text/plain": [
       "array([59.92631255])"
      ]
     },
     "execution_count": 73,
     "metadata": {},
     "output_type": "execute_result"
    }
   ],
   "source": [
    "model.predict(np.array([[0.29, 60.3, 56]]))"
   ]
  },
  {
   "cell_type": "markdown",
   "metadata": {},
   "source": [
    "Katsayilar:"
   ]
  },
  {
   "cell_type": "code",
   "execution_count": 74,
   "metadata": {},
   "outputs": [
    {
     "data": {
      "text/plain": [
       "array([7863.41633622,  -10.86834918,  -78.88851211])"
      ]
     },
     "execution_count": 74,
     "metadata": {},
     "output_type": "execute_result"
    }
   ],
   "source": [
    "model.coef_"
   ]
  },
  {
   "cell_type": "markdown",
   "metadata": {},
   "source": [
    "Intersept:"
   ]
  },
  {
   "cell_type": "code",
   "execution_count": 75,
   "metadata": {},
   "outputs": [
    {
     "data": {
      "text/plain": [
       "2852.6537084937017"
      ]
     },
     "execution_count": 75,
     "metadata": {},
     "output_type": "execute_result"
    }
   ],
   "source": [
    "model.intercept_"
   ]
  },
  {
   "cell_type": "markdown",
   "metadata": {},
   "source": [
    "Yazdigimiz class ile sklearn `LinearRegression` modellerinin MSE'leri ayni:"
   ]
  },
  {
   "cell_type": "code",
   "execution_count": 76,
   "metadata": {},
   "outputs": [
    {
     "data": {
      "text/plain": [
       "2215053.243448922"
      ]
     },
     "execution_count": 76,
     "metadata": {},
     "output_type": "execute_result"
    }
   ],
   "source": [
    "((coklu_lr.tahmin(Xnorm).ravel() - Y)**2).mean()"
   ]
  },
  {
   "cell_type": "code",
   "execution_count": 77,
   "metadata": {},
   "outputs": [
    {
     "data": {
      "text/plain": [
       "2215053.243448913"
      ]
     },
     "execution_count": 77,
     "metadata": {},
     "output_type": "execute_result"
    }
   ],
   "source": [
    "((model.predict(X) - Y)**2).mean()"
   ]
  },
  {
   "cell_type": "markdown",
   "metadata": {},
   "source": [
    "Optimizasyon dogru sekilde icra edildiginde lineer regresyonun bu veri seti uzerinde saglayabilecegi maksimum performansa ulasiyoruz,"
   ]
  },
  {
   "cell_type": "markdown",
   "metadata": {},
   "source": [
    "### `statsmodels` kutuphanesi"
   ]
  },
  {
   "cell_type": "code",
   "execution_count": 78,
   "metadata": {},
   "outputs": [],
   "source": [
    "import statsmodels.api as sm"
   ]
  },
  {
   "cell_type": "code",
   "execution_count": 79,
   "metadata": {},
   "outputs": [],
   "source": [
    "smmodel = sm.formula.ols(formula='price ~ carat + depth + table', data=df).fit()"
   ]
  },
  {
   "cell_type": "markdown",
   "metadata": {},
   "source": [
    "`statsmodels` kutuphanesi, lineer regresyon analizinin istatistikî yanı için daha geniş bir analiz imkânı sunar."
   ]
  },
  {
   "cell_type": "code",
   "execution_count": 80,
   "metadata": {},
   "outputs": [
    {
     "data": {
      "text/html": [
       "<table class=\"simpletable\">\n",
       "<caption>OLS Regression Results</caption>\n",
       "<tr>\n",
       "  <th>Dep. Variable:</th>          <td>price</td>      <th>  R-squared:         </th> <td>   0.886</td>\n",
       "</tr>\n",
       "<tr>\n",
       "  <th>Model:</th>                   <td>OLS</td>       <th>  Adj. R-squared:    </th> <td>   0.883</td>\n",
       "</tr>\n",
       "<tr>\n",
       "  <th>Method:</th>             <td>Least Squares</td>  <th>  F-statistic:       </th> <td>   376.4</td>\n",
       "</tr>\n",
       "<tr>\n",
       "  <th>Date:</th>             <td>Sat, 27 Aug 2022</td> <th>  Prob (F-statistic):</th> <td>1.79e-68</td>\n",
       "</tr>\n",
       "<tr>\n",
       "  <th>Time:</th>                 <td>18:20:39</td>     <th>  Log-Likelihood:    </th> <td> -1308.6</td>\n",
       "</tr>\n",
       "<tr>\n",
       "  <th>No. Observations:</th>      <td>   150</td>      <th>  AIC:               </th> <td>   2625.</td>\n",
       "</tr>\n",
       "<tr>\n",
       "  <th>Df Residuals:</th>          <td>   146</td>      <th>  BIC:               </th> <td>   2637.</td>\n",
       "</tr>\n",
       "<tr>\n",
       "  <th>Df Model:</th>              <td>     3</td>      <th>                     </th>     <td> </td>   \n",
       "</tr>\n",
       "<tr>\n",
       "  <th>Covariance Type:</th>      <td>nonrobust</td>    <th>                     </th>     <td> </td>   \n",
       "</tr>\n",
       "</table>\n",
       "<table class=\"simpletable\">\n",
       "<tr>\n",
       "      <td></td>         <th>coef</th>     <th>std err</th>      <th>t</th>      <th>P>|t|</th>  <th>[0.025</th>    <th>0.975]</th>  \n",
       "</tr>\n",
       "<tr>\n",
       "  <th>Intercept</th> <td> 2852.6537</td> <td> 7555.811</td> <td>    0.378</td> <td> 0.706</td> <td>-1.21e+04</td> <td> 1.78e+04</td>\n",
       "</tr>\n",
       "<tr>\n",
       "  <th>carat</th>     <td> 7863.4163</td> <td>  235.555</td> <td>   33.382</td> <td> 0.000</td> <td> 7397.878</td> <td> 8328.955</td>\n",
       "</tr>\n",
       "<tr>\n",
       "  <th>depth</th>     <td>  -10.8683</td> <td>   89.989</td> <td>   -0.121</td> <td> 0.904</td> <td> -188.718</td> <td>  166.981</td>\n",
       "</tr>\n",
       "<tr>\n",
       "  <th>table</th>     <td>  -78.8885</td> <td>   60.737</td> <td>   -1.299</td> <td> 0.196</td> <td> -198.926</td> <td>   41.149</td>\n",
       "</tr>\n",
       "</table>\n",
       "<table class=\"simpletable\">\n",
       "<tr>\n",
       "  <th>Omnibus:</th>       <td>24.334</td> <th>  Durbin-Watson:     </th> <td>   1.903</td>\n",
       "</tr>\n",
       "<tr>\n",
       "  <th>Prob(Omnibus):</th> <td> 0.000</td> <th>  Jarque-Bera (JB):  </th> <td> 119.117</td>\n",
       "</tr>\n",
       "<tr>\n",
       "  <th>Skew:</th>          <td> 0.323</td> <th>  Prob(JB):          </th> <td>1.36e-26</td>\n",
       "</tr>\n",
       "<tr>\n",
       "  <th>Kurtosis:</th>      <td> 7.318</td> <th>  Cond. No.          </th> <td>5.17e+03</td>\n",
       "</tr>\n",
       "</table><br/><br/>Notes:<br/>[1] Standard Errors assume that the covariance matrix of the errors is correctly specified.<br/>[2] The condition number is large, 5.17e+03. This might indicate that there are<br/>strong multicollinearity or other numerical problems."
      ],
      "text/plain": [
       "<class 'statsmodels.iolib.summary.Summary'>\n",
       "\"\"\"\n",
       "                            OLS Regression Results                            \n",
       "==============================================================================\n",
       "Dep. Variable:                  price   R-squared:                       0.886\n",
       "Model:                            OLS   Adj. R-squared:                  0.883\n",
       "Method:                 Least Squares   F-statistic:                     376.4\n",
       "Date:                Sat, 27 Aug 2022   Prob (F-statistic):           1.79e-68\n",
       "Time:                        18:20:39   Log-Likelihood:                -1308.6\n",
       "No. Observations:                 150   AIC:                             2625.\n",
       "Df Residuals:                     146   BIC:                             2637.\n",
       "Df Model:                           3                                         \n",
       "Covariance Type:            nonrobust                                         \n",
       "==============================================================================\n",
       "                 coef    std err          t      P>|t|      [0.025      0.975]\n",
       "------------------------------------------------------------------------------\n",
       "Intercept   2852.6537   7555.811      0.378      0.706   -1.21e+04    1.78e+04\n",
       "carat       7863.4163    235.555     33.382      0.000    7397.878    8328.955\n",
       "depth        -10.8683     89.989     -0.121      0.904    -188.718     166.981\n",
       "table        -78.8885     60.737     -1.299      0.196    -198.926      41.149\n",
       "==============================================================================\n",
       "Omnibus:                       24.334   Durbin-Watson:                   1.903\n",
       "Prob(Omnibus):                  0.000   Jarque-Bera (JB):              119.117\n",
       "Skew:                           0.323   Prob(JB):                     1.36e-26\n",
       "Kurtosis:                       7.318   Cond. No.                     5.17e+03\n",
       "==============================================================================\n",
       "\n",
       "Notes:\n",
       "[1] Standard Errors assume that the covariance matrix of the errors is correctly specified.\n",
       "[2] The condition number is large, 5.17e+03. This might indicate that there are\n",
       "strong multicollinearity or other numerical problems.\n",
       "\"\"\""
      ]
     },
     "execution_count": 80,
     "metadata": {},
     "output_type": "execute_result"
    }
   ],
   "source": [
    "smmodel.summary()"
   ]
  },
  {
   "cell_type": "markdown",
   "metadata": {},
   "source": [
    "> Lineer regresyon ozet tablosunun yorumlanmasi kismini odeve birakiyoruz."
   ]
  },
  {
   "cell_type": "markdown",
   "metadata": {},
   "source": [
    "### Polinomiyel Regresyon"
   ]
  },
  {
   "cell_type": "markdown",
   "metadata": {},
   "source": [
    "Farkli degiskenleri kullanarak coklu lineer regresyon yaptigimiz gibi, ayni mantigi degiskenlerin polinomiyellerine de genisletebiliriz."
   ]
  },
  {
   "cell_type": "markdown",
   "metadata": {},
   "source": [
    "$$fiyat = (a) (carat^2) + (b) (carat) + (c)$$"
   ]
  },
  {
   "cell_type": "markdown",
   "metadata": {},
   "source": [
    "Hipotezimizde kullandigimiz katsayilarin (a, b, c) hala birinci dereceden olduguna, `carat` ve `carat^2`'nin ise yalnizca yerine konulmasi gereken bilinen degerler olduguna dikkat ediniz."
   ]
  },
  {
   "cell_type": "code",
   "execution_count": 81,
   "metadata": {},
   "outputs": [],
   "source": [
    "X['carat^2'] = X['carat']**2"
   ]
  },
  {
   "cell_type": "code",
   "execution_count": 82,
   "metadata": {},
   "outputs": [
    {
     "data": {
      "text/plain": [
       "LinearRegression()"
      ]
     },
     "execution_count": 82,
     "metadata": {},
     "output_type": "execute_result"
    }
   ],
   "source": [
    "pol = linear_model.LinearRegression()\n",
    "pol.fit(X[['carat', 'carat^2']], Y)"
   ]
  },
  {
   "cell_type": "code",
   "execution_count": 83,
   "metadata": {},
   "outputs": [
    {
     "data": {
      "image/png": "[encoded data removed]",
      "text/plain": [
       "<Figure size 432x288 with 1 Axes>"
      ]
     },
     "metadata": {
      "needs_background": "light"
     },
     "output_type": "display_data"
    }
   ],
   "source": [
    "rng = np.linspace(0, 3, 1000)\n",
    "plt.scatter(df['carat'], df['price'], label='data')\n",
    "plt.plot(rng, pol.predict(pd.DataFrame({\"carat\": rng, \"carat^2\": rng**2})), color='red', label='poly regresyon egrisi')\n",
    "plt.legend();"
   ]
  },
  {
   "cell_type": "markdown",
   "metadata": {},
   "source": [
    "`carat` ve `carat^2` uzayinda tahminlerimiz hala lineer."
   ]
  },
  {
   "cell_type": "code",
   "execution_count": 84,
   "metadata": {},
   "outputs": [
    {
     "data": {
      "text/plain": [
       "<matplotlib.collections.PathCollection at 0x2d0617bad90>"
      ]
     },
     "execution_count": 84,
     "metadata": {},
     "output_type": "execute_result"
    },
    {
     "data": {
      "image/png": "[encoded data removed]",
      "text/plain": [
       "<Figure size 432x288 with 1 Axes>"
      ]
     },
     "metadata": {
      "needs_background": "light"
     },
     "output_type": "display_data"
    }
   ],
   "source": [
    "plt.scatter(df['carat'], df['carat']**2, c=pol.predict(X[['carat', 'carat^2']]))"
   ]
  },
  {
   "cell_type": "code",
   "execution_count": 85,
   "metadata": {},
   "outputs": [
    {
     "data": {
      "image/png": "[encoded data removed]",
      "text/plain": [
       "<Figure size 432x288 with 2 Axes>"
      ]
     },
     "metadata": {
      "needs_background": "light"
     },
     "output_type": "display_data"
    }
   ],
   "source": [
    "aa, bb = np.meshgrid(np.linspace(0, 3, 100), np.linspace(0, 6.5, 100))\n",
    "zz = pol.predict(pd.DataFrame(np.array([aa.ravel(), bb.ravel()]).T, columns=['carat', 'carat^2'])).reshape(aa.shape)\n",
    "plt.contourf(aa, bb, zz)\n",
    "plt.colorbar().set_label(\"price\")\n",
    "plt.xlabel('carat')\n",
    "plt.ylabel('$carat^2$')\n",
    "plt.scatter(df['carat'], df['carat']**2, c=pol.predict(X[['carat', 'carat^2']]), edgecolors='k');"
   ]
  },
  {
   "cell_type": "markdown",
   "metadata": {},
   "source": [
    "##### Polinomiyel degiskenler icin onisleme"
   ]
  },
  {
   "cell_type": "code",
   "execution_count": 86,
   "metadata": {},
   "outputs": [],
   "source": [
    "from sklearn import preprocessing"
   ]
  },
  {
   "cell_type": "code",
   "execution_count": 87,
   "metadata": {},
   "outputs": [],
   "source": [
    "poly = preprocessing.PolynomialFeatures(32)"
   ]
  },
  {
   "cell_type": "markdown",
   "metadata": {},
   "source": [
    "Egitim seti uzerinde en az hatayi veren model, gercekten de en iyi model midir?"
   ]
  },
  {
   "cell_type": "code",
   "execution_count": 88,
   "metadata": {},
   "outputs": [],
   "source": [
    "Xp = poly.fit_transform(X[['carat']])"
   ]
  },
  {
   "cell_type": "code",
   "execution_count": 89,
   "metadata": {},
   "outputs": [
    {
     "data": {
      "text/plain": [
       "LinearRegression()"
      ]
     },
     "execution_count": 89,
     "metadata": {},
     "output_type": "execute_result"
    }
   ],
   "source": [
    "model_16 = linear_model.LinearRegression()\n",
    "model_16.fit(Xp[:80], Y[:80])"
   ]
  },
  {
   "cell_type": "code",
   "execution_count": 90,
   "metadata": {},
   "outputs": [
    {
     "data": {
      "text/plain": [
       "0.9678936817506447"
      ]
     },
     "execution_count": 90,
     "metadata": {},
     "output_type": "execute_result"
    }
   ],
   "source": [
    "model_16.score(Xp[:80], Y[:80])"
   ]
  },
  {
   "cell_type": "code",
   "execution_count": 91,
   "metadata": {},
   "outputs": [],
   "source": [
    "from sklearn import metrics"
   ]
  },
  {
   "cell_type": "code",
   "execution_count": 92,
   "metadata": {},
   "outputs": [
    {
     "data": {
      "text/plain": [
       "791628.1921917092"
      ]
     },
     "execution_count": 92,
     "metadata": {},
     "output_type": "execute_result"
    }
   ],
   "source": [
    "metrics.mean_squared_error(Y[:80], model_16.predict(Xp[:80]))"
   ]
  },
  {
   "cell_type": "markdown",
   "metadata": {},
   "source": [
    "Egitim seti uzerinde gorunur modelleme mukemmele yakin (MSE ve R2 skoru acilarindan), ancak modelin cizmis oldugu egri akla yatkin degil."
   ]
  },
  {
   "cell_type": "code",
   "execution_count": 93,
   "metadata": {},
   "outputs": [
    {
     "data": {
      "text/plain": [
       "(0.0, 40000.0)"
      ]
     },
     "execution_count": 93,
     "metadata": {},
     "output_type": "execute_result"
    },
    {
     "data": {
      "image/png": "[encoded data removed]",
      "text/plain": [
       "<Figure size 432x288 with 1 Axes>"
      ]
     },
     "metadata": {
      "needs_background": "light"
     },
     "output_type": "display_data"
    }
   ],
   "source": [
    "rng = np.linspace(0, 3, 1000)\n",
    "plt.scatter(df['carat'][:20], df['price'][:20])\n",
    "plt.plot(rng, model_16.predict(poly.transform(rng[:, None])), color='red')\n",
    "plt.xlim(0.5, 2.5)\n",
    "plt.ylim(0, 40000)"
   ]
  },
  {
   "cell_type": "code",
   "execution_count": 94,
   "metadata": {},
   "outputs": [
    {
     "data": {
      "text/plain": [
       "1288409.8308653757"
      ]
     },
     "execution_count": 94,
     "metadata": {},
     "output_type": "execute_result"
    }
   ],
   "source": [
    "metrics.mean_squared_error(Y[80:90], model_16.predict(Xp[80:90]))"
   ]
  },
  {
   "cell_type": "code",
   "execution_count": 95,
   "metadata": {},
   "outputs": [
    {
     "data": {
      "text/plain": [
       "LinearRegression()"
      ]
     },
     "execution_count": 95,
     "metadata": {},
     "output_type": "execute_result"
    }
   ],
   "source": [
    "poly3 = preprocessing.PolynomialFeatures(3)\n",
    "Xp = poly3.fit_transform(X[['carat']])\n",
    "model_3 = linear_model.LinearRegression()\n",
    "model_3.fit(Xp[:80], Y[:80])"
   ]
  },
  {
   "cell_type": "code",
   "execution_count": 96,
   "metadata": {},
   "outputs": [
    {
     "data": {
      "text/plain": [
       "0.9525461218210654"
      ]
     },
     "execution_count": 96,
     "metadata": {},
     "output_type": "execute_result"
    }
   ],
   "source": [
    "model_3.score(Xp[:80], Y[:80])"
   ]
  },
  {
   "cell_type": "code",
   "execution_count": 97,
   "metadata": {},
   "outputs": [
    {
     "data": {
      "text/plain": [
       "1170044.7090668813"
      ]
     },
     "execution_count": 97,
     "metadata": {},
     "output_type": "execute_result"
    }
   ],
   "source": [
    "metrics.mean_squared_error(Y[:80], model_3.predict(Xp[:80]))"
   ]
  },
  {
   "cell_type": "code",
   "execution_count": 98,
   "metadata": {},
   "outputs": [
    {
     "data": {
      "text/plain": [
       "592236.7790482023"
      ]
     },
     "execution_count": 98,
     "metadata": {},
     "output_type": "execute_result"
    }
   ],
   "source": [
    "metrics.mean_squared_error(Y[80:90], model_3.predict(Xp[80:90]))"
   ]
  },
  {
   "cell_type": "markdown",
   "metadata": {},
   "source": [
    "3. dereceden polinomiyel ile calisan modelimiz ise gorunurde MSE ve R2 skorlari olarak daha dusuk performans vermesine ragmen genel trendi takip eden bir egre cizmektedir."
   ]
  },
  {
   "cell_type": "code",
   "execution_count": 99,
   "metadata": {},
   "outputs": [
    {
     "data": {
      "text/plain": [
       "(0.0, 40000.0)"
      ]
     },
     "execution_count": 99,
     "metadata": {},
     "output_type": "execute_result"
    },
    {
     "data": {
      "image/png": "[encoded data removed]",
      "text/plain": [
       "<Figure size 432x288 with 1 Axes>"
      ]
     },
     "metadata": {
      "needs_background": "light"
     },
     "output_type": "display_data"
    }
   ],
   "source": [
    "rng = np.linspace(0, 3, 1000)\n",
    "plt.scatter(df['carat'][:20], df['price'][:20])\n",
    "plt.plot(rng, model_3.predict(poly3.transform(rng[:, None])), color='red')\n",
    "plt.xlim(0.5, 2.5)\n",
    "plt.ylim(0, 40000)"
   ]
  },
  {
   "cell_type": "markdown",
   "metadata": {},
   "source": [
    ">**SORU**: Egitim seti uzerindeki performans tek basina basari gostergesi degilse modelleri nasil kiyaslayabiliriz?"
   ]
  },
  {
   "cell_type": "markdown",
   "metadata": {},
   "source": [
    "### Cozum: Test seti\n",
    "\n",
    "Elimizdeki verinin bir kismini modele gostermeyip test maksadiyla saklayabiliriz.\n",
    "\n",
    "- Model egitim verisini ezberliyor mu?\n",
    "- Yoksa genel trendi modellemeyi basarabiliyor mu?"
   ]
  },
  {
   "cell_type": "markdown",
   "metadata": {},
   "source": [
    "Ilk 16 veriyi egitim icin kullaniyoruz:"
   ]
  },
  {
   "cell_type": "code",
   "execution_count": 100,
   "metadata": {},
   "outputs": [
    {
     "data": {
      "text/plain": [
       "0.9683258842954741"
      ]
     },
     "execution_count": 100,
     "metadata": {},
     "output_type": "execute_result"
    }
   ],
   "source": [
    "model_16.fit(poly.transform(X[['carat']])[:16], Y[:16])\n",
    "model_16.score(poly.transform(X[['carat']])[:16], Y[:16])"
   ]
  },
  {
   "cell_type": "code",
   "execution_count": 101,
   "metadata": {},
   "outputs": [
    {
     "data": {
      "text/plain": [
       "391623.4345435607"
      ]
     },
     "execution_count": 101,
     "metadata": {},
     "output_type": "execute_result"
    }
   ],
   "source": [
    "metrics.mean_squared_error(Y[:16], model_16.predict(poly.transform(X[['carat']])[:16]))"
   ]
  },
  {
   "cell_type": "markdown",
   "metadata": {},
   "source": [
    "Modele gostermedigimiz son 4 veri uzerinde ise modelimizi test ediyoruz.\n",
    "\n",
    "- Test R2 skoru:"
   ]
  },
  {
   "cell_type": "code",
   "execution_count": 102,
   "metadata": {},
   "outputs": [
    {
     "data": {
      "text/plain": [
       "-2089458618338505.5"
      ]
     },
     "execution_count": 102,
     "metadata": {},
     "output_type": "execute_result"
    }
   ],
   "source": [
    "model_16.score(poly.transform(X[['carat']])[16:20], Y[16:20])"
   ]
  },
  {
   "cell_type": "markdown",
   "metadata": {},
   "source": [
    "Poly(3) icin egitim ve test basarilari:"
   ]
  },
  {
   "cell_type": "markdown",
   "metadata": {},
   "source": [
    "Egitim"
   ]
  },
  {
   "cell_type": "code",
   "execution_count": 103,
   "metadata": {},
   "outputs": [
    {
     "data": {
      "text/plain": [
       "0.9654945246861222"
      ]
     },
     "execution_count": 103,
     "metadata": {},
     "output_type": "execute_result"
    }
   ],
   "source": [
    "model_3.fit(poly3.transform(X[['carat']])[:16], Y[:16])\n",
    "model_3.score(poly3.transform(X[['carat']])[:16], Y[:16])"
   ]
  },
  {
   "cell_type": "code",
   "execution_count": 104,
   "metadata": {},
   "outputs": [
    {
     "data": {
      "text/plain": [
       "0.13361813302647627"
      ]
     },
     "execution_count": 104,
     "metadata": {},
     "output_type": "execute_result"
    }
   ],
   "source": [
    "metrics.mean_absolute_percentage_error(Y[:16], model_3.predict(poly3.transform(X[['carat']])[:16]))"
   ]
  },
  {
   "cell_type": "code",
   "execution_count": 105,
   "metadata": {},
   "outputs": [
    {
     "data": {
      "text/plain": [
       "0.11793248386570344"
      ]
     },
     "execution_count": 105,
     "metadata": {},
     "output_type": "execute_result"
    }
   ],
   "source": [
    "metrics.mean_absolute_percentage_error(\n",
    "    Y[:16], \n",
    "    model_3.predict(poly3.transform(X[['carat']])[:16]),\n",
    "    sample_weight=Y[:16])"
   ]
  },
  {
   "cell_type": "code",
   "execution_count": 106,
   "metadata": {},
   "outputs": [
    {
     "data": {
      "text/plain": [
       "426630.7820252091"
      ]
     },
     "execution_count": 106,
     "metadata": {},
     "output_type": "execute_result"
    }
   ],
   "source": [
    "metrics.mean_squared_error(Y[:16], model_3.predict(poly3.transform(X[['carat']])[:16]))"
   ]
  },
  {
   "cell_type": "markdown",
   "metadata": {},
   "source": [
    "Test:"
   ]
  },
  {
   "cell_type": "code",
   "execution_count": 107,
   "metadata": {},
   "outputs": [
    {
     "data": {
      "text/plain": [
       "0.9177484276869029"
      ]
     },
     "execution_count": 107,
     "metadata": {},
     "output_type": "execute_result"
    }
   ],
   "source": [
    "model_3.score(poly3.transform(X[['carat']])[16:20], Y[16:20])"
   ]
  },
  {
   "cell_type": "code",
   "execution_count": 108,
   "metadata": {},
   "outputs": [
    {
     "data": {
      "text/html": [
       "<div>\n",
       "<style scoped>\n",
       "    .dataframe tbody tr th:only-of-type {\n",
       "        vertical-align: middle;\n",
       "    }\n",
       "\n",
       "    .dataframe tbody tr th {\n",
       "        vertical-align: top;\n",
       "    }\n",
       "\n",
       "    .dataframe thead th {\n",
       "        text-align: right;\n",
       "    }\n",
       "</style>\n",
       "<table border=\"1\" class=\"dataframe\">\n",
       "  <thead>\n",
       "    <tr style=\"text-align: right;\">\n",
       "      <th></th>\n",
       "      <th>carat</th>\n",
       "      <th>depth</th>\n",
       "      <th>table</th>\n",
       "      <th>price</th>\n",
       "    </tr>\n",
       "  </thead>\n",
       "  <tbody>\n",
       "    <tr>\n",
       "      <th>count</th>\n",
       "      <td>150.000000</td>\n",
       "      <td>150.000000</td>\n",
       "      <td>150.000000</td>\n",
       "      <td>150.000000</td>\n",
       "    </tr>\n",
       "    <tr>\n",
       "      <th>mean</th>\n",
       "      <td>0.811333</td>\n",
       "      <td>61.802667</td>\n",
       "      <td>57.167333</td>\n",
       "      <td>4050.966667</td>\n",
       "    </tr>\n",
       "    <tr>\n",
       "      <th>std</th>\n",
       "      <td>0.530988</td>\n",
       "      <td>1.479295</td>\n",
       "      <td>2.216306</td>\n",
       "      <td>4413.091682</td>\n",
       "    </tr>\n",
       "    <tr>\n",
       "      <th>min</th>\n",
       "      <td>0.230000</td>\n",
       "      <td>55.300000</td>\n",
       "      <td>53.000000</td>\n",
       "      <td>373.000000</td>\n",
       "    </tr>\n",
       "    <tr>\n",
       "      <th>25%</th>\n",
       "      <td>0.400000</td>\n",
       "      <td>61.125000</td>\n",
       "      <td>56.000000</td>\n",
       "      <td>947.000000</td>\n",
       "    </tr>\n",
       "    <tr>\n",
       "      <th>50%</th>\n",
       "      <td>0.600000</td>\n",
       "      <td>62.000000</td>\n",
       "      <td>57.000000</td>\n",
       "      <td>2203.500000</td>\n",
       "    </tr>\n",
       "    <tr>\n",
       "      <th>75%</th>\n",
       "      <td>1.047500</td>\n",
       "      <td>62.700000</td>\n",
       "      <td>58.000000</td>\n",
       "      <td>4788.250000</td>\n",
       "    </tr>\n",
       "    <tr>\n",
       "      <th>max</th>\n",
       "      <td>2.520000</td>\n",
       "      <td>67.100000</td>\n",
       "      <td>66.000000</td>\n",
       "      <td>18443.000000</td>\n",
       "    </tr>\n",
       "  </tbody>\n",
       "</table>\n",
       "</div>"
      ],
      "text/plain": [
       "            carat       depth       table         price\n",
       "count  150.000000  150.000000  150.000000    150.000000\n",
       "mean     0.811333   61.802667   57.167333   4050.966667\n",
       "std      0.530988    1.479295    2.216306   4413.091682\n",
       "min      0.230000   55.300000   53.000000    373.000000\n",
       "25%      0.400000   61.125000   56.000000    947.000000\n",
       "50%      0.600000   62.000000   57.000000   2203.500000\n",
       "75%      1.047500   62.700000   58.000000   4788.250000\n",
       "max      2.520000   67.100000   66.000000  18443.000000"
      ]
     },
     "execution_count": 108,
     "metadata": {},
     "output_type": "execute_result"
    }
   ],
   "source": [
    "df.describe()"
   ]
  },
  {
   "cell_type": "code",
   "execution_count": 109,
   "metadata": {},
   "outputs": [
    {
     "ename": "NameError",
     "evalue": "name 'dfg' is not defined",
     "output_type": "error",
     "traceback": [
      "\u001b[1;31m---------------------------------------------------------------------------\u001b[0m",
      "\u001b[1;31mNameError\u001b[0m                                 Traceback (most recent call last)",
      "\u001b[1;32m~\\AppData\\Local\\Temp/ipykernel_10580/2618887400.py\u001b[0m in \u001b[0;36m<module>\u001b[1;34m\u001b[0m\n\u001b[1;32m----> 1\u001b[1;33m \u001b[0mlinear_model\u001b[0m\u001b[1;33m.\u001b[0m\u001b[0mLinearRegression\u001b[0m\u001b[1;33m(\u001b[0m\u001b[1;33m)\u001b[0m\u001b[1;33m.\u001b[0m\u001b[0mfit\u001b[0m\u001b[1;33m(\u001b[0m\u001b[0mdfg\u001b[0m\u001b[1;33m,\u001b[0m \u001b[0mdfy\u001b[0m\u001b[1;33m)\u001b[0m\u001b[1;33m.\u001b[0m\u001b[0mscore\u001b[0m\u001b[1;33m(\u001b[0m\u001b[0mdfg\u001b[0m\u001b[1;33m,\u001b[0m \u001b[0mdfy\u001b[0m\u001b[1;33m)\u001b[0m\u001b[1;33m\u001b[0m\u001b[1;33m\u001b[0m\u001b[0m\n\u001b[0m",
      "\u001b[1;31mNameError\u001b[0m: name 'dfg' is not defined"
     ]
    }
   ],
   "source": [
    "linear_model.LinearRegression().fit(dfg, dfy).score(dfg, dfy)"
   ]
  },
  {
   "cell_type": "code",
   "execution_count": null,
   "metadata": {},
   "outputs": [
    {
     "data": {
      "text/plain": [
       "0.8840594014106923"
      ]
     },
     "execution_count": 99,
     "metadata": {},
     "output_type": "execute_result"
    }
   ],
   "source": [
    "simple_lm.score(df[['carat']], df['price'])"
   ]
  },
  {
   "cell_type": "code",
   "execution_count": null,
   "metadata": {},
   "outputs": [],
   "source": [
    "metrics.mean_absolute_percentage_error(df['price'], simple_lm.predict(df[['carat']]))"
   ]
  },
  {
   "cell_type": "code",
   "execution_count": null,
   "metadata": {},
   "outputs": [],
   "source": [
    "metrics.mean_absolute_percentage_error(df['price'], simple_lm.predict(df[['carat']]), sample_weight=df['price'])"
   ]
  },
  {
   "cell_type": "markdown",
   "metadata": {},
   "source": [
    "# Underfit - Overfit"
   ]
  },
  {
   "cell_type": "markdown",
   "metadata": {},
   "source": [
    "Underfit ve overfit durumlarini daha iyi anlamak icin asagidaki interaktif hucreyi kullanalim:\n",
    "\n",
    "> Polinomiyel regresyonun derecesini degistirmek icin kaydiraci kullaniniz."
   ]
  },
  {
   "cell_type": "code",
   "execution_count": null,
   "metadata": {},
   "outputs": [
    {
     "data": {
      "application/vnd.jupyter.widget-view+json": {
       "model_id": "b6c08a15553e43ab96cf9ca35bf051bd",
       "version_major": 2,
       "version_minor": 0
      },
      "text/plain": [
       "interactive(children=(IntSlider(value=1, description='polinomiyel_derecesi', max=10, min=1), Output()), _dom_c…"
      ]
     },
     "metadata": {},
     "output_type": "display_data"
    }
   ],
   "source": [
    "from ipywidgets import interact\n",
    "import warnings\n",
    "from sklearn import pipeline, preprocessing, linear_model\n",
    "import seaborn as sns\n",
    "\n",
    "\n",
    "@interact(polinomiyel_derecesi=(1,10,1))\n",
    "def caratviz(polinomiyel_derecesi=1):\n",
    "    X, y = df[['carat']].iloc[::10], df['price'].iloc[::10]\n",
    "    X_test, y_test = df[['carat']].iloc[1::10], df['price'].iloc[1::10]\n",
    "    plt.figure(figsize=(18, 5))\n",
    "    plt.subplot(1,3,1)\n",
    "    plt.scatter(X, y, label='Egitim verisi')\n",
    "    plt.scatter(X_test, y_test, label='Test verisi')\n",
    "    boru = pipeline.Pipeline([('poly', preprocessing.PolynomialFeatures(polinomiyel_derecesi)), ('linear', linear_model.LinearRegression())])\n",
    "    boru.fit(X, y)\n",
    "    t = np.linspace(0, 2.2, 1000)\n",
    "    train_error = metrics.mean_squared_error(y, boru.predict(X))**0.5\n",
    "    test_error = metrics.mean_squared_error(y_test, boru.predict(X_test))**0.5\n",
    "    with warnings.catch_warnings():\n",
    "        warnings.simplefilter(\"ignore\")\n",
    "        plt.plot(t, boru.predict(t[:, None]), label='Boru', linestyle='--', color='red')\n",
    "    plt.legend()\n",
    "    plt.grid()\n",
    "    plt.ylim(-3000, 25000)\n",
    "    plt.title('Polinom derecesi: {}'.format(polinomiyel_derecesi))\n",
    "    plt.xlabel('carat')\n",
    "    plt.ylabel('price')\n",
    "    plt.subplot(1,3,2)\n",
    "    plt.bar([\"Egitim hatasi\", \"Test hatasi\"], [np.log(train_error), np.log(test_error)], color='red')\n",
    "    plt.title(\"$\\log{RMSE}$\")\n",
    "    plt.ylim(0, 20)\n",
    "    plt.grid()\n",
    "\n",
    "\n",
    "    tahminler = boru.predict(X)\n",
    "    hatalar = tahminler - y\n",
    "    plt.subplot(1,3,3)\n",
    "    sns.regplot(x=tahminler, y=hatalar, fit_reg=True, order=2, ci=0, line_kws={'color': 'red', 'label': \"patern\"})\n",
    "    # plt.scatter(tahminler, hatalar, label='Hatalar')\n",
    "    plt.xlabel('Tahmin')\n",
    "    plt.ylabel('Hata')\n",
    "    plt.title(\"Rezidual plot\")\n",
    "    plt.legend()\n",
    "    plt.grid()\n",
    "\n"
   ]
  },
  {
   "cell_type": "markdown",
   "metadata": {},
   "source": [
    "Polinomiyel regresyon orneginde, datasete her eklenen polinomiyel derecesi ile modele yeni bir parametre eklenmektedir.\n",
    "\n",
    "> `Daha cok parametre = daha esnek ve guclu model`"
   ]
  },
  {
   "cell_type": "markdown",
   "metadata": {},
   "source": [
    "Benzer bir konsept, coklu lineer regresyonda da eklenen her degisken icin modele bir parametre eklenmesiyle olusmaktadir.\n",
    "\n",
    "Her eklenen $degisken$, modelin egitim hatasini azaltacaktir; ancak polinomiyel regresyon orneginde oldugu gibi, her ekstra parametre ile gurultuye uyum saglama riski de artmaktadir."
   ]
  },
  {
   "cell_type": "code",
   "execution_count": null,
   "metadata": {},
   "outputs": [
    {
     "data": {
      "text/plain": [
       "Index(['carat', 'depth', 'table', 'price'], dtype='object')"
      ]
     },
     "execution_count": 102,
     "metadata": {},
     "output_type": "execute_result"
    }
   ],
   "source": [
    "df.columns"
   ]
  },
  {
   "cell_type": "code",
   "execution_count": null,
   "metadata": {},
   "outputs": [],
   "source": [
    "from ipywidgets import interact, Checkbox, SelectMultiple, ToggleButtons\n",
    "from IPython.display import display, Markdown"
   ]
  },
  {
   "cell_type": "code",
   "execution_count": null,
   "metadata": {},
   "outputs": [
    {
     "data": {
      "application/vnd.jupyter.widget-view+json": {
       "model_id": "68f8c27895f74d0ea3b9550f63cdf291",
       "version_major": 2,
       "version_minor": 0
      },
      "text/plain": [
       "interactive(children=(SelectMultiple(description='carat', index=(2,), options=('table', 'depth', 'carat'), val…"
      ]
     },
     "metadata": {},
     "output_type": "display_data"
    }
   ],
   "source": [
    "\n",
    "import warnings\n",
    "from sklearn import pipeline, preprocessing, linear_model\n",
    "import seaborn as sns\n",
    "\n",
    "\n",
    "@interact(\n",
    "    carat=SelectMultiple(\n",
    "        options=['carat', 'depth', 'table'][::-1], \n",
    "        value=['carat']\n",
    "        )\n",
    "    )\n",
    "def caratviz(carat):\n",
    "    carat = list(carat)\n",
    "    X, y = df[carat].iloc[::10], df['price'].iloc[::10]\n",
    "    X_test, y_test = df[carat].iloc[1::10], df['price'].iloc[1::10]\n",
    "    display(Markdown(\"Birden fazla feature secmek icin Ctrl ile tiklayabilirsiniz.\"))\n",
    "    plt.figure(figsize=(18, 5))\n",
    "\n",
    "    boru = pipeline.Pipeline([\n",
    "\n",
    "        ('linear', linear_model.LinearRegression())\n",
    "        ])\n",
    "    boru.fit(X, y)\n",
    "\n",
    "    train_error = metrics.mean_squared_error(y, boru.predict(X))**0.5\n",
    "    test_error = metrics.mean_squared_error(y_test, boru.predict(X_test))**0.5\n",
    "\n",
    "    plt.subplot(1,3,2)\n",
    "    plt.bar([\"Egitim hatasi\", \"Test hatasi\"], [np.log(train_error), np.log(test_error)], color='red')\n",
    "    plt.title(\"$\\log{RMSE}$\")\n",
    "    plt.ylim(0, 20)\n",
    "    plt.grid()\n",
    "\n",
    "\n",
    "    tahminler = boru.predict(X)\n",
    "    hatalar = tahminler - y\n",
    "    plt.subplot(1,3,3)\n",
    "    sns.regplot(x=tahminler, y=hatalar, fit_reg=True, order=2, ci=0, line_kws={'color': 'red', 'label': \"patern\"})\n",
    "\n",
    "    plt.xlabel('Tahmin')\n",
    "    plt.ylabel('Hata')\n",
    "    plt.title(\"Rezidual plot\")\n",
    "    plt.legend()\n",
    "    plt.grid();\n",
    "\n"
   ]
  }
 ],
 "metadata": {
  "kernelspec": {
   "display_name": "Python 3.8.12 ('cons1')",
   "language": "python",
   "name": "python3"
  },
  "language_info": {
   "codemirror_mode": {
    "name": "ipython",
    "version": 3
   },
   "file_extension": ".py",
   "mimetype": "text/x-python",
   "name": "python",
   "nbconvert_exporter": "python",
   "pygments_lexer": "ipython3",
   "version": "3.8.12"
  },
  "orig_nbformat": 4,
  "vscode": {
   "interpreter": {
    "hash": "a571a25d3379e9645cc932b401c674531bbcf658e9b176b05ab9004deb2f65c4"
   }
  }
 },
 "nbformat": 4,
 "nbformat_minor": 2
}
