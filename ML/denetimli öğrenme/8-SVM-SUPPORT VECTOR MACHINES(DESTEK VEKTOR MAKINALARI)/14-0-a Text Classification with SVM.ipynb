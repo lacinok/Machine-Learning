{
 "cells": [
  {
   "cell_type": "markdown",
   "id": "be14331a",
   "metadata": {},
   "source": [
    "# SVM ile metin siniflandirma\n",
    "\n",
    "Bu calismada SVM ve daha once ogrendigimiz tasniflendirme algoritmalarini kullanarak bir anlik sohbet frubunda atilan mesajlarin belli bir kisiye ait olup olmadigini bulacak bir model gelistirecegiz.\n",
    "\n",
    "### Kabiliyetler:\n",
    "\n",
    "- SVM'i pekistirme ve diger modellerle kiyaslama\n",
    "    - SVM parametre ayarlamasi\n",
    "- regex\n",
    "- Pipeline\n",
    "- Metinler uzerinde model egitebilme"
   ]
  },
  {
   "cell_type": "code",
   "execution_count": 1,
   "id": "407d2669",
   "metadata": {},
   "outputs": [],
   "source": [
    "import pandas as pd\n",
    "import numpy as np\n",
    "import matplotlib.pyplot as plt"
   ]
  },
  {
   "cell_type": "markdown",
   "id": "815f602a",
   "metadata": {},
   "source": [
    "## Veriyi okuma"
   ]
  },
  {
   "cell_type": "code",
   "execution_count": 2,
   "id": "ab0d3d91",
   "metadata": {},
   "outputs": [
    {
     "ename": "FileNotFoundError",
     "evalue": "[Errno 2] No such file or directory: 'verbilimciler.txt'",
     "output_type": "error",
     "traceback": [
      "\u001b[1;31m---------------------------------------------------------------------------\u001b[0m",
      "\u001b[1;31mFileNotFoundError\u001b[0m                         Traceback (most recent call last)",
      "\u001b[1;32m~\\AppData\\Local\\Temp/ipykernel_66700/3127294569.py\u001b[0m in \u001b[0;36m<module>\u001b[1;34m\u001b[0m\n\u001b[1;32m----> 1\u001b[1;33m \u001b[0mdf\u001b[0m \u001b[1;33m=\u001b[0m \u001b[0mpd\u001b[0m\u001b[1;33m.\u001b[0m\u001b[0mread_csv\u001b[0m\u001b[1;33m(\u001b[0m\u001b[1;34m\"verbilimciler.txt\"\u001b[0m\u001b[1;33m,\u001b[0m \u001b[0msep\u001b[0m\u001b[1;33m=\u001b[0m\u001b[1;34m'\\t'\u001b[0m\u001b[1;33m)\u001b[0m\u001b[1;33m\u001b[0m\u001b[1;33m\u001b[0m\u001b[0m\n\u001b[0m",
      "\u001b[1;32mc:\\Users\\berk_\\miniconda3\\envs\\cons1\\lib\\site-packages\\pandas\\util\\_decorators.py\u001b[0m in \u001b[0;36mwrapper\u001b[1;34m(*args, **kwargs)\u001b[0m\n\u001b[0;32m    309\u001b[0m                     \u001b[0mstacklevel\u001b[0m\u001b[1;33m=\u001b[0m\u001b[0mstacklevel\u001b[0m\u001b[1;33m,\u001b[0m\u001b[1;33m\u001b[0m\u001b[1;33m\u001b[0m\u001b[0m\n\u001b[0;32m    310\u001b[0m                 )\n\u001b[1;32m--> 311\u001b[1;33m             \u001b[1;32mreturn\u001b[0m \u001b[0mfunc\u001b[0m\u001b[1;33m(\u001b[0m\u001b[1;33m*\u001b[0m\u001b[0margs\u001b[0m\u001b[1;33m,\u001b[0m \u001b[1;33m**\u001b[0m\u001b[0mkwargs\u001b[0m\u001b[1;33m)\u001b[0m\u001b[1;33m\u001b[0m\u001b[1;33m\u001b[0m\u001b[0m\n\u001b[0m\u001b[0;32m    312\u001b[0m \u001b[1;33m\u001b[0m\u001b[0m\n\u001b[0;32m    313\u001b[0m         \u001b[1;32mreturn\u001b[0m \u001b[0mwrapper\u001b[0m\u001b[1;33m\u001b[0m\u001b[1;33m\u001b[0m\u001b[0m\n",
      "\u001b[1;32mc:\\Users\\berk_\\miniconda3\\envs\\cons1\\lib\\site-packages\\pandas\\io\\parsers\\readers.py\u001b[0m in \u001b[0;36mread_csv\u001b[1;34m(filepath_or_buffer, sep, delimiter, header, names, index_col, usecols, squeeze, prefix, mangle_dupe_cols, dtype, engine, converters, true_values, false_values, skipinitialspace, skiprows, skipfooter, nrows, na_values, keep_default_na, na_filter, verbose, skip_blank_lines, parse_dates, infer_datetime_format, keep_date_col, date_parser, dayfirst, cache_dates, iterator, chunksize, compression, thousands, decimal, lineterminator, quotechar, quoting, doublequote, escapechar, comment, encoding, encoding_errors, dialect, error_bad_lines, warn_bad_lines, on_bad_lines, delim_whitespace, low_memory, memory_map, float_precision, storage_options)\u001b[0m\n\u001b[0;32m    584\u001b[0m     \u001b[0mkwds\u001b[0m\u001b[1;33m.\u001b[0m\u001b[0mupdate\u001b[0m\u001b[1;33m(\u001b[0m\u001b[0mkwds_defaults\u001b[0m\u001b[1;33m)\u001b[0m\u001b[1;33m\u001b[0m\u001b[1;33m\u001b[0m\u001b[0m\n\u001b[0;32m    585\u001b[0m \u001b[1;33m\u001b[0m\u001b[0m\n\u001b[1;32m--> 586\u001b[1;33m     \u001b[1;32mreturn\u001b[0m \u001b[0m_read\u001b[0m\u001b[1;33m(\u001b[0m\u001b[0mfilepath_or_buffer\u001b[0m\u001b[1;33m,\u001b[0m \u001b[0mkwds\u001b[0m\u001b[1;33m)\u001b[0m\u001b[1;33m\u001b[0m\u001b[1;33m\u001b[0m\u001b[0m\n\u001b[0m\u001b[0;32m    587\u001b[0m \u001b[1;33m\u001b[0m\u001b[0m\n\u001b[0;32m    588\u001b[0m \u001b[1;33m\u001b[0m\u001b[0m\n",
      "\u001b[1;32mc:\\Users\\berk_\\miniconda3\\envs\\cons1\\lib\\site-packages\\pandas\\io\\parsers\\readers.py\u001b[0m in \u001b[0;36m_read\u001b[1;34m(filepath_or_buffer, kwds)\u001b[0m\n\u001b[0;32m    480\u001b[0m \u001b[1;33m\u001b[0m\u001b[0m\n\u001b[0;32m    481\u001b[0m     \u001b[1;31m# Create the parser.\u001b[0m\u001b[1;33m\u001b[0m\u001b[1;33m\u001b[0m\u001b[1;33m\u001b[0m\u001b[0m\n\u001b[1;32m--> 482\u001b[1;33m     \u001b[0mparser\u001b[0m \u001b[1;33m=\u001b[0m \u001b[0mTextFileReader\u001b[0m\u001b[1;33m(\u001b[0m\u001b[0mfilepath_or_buffer\u001b[0m\u001b[1;33m,\u001b[0m \u001b[1;33m**\u001b[0m\u001b[0mkwds\u001b[0m\u001b[1;33m)\u001b[0m\u001b[1;33m\u001b[0m\u001b[1;33m\u001b[0m\u001b[0m\n\u001b[0m\u001b[0;32m    483\u001b[0m \u001b[1;33m\u001b[0m\u001b[0m\n\u001b[0;32m    484\u001b[0m     \u001b[1;32mif\u001b[0m \u001b[0mchunksize\u001b[0m \u001b[1;32mor\u001b[0m \u001b[0miterator\u001b[0m\u001b[1;33m:\u001b[0m\u001b[1;33m\u001b[0m\u001b[1;33m\u001b[0m\u001b[0m\n",
      "\u001b[1;32mc:\\Users\\berk_\\miniconda3\\envs\\cons1\\lib\\site-packages\\pandas\\io\\parsers\\readers.py\u001b[0m in \u001b[0;36m__init__\u001b[1;34m(self, f, engine, **kwds)\u001b[0m\n\u001b[0;32m    809\u001b[0m             \u001b[0mself\u001b[0m\u001b[1;33m.\u001b[0m\u001b[0moptions\u001b[0m\u001b[1;33m[\u001b[0m\u001b[1;34m\"has_index_names\"\u001b[0m\u001b[1;33m]\u001b[0m \u001b[1;33m=\u001b[0m \u001b[0mkwds\u001b[0m\u001b[1;33m[\u001b[0m\u001b[1;34m\"has_index_names\"\u001b[0m\u001b[1;33m]\u001b[0m\u001b[1;33m\u001b[0m\u001b[1;33m\u001b[0m\u001b[0m\n\u001b[0;32m    810\u001b[0m \u001b[1;33m\u001b[0m\u001b[0m\n\u001b[1;32m--> 811\u001b[1;33m         \u001b[0mself\u001b[0m\u001b[1;33m.\u001b[0m\u001b[0m_engine\u001b[0m \u001b[1;33m=\u001b[0m \u001b[0mself\u001b[0m\u001b[1;33m.\u001b[0m\u001b[0m_make_engine\u001b[0m\u001b[1;33m(\u001b[0m\u001b[0mself\u001b[0m\u001b[1;33m.\u001b[0m\u001b[0mengine\u001b[0m\u001b[1;33m)\u001b[0m\u001b[1;33m\u001b[0m\u001b[1;33m\u001b[0m\u001b[0m\n\u001b[0m\u001b[0;32m    812\u001b[0m \u001b[1;33m\u001b[0m\u001b[0m\n\u001b[0;32m    813\u001b[0m     \u001b[1;32mdef\u001b[0m \u001b[0mclose\u001b[0m\u001b[1;33m(\u001b[0m\u001b[0mself\u001b[0m\u001b[1;33m)\u001b[0m\u001b[1;33m:\u001b[0m\u001b[1;33m\u001b[0m\u001b[1;33m\u001b[0m\u001b[0m\n",
      "\u001b[1;32mc:\\Users\\berk_\\miniconda3\\envs\\cons1\\lib\\site-packages\\pandas\\io\\parsers\\readers.py\u001b[0m in \u001b[0;36m_make_engine\u001b[1;34m(self, engine)\u001b[0m\n\u001b[0;32m   1038\u001b[0m             )\n\u001b[0;32m   1039\u001b[0m         \u001b[1;31m# error: Too many arguments for \"ParserBase\"\u001b[0m\u001b[1;33m\u001b[0m\u001b[1;33m\u001b[0m\u001b[1;33m\u001b[0m\u001b[0m\n\u001b[1;32m-> 1040\u001b[1;33m         \u001b[1;32mreturn\u001b[0m \u001b[0mmapping\u001b[0m\u001b[1;33m[\u001b[0m\u001b[0mengine\u001b[0m\u001b[1;33m]\u001b[0m\u001b[1;33m(\u001b[0m\u001b[0mself\u001b[0m\u001b[1;33m.\u001b[0m\u001b[0mf\u001b[0m\u001b[1;33m,\u001b[0m \u001b[1;33m**\u001b[0m\u001b[0mself\u001b[0m\u001b[1;33m.\u001b[0m\u001b[0moptions\u001b[0m\u001b[1;33m)\u001b[0m  \u001b[1;31m# type: ignore[call-arg]\u001b[0m\u001b[1;33m\u001b[0m\u001b[1;33m\u001b[0m\u001b[0m\n\u001b[0m\u001b[0;32m   1041\u001b[0m \u001b[1;33m\u001b[0m\u001b[0m\n\u001b[0;32m   1042\u001b[0m     \u001b[1;32mdef\u001b[0m \u001b[0m_failover_to_python\u001b[0m\u001b[1;33m(\u001b[0m\u001b[0mself\u001b[0m\u001b[1;33m)\u001b[0m\u001b[1;33m:\u001b[0m\u001b[1;33m\u001b[0m\u001b[1;33m\u001b[0m\u001b[0m\n",
      "\u001b[1;32mc:\\Users\\berk_\\miniconda3\\envs\\cons1\\lib\\site-packages\\pandas\\io\\parsers\\c_parser_wrapper.py\u001b[0m in \u001b[0;36m__init__\u001b[1;34m(self, src, **kwds)\u001b[0m\n\u001b[0;32m     49\u001b[0m \u001b[1;33m\u001b[0m\u001b[0m\n\u001b[0;32m     50\u001b[0m         \u001b[1;31m# open handles\u001b[0m\u001b[1;33m\u001b[0m\u001b[1;33m\u001b[0m\u001b[1;33m\u001b[0m\u001b[0m\n\u001b[1;32m---> 51\u001b[1;33m         \u001b[0mself\u001b[0m\u001b[1;33m.\u001b[0m\u001b[0m_open_handles\u001b[0m\u001b[1;33m(\u001b[0m\u001b[0msrc\u001b[0m\u001b[1;33m,\u001b[0m \u001b[0mkwds\u001b[0m\u001b[1;33m)\u001b[0m\u001b[1;33m\u001b[0m\u001b[1;33m\u001b[0m\u001b[0m\n\u001b[0m\u001b[0;32m     52\u001b[0m         \u001b[1;32massert\u001b[0m \u001b[0mself\u001b[0m\u001b[1;33m.\u001b[0m\u001b[0mhandles\u001b[0m \u001b[1;32mis\u001b[0m \u001b[1;32mnot\u001b[0m \u001b[1;32mNone\u001b[0m\u001b[1;33m\u001b[0m\u001b[1;33m\u001b[0m\u001b[0m\n\u001b[0;32m     53\u001b[0m \u001b[1;33m\u001b[0m\u001b[0m\n",
      "\u001b[1;32mc:\\Users\\berk_\\miniconda3\\envs\\cons1\\lib\\site-packages\\pandas\\io\\parsers\\base_parser.py\u001b[0m in \u001b[0;36m_open_handles\u001b[1;34m(self, src, kwds)\u001b[0m\n\u001b[0;32m    220\u001b[0m         \u001b[0mLet\u001b[0m \u001b[0mthe\u001b[0m \u001b[0mreaders\u001b[0m \u001b[0mopen\u001b[0m \u001b[0mIOHandles\u001b[0m \u001b[0mafter\u001b[0m \u001b[0mthey\u001b[0m \u001b[0mare\u001b[0m \u001b[0mdone\u001b[0m \u001b[1;32mwith\u001b[0m \u001b[0mtheir\u001b[0m \u001b[0mpotential\u001b[0m \u001b[0mraises\u001b[0m\u001b[1;33m.\u001b[0m\u001b[1;33m\u001b[0m\u001b[1;33m\u001b[0m\u001b[0m\n\u001b[0;32m    221\u001b[0m         \"\"\"\n\u001b[1;32m--> 222\u001b[1;33m         self.handles = get_handle(\n\u001b[0m\u001b[0;32m    223\u001b[0m             \u001b[0msrc\u001b[0m\u001b[1;33m,\u001b[0m\u001b[1;33m\u001b[0m\u001b[1;33m\u001b[0m\u001b[0m\n\u001b[0;32m    224\u001b[0m             \u001b[1;34m\"r\"\u001b[0m\u001b[1;33m,\u001b[0m\u001b[1;33m\u001b[0m\u001b[1;33m\u001b[0m\u001b[0m\n",
      "\u001b[1;32mc:\\Users\\berk_\\miniconda3\\envs\\cons1\\lib\\site-packages\\pandas\\io\\common.py\u001b[0m in \u001b[0;36mget_handle\u001b[1;34m(path_or_buf, mode, encoding, compression, memory_map, is_text, errors, storage_options)\u001b[0m\n\u001b[0;32m    700\u001b[0m         \u001b[1;32mif\u001b[0m \u001b[0mioargs\u001b[0m\u001b[1;33m.\u001b[0m\u001b[0mencoding\u001b[0m \u001b[1;32mand\u001b[0m \u001b[1;34m\"b\"\u001b[0m \u001b[1;32mnot\u001b[0m \u001b[1;32min\u001b[0m \u001b[0mioargs\u001b[0m\u001b[1;33m.\u001b[0m\u001b[0mmode\u001b[0m\u001b[1;33m:\u001b[0m\u001b[1;33m\u001b[0m\u001b[1;33m\u001b[0m\u001b[0m\n\u001b[0;32m    701\u001b[0m             \u001b[1;31m# Encoding\u001b[0m\u001b[1;33m\u001b[0m\u001b[1;33m\u001b[0m\u001b[1;33m\u001b[0m\u001b[0m\n\u001b[1;32m--> 702\u001b[1;33m             handle = open(\n\u001b[0m\u001b[0;32m    703\u001b[0m                 \u001b[0mhandle\u001b[0m\u001b[1;33m,\u001b[0m\u001b[1;33m\u001b[0m\u001b[1;33m\u001b[0m\u001b[0m\n\u001b[0;32m    704\u001b[0m                 \u001b[0mioargs\u001b[0m\u001b[1;33m.\u001b[0m\u001b[0mmode\u001b[0m\u001b[1;33m,\u001b[0m\u001b[1;33m\u001b[0m\u001b[1;33m\u001b[0m\u001b[0m\n",
      "\u001b[1;31mFileNotFoundError\u001b[0m: [Errno 2] No such file or directory: 'verbilimciler.txt'"
     ]
    }
   ],
   "source": [
    "df = pd.read_csv(\"verbilimciler.txt\", sep='\\t')"
   ]
  },
  {
   "cell_type": "code",
   "execution_count": null,
   "id": "d12bf4d8",
   "metadata": {},
   "outputs": [
    {
     "data": {
      "text/html": [
       "<div>\n",
       "<style scoped>\n",
       "    .dataframe tbody tr th:only-of-type {\n",
       "        vertical-align: middle;\n",
       "    }\n",
       "\n",
       "    .dataframe tbody tr th {\n",
       "        vertical-align: top;\n",
       "    }\n",
       "\n",
       "    .dataframe thead th {\n",
       "        text-align: right;\n",
       "    }\n",
       "</style>\n",
       "<table border=\"1\" class=\"dataframe\">\n",
       "  <thead>\n",
       "    <tr style=\"text-align: right;\">\n",
       "      <th></th>\n",
       "      <th>[7/13/21, 12:02:14 PM] VeriBilimciler: ‎Messages and calls are end-to-end encrypted. No one outside of this chat, not even WhatsApp, can read or listen to them.</th>\n",
       "    </tr>\n",
       "  </thead>\n",
       "  <tbody>\n",
       "    <tr>\n",
       "      <th>0</th>\n",
       "      <td>[7/13/21, 12:02:14 PM] ‎Abdullah Atçılı create...</td>\n",
       "    </tr>\n",
       "    <tr>\n",
       "      <th>1</th>\n",
       "      <td>[11/13/21, 12:31:53 AM] ‎Ersan Yagci added you</td>\n",
       "    </tr>\n",
       "    <tr>\n",
       "      <th>2</th>\n",
       "      <td>[11/13/21, 12:32:58 AM] ‎You're now an admin</td>\n",
       "    </tr>\n",
       "    <tr>\n",
       "      <th>3</th>\n",
       "      <td>[11/13/21, 5:38:02 AM] Ersan Yagci: Abiler sel...</td>\n",
       "    </tr>\n",
       "    <tr>\n",
       "      <th>4</th>\n",
       "      <td>[11/13/21, 5:38:38 AM] Ersan Yagci: Haftaya cu...</td>\n",
       "    </tr>\n",
       "  </tbody>\n",
       "</table>\n",
       "</div>"
      ],
      "text/plain": [
       "  [7/13/21, 12:02:14 PM] VeriBilimciler: ‎Messages and calls are end-to-end encrypted. No one outside of this chat, not even WhatsApp, can read or listen to them.\n",
       "0  [7/13/21, 12:02:14 PM] ‎Abdullah Atçılı create...                                                                                                              \n",
       "1     [11/13/21, 12:31:53 AM] ‎Ersan Yagci added you                                                                                                              \n",
       "2       [11/13/21, 12:32:58 AM] ‎You're now an admin                                                                                                              \n",
       "3  [11/13/21, 5:38:02 AM] Ersan Yagci: Abiler sel...                                                                                                              \n",
       "4  [11/13/21, 5:38:38 AM] Ersan Yagci: Haftaya cu...                                                                                                              "
      ]
     },
     "execution_count": 521,
     "metadata": {},
     "output_type": "execute_result"
    }
   ],
   "source": [
    "df.head()"
   ]
  },
  {
   "cell_type": "code",
   "execution_count": null,
   "id": "7234e85b",
   "metadata": {},
   "outputs": [],
   "source": [
    "df.columns = [0]"
   ]
  },
  {
   "cell_type": "code",
   "execution_count": null,
   "id": "3b05be4d",
   "metadata": {},
   "outputs": [],
   "source": [
    "df = df.loc[3:]"
   ]
  },
  {
   "cell_type": "code",
   "execution_count": null,
   "id": "0479ffe9",
   "metadata": {},
   "outputs": [
    {
     "data": {
      "text/html": [
       "<div>\n",
       "<style scoped>\n",
       "    .dataframe tbody tr th:only-of-type {\n",
       "        vertical-align: middle;\n",
       "    }\n",
       "\n",
       "    .dataframe tbody tr th {\n",
       "        vertical-align: top;\n",
       "    }\n",
       "\n",
       "    .dataframe thead th {\n",
       "        text-align: right;\n",
       "    }\n",
       "</style>\n",
       "<table border=\"1\" class=\"dataframe\">\n",
       "  <thead>\n",
       "    <tr style=\"text-align: right;\">\n",
       "      <th></th>\n",
       "      <th>0</th>\n",
       "    </tr>\n",
       "  </thead>\n",
       "  <tbody>\n",
       "    <tr>\n",
       "      <th>3</th>\n",
       "      <td>[11/13/21, 5:38:02 AM] Ersan Yagci: Abiler sel...</td>\n",
       "    </tr>\n",
       "    <tr>\n",
       "      <th>4</th>\n",
       "      <td>[11/13/21, 5:38:38 AM] Ersan Yagci: Haftaya cu...</td>\n",
       "    </tr>\n",
       "    <tr>\n",
       "      <th>5</th>\n",
       "      <td>[11/13/21, 5:39:20 AM] Ersan Yagci: Cumartesi ...</td>\n",
       "    </tr>\n",
       "    <tr>\n",
       "      <th>6</th>\n",
       "      <td>[11/13/21, 5:39:48 AM] Ersan Yagci: Biraz vite...</td>\n",
       "    </tr>\n",
       "    <tr>\n",
       "      <th>7</th>\n",
       "      <td>[11/13/21, 5:40:41 AM] Ersan Yagci: Şu ana kad...</td>\n",
       "    </tr>\n",
       "    <tr>\n",
       "      <th>...</th>\n",
       "      <td>...</td>\n",
       "    </tr>\n",
       "    <tr>\n",
       "      <th>1296</th>\n",
       "      <td>‎[1/1/22, 3:02:06 PM] Ahmet Umit Çalışkan: Imb...</td>\n",
       "    </tr>\n",
       "    <tr>\n",
       "      <th>1297</th>\n",
       "      <td>‎[1/1/22, 3:02:09 PM] Ahmet Umit Çalışkan: Chu...</td>\n",
       "    </tr>\n",
       "    <tr>\n",
       "      <th>1298</th>\n",
       "      <td>[1/1/22, 3:02:55 PM] Ahmet Umit Çalışkan: grid...</td>\n",
       "    </tr>\n",
       "    <tr>\n",
       "      <th>1299</th>\n",
       "      <td>[1/1/22, 3:09:41 PM] Sinan Yilmaz: Teşekkürler...</td>\n",
       "    </tr>\n",
       "    <tr>\n",
       "      <th>1300</th>\n",
       "      <td>[1/1/22, 3:10:00 PM] Ahmet Umit Çalışkan: 👍</td>\n",
       "    </tr>\n",
       "  </tbody>\n",
       "</table>\n",
       "<p>1298 rows × 1 columns</p>\n",
       "</div>"
      ],
      "text/plain": [
       "                                                      0\n",
       "3     [11/13/21, 5:38:02 AM] Ersan Yagci: Abiler sel...\n",
       "4     [11/13/21, 5:38:38 AM] Ersan Yagci: Haftaya cu...\n",
       "5     [11/13/21, 5:39:20 AM] Ersan Yagci: Cumartesi ...\n",
       "6     [11/13/21, 5:39:48 AM] Ersan Yagci: Biraz vite...\n",
       "7     [11/13/21, 5:40:41 AM] Ersan Yagci: Şu ana kad...\n",
       "...                                                 ...\n",
       "1296  ‎[1/1/22, 3:02:06 PM] Ahmet Umit Çalışkan: Imb...\n",
       "1297  ‎[1/1/22, 3:02:09 PM] Ahmet Umit Çalışkan: Chu...\n",
       "1298  [1/1/22, 3:02:55 PM] Ahmet Umit Çalışkan: grid...\n",
       "1299  [1/1/22, 3:09:41 PM] Sinan Yilmaz: Teşekkürler...\n",
       "1300        [1/1/22, 3:10:00 PM] Ahmet Umit Çalışkan: 👍\n",
       "\n",
       "[1298 rows x 1 columns]"
      ]
     },
     "execution_count": 524,
     "metadata": {},
     "output_type": "execute_result"
    }
   ],
   "source": [
    "df"
   ]
  },
  {
   "cell_type": "markdown",
   "id": "d32519c1",
   "metadata": {},
   "source": [
    "## On islemler - biraz regexp\n",
    "\n",
    "regexp ile yazi yiginindan tarih, saat, gonderen ve mesaj alanlarini ayirabiliriz."
   ]
  },
  {
   "cell_type": "code",
   "execution_count": null,
   "id": "7d141787",
   "metadata": {},
   "outputs": [],
   "source": [
    "import re"
   ]
  },
  {
   "cell_type": "code",
   "execution_count": null,
   "id": "644be55d",
   "metadata": {},
   "outputs": [],
   "source": [
    "yazi = \"22-06-2021 tarihinde yaptiginiz basvurunun...\""
   ]
  },
  {
   "cell_type": "code",
   "execution_count": null,
   "id": "9ab30248",
   "metadata": {},
   "outputs": [
    {
     "data": {
      "text/plain": [
       "['22-06-2021']"
      ]
     },
     "execution_count": 585,
     "metadata": {},
     "output_type": "execute_result"
    }
   ],
   "source": [
    "re.findall('\\d+-\\d+-\\d+', yazi)"
   ]
  },
  {
   "cell_type": "code",
   "execution_count": null,
   "id": "272d2be6",
   "metadata": {},
   "outputs": [
    {
     "data": {
      "text/plain": [
       "'-- tarihinde yaptiginiz basvurunun...'"
      ]
     },
     "execution_count": 591,
     "metadata": {},
     "output_type": "execute_result"
    }
   ],
   "source": [
    "re.sub('[0-9]', '', yazi)"
   ]
  },
  {
   "cell_type": "code",
   "execution_count": null,
   "id": "d5a31fb0",
   "metadata": {},
   "outputs": [
    {
     "data": {
      "text/plain": [
       "'22-06-2021   ...'"
      ]
     },
     "execution_count": 592,
     "metadata": {},
     "output_type": "execute_result"
    }
   ],
   "source": [
    "re.sub('[a-z]', '', yazi)"
   ]
  },
  {
   "cell_type": "code",
   "execution_count": null,
   "id": "fe5931e4",
   "metadata": {},
   "outputs": [],
   "source": [
    "yazi = 'yollarda bulurum seni takvimlerden calarim seni dans ederim hayalinle'"
   ]
  },
  {
   "cell_type": "code",
   "execution_count": null,
   "id": "0a956438",
   "metadata": {},
   "outputs": [
    {
     "data": {
      "text/plain": [
       "[' bulurum ', ' calarim ', ' ederim ']"
      ]
     },
     "execution_count": 583,
     "metadata": {},
     "output_type": "execute_result"
    }
   ],
   "source": [
    "re.findall('\\s\\w+[urum|arim|erim]\\s', yazi)"
   ]
  },
  {
   "cell_type": "markdown",
   "id": "7c950d81",
   "metadata": {},
   "source": [
    "Regex ile ilgili patern tanimlamalarini bulabileceginiz bir web sayfasi: https://docs.rackspace.com/support/how-to/regex-cheat-sheet-basics/\n",
    "\n",
    "Bunun gibi pek cok \"cheat sheet\"'e cevrimici olarak erismek mumkundur."
   ]
  },
  {
   "cell_type": "code",
   "execution_count": null,
   "id": "0f2e449b",
   "metadata": {},
   "outputs": [],
   "source": [
    "a = df[0].str"
   ]
  },
  {
   "cell_type": "markdown",
   "id": "f4ecbad2",
   "metadata": {},
   "source": [
    "Mesaj zamaninin bulunmasi:"
   ]
  },
  {
   "cell_type": "code",
   "execution_count": null,
   "id": "2273c277",
   "metadata": {},
   "outputs": [],
   "source": [
    "datetime = a.findall(\"\\[(\\d+/\\d+/\\d+,\\s\\d+:\\d+:\\d+\\s[AM|PM].*)\\]\").str[0]"
   ]
  },
  {
   "cell_type": "code",
   "execution_count": null,
   "id": "9faf57fb",
   "metadata": {},
   "outputs": [],
   "source": [
    "date = pd.to_datetime(datetime.str.split(',').str[0])"
   ]
  },
  {
   "cell_type": "markdown",
   "id": "1d00a25c",
   "metadata": {},
   "source": [
    "Gonderenin bulunmasi:"
   ]
  },
  {
   "cell_type": "code",
   "execution_count": null,
   "id": "05228815",
   "metadata": {},
   "outputs": [],
   "source": [
    "sender = a.findall(\"\\[\\d+/\\d+/\\d+,\\s\\d+:\\d+:\\d+\\s[AM|PM].*\\](.*): \").str[0].str.strip()"
   ]
  },
  {
   "cell_type": "markdown",
   "id": "6debc707",
   "metadata": {},
   "source": [
    "Mesajin bulunmasi:"
   ]
  },
  {
   "cell_type": "code",
   "execution_count": 3,
   "id": "d508f707",
   "metadata": {},
   "outputs": [
    {
     "ename": "NameError",
     "evalue": "name 'a' is not defined",
     "output_type": "error",
     "traceback": [
      "\u001b[1;31m---------------------------------------------------------------------------\u001b[0m",
      "\u001b[1;31mNameError\u001b[0m                                 Traceback (most recent call last)",
      "\u001b[1;32m~\\AppData\\Local\\Temp/ipykernel_66700/2153490441.py\u001b[0m in \u001b[0;36m<module>\u001b[1;34m\u001b[0m\n\u001b[1;32m----> 1\u001b[1;33m \u001b[0mmessage\u001b[0m \u001b[1;33m=\u001b[0m \u001b[0ma\u001b[0m\u001b[1;33m.\u001b[0m\u001b[0mfindall\u001b[0m\u001b[1;33m(\u001b[0m\u001b[1;34m\"\\[\\d+/\\d+/\\d+,\\s\\d+:\\d+:\\d+\\s[AM|PM].*\\].*: (.*)\"\u001b[0m\u001b[1;33m)\u001b[0m\u001b[1;33m.\u001b[0m\u001b[0mstr\u001b[0m\u001b[1;33m[\u001b[0m\u001b[1;36m0\u001b[0m\u001b[1;33m]\u001b[0m\u001b[1;33m\u001b[0m\u001b[1;33m\u001b[0m\u001b[0m\n\u001b[0m",
      "\u001b[1;31mNameError\u001b[0m: name 'a' is not defined"
     ]
    }
   ],
   "source": [
    "message = a.findall(\"\\[\\d+/\\d+/\\d+,\\s\\d+:\\d+:\\d+\\s[AM|PM].*\\].*: (.*)\").str[0]"
   ]
  },
  {
   "cell_type": "markdown",
   "id": "46664f4f",
   "metadata": {},
   "source": [
    "Dataframe olusturma"
   ]
  },
  {
   "cell_type": "code",
   "execution_count": 4,
   "id": "85129f42",
   "metadata": {},
   "outputs": [
    {
     "ename": "NameError",
     "evalue": "name 'date' is not defined",
     "output_type": "error",
     "traceback": [
      "\u001b[1;31m---------------------------------------------------------------------------\u001b[0m",
      "\u001b[1;31mNameError\u001b[0m                                 Traceback (most recent call last)",
      "\u001b[1;32m~\\AppData\\Local\\Temp/ipykernel_66700/3844495213.py\u001b[0m in \u001b[0;36m<module>\u001b[1;34m\u001b[0m\n\u001b[1;32m----> 1\u001b[1;33m \u001b[0mdata\u001b[0m \u001b[1;33m=\u001b[0m \u001b[0mpd\u001b[0m\u001b[1;33m.\u001b[0m\u001b[0mDataFrame\u001b[0m\u001b[1;33m(\u001b[0m\u001b[1;33m{\u001b[0m\u001b[1;34m'date'\u001b[0m\u001b[1;33m:\u001b[0m \u001b[0mdate\u001b[0m\u001b[1;33m,\u001b[0m \u001b[1;34m'sender'\u001b[0m\u001b[1;33m:\u001b[0m \u001b[0msender\u001b[0m\u001b[1;33m,\u001b[0m \u001b[1;34m'message'\u001b[0m\u001b[1;33m:\u001b[0m \u001b[0mmessage\u001b[0m\u001b[1;33m}\u001b[0m\u001b[1;33m)\u001b[0m\u001b[1;33m\u001b[0m\u001b[1;33m\u001b[0m\u001b[0m\n\u001b[0m\u001b[0;32m      2\u001b[0m \u001b[0mdata\u001b[0m\u001b[1;33m[\u001b[0m\u001b[1;34m'y'\u001b[0m\u001b[1;33m]\u001b[0m \u001b[1;33m=\u001b[0m \u001b[1;33m(\u001b[0m\u001b[0mdata\u001b[0m\u001b[1;33m[\u001b[0m\u001b[1;34m'sender'\u001b[0m\u001b[1;33m]\u001b[0m \u001b[1;33m==\u001b[0m \u001b[1;34m'Ersan Yagci'\u001b[0m\u001b[1;33m)\u001b[0m\u001b[1;33m.\u001b[0m\u001b[0mastype\u001b[0m\u001b[1;33m(\u001b[0m\u001b[0mint\u001b[0m\u001b[1;33m)\u001b[0m\u001b[1;33m\u001b[0m\u001b[1;33m\u001b[0m\u001b[0m\n\u001b[0;32m      3\u001b[0m \u001b[0mdata\u001b[0m\u001b[1;33m[\u001b[0m\u001b[1;34m'apo'\u001b[0m\u001b[1;33m]\u001b[0m \u001b[1;33m=\u001b[0m \u001b[1;33m(\u001b[0m\u001b[0mdata\u001b[0m\u001b[1;33m[\u001b[0m\u001b[1;34m'sender'\u001b[0m\u001b[1;33m]\u001b[0m \u001b[1;33m==\u001b[0m \u001b[1;34m'Abdullah Atçılı'\u001b[0m\u001b[1;33m)\u001b[0m\u001b[1;33m.\u001b[0m\u001b[0mastype\u001b[0m\u001b[1;33m(\u001b[0m\u001b[0mint\u001b[0m\u001b[1;33m)\u001b[0m\u001b[1;33m\u001b[0m\u001b[1;33m\u001b[0m\u001b[0m\n\u001b[0;32m      4\u001b[0m \u001b[0mdata\u001b[0m \u001b[1;33m=\u001b[0m \u001b[0mdata\u001b[0m\u001b[1;33m.\u001b[0m\u001b[0mdropna\u001b[0m\u001b[1;33m(\u001b[0m\u001b[0mhow\u001b[0m\u001b[1;33m=\u001b[0m\u001b[1;34m'any'\u001b[0m\u001b[1;33m)\u001b[0m\u001b[1;33m\u001b[0m\u001b[1;33m\u001b[0m\u001b[0m\n",
      "\u001b[1;31mNameError\u001b[0m: name 'date' is not defined"
     ]
    }
   ],
   "source": [
    "data = pd.DataFrame({'date': date, 'sender': sender, 'message': message})\n",
    "data['y'] = (data['sender'] == 'Ersan Yagci').astype(int)\n",
    "data['apo'] = (data['sender'] == 'Abdullah Atçılı').astype(int)\n",
    "data = data.dropna(how='any')"
   ]
  },
  {
   "cell_type": "markdown",
   "id": "73c2587d",
   "metadata": {},
   "source": [
    "Gurultuyu engellemek icin, bugune kadar 5'den fazla mesaj atmis kisileri bulup yalnizca bu kisilerin mesajlarini koruyalim:"
   ]
  },
  {
   "cell_type": "code",
   "execution_count": 531,
   "id": "8d2676d0",
   "metadata": {},
   "outputs": [],
   "source": [
    "kisiler = sender.value_counts().loc[lambda x: x>=5].index"
   ]
  },
  {
   "cell_type": "code",
   "execution_count": 532,
   "id": "e5a74e0d",
   "metadata": {},
   "outputs": [],
   "source": [
    "data = data.loc[data['sender'].isin(kisiler)]"
   ]
  },
  {
   "cell_type": "code",
   "execution_count": 533,
   "id": "b7ca2a2a",
   "metadata": {},
   "outputs": [
    {
     "data": {
      "text/html": [
       "<div>\n",
       "<style scoped>\n",
       "    .dataframe tbody tr th:only-of-type {\n",
       "        vertical-align: middle;\n",
       "    }\n",
       "\n",
       "    .dataframe tbody tr th {\n",
       "        vertical-align: top;\n",
       "    }\n",
       "\n",
       "    .dataframe thead th {\n",
       "        text-align: right;\n",
       "    }\n",
       "</style>\n",
       "<table border=\"1\" class=\"dataframe\">\n",
       "  <thead>\n",
       "    <tr style=\"text-align: right;\">\n",
       "      <th></th>\n",
       "      <th>date</th>\n",
       "      <th>sender</th>\n",
       "      <th>message</th>\n",
       "      <th>y</th>\n",
       "      <th>apo</th>\n",
       "    </tr>\n",
       "  </thead>\n",
       "  <tbody>\n",
       "    <tr>\n",
       "      <th>3</th>\n",
       "      <td>2021-11-13</td>\n",
       "      <td>Ersan Yagci</td>\n",
       "      <td>Abiler selamlar</td>\n",
       "      <td>1</td>\n",
       "      <td>0</td>\n",
       "    </tr>\n",
       "    <tr>\n",
       "      <th>4</th>\n",
       "      <td>2021-11-13</td>\n",
       "      <td>Ersan Yagci</td>\n",
       "      <td>Haftaya cumartesi itibariyle machine learninge...</td>\n",
       "      <td>1</td>\n",
       "      <td>0</td>\n",
       "    </tr>\n",
       "    <tr>\n",
       "      <th>5</th>\n",
       "      <td>2021-11-13</td>\n",
       "      <td>Ersan Yagci</td>\n",
       "      <td>Cumartesi akşam 10da üstat Şükrü ilk dersi ver...</td>\n",
       "      <td>1</td>\n",
       "      <td>0</td>\n",
       "    </tr>\n",
       "    <tr>\n",
       "      <th>6</th>\n",
       "      <td>2021-11-13</td>\n",
       "      <td>Ersan Yagci</td>\n",
       "      <td>Biraz vites artırıcaz hem kod hem teori birlik...</td>\n",
       "      <td>1</td>\n",
       "      <td>0</td>\n",
       "    </tr>\n",
       "    <tr>\n",
       "      <th>7</th>\n",
       "      <td>2021-11-13</td>\n",
       "      <td>Ersan Yagci</td>\n",
       "      <td>Şu ana kadar olan kısmı kaçırmış olanlar bende...</td>\n",
       "      <td>1</td>\n",
       "      <td>0</td>\n",
       "    </tr>\n",
       "    <tr>\n",
       "      <th>...</th>\n",
       "      <td>...</td>\n",
       "      <td>...</td>\n",
       "      <td>...</td>\n",
       "      <td>...</td>\n",
       "      <td>...</td>\n",
       "    </tr>\n",
       "    <tr>\n",
       "      <th>1296</th>\n",
       "      <td>2022-01-01</td>\n",
       "      <td>Ahmet Umit Çalışkan</td>\n",
       "      <td>Imblearn_churn_modelling.ipynb ‎document omitted</td>\n",
       "      <td>0</td>\n",
       "      <td>0</td>\n",
       "    </tr>\n",
       "    <tr>\n",
       "      <th>1297</th>\n",
       "      <td>2022-01-01</td>\n",
       "      <td>Ahmet Umit Çalışkan</td>\n",
       "      <td>Churn_Modelling.csv ‎document omitted</td>\n",
       "      <td>0</td>\n",
       "      <td>0</td>\n",
       "    </tr>\n",
       "    <tr>\n",
       "      <th>1298</th>\n",
       "      <td>2022-01-01</td>\n",
       "      <td>Ahmet Umit Çalışkan</td>\n",
       "      <td>gridleri markdown yaptım. siz azaltıp kullanın...</td>\n",
       "      <td>0</td>\n",
       "      <td>0</td>\n",
       "    </tr>\n",
       "    <tr>\n",
       "      <th>1299</th>\n",
       "      <td>2022-01-01</td>\n",
       "      <td>Sinan Yilmaz</td>\n",
       "      <td>Teşekkürler kanka</td>\n",
       "      <td>0</td>\n",
       "      <td>0</td>\n",
       "    </tr>\n",
       "    <tr>\n",
       "      <th>1300</th>\n",
       "      <td>2022-01-01</td>\n",
       "      <td>Ahmet Umit Çalışkan</td>\n",
       "      <td>👍</td>\n",
       "      <td>0</td>\n",
       "      <td>0</td>\n",
       "    </tr>\n",
       "  </tbody>\n",
       "</table>\n",
       "<p>1184 rows × 5 columns</p>\n",
       "</div>"
      ],
      "text/plain": [
       "           date               sender  \\\n",
       "3    2021-11-13          Ersan Yagci   \n",
       "4    2021-11-13          Ersan Yagci   \n",
       "5    2021-11-13          Ersan Yagci   \n",
       "6    2021-11-13          Ersan Yagci   \n",
       "7    2021-11-13          Ersan Yagci   \n",
       "...         ...                  ...   \n",
       "1296 2022-01-01  Ahmet Umit Çalışkan   \n",
       "1297 2022-01-01  Ahmet Umit Çalışkan   \n",
       "1298 2022-01-01  Ahmet Umit Çalışkan   \n",
       "1299 2022-01-01         Sinan Yilmaz   \n",
       "1300 2022-01-01  Ahmet Umit Çalışkan   \n",
       "\n",
       "                                                message  y  apo  \n",
       "3                                       Abiler selamlar  1    0  \n",
       "4     Haftaya cumartesi itibariyle machine learninge...  1    0  \n",
       "5     Cumartesi akşam 10da üstat Şükrü ilk dersi ver...  1    0  \n",
       "6     Biraz vites artırıcaz hem kod hem teori birlik...  1    0  \n",
       "7     Şu ana kadar olan kısmı kaçırmış olanlar bende...  1    0  \n",
       "...                                                 ... ..  ...  \n",
       "1296   Imblearn_churn_modelling.ipynb ‎document omitted  0    0  \n",
       "1297              Churn_Modelling.csv ‎document omitted  0    0  \n",
       "1298  gridleri markdown yaptım. siz azaltıp kullanın...  0    0  \n",
       "1299                                  Teşekkürler kanka  0    0  \n",
       "1300                                                  👍  0    0  \n",
       "\n",
       "[1184 rows x 5 columns]"
      ]
     },
     "execution_count": 533,
     "metadata": {},
     "output_type": "execute_result"
    }
   ],
   "source": [
    "data"
   ]
  },
  {
   "cell_type": "markdown",
   "id": "708e806a",
   "metadata": {},
   "source": [
    "### Pipeline\n",
    "\n",
    "En az kodla en duzenli ve tekrarlanabilir deneyleri gerceklestirmek ve yapilanlarin organize kalmasini saglamak adina `sklearn`un pipeline ozelligi kullanilabilir."
   ]
  },
  {
   "cell_type": "markdown",
   "id": "fdc485f0",
   "metadata": {},
   "source": [
    "**Simdiye kadar ne yapiyorduk?**"
   ]
  },
  {
   "cell_type": "code",
   "execution_count": 534,
   "id": "0a0b12cf",
   "metadata": {},
   "outputs": [],
   "source": [
    "from sklearn import feature_extraction, svm, metrics, pipeline, preprocessing, model_selection, linear_model, neighbors"
   ]
  },
  {
   "cell_type": "code",
   "execution_count": 593,
   "id": "fdfbfafb",
   "metadata": {},
   "outputs": [
    {
     "data": {
      "text/plain": [
       "0.919831223628692"
      ]
     },
     "execution_count": 593,
     "metadata": {},
     "output_type": "execute_result"
    }
   ],
   "source": [
    "X_train, X_test, y_train, y_test = model_selection.train_test_split(data['message'], data['y'], test_size=0.2,random_state=42, stratify=data['y'])\n",
    "\n",
    "vectorizer = feature_extraction.text.CountVectorizer()\n",
    "scaler = preprocessing.MaxAbsScaler()\n",
    "\n",
    "f_train = vectorizer.fit_transform(X_train)\n",
    "f_train_scaled = scaler.fit_transform(f_train)\n",
    "\n",
    "model = svm.LinearSVC()\n",
    "\n",
    "model.fit(f_train_scaled, y_train)\n",
    "\n",
    "model.score(scaler.transform(vectorizer.transform(X_test)), y_test)  # anasinin gozu"
   ]
  },
  {
   "cell_type": "markdown",
   "id": "4313258e",
   "metadata": {},
   "source": [
    "**Daha sade bir ifade kullanabilir miydik: evet.**\n",
    "\n",
    "```python\n",
    "Pipeline(\n",
    "    [\n",
    "    ('adim1', donusturucu1),\n",
    "    ('adim2', donusturucu2),\n",
    "    ('adim3', donusturucu3),\n",
    "    ...,\n",
    "    ('tahminci', model)\n",
    "       \n",
    "    ]\n",
    ")\n",
    "\n",
    "```"
   ]
  },
  {
   "cell_type": "code",
   "execution_count": null,
   "id": "0ebd182e",
   "metadata": {},
   "outputs": [],
   "source": []
  },
  {
   "cell_type": "code",
   "execution_count": 594,
   "id": "fb111737",
   "metadata": {},
   "outputs": [],
   "source": [
    "boru = pipeline.Pipeline(\n",
    "    [\n",
    "        ('vektorcu', feature_extraction.text.CountVectorizer()),\n",
    "        ('olcekci', preprocessing.MaxAbsScaler()),\n",
    "        ('tahminci', svm.LinearSVC())\n",
    "    ]\n",
    ")"
   ]
  },
  {
   "cell_type": "code",
   "execution_count": 595,
   "id": "13333f07",
   "metadata": {},
   "outputs": [
    {
     "data": {
      "text/plain": [
       "Pipeline(steps=[('vektorcu', CountVectorizer()), ('olcekci', MaxAbsScaler()),\n",
       "                ('tahminci', LinearSVC())])"
      ]
     },
     "execution_count": 595,
     "metadata": {},
     "output_type": "execute_result"
    }
   ],
   "source": [
    "boru.fit(X_train, y_train)  # donusumleri acikca yazmiyoruz. ham veriyi pas etmek yeterli"
   ]
  },
  {
   "cell_type": "code",
   "execution_count": 596,
   "id": "44df359d",
   "metadata": {},
   "outputs": [
    {
     "data": {
      "text/plain": [
       "0.919831223628692"
      ]
     },
     "execution_count": 596,
     "metadata": {},
     "output_type": "execute_result"
    }
   ],
   "source": [
    "boru.score(X_test, y_test)"
   ]
  },
  {
   "cell_type": "markdown",
   "id": "e7c7a3ac",
   "metadata": {},
   "source": [
    "Adimlari incelemek istersek:"
   ]
  },
  {
   "cell_type": "markdown",
   "id": "8c8c5a71",
   "metadata": {},
   "source": [
    "- Kac kelime cikarmisiz?"
   ]
  },
  {
   "cell_type": "code",
   "execution_count": 597,
   "id": "6b31daab",
   "metadata": {},
   "outputs": [
    {
     "data": {
      "text/plain": [
       "2282"
      ]
     },
     "execution_count": 597,
     "metadata": {},
     "output_type": "execute_result"
    }
   ],
   "source": [
    "len(boru.named_steps['vektorcu'].vocabulary_)"
   ]
  },
  {
   "cell_type": "markdown",
   "id": "36e4da24",
   "metadata": {},
   "source": [
    "- Buldugumnuz katsayilar neymis?"
   ]
  },
  {
   "cell_type": "code",
   "execution_count": 598,
   "id": "eaffdb5f",
   "metadata": {},
   "outputs": [
    {
     "data": {
      "text/plain": [
       "array([[-0.05336839, -0.02975786, -0.01665834, ..., -0.00135876,\n",
       "         0.05691445, -0.05395648]])"
      ]
     },
     "execution_count": 598,
     "metadata": {},
     "output_type": "execute_result"
    }
   ],
   "source": [
    "boru.named_steps['tahminci'].coef_"
   ]
  },
  {
   "cell_type": "markdown",
   "id": "702a6f9b",
   "metadata": {},
   "source": [
    "## Pipeline, capraz dogrulama ile kullanilabilir mi?\n",
    "Kesinlikle evet. Herhangi bir modelmiscesine kullabilabilir."
   ]
  },
  {
   "cell_type": "code",
   "execution_count": 599,
   "id": "d3c11117",
   "metadata": {},
   "outputs": [],
   "source": [
    "cv_sonucu = \\\n",
    "    model_selection.cross_validate(\n",
    "        boru, data['message'], data['y'],\n",
    "        cv=model_selection.StratifiedShuffleSplit(n_splits=30),\n",
    "        return_train_score=True\n",
    "        )"
   ]
  },
  {
   "cell_type": "code",
   "execution_count": 600,
   "id": "9e11c652",
   "metadata": {},
   "outputs": [
    {
     "data": {
      "text/html": [
       "<div>\n",
       "<style scoped>\n",
       "    .dataframe tbody tr th:only-of-type {\n",
       "        vertical-align: middle;\n",
       "    }\n",
       "\n",
       "    .dataframe tbody tr th {\n",
       "        vertical-align: top;\n",
       "    }\n",
       "\n",
       "    .dataframe thead th {\n",
       "        text-align: right;\n",
       "    }\n",
       "</style>\n",
       "<table border=\"1\" class=\"dataframe\">\n",
       "  <thead>\n",
       "    <tr style=\"text-align: right;\">\n",
       "      <th></th>\n",
       "      <th>fit_time</th>\n",
       "      <th>score_time</th>\n",
       "      <th>test_score</th>\n",
       "      <th>train_score</th>\n",
       "    </tr>\n",
       "  </thead>\n",
       "  <tbody>\n",
       "    <tr>\n",
       "      <th>mean</th>\n",
       "      <td>0.020797</td>\n",
       "      <td>0.001934</td>\n",
       "      <td>0.910924</td>\n",
       "      <td>0.994178</td>\n",
       "    </tr>\n",
       "    <tr>\n",
       "      <th>std</th>\n",
       "      <td>0.009444</td>\n",
       "      <td>0.000785</td>\n",
       "      <td>0.021236</td>\n",
       "      <td>0.000968</td>\n",
       "    </tr>\n",
       "  </tbody>\n",
       "</table>\n",
       "</div>"
      ],
      "text/plain": [
       "      fit_time  score_time  test_score  train_score\n",
       "mean  0.020797    0.001934    0.910924     0.994178\n",
       "std   0.009444    0.000785    0.021236     0.000968"
      ]
     },
     "execution_count": 600,
     "metadata": {},
     "output_type": "execute_result"
    }
   ],
   "source": [
    "pd.DataFrame(cv_sonucu).agg(['mean', 'std'])"
   ]
  },
  {
   "cell_type": "markdown",
   "id": "cb5e04ac",
   "metadata": {},
   "source": [
    "Son adimin tum fonksiyonalitesi pipeline ve ham girdi uzerinden kullanilabilir."
   ]
  },
  {
   "cell_type": "code",
   "execution_count": 601,
   "id": "bd19ba4e",
   "metadata": {},
   "outputs": [
    {
     "data": {
      "text/plain": [
       "array([0.17105798])"
      ]
     },
     "execution_count": 601,
     "metadata": {},
     "output_type": "execute_result"
    }
   ],
   "source": [
    "boru.decision_function(['abiler gunaydin'])"
   ]
  },
  {
   "cell_type": "code",
   "execution_count": 602,
   "id": "c1407ea2",
   "metadata": {},
   "outputs": [
    {
     "data": {
      "text/plain": [
       "array([1])"
      ]
     },
     "execution_count": 602,
     "metadata": {},
     "output_type": "execute_result"
    }
   ],
   "source": [
    "boru.predict(['abiler gunaydin'])"
   ]
  },
  {
   "cell_type": "code",
   "execution_count": 611,
   "id": "41e864dc",
   "metadata": {},
   "outputs": [
    {
     "data": {
      "text/plain": [
       "array([0.11815814])"
      ]
     },
     "execution_count": 611,
     "metadata": {},
     "output_type": "execute_result"
    }
   ],
   "source": [
    "boru.decision_function(['abi pandas'])"
   ]
  },
  {
   "cell_type": "code",
   "execution_count": 612,
   "id": "9308d54d",
   "metadata": {},
   "outputs": [
    {
     "data": {
      "text/plain": [
       "array([-1.21305397])"
      ]
     },
     "execution_count": 612,
     "metadata": {},
     "output_type": "execute_result"
    }
   ],
   "source": [
    "boru.decision_function(['selam kanki'])"
   ]
  },
  {
   "cell_type": "code",
   "execution_count": 613,
   "id": "a8a4d27b",
   "metadata": {},
   "outputs": [
    {
     "data": {
      "text/plain": [
       "array([-0.61513888])"
      ]
     },
     "execution_count": 613,
     "metadata": {},
     "output_type": "execute_result"
    }
   ],
   "source": [
    "boru.decision_function(['beyler yavas gidiyoruz'])"
   ]
  },
  {
   "cell_type": "markdown",
   "id": "dd4bddf1",
   "metadata": {},
   "source": [
    "## Sizin siraniz\n",
    "\n",
    "- Ersan'in attigi mesajlari tespit edebilecek bir pipeline olusturabilir misiniz?\n",
    "    - En az 3 farkli alternatif pipeline deneyip sonuclarinizi gosteriniz.\n",
    "- Basari kistasi olarak hangi olcumleri kullanacaksiniz?\n",
    "- Tek bir train-test cifti mi kullanacaksiniz yoksa modelinizi test etmek icin farkli dogrulama fikirleriniz var mi?\n",
    "- Modelinizin parametrelerinin ne ise yaradigini kisaca tanimlar misiniz?\n",
    "    - Bu problem icin en iyi calisan parametreler nelerdi? Nasil sectiniz?\n"
   ]
  },
  {
   "cell_type": "code",
   "execution_count": 571,
   "id": "dd657bad",
   "metadata": {},
   "outputs": [
    {
     "data": {
      "text/html": [
       "<div>\n",
       "<style scoped>\n",
       "    .dataframe tbody tr th:only-of-type {\n",
       "        vertical-align: middle;\n",
       "    }\n",
       "\n",
       "    .dataframe tbody tr th {\n",
       "        vertical-align: top;\n",
       "    }\n",
       "\n",
       "    .dataframe thead th {\n",
       "        text-align: right;\n",
       "    }\n",
       "</style>\n",
       "<table border=\"1\" class=\"dataframe\">\n",
       "  <thead>\n",
       "    <tr style=\"text-align: right;\">\n",
       "      <th></th>\n",
       "      <th>date</th>\n",
       "      <th>sender</th>\n",
       "      <th>message</th>\n",
       "      <th>y</th>\n",
       "      <th>apo</th>\n",
       "    </tr>\n",
       "  </thead>\n",
       "  <tbody>\n",
       "    <tr>\n",
       "      <th>3</th>\n",
       "      <td>2021-11-13</td>\n",
       "      <td>Ersan Yagci</td>\n",
       "      <td>Abiler selamlar</td>\n",
       "      <td>1</td>\n",
       "      <td>0</td>\n",
       "    </tr>\n",
       "    <tr>\n",
       "      <th>4</th>\n",
       "      <td>2021-11-13</td>\n",
       "      <td>Ersan Yagci</td>\n",
       "      <td>Haftaya cumartesi itibariyle machine learninge...</td>\n",
       "      <td>1</td>\n",
       "      <td>0</td>\n",
       "    </tr>\n",
       "    <tr>\n",
       "      <th>5</th>\n",
       "      <td>2021-11-13</td>\n",
       "      <td>Ersan Yagci</td>\n",
       "      <td>Cumartesi akşam 10da üstat Şükrü ilk dersi ver...</td>\n",
       "      <td>1</td>\n",
       "      <td>0</td>\n",
       "    </tr>\n",
       "    <tr>\n",
       "      <th>6</th>\n",
       "      <td>2021-11-13</td>\n",
       "      <td>Ersan Yagci</td>\n",
       "      <td>Biraz vites artırıcaz hem kod hem teori birlik...</td>\n",
       "      <td>1</td>\n",
       "      <td>0</td>\n",
       "    </tr>\n",
       "    <tr>\n",
       "      <th>7</th>\n",
       "      <td>2021-11-13</td>\n",
       "      <td>Ersan Yagci</td>\n",
       "      <td>Şu ana kadar olan kısmı kaçırmış olanlar bende...</td>\n",
       "      <td>1</td>\n",
       "      <td>0</td>\n",
       "    </tr>\n",
       "    <tr>\n",
       "      <th>8</th>\n",
       "      <td>2021-11-13</td>\n",
       "      <td>Ersan Yagci</td>\n",
       "      <td>Salı ve perşembe akşam 10da buluşalım bu hafta...</td>\n",
       "      <td>1</td>\n",
       "      <td>0</td>\n",
       "    </tr>\n",
       "    <tr>\n",
       "      <th>9</th>\n",
       "      <td>2021-11-13</td>\n",
       "      <td>‪Engin‬</td>\n",
       "      <td>Özür diliyorum sizden bayağı geride kaldım</td>\n",
       "      <td>0</td>\n",
       "      <td>0</td>\n",
       "    </tr>\n",
       "    <tr>\n",
       "      <th>10</th>\n",
       "      <td>2021-11-13</td>\n",
       "      <td>Ersan Yagci</td>\n",
       "      <td>Ne özürü abi, başla ama Engin bu parta.</td>\n",
       "      <td>1</td>\n",
       "      <td>0</td>\n",
       "    </tr>\n",
       "    <tr>\n",
       "      <th>11</th>\n",
       "      <td>2021-11-13</td>\n",
       "      <td>‪Engin‬</td>\n",
       "      <td>Ama pandas ve sonrası kısımlar bayağı eksik bende</td>\n",
       "      <td>0</td>\n",
       "      <td>0</td>\n",
       "    </tr>\n",
       "    <tr>\n",
       "      <th>12</th>\n",
       "      <td>2021-11-14</td>\n",
       "      <td>Yusuf Can</td>\n",
       "      <td>https://signup.watchful.io/hand-labeling-is-ha...</td>\n",
       "      <td>0</td>\n",
       "      <td>0</td>\n",
       "    </tr>\n",
       "  </tbody>\n",
       "</table>\n",
       "</div>"
      ],
      "text/plain": [
       "         date       sender                                            message  \\\n",
       "3  2021-11-13  Ersan Yagci                                    Abiler selamlar   \n",
       "4  2021-11-13  Ersan Yagci  Haftaya cumartesi itibariyle machine learninge...   \n",
       "5  2021-11-13  Ersan Yagci  Cumartesi akşam 10da üstat Şükrü ilk dersi ver...   \n",
       "6  2021-11-13  Ersan Yagci  Biraz vites artırıcaz hem kod hem teori birlik...   \n",
       "7  2021-11-13  Ersan Yagci  Şu ana kadar olan kısmı kaçırmış olanlar bende...   \n",
       "8  2021-11-13  Ersan Yagci  Salı ve perşembe akşam 10da buluşalım bu hafta...   \n",
       "9  2021-11-13      ‪Engin‬         Özür diliyorum sizden bayağı geride kaldım   \n",
       "10 2021-11-13  Ersan Yagci            Ne özürü abi, başla ama Engin bu parta.   \n",
       "11 2021-11-13      ‪Engin‬  Ama pandas ve sonrası kısımlar bayağı eksik bende   \n",
       "12 2021-11-14    Yusuf Can  https://signup.watchful.io/hand-labeling-is-ha...   \n",
       "\n",
       "    y  apo  \n",
       "3   1    0  \n",
       "4   1    0  \n",
       "5   1    0  \n",
       "6   1    0  \n",
       "7   1    0  \n",
       "8   1    0  \n",
       "9   0    0  \n",
       "10  1    0  \n",
       "11  0    0  \n",
       "12  0    0  "
      ]
     },
     "execution_count": 571,
     "metadata": {},
     "output_type": "execute_result"
    }
   ],
   "source": [
    "data.head(10)"
   ]
  },
  {
   "cell_type": "code",
   "execution_count": 572,
   "id": "4a036dfa",
   "metadata": {},
   "outputs": [],
   "source": [
    "# buradan devam ediniz"
   ]
  },
  {
   "cell_type": "code",
   "execution_count": null,
   "id": "f73d913a",
   "metadata": {},
   "outputs": [],
   "source": []
  }
 ],
 "metadata": {
  "kernelspec": {
   "display_name": "Python 3.8.12 ('cons1')",
   "language": "python",
   "name": "python3"
  },
  "language_info": {
   "codemirror_mode": {
    "name": "ipython",
    "version": 3
   },
   "file_extension": ".py",
   "mimetype": "text/x-python",
   "name": "python",
   "nbconvert_exporter": "python",
   "pygments_lexer": "ipython3",
   "version": "3.8.12"
  },
  "vscode": {
   "interpreter": {
    "hash": "a571a25d3379e9645cc932b401c674531bbcf658e9b176b05ab9004deb2f65c4"
   }
  }
 },
 "nbformat": 4,
 "nbformat_minor": 5
}
