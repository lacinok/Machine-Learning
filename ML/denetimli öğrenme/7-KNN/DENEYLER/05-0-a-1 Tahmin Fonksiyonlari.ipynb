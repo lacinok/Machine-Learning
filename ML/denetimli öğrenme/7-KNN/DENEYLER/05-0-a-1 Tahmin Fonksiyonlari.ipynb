{
 "cells": [
  {
   "cell_type": "markdown",
   "metadata": {},
   "source": [
    "# Farkli Tahmin Stratejileri"
   ]
  },
  {
   "cell_type": "code",
   "execution_count": 1,
   "metadata": {},
   "outputs": [],
   "source": [
    "from sklearn import neighbors\n",
    "import numpy as np\n",
    "import matplotlib.pyplot as plt"
   ]
  },
  {
   "cell_type": "code",
   "execution_count": 2,
   "metadata": {},
   "outputs": [],
   "source": [
    "np.random.seed(24)\n",
    "X = np.random.randn(100, 1)\n",
    "y = (X**2 + np.random.randn(100, 1) * 0.5).ravel()\n"
   ]
  },
  {
   "cell_type": "code",
   "execution_count": 3,
   "metadata": {},
   "outputs": [
    {
     "data": {
      "image/png": "[encoded data removed]",
      "text/plain": [
       "<Figure size 432x288 with 1 Axes>"
      ]
     },
     "metadata": {
      "needs_background": "light"
     },
     "output_type": "display_data"
    }
   ],
   "source": [
    "plt.scatter(X, y);\n",
    "plt.xlabel('X');\n",
    "plt.ylabel('Y');"
   ]
  },
  {
   "cell_type": "markdown",
   "metadata": {},
   "source": [
    "Yukaridaki sentetik datasete basit bir kNN modeli uyduralim."
   ]
  },
  {
   "cell_type": "code",
   "execution_count": 4,
   "metadata": {},
   "outputs": [
    {
     "data": {
      "text/plain": [
       "0.8682276057766055"
      ]
     },
     "execution_count": 4,
     "metadata": {},
     "output_type": "execute_result"
    }
   ],
   "source": [
    "model = neighbors.KNeighborsRegressor(n_neighbors=5)\n",
    "model.fit(X, y)\n",
    "model.score(X, y)"
   ]
  },
  {
   "cell_type": "markdown",
   "metadata": {},
   "source": [
    "Mevcut model, en yakin 5 ornegi bulup bunlarin `y` degerlerinin ortalamasini aliyor. \n"
   ]
  },
  {
   "cell_type": "code",
   "execution_count": 5,
   "metadata": {},
   "outputs": [
    {
     "data": {
      "text/plain": [
       "array([1.96356531, 0.3712772 , 0.4055632 , 1.25671359, 1.22512398])"
      ]
     },
     "execution_count": 5,
     "metadata": {},
     "output_type": "execute_result"
    }
   ],
   "source": [
    "y[model.kneighbors(X[0:5])[1]].mean(axis=1)"
   ]
  },
  {
   "cell_type": "markdown",
   "metadata": {},
   "source": [
    "`predict` metodu ile dogrulayalim:"
   ]
  },
  {
   "cell_type": "code",
   "execution_count": 6,
   "metadata": {},
   "outputs": [
    {
     "data": {
      "text/plain": [
       "array([1.96356531, 0.3712772 , 0.4055632 , 1.25671359, 1.22512398])"
      ]
     },
     "execution_count": 6,
     "metadata": {},
     "output_type": "execute_result"
    }
   ],
   "source": [
    "model.predict(X[0:5])"
   ]
  },
  {
   "cell_type": "markdown",
   "metadata": {},
   "source": [
    "\n",
    "Tahmin fonksiyonunu degistirmemiz mumkun mu?\n",
    "\n",
    "Ortalama yerine baska bir istatistik verebilir miyiz?\n",
    "\n",
    "Bu amacla var olan `KNeighborsRegressor` class'ini kullanabilir miyiz?"
   ]
  },
  {
   "cell_type": "code",
   "execution_count": 10,
   "metadata": {},
   "outputs": [],
   "source": [
    "class OzelKNN(neighbors.KNeighborsRegressor):\n",
    "    pass"
   ]
  },
  {
   "cell_type": "markdown",
   "metadata": {},
   "source": [
    "Hic bir degisiklik yapmadan `neighbors.KNeighborsRegressor` sinifinin bir cocugunu olusturdugumuzda, bu sinifin davranislari tamamen kopyalanacak."
   ]
  },
  {
   "cell_type": "code",
   "execution_count": 11,
   "metadata": {},
   "outputs": [
    {
     "data": {
      "text/plain": [
       "0.8682276057766055"
      ]
     },
     "execution_count": 11,
     "metadata": {},
     "output_type": "execute_result"
    }
   ],
   "source": [
    "o = OzelKNN(5)\n",
    "o.fit(X, y)\n",
    "o.score(X, y)"
   ]
  },
  {
   "cell_type": "code",
   "execution_count": 12,
   "metadata": {},
   "outputs": [
    {
     "data": {
      "text/plain": [
       "array([1.96356531, 0.3712772 , 0.4055632 , 1.25671359, 1.22512398])"
      ]
     },
     "execution_count": 12,
     "metadata": {},
     "output_type": "execute_result"
    }
   ],
   "source": [
    "o.predict(X[0:5])"
   ]
  },
  {
   "cell_type": "markdown",
   "metadata": {},
   "source": [
    "Elde edilen skorun ilk model ile tamamen ayni olduguna dikkat ediniz. Cunku kullanilan class tamamen ayni.\n",
    "\n",
    "- Inheritance kullandik.\n",
    "- Yeni classimiz, `KNeighborsRegressor` sinifinin tum metodlarina ve attribute'lerine sahip.\n",
    "    - Calisma sistemi tamamen ayni."
   ]
  },
  {
   "cell_type": "markdown",
   "metadata": {},
   "source": [
    "### Tahmin fonksiyonunu degistirmek"
   ]
  },
  {
   "cell_type": "markdown",
   "metadata": {},
   "source": [
    "Tahmin fonksiyonunu ortalama yerine medyanla degistirmek istedigimizi varsayalim.\n",
    "\n",
    "`KNeighborsRegressor` sinifinin `.kneighbors()` metodunu kullanarak en yakin komsulari bulabiliriz."
   ]
  },
  {
   "cell_type": "code",
   "execution_count": 13,
   "metadata": {},
   "outputs": [],
   "source": [
    "yeni_ornekler = X[:5]"
   ]
  },
  {
   "cell_type": "code",
   "execution_count": 14,
   "metadata": {},
   "outputs": [],
   "source": [
    "mesafeler, indeksler = model.kneighbors(yeni_ornekler)"
   ]
  },
  {
   "cell_type": "code",
   "execution_count": 15,
   "metadata": {},
   "outputs": [
    {
     "data": {
      "text/plain": [
       "array([[ 0, 85, 22, 40, 99],\n",
       "       [ 1, 60, 88, 78, 38],\n",
       "       [ 2, 54, 73, 30, 49],\n",
       "       [ 3, 87, 92, 65,  4],\n",
       "       [ 4, 65,  3, 68, 87]], dtype=int64)"
      ]
     },
     "execution_count": 15,
     "metadata": {},
     "output_type": "execute_result"
    }
   ],
   "source": [
    "indeksler"
   ]
  },
  {
   "cell_type": "markdown",
   "metadata": {},
   "source": [
    "Elde ettigimiz indeksler, X'de her bir ornege en yakin komsularin indeks numaralari."
   ]
  },
  {
   "cell_type": "markdown",
   "metadata": {},
   "source": [
    "Mevcut KNN modelimiz, bu indekslerdeki y degerlerini cekip ortalamasini aliyor:"
   ]
  },
  {
   "cell_type": "code",
   "execution_count": 16,
   "metadata": {},
   "outputs": [
    {
     "data": {
      "text/plain": [
       "array([[ 1.70254761,  2.30571029,  1.97452525,  2.16473375,  1.67030964],\n",
       "       [ 1.01380474,  0.04950388,  0.61500395,  0.74291802, -0.56484461],\n",
       "       [ 0.65230029,  0.43490498,  0.80547861,  0.43391092, -0.29877881],\n",
       "       [ 1.21529782,  1.12312744,  1.48666437,  1.20924089,  1.24923741],\n",
       "       [ 1.24923741,  1.20924089,  1.21529782,  1.32871633,  1.12312744]])"
      ]
     },
     "execution_count": 16,
     "metadata": {},
     "output_type": "execute_result"
    }
   ],
   "source": [
    "y[indeksler]"
   ]
  },
  {
   "cell_type": "code",
   "execution_count": 17,
   "metadata": {},
   "outputs": [
    {
     "data": {
      "text/plain": [
       "array([1.96356531, 0.3712772 , 0.4055632 , 1.25671359, 1.22512398])"
      ]
     },
     "execution_count": 17,
     "metadata": {},
     "output_type": "execute_result"
    }
   ],
   "source": [
    "y[indeksler].mean(axis=1)"
   ]
  },
  {
   "cell_type": "markdown",
   "metadata": {},
   "source": [
    "Yukaridaki sayilarin, `predict` metodu ile elde edilenlerle ayni olduguna dikkat ediniz:"
   ]
  },
  {
   "cell_type": "code",
   "execution_count": 18,
   "metadata": {},
   "outputs": [
    {
     "data": {
      "text/plain": [
       "array([1.96356531, 0.3712772 , 0.4055632 , 1.25671359, 1.22512398])"
      ]
     },
     "execution_count": 18,
     "metadata": {},
     "output_type": "execute_result"
    }
   ],
   "source": [
    "model.predict(yeni_ornekler)"
   ]
  },
  {
   "cell_type": "markdown",
   "metadata": {},
   "source": [
    "#### `predict` metodunu overload etmek"
   ]
  },
  {
   "cell_type": "markdown",
   "metadata": {},
   "source": [
    "`KNeighborsRegressor` sinifi, mesafe agacini olsuturmak, en yakin komsulari getirmek gibi isimize yarayacak pek cok seyi zaten yapiyor. Tek degistirmemiz gereken, `predict` metodunu overload etmek."
   ]
  },
  {
   "cell_type": "code",
   "execution_count": 19,
   "metadata": {},
   "outputs": [],
   "source": [
    "class MedianKNN(neighbors.KNeighborsRegressor):\n",
    "    def predict(self, X):\n",
    "        mesafeler, indeksler = self.kneighbors(X)\n",
    "        return np.median(self._y[indeksler], axis=1)"
   ]
  },
  {
   "cell_type": "code",
   "execution_count": 20,
   "metadata": {},
   "outputs": [
    {
     "data": {
      "text/plain": [
       "0.8523760261809843"
      ]
     },
     "execution_count": 20,
     "metadata": {},
     "output_type": "execute_result"
    }
   ],
   "source": [
    "medianknn = MedianKNN(5)\n",
    "medianknn.fit(X, y)\n",
    "medianknn.score(X, y)"
   ]
  },
  {
   "cell_type": "code",
   "execution_count": 21,
   "metadata": {},
   "outputs": [
    {
     "data": {
      "text/plain": [
       "array([1.97452525, 0.61500395, 0.43490498, 1.21529782, 1.21529782])"
      ]
     },
     "execution_count": 21,
     "metadata": {},
     "output_type": "execute_result"
    }
   ],
   "source": [
    "medianknn.predict(X[0:5])"
   ]
  },
  {
   "cell_type": "markdown",
   "metadata": {},
   "source": [
    "Yalnizca `predict` metodunu degistirerek, tahmin fonksiyonumuzu ortalamadan medyana degistirebildik."
   ]
  },
  {
   "cell_type": "markdown",
   "metadata": {},
   "source": [
    "## Soru:\n",
    "\n",
    "Lokal olarak agirliklandirilmis lineer regresyon implementasyonunu yapiniz.\n",
    "\n",
    "Bu uygulamada yapmamiz gereken:\n",
    "- Verilen sorgu noktasina en yakin `k` komsuyu bulup bunlar icin bir `LinearRegression` modeli egitmek,\n",
    "- Sadece `k` komsu kullanilarak egitilmis `LinearRegression` modelini kullanarak sorgu noktasi icin tahmin yapmak.\n",
    "\n",
    "\n",
    "Ipuclari:\n",
    "- `KNeighborsRegressor` sinifini kullaniniz.\n",
    "- Verilen bir noktanin en yakin `k` komsusunun indekslerini getirmek icin `.kneighbors()` metodunu kullaniniz.\n",
    "- Modelin fit edildigi orneklere erismek icin:\n",
    "    - Feature'lara erismek icin `._fit_X` attribute'ini kullaniniz.\n",
    "    - Hedef degiskene erismek icin `._y` attribute'ini kullaniniz."
   ]
  },
  {
   "cell_type": "code",
   "execution_count": 53,
   "metadata": {},
   "outputs": [
    {
     "data": {
      "text/plain": [
       "array([[ 1.32921217],\n",
       "       [-0.77003345],\n",
       "       [-0.31628036],\n",
       "       [-0.99081039]])"
      ]
     },
     "execution_count": 53,
     "metadata": {},
     "output_type": "execute_result"
    }
   ],
   "source": [
    "model._fit_X[:4]"
   ]
  },
  {
   "cell_type": "code",
   "execution_count": 54,
   "metadata": {},
   "outputs": [
    {
     "data": {
      "text/plain": [
       "array([1.70254761, 1.01380474, 0.65230029, 1.21529782])"
      ]
     },
     "execution_count": 54,
     "metadata": {},
     "output_type": "execute_result"
    }
   ],
   "source": [
    "model._y[:4]"
   ]
  },
  {
   "cell_type": "code",
   "execution_count": 55,
   "metadata": {},
   "outputs": [],
   "source": [
    "class LocallyWeightedRegressor:\n",
    "    # Kodunuzu buraya yaziniz.\n",
    "    # 1) Dogru class'i \"inherit\" ediniz.\n",
    "    # 2) Dogru metodu \"override\" ediniz.\n",
    "    pass"
   ]
  },
  {
   "cell_type": "markdown",
   "metadata": {},
   "source": []
  }
 ],
 "metadata": {
  "kernelspec": {
   "display_name": "Python 3.8.12 ('cons1')",
   "language": "python",
   "name": "python3"
  },
  "language_info": {
   "codemirror_mode": {
    "name": "ipython",
    "version": 3
   },
   "file_extension": ".py",
   "mimetype": "text/x-python",
   "name": "python",
   "nbconvert_exporter": "python",
   "pygments_lexer": "ipython3",
   "version": "3.8.12"
  },
  "orig_nbformat": 4,
  "vscode": {
   "interpreter": {
    "hash": "a571a25d3379e9645cc932b401c674531bbcf658e9b176b05ab9004deb2f65c4"
   }
  }
 },
 "nbformat": 4,
 "nbformat_minor": 2
}
