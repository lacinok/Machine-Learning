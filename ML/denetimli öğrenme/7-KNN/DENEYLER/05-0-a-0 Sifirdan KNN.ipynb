{
 "cells": [
  {
   "cell_type": "code",
   "execution_count": 62,
   "metadata": {},
   "outputs": [],
   "source": [
    "import numpy as np\n",
    "import matplotlib.pyplot as plt"
   ]
  },
  {
   "cell_type": "markdown",
   "metadata": {},
   "source": [
    "# Sifirdan K-NN"
   ]
  },
  {
   "cell_type": "markdown",
   "metadata": {},
   "source": [
    "`numpy` ve temel python fonksiyonalitesini kullanarak sifirdan k-NN regresyon algoritmasini yaziniz."
   ]
  },
  {
   "cell_type": "markdown",
   "metadata": {},
   "source": [
    "# 0. Isinma"
   ]
  },
  {
   "cell_type": "markdown",
   "metadata": {},
   "source": [
    "## 0.a. Minkowski mesafeleri"
   ]
  },
  {
   "cell_type": "markdown",
   "metadata": {},
   "source": [
    "Verilen iki vektor ve `p` parametresi icin Minkowski mesafesini hesaplayacak fonksiyonu yaziniz."
   ]
  },
  {
   "cell_type": "code",
   "execution_count": 38,
   "metadata": {},
   "outputs": [],
   "source": [
    "def minkowskiMesafesi(x1, x2, p=2):\n",
    "    \"\"\"\n",
    "    Minkowski mesafesi, Oklit mesafesinin genellenmis halidir.\n",
    "    p = 1 ise Manhattan mesafesi, p = 2 ise Euclidean mesafesi, p = inf ise Chebyshev mesafesi gibi ozel durumlari mevcuttur.\n",
    "    \"\"\"\n",
    "    return None"
   ]
  },
  {
   "cell_type": "markdown",
   "metadata": {},
   "source": [
    "### 0.a.I. Test"
   ]
  },
  {
   "cell_type": "markdown",
   "metadata": {},
   "source": [
    "Mesafe hesaplayicinizi asagidaki durumlar icin test ediniz:"
   ]
  },
  {
   "cell_type": "markdown",
   "metadata": {},
   "source": [
    "##### Test 1"
   ]
  },
  {
   "cell_type": "code",
   "execution_count": 40,
   "metadata": {},
   "outputs": [
    {
     "name": "stdout",
     "output_type": "stream",
     "text": [
      "0.0\n"
     ]
    }
   ],
   "source": [
    "v1, v2 = np.array([1, 2, 3]), np.array([1, 2, 3])\n",
    "print(minkowskiMesafesi(v1, v2))"
   ]
  },
  {
   "cell_type": "markdown",
   "metadata": {},
   "source": [
    "##### Test 2"
   ]
  },
  {
   "cell_type": "code",
   "execution_count": 41,
   "metadata": {},
   "outputs": [
    {
     "name": "stdout",
     "output_type": "stream",
     "text": [
      "8.0\n"
     ]
    }
   ],
   "source": [
    "v1, v2 = np.ones(64), np.ones(64) * 2.\n",
    "print(minkowskiMesafesi(v1, v2))"
   ]
  },
  {
   "cell_type": "markdown",
   "metadata": {},
   "source": [
    "##### Test 3"
   ]
  },
  {
   "cell_type": "code",
   "execution_count": 42,
   "metadata": {},
   "outputs": [
    {
     "name": "stdout",
     "output_type": "stream",
     "text": [
      "64.0\n"
     ]
    }
   ],
   "source": [
    "v1, v2 = np.ones(64), np.ones(64) * 2.\n",
    "print(minkowskiMesafesi(v1, v2, p=1))"
   ]
  },
  {
   "cell_type": "markdown",
   "metadata": {},
   "source": [
    "##### Test 4"
   ]
  },
  {
   "cell_type": "code",
   "execution_count": 45,
   "metadata": {},
   "outputs": [
    {
     "name": "stdout",
     "output_type": "stream",
     "text": [
      "7.0\n"
     ]
    }
   ],
   "source": [
    "v1, v2 = np.array([1,1,1]), np.array([2,2,8])\n",
    "print(minkowskiMesafesi(v1, v2, p=np.inf))"
   ]
  },
  {
   "cell_type": "markdown",
   "metadata": {},
   "source": [
    "# 1. Sifirdan K-NN"
   ]
  },
  {
   "cell_type": "markdown",
   "metadata": {},
   "source": [
    "## 1.a. Broadcasting"
   ]
  },
  {
   "cell_type": "markdown",
   "metadata": {},
   "source": [
    "Asagida verilen (m, n) ve (q, n) boyutlu iki matris, n-boyutlu uzayda sirasiyla m ve q sayida noktalari temsil etmektedir."
   ]
  },
  {
   "cell_type": "code",
   "execution_count": 30,
   "metadata": {},
   "outputs": [
    {
     "name": "stdout",
     "output_type": "stream",
     "text": [
      "M1 matrisi: \n",
      " [[ 1.76405235  0.40015721]\n",
      " [ 0.97873798  2.2408932 ]\n",
      " [ 1.86755799 -0.97727788]\n",
      " [ 0.95008842 -0.15135721]\n",
      " [-0.10321885  0.4105985 ]\n",
      " [ 0.14404357  1.45427351]\n",
      " [ 0.76103773  0.12167502]\n",
      " [ 0.44386323  0.33367433]\n",
      " [ 1.49407907 -0.20515826]]\n",
      "M2 matrisi: \n",
      " [[ 0.3130677  -0.85409574]\n",
      " [-2.55298982  0.6536186 ]\n",
      " [ 0.8644362  -0.74216502]]\n"
     ]
    }
   ],
   "source": [
    "m, q, n = 9, 3, 2\n",
    "np.random.seed(0)\n",
    "M1 = np.random.randn(m, n)\n",
    "M2 = np.random.randn(q, n)\n",
    "print(\"M1 matrisi: \\n\", M1)\n",
    "print(\"M2 matrisi: \\n\", M2)"
   ]
  },
  {
   "cell_type": "markdown",
   "metadata": {},
   "source": [
    "Her bir noktanin birbirlerine olan mesafesini gosterecek bir matris oluşturulmak istenmektedir."
   ]
  },
  {
   "cell_type": "markdown",
   "metadata": {},
   "source": [
    "### 1.a.I."
   ]
  },
  {
   "cell_type": "markdown",
   "metadata": {},
   "source": [
    "Elde edilecek mesafe matrisinin boyutu ne olacaktir?"
   ]
  },
  {
   "cell_type": "code",
   "execution_count": null,
   "metadata": {},
   "outputs": [],
   "source": []
  },
  {
   "cell_type": "markdown",
   "metadata": {},
   "source": [
    "### 1.a.II."
   ]
  },
  {
   "cell_type": "markdown",
   "metadata": {},
   "source": [
    "Mesafe matrisini elde etmek icin gerekli islemleri yapiniz. (`minkowskiMesafe` fonksiyonunu ilk tercih olarak kullanmamaya calisiniz.)\n",
    "\n",
    "> `for` dongusu kullanmadan, broadcast ile bu problemi nasil cozebilirdiniz?"
   ]
  },
  {
   "cell_type": "code",
   "execution_count": null,
   "metadata": {},
   "outputs": [],
   "source": []
  },
  {
   "cell_type": "markdown",
   "metadata": {},
   "source": [
    "## 1.b. Argsort"
   ]
  },
  {
   "cell_type": "markdown",
   "metadata": {},
   "source": [
    "`M2` matrisindeki `1` indeks numarali noktaya `M1` matrisinden en yakin 3 noktanin indeks numaralari nedir? \n",
    "\n",
    "Cevabi verecek islemi `numpy` ile yapiniz."
   ]
  },
  {
   "cell_type": "code",
   "execution_count": null,
   "metadata": {},
   "outputs": [],
   "source": []
  },
  {
   "cell_type": "markdown",
   "metadata": {},
   "source": [
    "## 1.c. KNN"
   ]
  },
  {
   "cell_type": "markdown",
   "metadata": {},
   "source": [
    "Yukarida verilen parcalari birlestirerek bir *K-NN* regressor elde edecegiz."
   ]
  },
  {
   "cell_type": "markdown",
   "metadata": {},
   "source": [
    "### 1.c.I."
   ]
  },
  {
   "cell_type": "markdown",
   "metadata": {},
   "source": [
    "Asagida iskeleti verilmis `class`'i kullanarak regressorunuzu hazirlayiniz."
   ]
  },
  {
   "cell_type": "code",
   "execution_count": null,
   "metadata": {},
   "outputs": [],
   "source": [
    "class KNNRegressor:\n",
    "    def __init__(self, *args):\n",
    "        # Kullanicidan komsu sayisi `k` parametresini alarak uygun sekilde kaydedin.\n",
    "        # `*args` ifadesini uyugn sekilde degistirin.\n",
    "        return\n",
    "    \n",
    "    def fit(self, *args):\n",
    "        # Kullanicidan X ve y verilerini alarak uygun sekilde kaydedin\n",
    "        # `*args`` ifadesini uygun sekilde degistirin.\n",
    "\n",
    "\n",
    "        return self # return ifadesini degistirmeye ihtiyac yoktur.\n",
    "\n",
    "    def predict(self, *args):\n",
    "        # Kullanicidan sorgu noktalarini alacak sekilde `*args` ifadesini degistirin.\n",
    "\n",
    "        # Her sorgu noktasina egitim verisindeki en yakin `k` ornegin indekslerini bulun.\n",
    "        # Indeksleri kullanarak egitim cevaplarindaki en yakin `k` ornegin etiketlerini getirin.\n",
    "        # Her sorgu icin en yakin `k` ornegin y ortalamalarini dondurun.\n",
    "        return None"
   ]
  },
  {
   "cell_type": "markdown",
   "metadata": {},
   "source": [
    "### 1.c.II."
   ]
  },
  {
   "cell_type": "markdown",
   "metadata": {},
   "source": [
    "Regressorunuzu asagidaki durumlar icin `sklearn.neighbors.KNeighborsRegressor` classinin cevaplarina karsi test ediniz:"
   ]
  },
  {
   "cell_type": "code",
   "execution_count": 33,
   "metadata": {},
   "outputs": [],
   "source": [
    "from sklearn import neighbors"
   ]
  },
  {
   "cell_type": "markdown",
   "metadata": {},
   "source": [
    "##### Test 1"
   ]
  },
  {
   "cell_type": "code",
   "execution_count": 31,
   "metadata": {},
   "outputs": [],
   "source": [
    "X_train, X_test, y_train = M1, M2, np.random.randn(m)"
   ]
  },
  {
   "cell_type": "code",
   "execution_count": 32,
   "metadata": {},
   "outputs": [
    {
     "data": {
      "text/plain": [
       "array([ 0.19818391,  0.66961282, -0.09922023])"
      ]
     },
     "execution_count": 32,
     "metadata": {},
     "output_type": "execute_result"
    }
   ],
   "source": [
    "KNNRegressor(k=5).fit(X_train, y_train).predict(X_test)"
   ]
  },
  {
   "cell_type": "code",
   "execution_count": 34,
   "metadata": {},
   "outputs": [
    {
     "data": {
      "text/plain": [
       "array([ 0.19818391,  0.66961282, -0.09922023])"
      ]
     },
     "execution_count": 34,
     "metadata": {},
     "output_type": "execute_result"
    }
   ],
   "source": [
    "neighbors.KNeighborsRegressor(n_neighbors=5).fit(X_train, y_train).predict(X_test)"
   ]
  },
  {
   "cell_type": "markdown",
   "metadata": {},
   "source": [
    "##### Test 2"
   ]
  },
  {
   "cell_type": "code",
   "execution_count": 35,
   "metadata": {},
   "outputs": [],
   "source": [
    "m, n, q = 900, 12, 8\n",
    "X_train, X_test, y_train = np.random.randn(m, n), np.random.randn(q, n), np.random.randn(m)"
   ]
  },
  {
   "cell_type": "code",
   "execution_count": 36,
   "metadata": {},
   "outputs": [
    {
     "data": {
      "text/plain": [
       "array([ 0.7517607 , -0.14492408,  0.14405955,  0.0984835 ,  0.46297028,\n",
       "       -0.19082287,  0.08268905, -0.49187292])"
      ]
     },
     "execution_count": 36,
     "metadata": {},
     "output_type": "execute_result"
    }
   ],
   "source": [
    "KNNRegressor(k=5).fit(X_train, y_train).predict(X_test)"
   ]
  },
  {
   "cell_type": "code",
   "execution_count": 37,
   "metadata": {},
   "outputs": [
    {
     "data": {
      "text/plain": [
       "array([ 0.7517607 , -0.14492408,  0.14405955,  0.0984835 ,  0.46297028,\n",
       "       -0.19082287,  0.08268905, -0.49187292])"
      ]
     },
     "execution_count": 37,
     "metadata": {},
     "output_type": "execute_result"
    }
   ],
   "source": [
    "neighbors.KNeighborsRegressor(n_neighbors=5).fit(X_train, y_train).predict(X_test)"
   ]
  }
 ],
 "metadata": {
  "kernelspec": {
   "display_name": "Python 3.8.12 ('cons1')",
   "language": "python",
   "name": "python3"
  },
  "language_info": {
   "codemirror_mode": {
    "name": "ipython",
    "version": 3
   },
   "file_extension": ".py",
   "mimetype": "text/x-python",
   "name": "python",
   "nbconvert_exporter": "python",
   "pygments_lexer": "ipython3",
   "version": "3.8.12"
  },
  "orig_nbformat": 4,
  "vscode": {
   "interpreter": {
    "hash": "a571a25d3379e9645cc932b401c674531bbcf658e9b176b05ab9004deb2f65c4"
   }
  }
 },
 "nbformat": 4,
 "nbformat_minor": 2
}
