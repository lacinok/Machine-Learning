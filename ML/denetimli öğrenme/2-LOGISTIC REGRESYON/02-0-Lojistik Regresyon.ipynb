{
 "cells": [
  {
   "cell_type": "code",
   "execution_count": 1,
   "metadata": {},
   "outputs": [],
   "source": [
    "import pandas as pd\n",
    "import numpy as np\n",
    "import matplotlib.pyplot as plt\n",
    "from sklearn import linear_model, metrics, model_selection, feature_selection, pipeline, ensemble, tree, datasets\n",
    "from ipywidgets import interact\n",
    "from sympy import *\n",
    "from sympy.stats import *\n",
    "from IPython.display import Markdown, Latex"
   ]
  },
  {
   "cell_type": "markdown",
   "metadata": {},
   "source": [
    "# Anahat:\n",
    "\n",
    "- Lojistik Regresyon\n",
    "    - Logit icin lineer bir fonksiyon: ax + b\n",
    "    - REGULARIZASYON !\n",
    "    - Katsayilarin yorumlanmasi: ax+b'de x'in 1 artmasi ne anlama gelecek?\n",
    "- Tasniflendirme metrikleri\n",
    "    - Accuracy\n",
    "    - Confusion Matrix\n",
    "    - Dengesiz veriler\n",
    "        - Precision/Recall\n",
    "        - F1-Score\n",
    "    - ROC/AUC\n",
    "\n",
    "\n"
   ]
  },
  {
   "cell_type": "markdown",
   "metadata": {},
   "source": [
    "# Tasniflendirme\n",
    "\n",
    "`Tasniflendirme icin MLE` bolumunde, tasniflendirme varsayimlari uzerinden giderek likelihood icin maksimize edilmesi gereken bir ifade bulmus, buna bagli olarak da *Ikili Capraz-Entropi* kayip fonksiyonu elde etmistik."
   ]
  },
  {
   "cell_type": "code",
   "execution_count": 2,
   "metadata": {},
   "outputs": [
    {
     "data": {
      "text/html": [
       "<div>\n",
       "<style scoped>\n",
       "    .dataframe tbody tr th:only-of-type {\n",
       "        vertical-align: middle;\n",
       "    }\n",
       "\n",
       "    .dataframe tbody tr th {\n",
       "        vertical-align: top;\n",
       "    }\n",
       "\n",
       "    .dataframe thead th {\n",
       "        text-align: right;\n",
       "    }\n",
       "</style>\n",
       "<table border=\"1\" class=\"dataframe\">\n",
       "  <thead>\n",
       "    <tr style=\"text-align: right;\">\n",
       "      <th></th>\n",
       "      <th>x0</th>\n",
       "      <th>y</th>\n",
       "    </tr>\n",
       "  </thead>\n",
       "  <tbody>\n",
       "    <tr>\n",
       "      <th>0</th>\n",
       "      <td>0.984424</td>\n",
       "      <td>1</td>\n",
       "    </tr>\n",
       "    <tr>\n",
       "      <th>1</th>\n",
       "      <td>-0.330421</td>\n",
       "      <td>0</td>\n",
       "    </tr>\n",
       "    <tr>\n",
       "      <th>2</th>\n",
       "      <td>1.760128</td>\n",
       "      <td>1</td>\n",
       "    </tr>\n",
       "    <tr>\n",
       "      <th>3</th>\n",
       "      <td>-1.095697</td>\n",
       "      <td>0</td>\n",
       "    </tr>\n",
       "    <tr>\n",
       "      <th>4</th>\n",
       "      <td>-1.202688</td>\n",
       "      <td>0</td>\n",
       "    </tr>\n",
       "  </tbody>\n",
       "</table>\n",
       "</div>"
      ],
      "text/plain": [
       "         x0  y\n",
       "0  0.984424  1\n",
       "1 -0.330421  0\n",
       "2  1.760128  1\n",
       "3 -1.095697  0\n",
       "4 -1.202688  0"
      ]
     },
     "execution_count": 2,
     "metadata": {},
     "output_type": "execute_result"
    }
   ],
   "source": [
    "# Ornek dataset uretimi\n",
    "X, y = datasets.make_classification(n_samples=20, n_features=1, n_redundant=0, n_informative=1, n_clusters_per_class=1, random_state=1)\n",
    "dataset = pd.DataFrame(X).add_prefix('x').assign(y=y)\n",
    "dataset.head()"
   ]
  },
  {
   "cell_type": "markdown",
   "metadata": {},
   "source": [
    "## Olasilik - Odds - Logit"
   ]
  },
  {
   "cell_type": "markdown",
   "metadata": {},
   "source": [
    "Hipotez fonksiyonumuz icin \n",
    "\n",
    "$$ h(x) = \\frac{1}{1 + e^{-g(x)}} $$\n",
    "\n",
    "formunda, $[0, 1]$ aralidinda deger veren bir fonksiyon  kullanacagimizi soylemistik.\n",
    "\n",
    "*Logit* $g(x)$ konusunda ise gorece ozguruz."
   ]
  },
  {
   "cell_type": "markdown",
   "metadata": {},
   "source": [
    "# Lineer bir fonksiyon olarak Logit\n",
    "\n",
    "Lineerlik tam olarak lojistik regresyonun neresinde?"
   ]
  },
  {
   "cell_type": "markdown",
   "metadata": {},
   "source": [
    "Lineer regresyonda tahmini yapan hipotez fonksiyonumuz $h(x)$ lineer bir ifadeydi: $h(X) = b_0 + b_1 X_1 + b_2 X_2 + ... + b_n X_n$.\n",
    "\n",
    "> Lojistik regresyonda ayni lineer ifadeyi sonsuz aralikta degerler alabilen *logit* degeri olarak kullanabiliriz:\n",
    "\n",
    "\n"
   ]
  },
  {
   "cell_type": "markdown",
   "metadata": {},
   "source": [
    "$$g(x) = XA + b$$\n",
    "$$h(x) = \\frac{1}{1 + e^{-g(x)}} $$"
   ]
  },
  {
   "cell_type": "code",
   "execution_count": 3,
   "metadata": {},
   "outputs": [],
   "source": [
    "a, b, x = symbols('a, b, x')\n",
    "h = Function(\"h\")\n",
    "g = Function(\"g\")"
   ]
  },
  {
   "cell_type": "code",
   "execution_count": 4,
   "metadata": {},
   "outputs": [],
   "source": [
    "Y = IndexedBase(\"Y\")\n",
    "Xv = IndexedBase(\"X\")\n",
    "Yhat = IndexedBase(\"Yhat\")\n",
    "i, m = symbols(\"i m\")"
   ]
  },
  {
   "cell_type": "code",
   "execution_count": 5,
   "metadata": {},
   "outputs": [
    {
     "data": {
      "text/markdown": [
       "Log-likelihood:"
      ],
      "text/plain": [
       "<IPython.core.display.Markdown object>"
      ]
     },
     "metadata": {},
     "output_type": "display_data"
    },
    {
     "data": {
      "text/latex": [
       "$\\displaystyle \\sum_{i=0}^{m - 1} \\left(\\left(1 - {Y}_{i}\\right) \\log{\\left(1 - \\frac{1}{e^{- a {X}_{i} - b} + 1} \\right)} + \\log{\\left(\\frac{1}{e^{- a {X}_{i} - b} + 1} \\right)} {Y}_{i}\\right)$"
      ],
      "text/plain": [
       "Sum((1 - Y[i])*log(1 - 1/(exp(-a*X[i] - b) + 1)) + log(1/(exp(-a*X[i] - b) + 1))*Y[i], (i, 0, m - 1))"
      ]
     },
     "execution_count": 5,
     "metadata": {},
     "output_type": "execute_result"
    }
   ],
   "source": [
    "log_likelihood = Sum(Y[i] * log(1/(1+exp(-Xv[i]*a - b))) + (1 - Y[i]) * log(1 - 1/(1+exp(-a*Xv[i] - b))), (i, 0, m-1))\n",
    "display(Markdown(\"Log-likelihood:\"))\n",
    "log_likelihood"
   ]
  },
  {
   "cell_type": "code",
   "execution_count": 6,
   "metadata": {},
   "outputs": [
    {
     "data": {
      "text/markdown": [
       "Ikili capraz-entropi maliyeti:"
      ],
      "text/plain": [
       "<IPython.core.display.Markdown object>"
      ]
     },
     "metadata": {},
     "output_type": "display_data"
    },
    {
     "data": {
      "text/latex": [
       "$\\displaystyle - \\sum_{i=0}^{m - 1} \\left(\\left(1 - {Y}_{i}\\right) \\log{\\left(1 - \\frac{1}{e^{- a {X}_{i} - b} + 1} \\right)} + \\log{\\left(\\frac{1}{e^{- a {X}_{i} - b} + 1} \\right)} {Y}_{i}\\right)$"
      ],
      "text/plain": [
       "-Sum((1 - Y[i])*log(1 - 1/(exp(-a*X[i] - b) + 1)) + log(1/(exp(-a*X[i] - b) + 1))*Y[i], (i, 0, m - 1))"
      ]
     },
     "execution_count": 6,
     "metadata": {},
     "output_type": "execute_result"
    }
   ],
   "source": [
    "display(Markdown(\"Ikili capraz-entropi maliyeti:\"))\n",
    "bce = -log_likelihood\n",
    "bce"
   ]
  },
  {
   "cell_type": "markdown",
   "metadata": {},
   "source": [
    "Asagidaki sekilde verilen siniflari ayirmak icin bir lojistik regresyon uygulayacak olsaydik, $b=0$ icin maliyet soyle olacakti:"
   ]
  },
  {
   "cell_type": "code",
   "execution_count": 7,
   "metadata": {},
   "outputs": [
    {
     "data": {
      "image/png": "[encoded data removed]",
      "text/plain": [
       "<Figure size 432x288 with 1 Axes>"
      ]
     },
     "metadata": {
      "needs_background": "light"
     },
     "output_type": "display_data"
    }
   ],
   "source": [
    "plt.scatter(X, y, c=y);"
   ]
  },
  {
   "cell_type": "code",
   "execution_count": 8,
   "metadata": {},
   "outputs": [
    {
     "data": {
      "image/png": "[encoded data removed]",
      "text/plain": [
       "<Figure size 432x288 with 1 Axes>"
      ]
     },
     "metadata": {
      "needs_background": "light"
     },
     "output_type": "display_data"
    }
   ],
   "source": [
    "pouu = -log_likelihood.subs(Xv, Array(X.ravel())).subs(Y, Array(y)).subs(m, len(y)).doit()\n",
    "plot((pouu.subs(b, 0)), (a, 0, 20), ylabel=\"$J(a)$\");"
   ]
  },
  {
   "cell_type": "markdown",
   "metadata": {},
   "source": [
    "Maliyet, buyuyen $a$ ile kuculmekte ancak minimaya ulasmamaktadir."
   ]
  },
  {
   "cell_type": "markdown",
   "metadata": {},
   "source": [
    "Ornegin, $a=12.5$ icin elde edilen hipotez fonksiyonuna bakacak olursak:"
   ]
  },
  {
   "cell_type": "code",
   "execution_count": 9,
   "metadata": {},
   "outputs": [
    {
     "data": {
      "image/png": "[encoded data removed]",
      "text/plain": [
       "<Figure size 432x288 with 1 Axes>"
      ]
     },
     "metadata": {
      "needs_background": "light"
     },
     "output_type": "display_data"
    }
   ],
   "source": [
    "t = np.linspace(-2, 2, 100)\n",
    "plt.scatter(X, y, c=y);\n",
    "plt.plot(t, 1/(1 + np.exp(-12.5 * t)), label=\"$h(x)$\")\n",
    "plt.legend();"
   ]
  },
  {
   "cell_type": "markdown",
   "metadata": {},
   "source": [
    "Asagidaki interaktif hucrede $a$ ve $b$'nin degerleriyle oynayarak olusan *maliyet* degerlerini inceleyiniz."
   ]
  },
  {
   "cell_type": "code",
   "execution_count": 10,
   "metadata": {},
   "outputs": [
    {
     "data": {
      "application/vnd.jupyter.widget-view+json": {
       "model_id": "70f75348a4924515883581c5bb3b60fb",
       "version_major": 2,
       "version_minor": 0
      },
      "text/plain": [
       "interactive(children=(FloatSlider(value=1.0, description='a_', min=-10.0), FloatSlider(value=0.0, description=…"
      ]
     },
     "metadata": {},
     "output_type": "display_data"
    }
   ],
   "source": [
    "def createSigmoid(a, b):\n",
    "    def sigmoid(x):\n",
    "        return 1 / (1 + np.exp(-a*x - b))\n",
    "    return sigmoid\n",
    "\n",
    "@interact(a_=(-10, 100, 0.1), b_=(-10, 10, 0.1))\n",
    "def vizSigmoid(a_=1.0, b_=0.0):\n",
    "    rng = np.linspace(-2, 2, 1000)\n",
    "    plt.scatter(X, y, c=y, cmap='rainbow');\n",
    "    plt.plot(rng, createSigmoid(a_, b_)(rng), color='red')\n",
    "    maliyet = pouu.subs(a, a_).subs(b, b_)\n",
    "    lkl = lambdify(h, maliyet)(createSigmoid(a_, b_))\n",
    "    plt.title(f\"Maliyet $={lkl}$\")\n",
    "    plt.grid()"
   ]
  },
  {
   "cell_type": "markdown",
   "metadata": {},
   "source": [
    "Bu senaryoda, $b=0$ icin $a$ katsayisini yukselttikce *maliyet* degerinin dusmeye devam ettigini goruyorsunuz.\n"
   ]
  },
  {
   "cell_type": "markdown",
   "metadata": {},
   "source": [
    "\n",
    "Teorik olarak, ancak $a=\\infty$ oldugunda *log-likelihood* maksimum olacagindan, bu durum optimizasyon algoritmalarimizda sayisal stabiliteyi bozabilir.\n",
    "\n",
    "> Likelihood yukseldigi surece -bir diger deyisle maliyet dustugu surece- optimizasyon algoritmasi $a$'yi arttirmaya devam edecek.\n"
   ]
  },
  {
   "cell_type": "markdown",
   "metadata": {},
   "source": [
    "## Regularizasyon"
   ]
  },
  {
   "cell_type": "markdown",
   "metadata": {},
   "source": [
    "Maliyet fonksiyonumuza katsayinin mutlak degeri buyudukce buyuyen bir terim eklemek, maliyet fonksiyonumuzu nasil etkilerdi?\n",
    "\n",
    "Katsayinin mutlak degeri ile buyuyen bu terim, ornek olarak $a^2$ olabilirdi:"
   ]
  },
  {
   "cell_type": "code",
   "execution_count": 11,
   "metadata": {},
   "outputs": [],
   "source": [
    "lamda = Symbol(\"lambda\")"
   ]
  },
  {
   "cell_type": "code",
   "execution_count": 12,
   "metadata": {},
   "outputs": [
    {
     "data": {
      "text/latex": [
       "$\\displaystyle a^{2} \\lambda - \\sum_{i=0}^{m - 1} \\left(\\left(1 - {Y}_{i}\\right) \\log{\\left(1 - \\frac{1}{e^{- a {X}_{i} - b} + 1} \\right)} + \\log{\\left(\\frac{1}{e^{- a {X}_{i} - b} + 1} \\right)} {Y}_{i}\\right)$"
      ],
      "text/plain": [
       "a**2*lambda - Sum((1 - Y[i])*log(1 - 1/(exp(-a*X[i] - b) + 1)) + log(1/(exp(-a*X[i] - b) + 1))*Y[i], (i, 0, m - 1))"
      ]
     },
     "execution_count": 12,
     "metadata": {},
     "output_type": "execute_result"
    }
   ],
   "source": [
    "-log_likelihood + lamda * a**2"
   ]
  },
  {
   "cell_type": "markdown",
   "metadata": {},
   "source": [
    "Regularizasyon kullanilmasi durumunda maliyet fonksiyonu, bu ornek icin asagidaki sekle donusmektedir:"
   ]
  },
  {
   "cell_type": "code",
   "execution_count": 13,
   "metadata": {},
   "outputs": [
    {
     "data": {
      "image/png": "[encoded data removed]",
      "text/plain": [
       "<Figure size 432x288 with 1 Axes>"
      ]
     },
     "metadata": {
      "needs_background": "light"
     },
     "output_type": "display_data"
    }
   ],
   "source": [
    "plot((pouu.subs(b,0) + lamda * a**2).subs(lamda, 1), (a, 0, 5), ylabel=\"$J(a)$\");"
   ]
  },
  {
   "cell_type": "code",
   "execution_count": 14,
   "metadata": {},
   "outputs": [
    {
     "data": {
      "application/vnd.jupyter.widget-view+json": {
       "model_id": "dbb91cc1611b449bb91886259925383b",
       "version_major": 2,
       "version_minor": 0
      },
      "text/plain": [
       "interactive(children=(FloatSlider(value=1.5, description='lamda_', max=3.0), Output()), _dom_classes=('widget-…"
      ]
     },
     "metadata": {},
     "output_type": "display_data"
    }
   ],
   "source": [
    "@interact\n",
    "def vizregule(lamda_=(0.0, 3.0, 0.1)):\n",
    "    plot((pouu.subs(b,0) + lamda * a**2).subs(lamda, lamda_), (a, 0, 15), ylabel=\"$J(a)$\",\n",
    "        xlim=(0, 15),\n",
    "        ylim=(0, 50),\n",
    "        grid=True,\n",
    "        title=f\"$\\lambda = {lamda_}$\");"
   ]
  },
  {
   "cell_type": "markdown",
   "metadata": {},
   "source": [
    "### `scikit-learn` ile lojistik regresyon ornegi"
   ]
  },
  {
   "cell_type": "markdown",
   "metadata": {},
   "source": [
    "#### Tek boyutta lojistik regresyon"
   ]
  },
  {
   "cell_type": "code",
   "execution_count": 15,
   "metadata": {},
   "outputs": [
    {
     "data": {
      "text/plain": [
       "LogisticRegression(C=1)"
      ]
     },
     "execution_count": 15,
     "metadata": {},
     "output_type": "execute_result"
    }
   ],
   "source": [
    "model1b = linear_model.LogisticRegression(C=1)\n",
    "model1b.fit(X, y)"
   ]
  },
  {
   "cell_type": "code",
   "execution_count": 16,
   "metadata": {},
   "outputs": [
    {
     "data": {
      "text/plain": [
       "[<matplotlib.lines.Line2D at 0x16ca42ea1c0>]"
      ]
     },
     "execution_count": 16,
     "metadata": {},
     "output_type": "execute_result"
    },
    {
     "data": {
      "image/png": "[encoded data removed]",
      "text/plain": [
       "<Figure size 432x288 with 1 Axes>"
      ]
     },
     "metadata": {
      "needs_background": "light"
     },
     "output_type": "display_data"
    }
   ],
   "source": [
    "plt.scatter(X, y, c=y)\n",
    "plt.plot(t, model1b.predict_proba(t[:, None])[:, 1], label=\"$h(x)$\")"
   ]
  },
  {
   "cell_type": "markdown",
   "metadata": {},
   "source": [
    "`sklearn` `LogisticRegression` sinifi, regularizasyon parametresi olarak `C` argumanini kullanmaktadir. Bu argumanin etkisi, yukarida gormus oldugumuz $\\lambda$ parametresi ile ters orantilidir.\n",
    "\n",
    "$$C \\approx \\frac{1}{\\lambda}$$"
   ]
  },
  {
   "cell_type": "code",
   "execution_count": 17,
   "metadata": {},
   "outputs": [],
   "source": [
    "from ipywidgets import FloatLogSlider"
   ]
  },
  {
   "cell_type": "code",
   "execution_count": 18,
   "metadata": {},
   "outputs": [
    {
     "data": {
      "application/vnd.jupyter.widget-view+json": {
       "model_id": "d5a96b72bc394456bf4a938f6448bb61",
       "version_major": 2,
       "version_minor": 0
      },
      "text/plain": [
       "interactive(children=(FloatLogSlider(value=128.0, description='C', max=10.0, min=-10.0), Output()), _dom_class…"
      ]
     },
     "metadata": {},
     "output_type": "display_data"
    }
   ],
   "source": [
    "@interact\n",
    "def logreg1bviz(C=FloatLogSlider(min=-10, max=10, value=128)):\n",
    "    model1b = linear_model.LogisticRegression(C=C)\n",
    "    model1b.fit(X, y)\n",
    "    plt.scatter(X, y, c=y)\n",
    "    plt.plot(t, model1b.predict_proba(t[:, None])[:, 1], label=\"$h(x)$\")\n",
    "    plt.legend()\n",
    "    plt.title(f\"$C={C:8f}$\")\n",
    "    plt.grid()"
   ]
  },
  {
   "cell_type": "markdown",
   "metadata": {},
   "source": [
    "#### 2 boyutta lojistik regresyon"
   ]
  },
  {
   "cell_type": "code",
   "execution_count": 19,
   "metadata": {},
   "outputs": [],
   "source": [
    "X, y = datasets.make_classification(n_samples=200, n_features=2, n_redundant=0, n_informative=2, n_clusters_per_class=1, random_state=1)"
   ]
  },
  {
   "cell_type": "code",
   "execution_count": 20,
   "metadata": {},
   "outputs": [
    {
     "data": {
      "image/png": "[encoded data removed]",
      "text/plain": [
       "<Figure size 432x288 with 1 Axes>"
      ]
     },
     "metadata": {
      "needs_background": "light"
     },
     "output_type": "display_data"
    }
   ],
   "source": [
    "plt.scatter(*X.T, c=y);\n",
    "plt.xlabel(\"$x_1$\")\n",
    "plt.ylabel(\"$x_2$\");"
   ]
  },
  {
   "cell_type": "code",
   "execution_count": 21,
   "metadata": {},
   "outputs": [],
   "source": [
    "model = linear_model.LogisticRegression()"
   ]
  },
  {
   "cell_type": "code",
   "execution_count": 22,
   "metadata": {},
   "outputs": [
    {
     "data": {
      "text/plain": [
       "LogisticRegression()"
      ]
     },
     "execution_count": 22,
     "metadata": {},
     "output_type": "execute_result"
    }
   ],
   "source": [
    "model"
   ]
  },
  {
   "cell_type": "markdown",
   "metadata": {},
   "source": [
    "#### Egitim"
   ]
  },
  {
   "cell_type": "code",
   "execution_count": 23,
   "metadata": {},
   "outputs": [
    {
     "data": {
      "text/plain": [
       "LogisticRegression()"
      ]
     },
     "execution_count": 23,
     "metadata": {},
     "output_type": "execute_result"
    }
   ],
   "source": [
    "model.fit(X, y)"
   ]
  },
  {
   "cell_type": "markdown",
   "metadata": {},
   "source": [
    "#### Tahmin\n",
    "\n",
    "`LogisticRegression` predict metodu, olasiligi hesaplayip %50 uzerinde ise 1, tersi durumda 0 ciktisi verir."
   ]
  },
  {
   "cell_type": "code",
   "execution_count": 24,
   "metadata": {},
   "outputs": [
    {
     "data": {
      "text/plain": [
       "array([0])"
      ]
     },
     "execution_count": 24,
     "metadata": {},
     "output_type": "execute_result"
    }
   ],
   "source": [
    "model.predict([[4, 2]])"
   ]
  },
  {
   "cell_type": "code",
   "execution_count": 25,
   "metadata": {},
   "outputs": [
    {
     "data": {
      "text/plain": [
       "array([1])"
      ]
     },
     "execution_count": 25,
     "metadata": {},
     "output_type": "execute_result"
    }
   ],
   "source": [
    "model.predict([[6, 2]])"
   ]
  },
  {
   "cell_type": "markdown",
   "metadata": {},
   "source": [
    "##### Aciklama"
   ]
  },
  {
   "cell_type": "code",
   "execution_count": 26,
   "metadata": {},
   "outputs": [
    {
     "data": {
      "text/plain": [
       "array([[ 0.97871558, -2.11660883]])"
      ]
     },
     "execution_count": 26,
     "metadata": {},
     "output_type": "execute_result"
    }
   ],
   "source": [
    "model.coef_"
   ]
  },
  {
   "cell_type": "code",
   "execution_count": 27,
   "metadata": {},
   "outputs": [
    {
     "data": {
      "text/plain": [
       "array([-0.69321901])"
      ]
     },
     "execution_count": 27,
     "metadata": {},
     "output_type": "execute_result"
    }
   ],
   "source": [
    "model.intercept_"
   ]
  },
  {
   "cell_type": "code",
   "execution_count": 28,
   "metadata": {},
   "outputs": [],
   "source": [
    "ornek = [[4, 2]]"
   ]
  },
  {
   "cell_type": "code",
   "execution_count": 29,
   "metadata": {},
   "outputs": [
    {
     "data": {
      "text/plain": [
       "array([[-1.01157437]])"
      ]
     },
     "execution_count": 29,
     "metadata": {},
     "output_type": "execute_result"
    }
   ],
   "source": [
    "ornek @ model.coef_ .T + model.intercept_"
   ]
  },
  {
   "cell_type": "code",
   "execution_count": 30,
   "metadata": {},
   "outputs": [
    {
     "data": {
      "text/plain": [
       "array([[0.26667186]])"
      ]
     },
     "execution_count": 30,
     "metadata": {},
     "output_type": "execute_result"
    }
   ],
   "source": [
    "1 / (1 + np.exp(-(ornek @ model.coef_ .T + model.intercept_)))"
   ]
  },
  {
   "cell_type": "markdown",
   "metadata": {},
   "source": [
    "`predict_proba`"
   ]
  },
  {
   "cell_type": "code",
   "execution_count": 31,
   "metadata": {},
   "outputs": [
    {
     "data": {
      "text/plain": [
       "array([[0.73332814, 0.26667186]])"
      ]
     },
     "execution_count": 31,
     "metadata": {},
     "output_type": "execute_result"
    }
   ],
   "source": [
    "model.predict_proba([[4, 2]])"
   ]
  },
  {
   "cell_type": "markdown",
   "metadata": {},
   "source": [
    "#### Karar sinirinin gosterimi"
   ]
  },
  {
   "cell_type": "code",
   "execution_count": 32,
   "metadata": {},
   "outputs": [
    {
     "data": {
      "image/png": "[encoded data removed]",
      "text/plain": [
       "<Figure size 432x288 with 1 Axes>"
      ]
     },
     "metadata": {
      "needs_background": "light"
     },
     "output_type": "display_data"
    }
   ],
   "source": [
    "plt.scatter(*X.T, c=y)\n",
    "xx, yy = np.meshgrid(np.linspace(-5, 5, 100), np.linspace(-5, 5, 100))\n",
    "Xgrid = np.c_[xx.ravel(), yy.ravel()]\n",
    "Z = model.predict(Xgrid).reshape(xx.shape)\n",
    "plt.contourf(xx, yy, Z, alpha=0.2);"
   ]
  },
  {
   "cell_type": "code",
   "execution_count": 33,
   "metadata": {},
   "outputs": [
    {
     "data": {
      "image/png": "[encoded data removed]",
      "text/plain": [
       "<Figure size 432x288 with 2 Axes>"
      ]
     },
     "metadata": {
      "needs_background": "light"
     },
     "output_type": "display_data"
    }
   ],
   "source": [
    "plt.scatter(*X.T, c=y)\n",
    "xx, yy = np.meshgrid(np.linspace(-5, 5, 100), np.linspace(-5, 5, 100))\n",
    "Xgrid = np.c_[xx.ravel(), yy.ravel()]\n",
    "Z = model.predict_proba(Xgrid)[:, 1].reshape(xx.shape)\n",
    "plt.contourf(xx, yy, Z, alpha=0.2)\n",
    "plt.colorbar();"
   ]
  },
  {
   "cell_type": "markdown",
   "metadata": {},
   "source": [
    "## Bulunan katsayilarin yorumlanmasi"
   ]
  },
  {
   "cell_type": "markdown",
   "metadata": {},
   "source": [
    "Katsayilarimizin lineer bir fonksiyonu olarak *logit* degeri hesapladigimizi hatilarlayalim:"
   ]
  },
  {
   "cell_type": "markdown",
   "metadata": {},
   "source": [
    "$$p = \\frac{1}{1 + e^{-Z}}$$\n",
    "\n",
    "$$Z = XA = logit$$"
   ]
  },
  {
   "cell_type": "markdown",
   "metadata": {},
   "source": [
    "Bu durumda $i$'nci *feature*'daki birim artis, *logit*'de $X_i$'nin katsayisi $A_i$ kadar artis meydana getirir."
   ]
  },
  {
   "cell_type": "code",
   "execution_count": 34,
   "metadata": {},
   "outputs": [
    {
     "data": {
      "text/plain": [
       "array([-2.11660883])"
      ]
     },
     "execution_count": 34,
     "metadata": {},
     "output_type": "execute_result"
    }
   ],
   "source": [
    "model.decision_function([[1, 2]]) - model.decision_function([[1, 1]])"
   ]
  },
  {
   "cell_type": "code",
   "execution_count": 35,
   "metadata": {},
   "outputs": [
    {
     "data": {
      "text/plain": [
       "-2.11660882823466"
      ]
     },
     "execution_count": 35,
     "metadata": {},
     "output_type": "execute_result"
    }
   ],
   "source": [
    "model.coef_[0, 1]"
   ]
  },
  {
   "cell_type": "markdown",
   "metadata": {},
   "source": [
    "Bu degisikligi, *odds* cinsinden de akla daha yatkin olarak aciklayabiliriz:"
   ]
  },
  {
   "cell_type": "code",
   "execution_count": 36,
   "metadata": {},
   "outputs": [],
   "source": [
    "def odds(p):\n",
    "    return p / (1 - p)"
   ]
  },
  {
   "cell_type": "code",
   "execution_count": 37,
   "metadata": {},
   "outputs": [
    {
     "data": {
      "text/plain": [
       "0.12043936734647388"
      ]
     },
     "execution_count": 37,
     "metadata": {},
     "output_type": "execute_result"
    }
   ],
   "source": [
    "odds(model.predict_proba([[1, 2]])[0, -1]) / odds(model.predict_proba([[1, 1]])[0, -1])"
   ]
  },
  {
   "cell_type": "code",
   "execution_count": 38,
   "metadata": {},
   "outputs": [
    {
     "data": {
      "text/plain": [
       "0.12043936734647386"
      ]
     },
     "execution_count": 38,
     "metadata": {},
     "output_type": "execute_result"
    }
   ],
   "source": [
    "np.exp(model.coef_[0, 1])"
   ]
  },
  {
   "cell_type": "markdown",
   "metadata": {},
   "source": [
    "Buna gore, $X_i$ *feature*'i 1 arttiginda hedef degiskenin + sinif olma sansi $e^{A_i}$ kadar artar."
   ]
  },
  {
   "cell_type": "markdown",
   "metadata": {},
   "source": [
    "## Lojistik Regresyon Modelinin Guclendirilmesi"
   ]
  },
  {
   "cell_type": "markdown",
   "metadata": {},
   "source": [
    "Polinomiyel regresyondan hatirladigimiz uzere, orijinal degiskenlerin polinomiyellerini modele ekleyerek daha kompleks temsiller elde edebiliriz."
   ]
  },
  {
   "cell_type": "code",
   "execution_count": 39,
   "metadata": {},
   "outputs": [],
   "source": [
    "Q, w = datasets.make_moons(noise=0.2, random_state=1)"
   ]
  },
  {
   "cell_type": "code",
   "execution_count": 40,
   "metadata": {},
   "outputs": [
    {
     "data": {
      "image/png": "[encoded data removed]",
      "text/plain": [
       "<Figure size 432x288 with 1 Axes>"
      ]
     },
     "metadata": {
      "needs_background": "light"
     },
     "output_type": "display_data"
    }
   ],
   "source": [
    "plt.scatter(*Q.T, c=w);"
   ]
  },
  {
   "cell_type": "code",
   "execution_count": 41,
   "metadata": {},
   "outputs": [
    {
     "data": {
      "text/plain": [
       "LogisticRegression(C=1)"
      ]
     },
     "execution_count": 41,
     "metadata": {},
     "output_type": "execute_result"
    }
   ],
   "source": [
    "model = linear_model.LogisticRegression(C=1)\n",
    "model.fit(Q, w)"
   ]
  },
  {
   "cell_type": "code",
   "execution_count": 42,
   "metadata": {},
   "outputs": [
    {
     "data": {
      "text/plain": [
       "0.85"
      ]
     },
     "execution_count": 42,
     "metadata": {},
     "output_type": "execute_result"
    }
   ],
   "source": [
    "model.score(Q, w)"
   ]
  },
  {
   "cell_type": "code",
   "execution_count": 43,
   "metadata": {},
   "outputs": [
    {
     "data": {
      "image/png": "[encoded data removed]",
      "text/plain": [
       "<Figure size 432x288 with 2 Axes>"
      ]
     },
     "metadata": {
      "needs_background": "light"
     },
     "output_type": "display_data"
    }
   ],
   "source": [
    "qq1, qq2 = np.meshgrid(np.linspace(-1.5, 2.5, 100), np.linspace(-1.5, 2.5, 100))\n",
    "Qgrid = np.c_[qq1.ravel(), qq2.ravel()]\n",
    "Z = model.predict(Qgrid).reshape(qq1.shape)\n",
    "plt.contourf(qq1, qq2, Z, alpha=0.2)\n",
    "plt.colorbar()\n",
    "plt.scatter(*Q.T, c=w);"
   ]
  },
  {
   "cell_type": "code",
   "execution_count": 44,
   "metadata": {},
   "outputs": [],
   "source": [
    "from sklearn import preprocessing, pipeline"
   ]
  },
  {
   "cell_type": "code",
   "execution_count": 45,
   "metadata": {},
   "outputs": [
    {
     "data": {
      "text/plain": [
       "1.0"
      ]
     },
     "execution_count": 45,
     "metadata": {},
     "output_type": "execute_result"
    }
   ],
   "source": [
    "boru = pipeline.Pipeline([\n",
    "    ('poly', preprocessing.PolynomialFeatures(degree=32, include_bias=False)),\n",
    "    (\"scaler\", preprocessing.StandardScaler()),\n",
    "    ('log', linear_model.LogisticRegression(C=100, max_iter=10000))\n",
    "])\n",
    "\n",
    "boru.fit(Q, w)\n",
    "boru.score(Q, w)"
   ]
  },
  {
   "cell_type": "code",
   "execution_count": 46,
   "metadata": {},
   "outputs": [
    {
     "data": {
      "image/png": "[encoded data removed]",
      "text/plain": [
       "<Figure size 432x288 with 2 Axes>"
      ]
     },
     "metadata": {
      "needs_background": "light"
     },
     "output_type": "display_data"
    }
   ],
   "source": [
    "qq1, qq2 = np.meshgrid(np.linspace(-1.5, 2.5, 100), np.linspace(-1.5, 2.5, 100))\n",
    "Qgrid = np.c_[qq1.ravel(), qq2.ravel()]\n",
    "Z = boru.predict(Qgrid).reshape(qq1.shape)\n",
    "plt.contourf(qq1, qq2, Z, alpha=0.2)\n",
    "plt.colorbar()\n",
    "plt.scatter(*Q.T, c=w);"
   ]
  },
  {
   "cell_type": "code",
   "execution_count": 47,
   "metadata": {},
   "outputs": [],
   "source": [
    "from ipywidgets import interact, FloatLogSlider"
   ]
  },
  {
   "cell_type": "markdown",
   "metadata": {},
   "source": [
    "Asagidaki interaktif hucrede, farkli polinomiyel dereceleri ve farkli `C` parametreleri icin modelin ogrenecegi karar sinirlarini inceleyebilirsiniz:"
   ]
  },
  {
   "cell_type": "code",
   "execution_count": 65,
   "metadata": {},
   "outputs": [
    {
     "data": {
      "application/vnd.jupyter.widget-view+json": {
       "model_id": "973f638fb174403f9692886490df4857",
       "version_major": 2,
       "version_minor": 0
      },
      "text/plain": [
       "interactive(children=(IntSlider(value=0, description='eC', max=5, min=-5), IntSlider(value=1, description='deg…"
      ]
     },
     "metadata": {},
     "output_type": "display_data"
    }
   ],
   "source": [
    "@interact(\n",
    "    eC=(-5,5,1),\n",
    "    degree=(1, 32, 1)\n",
    "    )\n",
    "def polyviz(eC=0, degree=1):\n",
    "    boru = pipeline.Pipeline([\n",
    "        (\"fu\", pipeline.FeatureUnion([\n",
    "            # (\"sinx\", preprocessing.FunctionTransformer(np.sin)),\n",
    "            ('poly', preprocessing.PolynomialFeatures(degree=degree, include_bias=False)),\n",
    "        ])),\n",
    "        (\"scaler\", preprocessing.StandardScaler()),\n",
    "        ('log', linear_model.LogisticRegression(C=10**eC, max_iter=10000))\n",
    "        ])\n",
    "    X = Q\n",
    "\n",
    "    boru.fit(X, w)\n",
    "    boru.score(X, w)\n",
    "    qq1, qq2 = np.meshgrid(np.linspace(-4, 4, 100), np.linspace(-4, 4, 100))\n",
    "    Qgrid = np.c_[qq1.ravel(), qq2.ravel()]\n",
    "    Z = boru.predict(Qgrid).reshape(qq1.shape)\n",
    "    plt.contourf(qq1, qq2, Z, alpha=0.2)\n",
    "    plt.colorbar()\n",
    "    plt.scatter(*X.T, c=w)\n",
    "    plt.title(\"Accuracy: {:.2f}\".format(boru.score(X, w)));"
   ]
  },
  {
   "cell_type": "markdown",
   "metadata": {},
   "source": [
    "#### Tek boyuta kisa bir donus"
   ]
  },
  {
   "cell_type": "markdown",
   "metadata": {},
   "source": [
    "Orijinal *feature* uzayinda karar sinirlari non-lineer gibi gozukse de, polinomiyel donusumu ile olusturdugumuz ve modele vermis oldugumuz yeni *feature* uzayinda bulunan karar sinirlari hala dogrusal olacaktir."
   ]
  },
  {
   "cell_type": "code",
   "execution_count": 67,
   "metadata": {},
   "outputs": [],
   "source": [
    "df = pd.DataFrame({\"X\": [-3, -2, -1, 0, 1, 2], \"y\": [1, 1, 0, 0, 1, 1]})"
   ]
  },
  {
   "cell_type": "code",
   "execution_count": 70,
   "metadata": {},
   "outputs": [
    {
     "data": {
      "image/png": "[encoded data removed]",
      "text/plain": [
       "<Figure size 432x288 with 1 Axes>"
      ]
     },
     "metadata": {
      "needs_background": "light"
     },
     "output_type": "display_data"
    }
   ],
   "source": [
    "plt.scatter(df.X, df.y, c=df.y);"
   ]
  },
  {
   "cell_type": "markdown",
   "metadata": {},
   "source": [
    "Datasetimize yeni bir feature olarak $x^2$ ekleyip modellemeyi bu sekilde yapalim:"
   ]
  },
  {
   "cell_type": "code",
   "execution_count": 102,
   "metadata": {},
   "outputs": [
    {
     "data": {
      "text/plain": [
       "Pipeline(steps=[('poly', PolynomialFeatures(include_bias=False)),\n",
       "                ('log', LogisticRegression(C=100, max_iter=10000))])"
      ]
     },
     "execution_count": 102,
     "metadata": {},
     "output_type": "execute_result"
    }
   ],
   "source": [
    "pmodel = pipeline.Pipeline([\n",
    "    (\"poly\", preprocessing.PolynomialFeatures(degree=2, include_bias=False)), \n",
    "    (\"log\", linear_model.LogisticRegression(C=100, max_iter=10000))])\n",
    "pmodel.fit(df[[\"X\"]], df.y)"
   ]
  },
  {
   "cell_type": "markdown",
   "metadata": {},
   "source": [
    "Orijinal (tek boyutlu) feature uzayinda hipotez fonksiyonunun ciktisini gozlemlersek karar sinirinin lineer olmadigini gorecegiz:"
   ]
  },
  {
   "cell_type": "code",
   "execution_count": 103,
   "metadata": {},
   "outputs": [
    {
     "data": {
      "image/png": "[encoded data removed]",
      "text/plain": [
       "<Figure size 432x288 with 1 Axes>"
      ]
     },
     "metadata": {
      "needs_background": "light"
     },
     "output_type": "display_data"
    }
   ],
   "source": [
    "t = np.linspace(-3, 3, 100)\n",
    "plt.plot(t, pmodel.predict_proba(pd.DataFrame({\"X\": t}))[:, 1], label=\"$h(x)$\")\n",
    "plt.scatter(df.X, df.y, c=df.y);\n",
    "plt.legend();"
   ]
  },
  {
   "cell_type": "markdown",
   "metadata": {},
   "source": [
    "Fakat modelin uzerinde egitilmis oldugu feature uzayi $[x, x^2]$'de karar sinirlarina baktigimizda:"
   ]
  },
  {
   "cell_type": "code",
   "execution_count": 109,
   "metadata": {},
   "outputs": [
    {
     "data": {
      "image/png": "[encoded data removed]",
      "text/plain": [
       "<Figure size 432x288 with 2 Axes>"
      ]
     },
     "metadata": {
      "needs_background": "light"
     },
     "output_type": "display_data"
    }
   ],
   "source": [
    "xx, yy = np.meshgrid(np.linspace(-3, 3, 100), np.linspace(-3, 9, 100))\n",
    "plt.scatter(df.X, df.X**2, c=df.y, edgecolors=\"black\");\n",
    "plt.contourf(xx, yy, pmodel.named_steps['log'].predict_proba(np.c_[xx.ravel(), yy.ravel()])[:, 1].reshape(xx.shape), alpha=0.5, vmin=0, vmax=1);\n",
    "plt.colorbar()\n",
    "plt.xlabel(\"x\")\n",
    "plt.ylabel(\"$x^2$\");\n"
   ]
  },
  {
   "cell_type": "markdown",
   "metadata": {},
   "source": [
    "Modelin uzerinde egitildigi, donusume ugramis bu uzayda karar sinirlarinin hala dogrusal oldugunu gormekteyiz."
   ]
  },
  {
   "cell_type": "markdown",
   "metadata": {},
   "source": [
    "# Tasniflendirme metrikleri"
   ]
  },
  {
   "cell_type": "code",
   "execution_count": 49,
   "metadata": {},
   "outputs": [
    {
     "data": {
      "text/plain": [
       "1"
      ]
     },
     "execution_count": 49,
     "metadata": {},
     "output_type": "execute_result"
    }
   ],
   "source": [
    "np.random.choice([0, 1])"
   ]
  },
  {
   "cell_type": "code",
   "execution_count": 50,
   "metadata": {},
   "outputs": [],
   "source": [
    "from sklearn import metrics"
   ]
  },
  {
   "cell_type": "markdown",
   "metadata": {},
   "source": [
    "#### Accuracy"
   ]
  },
  {
   "cell_type": "code",
   "execution_count": 51,
   "metadata": {},
   "outputs": [],
   "source": [
    "y = np.array([1, 1, 1, 0, 0, 1, 0, 1, 0]) # gercek etiketler\n",
    "yhat = np.array([1, 1, 0, 0, 0, 1, 1, 1, 0]) # tahminler"
   ]
  },
  {
   "cell_type": "code",
   "execution_count": 52,
   "metadata": {},
   "outputs": [
    {
     "data": {
      "text/plain": [
       "0.7777777777777778"
      ]
     },
     "execution_count": 52,
     "metadata": {},
     "output_type": "execute_result"
    }
   ],
   "source": [
    "(y == yhat).mean()"
   ]
  },
  {
   "cell_type": "code",
   "execution_count": 53,
   "metadata": {},
   "outputs": [
    {
     "data": {
      "text/plain": [
       "0.7777777777777778"
      ]
     },
     "execution_count": 53,
     "metadata": {},
     "output_type": "execute_result"
    }
   ],
   "source": [
    "(y == yhat).sum() / len(y)"
   ]
  },
  {
   "cell_type": "code",
   "execution_count": 54,
   "metadata": {},
   "outputs": [
    {
     "data": {
      "text/plain": [
       "0.7777777777777778"
      ]
     },
     "execution_count": 54,
     "metadata": {},
     "output_type": "execute_result"
    }
   ],
   "source": [
    "metrics.accuracy_score(y, yhat)"
   ]
  },
  {
   "cell_type": "markdown",
   "metadata": {},
   "source": [
    "#### Confusion Matrix"
   ]
  },
  {
   "cell_type": "code",
   "execution_count": 55,
   "metadata": {},
   "outputs": [
    {
     "data": {
      "text/plain": [
       "<sklearn.metrics._plot.confusion_matrix.ConfusionMatrixDisplay at 0x16ca43d0640>"
      ]
     },
     "execution_count": 55,
     "metadata": {},
     "output_type": "execute_result"
    },
    {
     "data": {
      "image/png": "[encoded data removed]",
      "text/plain": [
       "<Figure size 432x288 with 2 Axes>"
      ]
     },
     "metadata": {
      "needs_background": "light"
     },
     "output_type": "display_data"
    }
   ],
   "source": [
    "metrics.ConfusionMatrixDisplay.from_predictions(y, yhat)"
   ]
  },
  {
   "cell_type": "code",
   "execution_count": 56,
   "metadata": {},
   "outputs": [
    {
     "data": {
      "text/plain": [
       "array([ True,  True, False,  True,  True,  True, False,  True,  True])"
      ]
     },
     "execution_count": 56,
     "metadata": {},
     "output_type": "execute_result"
    }
   ],
   "source": [
    "y == yhat"
   ]
  },
  {
   "cell_type": "markdown",
   "metadata": {},
   "source": [
    "#### Precision"
   ]
  },
  {
   "cell_type": "code",
   "execution_count": 57,
   "metadata": {},
   "outputs": [
    {
     "data": {
      "text/plain": [
       "0.8"
      ]
     },
     "execution_count": 57,
     "metadata": {},
     "output_type": "execute_result"
    }
   ],
   "source": [
    "metrics.precision_score(y, yhat)"
   ]
  },
  {
   "cell_type": "code",
   "execution_count": 58,
   "metadata": {},
   "outputs": [
    {
     "data": {
      "text/plain": [
       "0.8"
      ]
     },
     "execution_count": 58,
     "metadata": {},
     "output_type": "execute_result"
    }
   ],
   "source": [
    "(yhat[yhat == 1] == y[yhat == 1]).mean()"
   ]
  },
  {
   "cell_type": "markdown",
   "metadata": {},
   "source": [
    "#### Recall"
   ]
  },
  {
   "cell_type": "code",
   "execution_count": 59,
   "metadata": {},
   "outputs": [
    {
     "data": {
      "text/plain": [
       "0.8"
      ]
     },
     "execution_count": 59,
     "metadata": {},
     "output_type": "execute_result"
    }
   ],
   "source": [
    "metrics.recall_score(y, yhat)"
   ]
  },
  {
   "cell_type": "markdown",
   "metadata": {},
   "source": [
    "#### F1 score"
   ]
  },
  {
   "cell_type": "code",
   "execution_count": 60,
   "metadata": {},
   "outputs": [
    {
     "data": {
      "text/plain": [
       "0.8000000000000002"
      ]
     },
     "execution_count": 60,
     "metadata": {},
     "output_type": "execute_result"
    }
   ],
   "source": [
    "metrics.f1_score(y, yhat)"
   ]
  },
  {
   "cell_type": "code",
   "execution_count": 61,
   "metadata": {},
   "outputs": [
    {
     "data": {
      "text/plain": [
       "0.8000000000000002"
      ]
     },
     "execution_count": 61,
     "metadata": {},
     "output_type": "execute_result"
    }
   ],
   "source": [
    "2*.8*.8/(1.6)"
   ]
  },
  {
   "cell_type": "code",
   "execution_count": 62,
   "metadata": {},
   "outputs": [
    {
     "data": {
      "text/plain": [
       "0.968421052631579"
      ]
     },
     "execution_count": 62,
     "metadata": {},
     "output_type": "execute_result"
    }
   ],
   "source": [
    "metrics.accuracy_score([0]*90 + [1]*5, [0]*93 + [1]*2,)"
   ]
  },
  {
   "cell_type": "code",
   "execution_count": 63,
   "metadata": {},
   "outputs": [
    {
     "data": {
      "text/plain": [
       "0.5714285714285715"
      ]
     },
     "execution_count": 63,
     "metadata": {},
     "output_type": "execute_result"
    }
   ],
   "source": [
    "metrics.f1_score([0]*90 + [1]*5, [0]*93 + [1]*2,)"
   ]
  },
  {
   "cell_type": "markdown",
   "metadata": {},
   "source": [
    "#### ROC AUC"
   ]
  }
 ],
 "metadata": {
  "kernelspec": {
   "display_name": "Python 3.9.7 ('base')",
   "language": "python",
   "name": "python3"
  },
  "language_info": {
   "codemirror_mode": {
    "name": "ipython",
    "version": 3
   },
   "file_extension": ".py",
   "mimetype": "text/x-python",
   "name": "python",
   "nbconvert_exporter": "python",
   "pygments_lexer": "ipython3",
   "version": "3.9.7"
  },
  "orig_nbformat": 4,
  "vscode": {
   "interpreter": {
    "hash": "e4cce46d6be9934fbd27f9ca0432556941ea5bdf741d4f4d64c6cd7f8dfa8fba"
   }
  }
 },
 "nbformat": 4,
 "nbformat_minor": 2
}
