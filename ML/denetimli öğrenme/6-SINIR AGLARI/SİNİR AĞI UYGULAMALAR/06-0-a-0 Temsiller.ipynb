{
 "cells": [
  {
   "cell_type": "code",
   "execution_count": 14,
   "metadata": {},
   "outputs": [],
   "source": [
    "from typing import List, Tuple\n",
    "import numpy as np"
   ]
  },
  {
   "cell_type": "markdown",
   "metadata": {},
   "source": [
    "# 1. Sinir Aginin Temsili"
   ]
  },
  {
   "cell_type": "markdown",
   "metadata": {},
   "source": [
    "Muteakip sorulari, asagidaki semada verilen sinir agina gore cevaplayiniz."
   ]
  },
  {
   "cell_type": "markdown",
   "metadata": {},
   "source": [
    "![](ag.svg)"
   ]
  },
  {
   "cell_type": "markdown",
   "metadata": {},
   "source": [
    "## 1.a. Anatomi"
   ]
  },
  {
   "cell_type": "markdown",
   "metadata": {},
   "source": [
    "### 1.a.I\n",
    "\n",
    "Sekilde verilen sinir aginin kac gizli katmani vardir?"
   ]
  },
  {
   "cell_type": "markdown",
   "metadata": {},
   "source": []
  },
  {
   "cell_type": "markdown",
   "metadata": {},
   "source": [
    "### 1.a.II\n",
    "\n",
    "Sekilde verilen sinir aginin ilk gizli katmaninda kac hucre bulunmaktadir?"
   ]
  },
  {
   "cell_type": "markdown",
   "metadata": {},
   "source": []
  },
  {
   "cell_type": "markdown",
   "metadata": {},
   "source": [
    "### 1.a.III\n",
    "\n",
    "x1=2 ve x2=3 olarak verilen bir ornek icin:\n",
    "\n",
    "- z1_1 elemaninin degeri nedir?\n",
    "- z1_2 elemaninin degeri nedir?"
   ]
  },
  {
   "cell_type": "markdown",
   "metadata": {},
   "source": []
  },
  {
   "cell_type": "markdown",
   "metadata": {},
   "source": [
    "### 1.a.IV\n",
    "\n",
    "`AND` islemini yapabilecek bir sinir agi tasarlayiniz.\n",
    "\n",
    "Sinir aginizin agirliklarini ve aktivasyonlarini acikca belirtiniz."
   ]
  },
  {
   "cell_type": "markdown",
   "metadata": {},
   "source": []
  },
  {
   "cell_type": "markdown",
   "metadata": {},
   "source": [
    "### 1.a.V\n",
    "\n",
    "`OR` islemini yapabilecek bir sinir agi tasarlayiniz.\n",
    "\n",
    "Sinir aginizin agirliklarini ve aktivasyonlarini acikca belirtiniz."
   ]
  },
  {
   "cell_type": "markdown",
   "metadata": {},
   "source": []
  },
  {
   "cell_type": "markdown",
   "metadata": {},
   "source": [
    "### 1.a.VI\n",
    "\n",
    "`XOR` islemini yapabilecek bir sinir agi tasarlayiniz.\n",
    "\n",
    "Sinir aginizin agirliklarini ve aktivasyonlarini acikca belirtiniz."
   ]
  },
  {
   "cell_type": "code",
   "execution_count": null,
   "metadata": {},
   "outputs": [],
   "source": []
  },
  {
   "cell_type": "markdown",
   "metadata": {},
   "source": [
    "## 1.b. Fonksiyonalite"
   ]
  },
  {
   "cell_type": "markdown",
   "metadata": {},
   "source": [
    "### 1.b.I\n",
    "\n",
    "Sinir aglari icin non-lineer aktivasyonlar neden onemlidir?"
   ]
  },
  {
   "cell_type": "markdown",
   "metadata": {},
   "source": []
  },
  {
   "cell_type": "markdown",
   "metadata": {},
   "source": [
    "### 1.b.II\n",
    "\n",
    "Sinir aglarinda aktivasyon maksadiyla siklikla kullanilan ReLU (Rectified Linear Unit) fonksiyonu asagidaki gibi tanimlanmaktadir:\n",
    "\n",
    "$$ \\operatorname{ReLU}{\\left(x \\right)} = \\begin{cases} 0 & \\text{for}\\: x < 0 \\\\x & \\text{otherwise} \\end{cases} $$\n",
    "\n",
    "(Alternatif olarak $ReLU(x) = \\max{(x, 0)}$ yazilabilir.)\n",
    "\n",
    "ReLU aktivasyonunu numpy.ndarray veri tipi uzerinde gerceklestirebilecek bir fonksiyon yaziniz. \n",
    ">Fonksiyonunuzu yazarken `if-else` kosullari kullanmayiniz."
   ]
  },
  {
   "cell_type": "code",
   "execution_count": 11,
   "metadata": {},
   "outputs": [],
   "source": [
    "def relu(x: np.ndarray) -> np.ndarray:\n",
    "    return None"
   ]
  },
  {
   "cell_type": "markdown",
   "metadata": {},
   "source": [
    "### 1.b.III\n",
    "\n",
    "Sekilde verilen sinir aginda gizli katmanlarda ReLU aktivasyon fonksiyonu kullanildigina gore, `x1=2` ve `x2=3` olarak verilen bir ornek icin:\n",
    "\n",
    "- z1_1 elemaninin degeri nedir?\n",
    "- a1_1 elemaninin degeri nedir?\n",
    "- a1_2 elemaninin degeri nedir?\n",
    "- a2_1 elemaninin degeri nedir?\n",
    "- a2_2 elemaninin degeri nedir?\n",
    "- z3_1 elemaninin degeri nedir?"
   ]
  },
  {
   "cell_type": "markdown",
   "metadata": {},
   "source": []
  },
  {
   "cell_type": "markdown",
   "metadata": {},
   "source": [
    "### 1.b.IV\n",
    "\n",
    "Ikili tasniflendirme maksadiyla kullanilan sinir aglarinin cikis katmanindaki aktivasyon olarak *sigmoid* fonksiyonu kullanilir.\n",
    "\n",
    "Sigmoid fonksiyonu asagidaki gibi tanimlanmaktadir:\n",
    "\n",
    "$$ \\operatorname{sigmoid}{\\left(x \\right)} = \\frac{1}{1+e^{-x}} $$\n",
    "\n",
    "Verilen bir `numpy.ndarray` tipindeki girdi icin sigmoid aktivasyonunu gerceklestirecek fonksiyonu yaziniz."
   ]
  },
  {
   "cell_type": "code",
   "execution_count": 12,
   "metadata": {},
   "outputs": [],
   "source": [
    "def sigmoid(x: np.ndarray) -> np.ndarray:\n",
    "    return None"
   ]
  },
  {
   "cell_type": "markdown",
   "metadata": {},
   "source": [
    "## 1.c. Vektorel Temsil"
   ]
  },
  {
   "cell_type": "markdown",
   "metadata": {},
   "source": [
    "### 1.c.I\n",
    "\n",
    "Sekilde verilen sinir aginin agirliklarini `numpy.ndarray` matrisleri seklinde yaziniz."
   ]
  },
  {
   "cell_type": "code",
   "execution_count": null,
   "metadata": {},
   "outputs": [],
   "source": []
  },
  {
   "cell_type": "markdown",
   "metadata": {},
   "source": [
    "### 1.c.II\n",
    "\n",
    "Sekilde verilen sinir aginin `i`'nci katmani icin asagidaki formulleri tamamlayiniz. Ifadelerinizi diger katman ve agirliklar cinsinden uygun bicimde yaziniz."
   ]
  },
  {
   "cell_type": "markdown",
   "metadata": {},
   "source": [
    "$$ Z_i = ? (i \\gt 0\\ icin)$$\n",
    "$$ A_i = ?  (i \\gt 0\\ icin)$$"
   ]
  },
  {
   "cell_type": "markdown",
   "metadata": {},
   "source": [
    "### 1.c.III\n",
    "\n",
    "`(m, 2)` boyutlu bir girdiyi alip sinir agi boyunca ilerleten fonksiyonu yaziniz.\n",
    "\n",
    "Gizli katman aktivasyonlarinda *ReLU*, cikti katmani aktivasyonunda *sigmoid* fonksiyonunu kullaniniz.\n",
    "\n",
    "> Kodunuzda **hardcoded** ifadelerden kacininiz. \n",
    "> \n",
    "> Kodunuzu herhangi bir derinlikte verilen sinir agi icin calisabilecek sekilde dizayn ediniz.\n",
    ">\n",
    "> `I.c.II`'de yapmis oldugunuz tanimlamalardan ve dongulerden etkin bicimde yararlaniniz.\n",
    ">\n",
    "> Cikti katmanina ek olarak, $A_i$ ve $Z_i$ ifadelerini de fonksiyonunuzun ciktisi olarak veriniz."
   ]
  },
  {
   "cell_type": "code",
   "execution_count": 9,
   "metadata": {},
   "outputs": [],
   "source": []
  },
  {
   "cell_type": "code",
   "execution_count": 16,
   "metadata": {},
   "outputs": [],
   "source": [
    "def feedForward(\n",
    "        X: np.ndarray, \n",
    "        agirliklar: List[np.ndarray]\n",
    "        ) -> Tuple[np.ndarray, List[np.ndarray], List[np.ndarray]]:\n",
    "    # Bu kismi tamamlayiniz.\n",
    "    # Donutteki None ibarelerini uygun ifadelerle degistiriniz.\n",
    "    return None, None, None\n"
   ]
  },
  {
   "cell_type": "markdown",
   "metadata": {},
   "source": [
    "### 1.c.IV\n",
    "\n",
    "Yukarida yazmis oldugunuz fonksiyondan yararlanarak asagidaki girdi icin su sorulari cevaplayiniz:\n",
    "\n",
    "$x_1=2$ ve $x_2=3$ olarak verilen bir ornek icin:\n",
    "\n",
    "- z1_1 elemaninin degeri nedir?\n",
    "- a1_1 elemaninin degeri nedir?\n",
    "- a1_2 elemaninin degeri nedir?\n",
    "- Cikti degeri nedir?\n"
   ]
  },
  {
   "cell_type": "code",
   "execution_count": 17,
   "metadata": {},
   "outputs": [],
   "source": [
    "X = np.array([[2, 3]])\n",
    "\n",
    "# Fonksiyonunuzu kullanarak kodu tamamlayiniz."
   ]
  },
  {
   "cell_type": "markdown",
   "metadata": {},
   "source": [
    "## 1.d. Parametre Sayilari\n",
    "\n"
   ]
  },
  {
   "cell_type": "markdown",
   "metadata": {},
   "source": [
    "### 1.d.I\n",
    "\n",
    "Yukarida egitmis oldugunuz modelde kac adet parametre vardi?"
   ]
  },
  {
   "cell_type": "markdown",
   "metadata": {},
   "source": []
  },
  {
   "cell_type": "markdown",
   "metadata": {},
   "source": [
    "### 1.d.II\n",
    "\n",
    "- Girdi katman boyutu 4,\n",
    "- 1. gizli katman boyutu 30,\n",
    "- 2. gizli katman boyutu 30,\n",
    "- 3. gizli katman boyutu 4,\n",
    "- 4. gizli katman boyutu 8,\n",
    "- Cikti katman boyutu 1,\n",
    "- Aktivasyon fonksiyonu *ReLU*,\n",
    "- Intersept parametreleri mevcut\n",
    "\n",
    "olan bir sinir aginda kac parametre vardir?"
   ]
  },
  {
   "cell_type": "markdown",
   "metadata": {},
   "source": []
  }
 ],
 "metadata": {
  "kernelspec": {
   "display_name": "Python 3.8.12 ('cons1')",
   "language": "python",
   "name": "python3"
  },
  "language_info": {
   "codemirror_mode": {
    "name": "ipython",
    "version": 3
   },
   "file_extension": ".py",
   "mimetype": "text/x-python",
   "name": "python",
   "nbconvert_exporter": "python",
   "pygments_lexer": "ipython3",
   "version": "3.8.12"
  },
  "orig_nbformat": 4,
  "vscode": {
   "interpreter": {
    "hash": "a571a25d3379e9645cc932b401c674531bbcf658e9b176b05ab9004deb2f65c4"
   }
  }
 },
 "nbformat": 4,
 "nbformat_minor": 2
}
