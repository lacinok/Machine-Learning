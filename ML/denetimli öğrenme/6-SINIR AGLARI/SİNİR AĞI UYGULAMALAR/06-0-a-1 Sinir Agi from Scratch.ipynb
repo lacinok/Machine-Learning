{
 "cells": [
  {
   "cell_type": "markdown",
   "metadata": {},
   "source": [
    "# Dataset"
   ]
  },
  {
   "cell_type": "markdown",
   "metadata": {},
   "source": [
    "Asagida verilen dataseti tasniflendirmek icin bir modele ihtiyac duyulmaktadir. Sekilde de goruldugu uzere, siniflari ayiran bir dogru, feature uzayinda mevcut degildir.\n",
    "\n",
    "Problemin cozumu icin bir sinir agi kullanacagiz."
   ]
  },
  {
   "cell_type": "code",
   "execution_count": null,
   "metadata": {},
   "outputs": [],
   "source": [
    "from ml_utils import make_sekil\n",
    "import numpy as np\n",
    "import matplotlib.pyplot as plt"
   ]
  },
  {
   "cell_type": "code",
   "execution_count": null,
   "metadata": {},
   "outputs": [],
   "source": [
    "X, y = make_sekil(span=8, samples=200, n_redundant=0, random_state=42)\n",
    "y = np.array(y)[:, None]"
   ]
  },
  {
   "cell_type": "code",
   "execution_count": null,
   "metadata": {},
   "outputs": [],
   "source": [
    "plt.scatter(*X.T, c=y)"
   ]
  },
  {
   "cell_type": "markdown",
   "metadata": {},
   "source": [
    "# Sinir Agi Parcalari"
   ]
  },
  {
   "cell_type": "markdown",
   "metadata": {},
   "source": [
    "Sinir agi mimarisini, zincir turev kuralini ve donguleri bildigimize gore artik kendi sinir agimizi sifirdan kodlayacak tum donanima sahibiz.\n",
    "\n",
    "Sinir agimiz sirasiyla asagidaki alt rutinlere ihtiyac duyacaktir:\n",
    "- `activation_function`: Sinir agimizin ihtiyac duydugu hayati non-lineer donusum\n",
    "- `initialize_weights`: Verilen mimariye gore ilk agirliklari olusturma\n",
    "- `forward`: Verilen datayi ve katsayilari kullanarak bir *feed-forward* islemi\n",
    "- `backpropagate`: Zincir seklinde turevleri hesaplayip katsayilari guncelleme islemi"
   ]
  },
  {
   "cell_type": "markdown",
   "metadata": {},
   "source": [
    "## Isinma: Aktivasyon"
   ]
  },
  {
   "cell_type": "markdown",
   "metadata": {},
   "source": [
    "Sinir agimizi lineer regresyondan ayiran en onemli seyin non-lineer aktivasyonlar oldugunu gormustuk. Simdi kullanilabilecek aktivasyon turlerinden biri olan `sigmoid` aktivasyon fonksiyonunu kodlayalim:"
   ]
  },
  {
   "cell_type": "code",
   "execution_count": null,
   "metadata": {},
   "outputs": [],
   "source": [
    "def sigmoid(x):\n",
    "    return None"
   ]
  },
  {
   "cell_type": "markdown",
   "metadata": {},
   "source": [
    "## Agirliklari ve interseptleri baslatma"
   ]
  },
  {
   "cell_type": "markdown",
   "metadata": {},
   "source": []
  },
  {
   "cell_type": "code",
   "execution_count": null,
   "metadata": {},
   "outputs": [],
   "source": [
    "def initialize_weights(input_size, hidden_layers, output_size):\n",
    "    \"\"\"Verilen mimariye gore katmanların ağırlıklarının initialize edilmesi.\n",
    "\n",
    "    Girdiler:\n",
    "    ----\n",
    "    input_size: int\n",
    "        Girdi katmanın boyutu. Datasetimizdeki feature sayisi.\n",
    "    hidden_layers: List[int]\n",
    "        Gizli katmanların boyutları. Ornegin, [3, 4, 2] gibi...\n",
    "    output_size: int\n",
    "        Çıktı katmanın boyutu. Datasetimizdeki target sayisi.\n",
    "\n",
    "    Cikti:\n",
    "    ----\n",
    "    betas: List[np.array]\n",
    "        Gizli katmanların ağırlıkları.\n",
    "    intercepts: List[np.array]\n",
    "        Gizli katmanların interceptleri.\n",
    "    \n",
    "    \"\"\"\n",
    "    input_layer = input_size\n",
    "    output_layer = output_size\n",
    "\n",
    "    betas = [None] * (len(hidden_layers) + 1) # +1 cikti katmani icin\n",
    "    intercepts = [None] * (len(hidden_layers) + 1) # her katsayi matrisi icin bir de intersepte ihtiyac var\n",
    "    n = len(betas) + 1\n",
    "\n",
    "\n",
    "    # Baslangic kosullari:\n",
    "    betas[0] = np.random.randn(None, hidden_layers[0])  # ilk katsayi matrisinin boyutu kac olmali?\n",
    "\n",
    "    # her intersept degeri, bagli oldugu katsayi matrisinin ikinci boyutu\n",
    "    # buyuklugunde olmalidir.\n",
    "    intercepts[0] = np.random.randn(hidden_layers[0])\n",
    "\n",
    "    # Aradaki katsayilar:\n",
    "    for i in range(1, n-2):\n",
    "        betas[i] = np.random.randn(None, None) # dogru boyutlari belirtiniz\n",
    "        intercepts[i] = np.random.randn(None) # dogru boyutu belirtiniz\n",
    "    \n",
    "    # Bitis:\n",
    "    betas[n - 2] = np.random.randn(None, None)  # Son gizli aktivasyonu ciktiya goturecek agirlik boyutu nedir?\n",
    "    intercepts[n - 2] = np.random.randn(None)  # Cikti icin dogru intersept boyutunu giriniz.\n",
    "\n",
    "    # Dogru donusleri, dokumentasyondaki sirada yapiniz.\n",
    "    return None, None"
   ]
  },
  {
   "cell_type": "markdown",
   "metadata": {},
   "source": [
    "## Feed-forward"
   ]
  },
  {
   "cell_type": "markdown",
   "metadata": {},
   "source": [
    "Feed-forward icin asagidaki notasyonu kullanabiliriz:\n",
    "\n",
    "$$a_0 = X$$\n",
    "\n",
    "$$ z_1 = X \\beta_0 + sabit_0$$\n",
    "$$ a_1 = \\sigma(z_1)$$\n",
    "$$ ... $$\n",
    "$$ z_i = a_{i-1} \\beta_{i-1} + sabit_{i - 1} $$\n",
    "$$ a_i = \\sigma(z_i)$$\n",
    "$$ ... $$\n",
    "$$ \\hat{y} = a_{n-1}$$\n"
   ]
  },
  {
   "cell_type": "code",
   "execution_count": null,
   "metadata": {},
   "outputs": [],
   "source": [
    "def forward(X, y, betas, intercepts, reg=0.0):\n",
    "    \"\"\"Verilen girdi ve ağırlıklari kullanarak ileri besleme yapar.\n",
    "    \n",
    "    Girdiler:\n",
    "    ----\n",
    "    X: np.array\n",
    "        Girdi verileri.\n",
    "    y: np.array\n",
    "        Cikti verileri.\n",
    "    betas: List[np.array]\n",
    "        Gizli katmanların ağırlıkları.\n",
    "    intercepts: List[np.array]\n",
    "        Gizli katmanların interceptleri.\n",
    "    reg: float\n",
    "        Regularizasyon katsayisi. Maliyet hesabinda kullanilir.\n",
    "\n",
    "    Cikti:\n",
    "    ----\n",
    "    yhat: np.array\n",
    "        Ileri besleme sonucu.\n",
    "    a: List[np.array]\n",
    "        Gizli katmanların aktivasyonları.\n",
    "    J: float\n",
    "        Maliyet.\n",
    "    \"\"\"\n",
    "    n = len(betas) + 1\n",
    "    a = [None] * n\n",
    "    z = [None] * n\n",
    "\n",
    "    a[0] = None # ilk aktivasyon icin dogru baslangic degerini ayarlayiniz\n",
    "    for i in range(1, n):\n",
    "        z[i] = None # yukaridaki formule gore uygun ifadeyi yaziniz.\n",
    "        a[i] = None # Uygun aktivasyonu yapiniz.\n",
    "\n",
    "    yhat = a[n-1]\n",
    "    J = np.sum(-y * np.log(yhat) - (1 - y) * np.log(1 - yhat)) + reg * sum((betas[i] ** 2).sum() for i in range(n-1))\n",
    "\n",
    "    # Dokumentasyona uygun sirada dogru degiskenleri dondurunuz.\n",
    "    # Geri yayilimda ihtiyacimiz olacagi icin hesaplanan aktivasyonlari dondurmeyi unutmayiniz.\n",
    "    return None, None, None\n"
   ]
  },
  {
   "cell_type": "markdown",
   "metadata": {},
   "source": [
    "## Backpropagation"
   ]
  },
  {
   "cell_type": "markdown",
   "metadata": {},
   "source": [
    "Geri yayilim icin turevleri zincir seklinde geri dogru hesaplayabiliriz.\n",
    "\n",
    "Bu maksatla asagidaki notasyonu kullanabiliriz:"
   ]
  },
  {
   "cell_type": "markdown",
   "metadata": {},
   "source": [
    "Baslangic kosulu:\n",
    "$$ a_{n-1} = \\hat{y} $$\n",
    "olduguna gore\n",
    "$$\\frac{dJ}{da_{n-1}} = \\frac{1-y}{1 - a_{n-1}} - \\frac{y}{a_{n-1}}$$\n",
    "$$ \\frac{dJ}{dz_{n-1}} = a_{n-1} (1 - a_{n-1}) \\frac{dJ}{da_{n-1}} $$\n",
    "\n",
    "`n-2`'den `0`'a kadar:\n",
    "\n",
    "$$ \\frac{dJ}{da_i} = \\frac{dJ}{dz_{i+1}} \\beta_i^T $$\n",
    "$$ \\frac{dJ}{dz_i} = a_i (1 - a_i) \\frac{dJ}{da_i}$$"
   ]
  },
  {
   "cell_type": "markdown",
   "metadata": {},
   "source": [
    "### Guncelleme kurallari"
   ]
  },
  {
   "cell_type": "markdown",
   "metadata": {},
   "source": [
    "#### Turevler"
   ]
  },
  {
   "cell_type": "markdown",
   "metadata": {},
   "source": [
    "`i=0`'dan `len(beta)`'ya kadar:\n",
    "\n",
    "$$ \\frac{dJ}{d\\beta_i} = a_i^T \\frac{dJ}{dz_{i + 1}} + \\lambda \\beta_i$$\n",
    "$$ \\frac{dJ}{dsabit_i} = 1 ^T \\frac{dJ}{dz_{i + 1}}$$"
   ]
  },
  {
   "cell_type": "markdown",
   "metadata": {},
   "source": [
    "#### Soru: Guncellemeler"
   ]
  },
  {
   "cell_type": "markdown",
   "metadata": {},
   "source": [
    "$\\beta_i$ ve $sabit_i$ icin, elinizdeki turevleri ve ogrenme orani $\\alpha$'yi kullanarak guncelleme formulunu yaziniz:\n",
    "\n",
    "\n",
    "$$ formulunuzu\\ buraya\\ yaziniz$$"
   ]
  },
  {
   "cell_type": "code",
   "execution_count": null,
   "metadata": {},
   "outputs": [],
   "source": [
    "def backpropagate(betas, intercepts, a, y, lr, reg=0.0):\n",
    "    n = len(betas) + 1\n",
    "\n",
    "    da = [None] * n\n",
    "    dz = [None] * n\n",
    "    dint = [None] * n\n",
    "\n",
    "    ## Baslangic kosullari:\n",
    "    # Yukaridaki notasyonlardan uygun baslangic kosulunu bulup doldurunuz.\n",
    "    da[n - 1] = None\n",
    "    dz[n - 1] = None\n",
    "\n",
    "\n",
    "    # Aktivasyon ve lineer kisimlarin turevleri\n",
    "    ## Dongude her da[i] ve dz[i] degeri icin dogru ifadeleri notasyondan yararlanarak yaziniz.\n",
    "    for i in range(n-2, -1, -1):\n",
    "        da[i] = None\n",
    "        dz[i] = None\n",
    "\n",
    "    dbeta = [None] * len(betas)\n",
    "\n",
    "    for i in range(len(betas)):\n",
    "        # Her beta[i] parametresi icin turevi hesaplayacak uygun ifadeyi yaziniz. \n",
    "        dbeta[i] = None  # Opsiyonel regularizasyon kismina dikkat ediniz.\n",
    "        dint[i] = dz[i + 1].sum(axis=0)  # 1'ler matrisiyle carpmayi bu sekilde yorumlayabilirsiniz.\n",
    "\n",
    "    for i in range(len(betas)):\n",
    "        # Hesaplmais oldugunuz turevleri kullanarak parametreleri uygun sekilde guncelleyiniz.\n",
    "        # i'nci parametre betas[i]'nin turevine dbetas[i] ile ulasabilirsiniz.\n",
    "        betas[i] = None\n",
    "\n",
    "        # i'nci intersept intercepts[i]'nin turevine dint[i] ile ulasabilirsiniz.\n",
    "        intercepts[i] = None\n",
    "\n",
    "    return betas, intercepts\n",
    "\n",
    "    "
   ]
  },
  {
   "cell_type": "markdown",
   "metadata": {},
   "source": [
    "#### Algoritmamizi test edelim"
   ]
  },
  {
   "cell_type": "code",
   "execution_count": null,
   "metadata": {},
   "outputs": [],
   "source": [
    "betas, intercepts = initialize_weights(input_size=2, hidden_layers=[20, 20, 20], output_size=1)\n",
    "LAMDA = 0.01"
   ]
  },
  {
   "cell_type": "code",
   "execution_count": null,
   "metadata": {},
   "outputs": [],
   "source": [
    "for i in range(1000):\n",
    "    yhat, a, J = forward(X, y, betas, intercepts, reg=LAMDA)\n",
    "    betas, intercepts = backpropagate(betas, intercepts, a, y, lr=0.001, reg=LAMDA)"
   ]
  },
  {
   "cell_type": "code",
   "execution_count": null,
   "metadata": {},
   "outputs": [],
   "source": [
    "xx, yy = np.meshgrid(np.linspace(-8, 8, 100), np.linspace(-8, 8, 100))\n",
    "X_grid = np.c_[xx.ravel(), yy.ravel()]\n",
    "y_grid = forward(X_grid, X_grid, betas, intercepts)[0].reshape(xx.shape)\n",
    "plt.contourf(xx, yy, y_grid, cmap=plt.cm.coolwarm, alpha=0.8)\n",
    "plt.scatter(*X.T, c=y)"
   ]
  },
  {
   "cell_type": "markdown",
   "metadata": {},
   "source": [
    "## Sinir Agi Class'i"
   ]
  },
  {
   "cell_type": "markdown",
   "metadata": {},
   "source": [
    "Bir `class` yazarak, sinir agi agirliklarini ve interseptlerini ortalikta dolastirmadan, tek bir yapi icerisinde tutabiliriz."
   ]
  },
  {
   "cell_type": "code",
   "execution_count": null,
   "metadata": {},
   "outputs": [],
   "source": [
    "class SinirAgi:\n",
    "    def __init__(self, input_size, hidden_layers, output_size, lr=0.01, reg=0.0):\n",
    "\n",
    "        # ALinan argumanlardan da yararlanarak, attribute'leri uygun sekilde atayiniz.\n",
    "        self.betas, self.intercepts = None  # Agirlik ve interseptleri rastgele baslatacak fonksiyonu kullaniniz\n",
    "        self.lr = None\n",
    "        self.reg = None\n",
    "\n",
    "        # Diyagnostik icin\n",
    "        self.loss = []\n",
    "        self.accuracy = []\n",
    "\n",
    "    def fit(self, X, y, epochs=100):\n",
    "        if y.ndim == 1:\n",
    "            y = y[:, None]\n",
    "\n",
    "        for i in range(epochs):\n",
    "            # Uygun alt rutinleri kullaniniz:\n",
    "            yhat, a, J = None  # Feedforward islemini gerceklestirecek alt rutini kullaniniz.\n",
    "            self.betas, self.intercepts = # Backpropagation islemini gerceklestirecek alt rutini kullaniniz.\n",
    "            self.loss.append(J)\n",
    "            self.accuracy.append(np.mean(y == yhat))\n",
    "\n",
    "    def predict(self, X):\n",
    "        # Alt rutinin argumanlarini uygun sekilde doldurunuz.\n",
    "        yhat, a, _ = forward(X, X, betas=None, intercepts=None, reg=None, lr=None)\n",
    "        return yhat"
   ]
  },
  {
   "cell_type": "code",
   "execution_count": null,
   "metadata": {},
   "outputs": [],
   "source": [
    "# Sinir agi nesnenizi tanimlayin:\n",
    "# Girdi katman buyuklugu 2\n",
    "# Tek gizli katman: 30\n",
    "# Cikti katman buyuklugu 1\n",
    "# Ogrenme orani 0.001\n",
    "# Regularizasyon 0.01\n",
    "\n",
    "sa = None"
   ]
  },
  {
   "cell_type": "code",
   "execution_count": null,
   "metadata": {},
   "outputs": [],
   "source": [
    "# Sinir aginizi X ve y degiskenleri uzerinde 1000 iterasyon boyunca egitiniz.\n",
    "None"
   ]
  },
  {
   "cell_type": "code",
   "execution_count": null,
   "metadata": {},
   "outputs": [],
   "source": [
    "xx, yy = np.meshgrid(np.linspace(-8, 8, 100), np.linspace(-8, 8, 100))\n",
    "X_grid = np.c_[xx.ravel(), yy.ravel()]\n",
    "y_grid = sa.predict(X_grid).reshape(xx.shape)\n",
    "\n",
    "plt.figure(figsize=(16, 4))\n",
    "plt.subplot(1, 2, 1)\n",
    "plt.contourf(xx, yy, y_grid, cmap=plt.cm.coolwarm, alpha=0.8)\n",
    "plt.scatter(*X.T, c=y)\n",
    "\n",
    "plt.subplot(1, 2, 2)\n",
    "plt.plot(sa.loss)"
   ]
  },
  {
   "cell_type": "markdown",
   "metadata": {},
   "source": [
    "### Sinir Agi Class'ni seffaflastirma\n",
    "\n",
    "Hazirlamis oldugunuz `SinirAgi` class'inin gizli katman ciktilarini inceleyebilmek istiyorsunuz.\n",
    "\n",
    "Bu maksatla `SeffafSinirAgi` isimli bir alt sinif olusturup `aktivasyon_al` metodunu ekleyebiliriz.\n",
    "\n",
    "`.aktivasyon_al(X, i)` metodu, verilen data icin agimizdaki `i`'nci aktivasyonu vize geri dondurmeli.\n",
    "> `a[0] = X` olduguna dikkat ediniz."
   ]
  },
  {
   "cell_type": "code",
   "execution_count": null,
   "metadata": {},
   "outputs": [],
   "source": [
    "class SeffafSinirAgi(SinirAgi):\n",
    "    def aktivasyon_al(self, X, i):\n",
    "        \"\"\"i'nci gizli katmanin aktivasyonunu getir.\n",
    "        \n",
    "        Argumanlar:\n",
    "            X: np.ndarray, X değerleri\n",
    "            i: int, aktivasyonunu getirilecek gizli katmanın indisi\n",
    "        Donus:\n",
    "            aktivasyondegeri: np.ndarray, aktivasyon değerleri\n",
    "\n",
    "        Notlar:\n",
    "            a[0] = X olduguna dikkat ediniz. i = 0 verilirse fonksiyon X'i döndürür.\n",
    "        \"\"\"\n",
    "        yhat, a, _ = forward(X, X, self.betas, self.intercepts, self.reg)\n",
    "        # Uygun degeri seciniz.\n",
    "        aktivasyondegeri = None\n",
    "        return aktivasyondegeri"
   ]
  },
  {
   "cell_type": "markdown",
   "metadata": {},
   "source": [
    "Kurmus oldugumuz alt sinifi asagida test edelim:"
   ]
  },
  {
   "cell_type": "code",
   "execution_count": null,
   "metadata": {},
   "outputs": [],
   "source": [
    "ssa = SeffafSinirAgi(2, [30, 30, 3], 1, lr=0.01, reg=0.001)\n",
    "ssa.fit(X, y, 1000)\n",
    "\n",
    "xx, yy = np.meshgrid(np.linspace(-8, 8, 100), np.linspace(-8, 8, 100))\n",
    "X_grid = np.c_[xx.ravel(), yy.ravel()]\n",
    "y_grid = ssa.predict(X_grid).reshape(xx.shape)\n",
    "\n",
    "plt.figure(figsize=(16, 4))\n",
    "plt.subplot(1, 2, 1)\n",
    "plt.contourf(xx, yy, y_grid, cmap=plt.cm.coolwarm, alpha=0.8)\n",
    "plt.scatter(*X.T, c=y)\n",
    "\n",
    "plt.subplot(1, 2, 2)\n",
    "plt.plot(ssa.loss);"
   ]
  },
  {
   "cell_type": "markdown",
   "metadata": {},
   "source": [
    "Gizli katman `3`'un gorsellestirilmesi icin 3 boyutlu bir *scatterplot* kullaniniz.\n",
    "\n",
    "> Neden 3 boyutlu bir gorsele ihtiyacimiz var?"
   ]
  },
  {
   "cell_type": "code",
   "execution_count": null,
   "metadata": {},
   "outputs": [],
   "source": [
    "%matplotlib qt5\n",
    "None"
   ]
  }
 ],
 "metadata": {
  "kernelspec": {
   "display_name": "Python 3.8.12 ('cons1')",
   "language": "python",
   "name": "python3"
  },
  "language_info": {
   "codemirror_mode": {
    "name": "ipython",
    "version": 3
   },
   "file_extension": ".py",
   "mimetype": "text/x-python",
   "name": "python",
   "nbconvert_exporter": "python",
   "pygments_lexer": "ipython3",
   "version": "3.8.12"
  },
  "orig_nbformat": 4,
  "vscode": {
   "interpreter": {
    "hash": "a571a25d3379e9645cc932b401c674531bbcf658e9b176b05ab9004deb2f65c4"
   }
  }
 },
 "nbformat": 4,
 "nbformat_minor": 2
}
