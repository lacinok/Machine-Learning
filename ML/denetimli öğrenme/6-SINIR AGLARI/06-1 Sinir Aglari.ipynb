{
  "nbformat": 4,
  "nbformat_minor": 0,
  "metadata": {
    "colab": {
      "name": "SinirAglari.ipynb",
      "provenance": []
    },
    "kernelspec": {
      "name": "python3",
      "display_name": "Python 3"
    },
    "language_info": {
      "name": "python"
    }
  },
  "cells": [
    {
      "cell_type": "code",
      "execution_count": null,
      "metadata": {
        "id": "d6crB7QhvsaZ"
      },
      "outputs": [],
      "source": [
        ""
      ]
    },
    {
      "cell_type": "code",
      "source": [
        "import numpy as np"
      ],
      "metadata": {
        "id": "xeYvOE9b35L3"
      },
      "execution_count": 1,
      "outputs": []
    },
    {
      "cell_type": "code",
      "source": [
        "def sigmoid(x):\n",
        "  return 1/(1+np.exp(-x))"
      ],
      "metadata": {
        "id": "wNxebB7x4rg9"
      },
      "execution_count": 2,
      "outputs": []
    },
    {
      "cell_type": "code",
      "source": [
        "sigmoid(sigmoid(-1)* 0.5 + sigmoid(3)*1)"
      ],
      "metadata": {
        "colab": {
          "base_uri": "https://localhost:8080/"
        },
        "id": "7NQMPaM74zju",
        "outputId": "4d2fec31-e869-4577-8e06-11418eec704e"
      },
      "execution_count": 6,
      "outputs": [
        {
          "output_type": "execute_result",
          "data": {
            "text/plain": [
              "0.747824836888196"
            ]
          },
          "metadata": {},
          "execution_count": 6
        }
      ]
    },
    {
      "cell_type": "code",
      "source": [
        "X = np.array([\n",
        "    [4,5]\n",
        "])"
      ],
      "metadata": {
        "id": "MOymX1YD6x-_"
      },
      "execution_count": 7,
      "outputs": []
    },
    {
      "cell_type": "code",
      "source": [
        "X.shape"
      ],
      "metadata": {
        "colab": {
          "base_uri": "https://localhost:8080/"
        },
        "id": "xM8Sr-V26zEP",
        "outputId": "1008b4d5-c1ce-4724-95e6-e301bf582331"
      },
      "execution_count": 8,
      "outputs": [
        {
          "output_type": "execute_result",
          "data": {
            "text/plain": [
              "(1, 2)"
            ]
          },
          "metadata": {},
          "execution_count": 8
        }
      ]
    },
    {
      "cell_type": "code",
      "source": [
        "W1 = np.array([\n",
        "    [1, 2],\n",
        "    [-1,-1]\n",
        "])\n"
      ],
      "metadata": {
        "id": "bgyBKzuj43F-"
      },
      "execution_count": 9,
      "outputs": []
    },
    {
      "cell_type": "code",
      "source": [
        "W1.shape"
      ],
      "metadata": {
        "colab": {
          "base_uri": "https://localhost:8080/"
        },
        "id": "VTUfT_vx7E63",
        "outputId": "34f4c717-c217-443a-cae0-d7675f885c3d"
      },
      "execution_count": 10,
      "outputs": [
        {
          "output_type": "execute_result",
          "data": {
            "text/plain": [
              "(2, 2)"
            ]
          },
          "metadata": {},
          "execution_count": 10
        }
      ]
    },
    {
      "cell_type": "code",
      "source": [
        "Z1 = X @ W1\n",
        "Z1"
      ],
      "metadata": {
        "colab": {
          "base_uri": "https://localhost:8080/"
        },
        "id": "wUKo16BU7GL3",
        "outputId": "09ffacc6-b097-4f36-e4ac-036e8359f3ab"
      },
      "execution_count": 12,
      "outputs": [
        {
          "output_type": "execute_result",
          "data": {
            "text/plain": [
              "array([[-1,  3]])"
            ]
          },
          "metadata": {},
          "execution_count": 12
        }
      ]
    },
    {
      "cell_type": "markdown",
      "source": [
        "![image.png](data:image/png;base64,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)"
      ],
      "metadata": {
        "id": "0xW24Zm434Wp"
      }
    },
    {
      "cell_type": "code",
      "source": [
        "A1 = sigmoid(Z1)\n",
        "A1"
      ],
      "metadata": {
        "colab": {
          "base_uri": "https://localhost:8080/"
        },
        "id": "voMNJ9IS7OLv",
        "outputId": "5c5588f9-f7a4-4b87-c509-3ad8ef67f4c5"
      },
      "execution_count": 13,
      "outputs": [
        {
          "output_type": "execute_result",
          "data": {
            "text/plain": [
              "array([[0.26894142, 0.95257413]])"
            ]
          },
          "metadata": {},
          "execution_count": 13
        }
      ]
    },
    {
      "cell_type": "code",
      "source": [
        "W2 = np.array([\n",
        "    [0.5],\n",
        "    [1]\n",
        "])"
      ],
      "metadata": {
        "id": "_YfyHaCR73Gg"
      },
      "execution_count": 14,
      "outputs": []
    },
    {
      "cell_type": "code",
      "source": [
        "Z2 = A1 @ W2\n",
        "Z2"
      ],
      "metadata": {
        "colab": {
          "base_uri": "https://localhost:8080/"
        },
        "id": "CrH2VFgQ8BQI",
        "outputId": "befe287e-950f-4e08-93fa-59e90a97e720"
      },
      "execution_count": 15,
      "outputs": [
        {
          "output_type": "execute_result",
          "data": {
            "text/plain": [
              "array([[1.08704484]])"
            ]
          },
          "metadata": {},
          "execution_count": 15
        }
      ]
    },
    {
      "cell_type": "code",
      "source": [
        "A2 = sigmoid(Z2)\n",
        "A2"
      ],
      "metadata": {
        "colab": {
          "base_uri": "https://localhost:8080/"
        },
        "id": "YMI_-N0w8RCH",
        "outputId": "57834442-c072-459a-9b07-4853c3766e15"
      },
      "execution_count": 16,
      "outputs": [
        {
          "output_type": "execute_result",
          "data": {
            "text/plain": [
              "array([[0.74782484]])"
            ]
          },
          "metadata": {},
          "execution_count": 16
        }
      ]
    },
    {
      "cell_type": "markdown",
      "source": [
        "# Multi Layer Perceptron (MLP)"
      ],
      "metadata": {
        "id": "wCzXHH188gEZ"
      }
    },
    {
      "cell_type": "code",
      "source": [
        "from sklearn import neural_network\n",
        "import matplotlib.pyplot as plt\n"
      ],
      "metadata": {
        "id": "rkF4ay8c8ZYX"
      },
      "execution_count": 17,
      "outputs": []
    },
    {
      "cell_type": "code",
      "source": [
        "np.random.seed(42)\n",
        "X = np.random.randn(100,1)\n",
        "y = (X**2 + 2*X + 3).ravel() + (np.random.randn(100)) * 0.3\n",
        "plt.scatter(X, y)"
      ],
      "metadata": {
        "colab": {
          "base_uri": "https://localhost:8080/",
          "height": 282
        },
        "id": "Qi6N40ub8viw",
        "outputId": "9e1353ca-6836-4703-aad0-02923ac3444a"
      },
      "execution_count": 19,
      "outputs": [
        {
          "output_type": "execute_result",
          "data": {
            "text/plain": [
              "<matplotlib.collections.PathCollection at 0x7f8c65cb14d0>"
            ]
          },
          "metadata": {},
          "execution_count": 19
        },
        {
          "output_type": "display_data",
          "data": {
            "text/plain": [
              "<Figure size 432x288 with 1 Axes>"
            ],
            "image/png": "[encoded data removed]"
          },
          "metadata": {
            "needs_background": "light"
          }
        }
      ]
    },
    {
      "cell_type": "code",
      "source": [
        "nn = neural_network.MLPRegressor(\n",
        "    hidden_layer_sizes = (2),\n",
        "    random_state=42,\n",
        "    activation = 'logistic',\n",
        "    solver = 'lbfgs',\n",
        "    max_iter = 1000\n",
        ")"
      ],
      "metadata": {
        "id": "BerLi3P29DMY"
      },
      "execution_count": 26,
      "outputs": []
    },
    {
      "cell_type": "code",
      "source": [
        "nn.fit(X ,y)"
      ],
      "metadata": {
        "colab": {
          "base_uri": "https://localhost:8080/"
        },
        "id": "gHeBMrTW9a2f",
        "outputId": "197955be-ec97-4155-eff9-094d6ca7ea66"
      },
      "execution_count": 27,
      "outputs": [
        {
          "output_type": "execute_result",
          "data": {
            "text/plain": [
              "MLPRegressor(activation='logistic', hidden_layer_sizes=2, max_iter=1000,\n",
              "             random_state=42, solver='lbfgs')"
            ]
          },
          "metadata": {},
          "execution_count": 27
        }
      ]
    },
    {
      "cell_type": "code",
      "source": [
        "nn.score(X,  y)"
      ],
      "metadata": {
        "colab": {
          "base_uri": "https://localhost:8080/"
        },
        "id": "cNotdpax9kLf",
        "outputId": "2316eb0e-4280-4dab-a04c-24e3e99e8b51"
      },
      "execution_count": 28,
      "outputs": [
        {
          "output_type": "execute_result",
          "data": {
            "text/plain": [
              "0.9481517640705582"
            ]
          },
          "metadata": {},
          "execution_count": 28
        }
      ]
    },
    {
      "cell_type": "code",
      "source": [
        "t = np.linspace(-3, 2, 100)\n",
        "plt.plot(t, nn.predict(t[:, None]), c='r')\n",
        "plt.scatter(X,y)"
      ],
      "metadata": {
        "colab": {
          "base_uri": "https://localhost:8080/",
          "height": 282
        },
        "id": "TFZxVCVN9yew",
        "outputId": "3a2f186b-84e5-405a-b6aa-13de13dcd291"
      },
      "execution_count": 29,
      "outputs": [
        {
          "output_type": "execute_result",
          "data": {
            "text/plain": [
              "<matplotlib.collections.PathCollection at 0x7f8c65b55e50>"
            ]
          },
          "metadata": {},
          "execution_count": 29
        },
        {
          "output_type": "display_data",
          "data": {
            "text/plain": [
              "<Figure size 432x288 with 1 Axes>"
            ],
            "image/png": "[encoded data removed]"
          },
          "metadata": {
            "needs_background": "light"
          }
        }
      ]
    },
    {
      "cell_type": "code",
      "source": [
        ""
      ],
      "metadata": {
        "id": "3a9pbNFw-FNw"
      },
      "execution_count": null,
      "outputs": []
    },
    {
      "cell_type": "code",
      "source": [
        "nn = neural_network.MLPRegressor(\n",
        "    hidden_layer_sizes = (3),\n",
        "    random_state=42,\n",
        "    activation = 'logistic',\n",
        "    solver = 'lbfgs',\n",
        "    max_iter = 1000\n",
        ")"
      ],
      "metadata": {
        "id": "_lJ4BBVV-QlK"
      },
      "execution_count": 30,
      "outputs": []
    },
    {
      "cell_type": "code",
      "source": [
        "nn.fit(X ,y)"
      ],
      "metadata": {
        "colab": {
          "base_uri": "https://localhost:8080/"
        },
        "outputId": "1047be90-904e-4525-d284-44bad09f7f2c",
        "id": "-iHquceW-QlK"
      },
      "execution_count": 31,
      "outputs": [
        {
          "output_type": "execute_result",
          "data": {
            "text/plain": [
              "MLPRegressor(activation='logistic', hidden_layer_sizes=3, max_iter=1000,\n",
              "             random_state=42, solver='lbfgs')"
            ]
          },
          "metadata": {},
          "execution_count": 31
        }
      ]
    },
    {
      "cell_type": "code",
      "source": [
        "nn.score(X,  y)"
      ],
      "metadata": {
        "colab": {
          "base_uri": "https://localhost:8080/"
        },
        "outputId": "009bc5d9-641d-41e0-f4d9-851857724d9b",
        "id": "kM0wVWjV-QlL"
      },
      "execution_count": 32,
      "outputs": [
        {
          "output_type": "execute_result",
          "data": {
            "text/plain": [
              "0.9791936671323442"
            ]
          },
          "metadata": {},
          "execution_count": 32
        }
      ]
    },
    {
      "cell_type": "code",
      "source": [
        "t = np.linspace(-3, 2, 100)\n",
        "plt.plot(t, nn.predict(t[:, None]), c='r')\n",
        "plt.scatter(X,y)"
      ],
      "metadata": {
        "colab": {
          "base_uri": "https://localhost:8080/",
          "height": 282
        },
        "outputId": "7aadc071-70bb-430f-e2f7-8e995f926001",
        "id": "Athd5IAs-QlL"
      },
      "execution_count": 33,
      "outputs": [
        {
          "output_type": "execute_result",
          "data": {
            "text/plain": [
              "<matplotlib.collections.PathCollection at 0x7f8c65559550>"
            ]
          },
          "metadata": {},
          "execution_count": 33
        },
        {
          "output_type": "display_data",
          "data": {
            "text/plain": [
              "<Figure size 432x288 with 1 Axes>"
            ],
            "image/png": "[encoded data removed]"
          },
          "metadata": {
            "needs_background": "light"
          }
        }
      ]
    },
    {
      "cell_type": "code",
      "source": [
        ""
      ],
      "metadata": {
        "id": "5h3tbUlH-T8Y"
      },
      "execution_count": null,
      "outputs": []
    },
    {
      "cell_type": "code",
      "source": [
        "nn = neural_network.MLPRegressor(\n",
        "    hidden_layer_sizes = (20,10),\n",
        "    random_state=42,\n",
        "    activation = 'logistic',\n",
        "    solver = 'lbfgs',\n",
        "    max_iter = 1000\n",
        ")"
      ],
      "metadata": {
        "id": "pk6z2f4t-d5w"
      },
      "execution_count": 34,
      "outputs": []
    },
    {
      "cell_type": "code",
      "source": [
        "nn.fit(X ,y)"
      ],
      "metadata": {
        "colab": {
          "base_uri": "https://localhost:8080/"
        },
        "outputId": "7ac54f45-6d62-4b9f-b252-77487855f45a",
        "id": "DoFnk8cM-d5w"
      },
      "execution_count": 35,
      "outputs": [
        {
          "output_type": "execute_result",
          "data": {
            "text/plain": [
              "MLPRegressor(activation='logistic', hidden_layer_sizes=(20, 10), max_iter=1000,\n",
              "             random_state=42, solver='lbfgs')"
            ]
          },
          "metadata": {},
          "execution_count": 35
        }
      ]
    },
    {
      "cell_type": "code",
      "source": [
        "nn.score(X,  y)"
      ],
      "metadata": {
        "colab": {
          "base_uri": "https://localhost:8080/"
        },
        "outputId": "83dfde72-e6f2-41a8-f512-8b73a587e1f9",
        "id": "rR4SXwUj-d5w"
      },
      "execution_count": 36,
      "outputs": [
        {
          "output_type": "execute_result",
          "data": {
            "text/plain": [
              "0.9814793640669391"
            ]
          },
          "metadata": {},
          "execution_count": 36
        }
      ]
    },
    {
      "cell_type": "code",
      "source": [
        "t = np.linspace(-3, 2, 100)\n",
        "plt.plot(t, nn.predict(t[:, None]), c='r')\n",
        "plt.scatter(X,y)"
      ],
      "metadata": {
        "colab": {
          "base_uri": "https://localhost:8080/",
          "height": 282
        },
        "outputId": "91237654-2769-44af-dd83-0c308efdb3e6",
        "id": "T22jP7hR-d5w"
      },
      "execution_count": 37,
      "outputs": [
        {
          "output_type": "execute_result",
          "data": {
            "text/plain": [
              "<matplotlib.collections.PathCollection at 0x7f8c65581450>"
            ]
          },
          "metadata": {},
          "execution_count": 37
        },
        {
          "output_type": "display_data",
          "data": {
            "text/plain": [
              "<Figure size 432x288 with 1 Axes>"
            ],
            "image/png": "[encoded data removed]"
          },
          "metadata": {
            "needs_background": "light"
          }
        }
      ]
    },
    {
      "cell_type": "markdown",
      "source": [
        "![image.png](data:image/png;base64,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)"
      ],
      "metadata": {
        "id": "7HYDqqbHGym0"
      }
    },
    {
      "cell_type": "code",
      "source": [
        ""
      ],
      "metadata": {
        "id": "-281zehp-jBo"
      },
      "execution_count": null,
      "outputs": []
    }
  ]
}