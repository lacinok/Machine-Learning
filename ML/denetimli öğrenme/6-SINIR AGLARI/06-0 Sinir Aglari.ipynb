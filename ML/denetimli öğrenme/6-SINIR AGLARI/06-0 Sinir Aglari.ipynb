{
 "cells": [
  {
   "cell_type": "code",
   "execution_count": 1,
   "metadata": {},
   "outputs": [],
   "source": [
    "import pandas as pd\n",
    "import numpy as np\n",
    "import matplotlib.pyplot as plt\n",
    "from sklearn import linear_model, metrics, model_selection, feature_selection, pipeline, ensemble, tree\n",
    "from sympy import *\n",
    "from sympy.stats import *"
   ]
  },
  {
   "cell_type": "markdown",
   "metadata": {},
   "source": [
    "## Tasniflendirmede varsayimlar"
   ]
  },
  {
   "cell_type": "code",
   "execution_count": 2,
   "metadata": {},
   "outputs": [],
   "source": [
    "from sklearn import datasets\n",
    "import scipy.stats as scs\n",
    "from ipywidgets import interact"
   ]
  },
  {
   "cell_type": "code",
   "execution_count": 3,
   "metadata": {},
   "outputs": [],
   "source": [
    "np.random.seed(23)\n",
    "X = np.random.randn(100, 2)\n",
    "xx, yy = np.meshgrid(np.linspace(-3, 3, 100), np.linspace(-3, 3.5, 100))"
   ]
  },
  {
   "cell_type": "markdown",
   "metadata": {},
   "source": [
    "Datasetimizi sabitleyelim."
   ]
  },
  {
   "cell_type": "code",
   "execution_count": 4,
   "metadata": {},
   "outputs": [],
   "source": [
    "b = np.array([4.0, 3.9])\n",
    "intersept = 0.0\n",
    "z = X @ b + intersept\n",
    "# her orneklem icin etiketi belirleyecek olan Bernoulli dagiliminin p parametreleri\n",
    "berno = 1 / (1 + np.exp(-z))  # Bu fonksiyonun ne oldugu simdilik onemsiz"
   ]
  },
  {
   "cell_type": "code",
   "execution_count": 5,
   "metadata": {},
   "outputs": [],
   "source": [
    "y = scs.bernoulli.rvs(p=berno)"
   ]
  },
  {
   "cell_type": "markdown",
   "metadata": {},
   "source": [
    "### Hipotezimizin logit kismi: g(x)"
   ]
  },
  {
   "cell_type": "markdown",
   "metadata": {},
   "source": [
    "`Tasniflendirme icin MLE` kisminda hipotez fonksiyonumuzun\n",
    "\n",
    "$$h(x) = \\frac{1}{1 + e^{-g(x)}}$$\n",
    "\n",
    "seklinde ifade edilebileceginden bahsedip, logit kismi $g(x)$ icin lineer bir fonksiyon ($g(x) = {X\\beta}$) kullanarak bir tasniflendirme denemesi yaptik.\n",
    "\n",
    "Eger zincir kuralini kullanacaksak, $g(x)$'i daha kompleks (ve daha guclu) bir hale getiremez miyiz?\n",
    "\n"
   ]
  },
  {
   "cell_type": "markdown",
   "metadata": {},
   "source": [
    "Ornegin, asagidaki gibi cok katmanli bir sistem, benzer adimlar izleyerek optimize edilebilir mi?"
   ]
  },
  {
   "cell_type": "markdown",
   "metadata": {},
   "source": [
    "$$Z_1 = X\\beta_1 + sabit_1$$\n",
    "$$A_1 = \\sigma(Z_1) $$\n",
    "> Buraya kadarki kismi lojistik regresyonda uygulamistik ($\\hat{Y} = \\sigma(Z_1)$)\n",
    "$$Z_2 = A_1\\beta_2 + sabit_2$$\n",
    "$$\\hat{Y} = \\sigma(Z_2)$$"
   ]
  },
  {
   "cell_type": "markdown",
   "metadata": {},
   "source": [
    "![](graph.png)"
   ]
  },
  {
   "cell_type": "markdown",
   "metadata": {},
   "source": [
    "## Cok katmanli perceptron (MLP - multilayer perceptron)"
   ]
  },
  {
   "cell_type": "markdown",
   "metadata": {},
   "source": [
    "Cok katmanli perceptron icin, yukaridaki semayi baz alarak bir sistem kurabiliriz.\n",
    "\n",
    "Ihtiyacimiz olanlar:\n",
    "- $\\beta_1$\n",
    "- $sabit_1$\n",
    "- $\\beta_2$\n",
    "- $sabit_2$"
   ]
  },
  {
   "cell_type": "markdown",
   "metadata": {},
   "source": [
    "Tamamen rastgele secilmis agirliklarla bir deneme yapalim."
   ]
  },
  {
   "cell_type": "code",
   "execution_count": 6,
   "metadata": {},
   "outputs": [],
   "source": [
    "beta1 = np.array([[-5.0, 2.5], [1.0, 1.0]])\n",
    "sabit1 = np.array([0.0, 0.0])\n",
    "beta2 = np.array([-5.0, 2.5])\n",
    "sabit2 = 0.0"
   ]
  },
  {
   "cell_type": "markdown",
   "metadata": {},
   "source": [
    "Hipotez fonksiyonumuzu asagidaki gibi yazabiliriz:"
   ]
  },
  {
   "cell_type": "code",
   "execution_count": 7,
   "metadata": {},
   "outputs": [],
   "source": [
    "def forward(X, beta1, sabit1, beta2, sabit2):\n",
    "    z1 = X @ beta1 + sabit1\n",
    "    a1 = 1 / (1 + np.exp(-z1))\n",
    "    z2 = a1 @ beta2 + sabit2\n",
    "    return z2"
   ]
  },
  {
   "cell_type": "markdown",
   "metadata": {},
   "source": [
    "Hipotez fonksiyonumuzun ciktisi:"
   ]
  },
  {
   "cell_type": "code",
   "execution_count": 8,
   "metadata": {},
   "outputs": [
    {
     "data": {
      "image/png": "[encoded data removed]",
      "text/plain": [
       "<Figure size 432x288 with 1 Axes>"
      ]
     },
     "metadata": {
      "needs_background": "light"
     },
     "output_type": "display_data"
    }
   ],
   "source": [
    "z = forward(np.array([xx.ravel(), yy.ravel()]).T, beta1, sabit1, beta2, sabit2)\n",
    "olasi = 1 / (1 + np.exp(- z))\n",
    "olasi = olasi.reshape(xx.shape)\n",
    "\n",
    "plt.contourf(xx, yy, olasi)\n",
    "plt.scatter(*X.T, c=y);"
   ]
  },
  {
   "cell_type": "markdown",
   "metadata": {},
   "source": [
    "Cok katmanli perceptron ile ilgili hipotez fonksiyonunda (Lojistik Regresyon'a kiyasla) gozumuze ilk carpan detay nedir?"
   ]
  },
  {
   "cell_type": "markdown",
   "metadata": {},
   "source": [
    "Cok katmanli perceptron'umuzun ciktisini hesaplamak icin kullandigimiz adimlari yazarsak:\n",
    "\n",
    "(sigmoid fonksiyonunu $\\sigma(x)$ olarak gostererek)"
   ]
  },
  {
   "cell_type": "markdown",
   "metadata": {},
   "source": [
    "$$Z_1 = X \\beta_1 + sabit_1$$\n",
    "$$A_1 = \\sigma(Z_1) $$\n",
    "$$Z_2 = A_1 \\beta_2 + sabit_2$$\n",
    "$$A_2 = \\sigma(Z_2)$$\n",
    "$$\\hat{Y} = A_2$$\n",
    "$$ J(\\hat{Y}) = \\sum_{i=0}^{m-1}{-Y_i \\log{\\hat{Y}_i} - (1 - Y_i) \\log{(1 - \\hat{Y}_i)}} $$"
   ]
  },
  {
   "cell_type": "markdown",
   "metadata": {},
   "source": [
    "Lojistik regresyonda kullandigimiz zincir kurali ile bu sistemi de optimize edebilir miyiz?"
   ]
  },
  {
   "cell_type": "markdown",
   "metadata": {},
   "source": [
    "$$ \\frac{dJ}{d\\beta_2} = \\frac{dJ}{d\\hat{Y_i}} \\frac{d \\hat{Y_i}}{d Z_2} \\frac{d Z_2}{d \\beta_2}$$\n",
    "$$ \\frac{dJ}{dsabit_2} = \\frac{dJ}{d\\hat{Y_i}} \\frac{d \\hat{Y_i}}{d Z_2}$$\n",
    "$$ \\frac{dJ}{d\\beta_1} = \\frac{dJ}{d\\hat{Y_i}} \\frac{d \\hat{Y_i}}{d Z_2} \\frac{d Z_2}{d A_1} \\frac{d A_1}{d Z_1} \\frac{dZ_1}{d\\beta_1}$$\n",
    "$$ \\frac{dJ}{dsabit_1} = \\frac{dJ}{d\\hat{Y_i}} \\frac{d \\hat{Y_i}}{d Z_2} \\frac{d Z_2}{d A_1} \\frac{d A_1}{d Z_1}$$"
   ]
  },
  {
   "cell_type": "markdown",
   "metadata": {},
   "source": [
    "Bazi parametrelerin turevlerinin ilk sistemimizden hicbir farki olmadigini gorurken, sistemde geriye (semada sol tarafa) gittikce yalnizca ek carpanlar eklendigini goruyoruz."
   ]
  },
  {
   "cell_type": "markdown",
   "metadata": {},
   "source": [
    "Bir iterasyon icin guncelleme kuralimizi yazalim:"
   ]
  },
  {
   "cell_type": "markdown",
   "metadata": {},
   "source": [
    "##### Baslatma\n",
    "\n",
    "Parametrelerimiz icin baslangic degerleri secelim (rastgele degerler sectik):"
   ]
  },
  {
   "cell_type": "code",
   "execution_count": 9,
   "metadata": {},
   "outputs": [],
   "source": [
    "beta1 = np.array([[-5.0, 2.5], [1.0, 1.0]])\n",
    "sabit1 = np.array([0.0, 0.0])\n",
    "beta2 = np.array([[-5.0], [2.5]])\n",
    "sabit2 = 0.0\n",
    "alpha = 1e-1 # Ogrenme orani"
   ]
  },
  {
   "cell_type": "markdown",
   "metadata": {},
   "source": [
    "Vektor islemlerimiz icin hedef degisken `y`'yi kolon vektor haline getirelim:"
   ]
  },
  {
   "cell_type": "code",
   "execution_count": 10,
   "metadata": {},
   "outputs": [],
   "source": [
    "y1 = y[:, None]"
   ]
  },
  {
   "cell_type": "markdown",
   "metadata": {},
   "source": [
    "##### Ileri besleme\n",
    "\n",
    "Bu kisimda orneklerimizi, sistemimizde ilerleterek tahminimizi yapacagiz"
   ]
  },
  {
   "cell_type": "code",
   "execution_count": 11,
   "metadata": {},
   "outputs": [],
   "source": [
    "def sigmoid(x):\n",
    "    \"\"\"Sigmoid aktivasyon fonksiyonu\"\"\"\n",
    "    return 1 / (1 + np.exp(-x))\n",
    "\n",
    "def bce(y, yhat):\n",
    "    \"\"\"Ikili capraz-entropi (binary cross entropy) maliyet fonksiyonu.\"\"\"\n",
    "    return -(y * np.log(yhat) + (1 - y) * np.log(1 - yhat))"
   ]
  },
  {
   "cell_type": "code",
   "execution_count": 12,
   "metadata": {},
   "outputs": [],
   "source": [
    "z1 = X @ beta1 + sabit1\n",
    "a1 = sigmoid(z1)\n",
    "z2 = a1 @ beta2 + sabit2\n",
    "yhat = sigmoid(z2)"
   ]
  },
  {
   "cell_type": "markdown",
   "metadata": {},
   "source": [
    "Baslangic maliyetimiz:"
   ]
  },
  {
   "cell_type": "code",
   "execution_count": 13,
   "metadata": {},
   "outputs": [
    {
     "data": {
      "text/plain": [
       "96.3087695134783"
      ]
     },
     "execution_count": 13,
     "metadata": {},
     "output_type": "execute_result"
    }
   ],
   "source": [
    "bce(y1, yhat).sum()"
   ]
  },
  {
   "cell_type": "markdown",
   "metadata": {},
   "source": [
    "##### Geri yayilim (Backpropagation)\n",
    "\n",
    "Bu kisimda ise, ortaya cikan hatanin turevini geri dogru zincirleme bir sekilde alacagiz"
   ]
  },
  {
   "cell_type": "code",
   "execution_count": 14,
   "metadata": {},
   "outputs": [],
   "source": [
    "dyhat = (1 - y1) / (1 - yhat) - (y1 / yhat)\n",
    "dz2 = yhat * (1 - yhat) * dyhat\n",
    "\n",
    "dbeta2 = a1.T @ (dz2)\n",
    "dsabit2 = (dz2).sum()\n",
    "\n",
    "da1 = dz2 @ beta2.T\n",
    "dz1 = a1 * (1 - a1) * da1\n",
    "\n",
    "dbeta1 = X.T @ dz1\n",
    "dsabit1 = dz1.sum(axis=0)"
   ]
  },
  {
   "cell_type": "markdown",
   "metadata": {},
   "source": [
    "Guncellemelerimizi yapalim:"
   ]
  },
  {
   "cell_type": "code",
   "execution_count": 15,
   "metadata": {},
   "outputs": [],
   "source": [
    "beta1 = beta1 - alpha * dbeta1\n",
    "sabit1 = sabit1 - alpha * dsabit1\n",
    "\n",
    "beta2 = beta2 - alpha * dbeta2\n",
    "sabit2 = sabit2 - alpha * dsabit2"
   ]
  },
  {
   "cell_type": "markdown",
   "metadata": {},
   "source": [
    "Yeni maliyetimizi kontrol edelim:"
   ]
  },
  {
   "cell_type": "code",
   "execution_count": 16,
   "metadata": {},
   "outputs": [
    {
     "data": {
      "text/plain": [
       "57.84821372581541"
      ]
     },
     "execution_count": 16,
     "metadata": {},
     "output_type": "execute_result"
    }
   ],
   "source": [
    "# ileri besleme\n",
    "z1 = X @ beta1 + sabit1\n",
    "a1 = sigmoid(z1)\n",
    "z2 = a1 @ beta2 + sabit2\n",
    "yhat = sigmoid(z2)\n",
    "\n",
    "# hata hesaplama\n",
    "bce(y1, yhat).sum()"
   ]
  },
  {
   "cell_type": "markdown",
   "metadata": {},
   "source": [
    "Parcalari birlestirip, guncellememizi verilen bir iterasyon sayisi kadar tekrar edelim:"
   ]
  },
  {
   "cell_type": "code",
   "execution_count": 17,
   "metadata": {},
   "outputs": [],
   "source": [
    "np.random.seed(42)\n",
    "beta1 = np.array([[-5.0, 2.5], [1.0, 1.0]])\n",
    "sabit1 = np.array([0.0, 0.0])\n",
    "beta2 = np.array([[-5.0], [2.5]])\n",
    "sabit2 = 0.0\n",
    "maliyetler = []\n",
    "alpha = 1e-1\n",
    "# betayolu = [beta]\n",
    "iterasyon = 20\n",
    "\n",
    "for _ in range(iterasyon):\n",
    "    z1 = X @ beta1 + sabit1\n",
    "    a1 = sigmoid(z1)\n",
    "    z2 = a1 @ beta2 + sabit2\n",
    "    yhat = sigmoid(z2)\n",
    "\n",
    "    dyhat = (1 - y1) / (1 - yhat) - (y1 / yhat)\n",
    "    dz2 = yhat * (1 - yhat) * dyhat\n",
    "\n",
    "    dbeta2 = a1.T @ (dz2)\n",
    "    dsabit2 = (dz2).sum()\n",
    "\n",
    "    da1 = dz2 @ beta2.T\n",
    "    dz1 = a1 * (1 - a1) * da1\n",
    "\n",
    "    dbeta1 = X.T @ dz1\n",
    "    dsabit1 = dz1.sum(axis=0)\n",
    "\n",
    "    beta1 = beta1 - alpha * dbeta1\n",
    "    sabit1 = sabit1 - alpha * dsabit1\n",
    "\n",
    "    beta2 = beta2 - alpha * dbeta2\n",
    "    sabit2 = sabit2 - alpha * dsabit2\n",
    "\n",
    "    # dbeta = X.T @ (  ((1 - y)/(1 - yhat) - y/yhat) * (1 - yhat) * yhat )\n",
    "    # dsabit = (  ((1 - y)/(1 - yhat) - y/yhat) * (1 - yhat) * yhat ).sum()\n",
    "\n",
    "    # beta = beta - alpha * dbeta\n",
    "    # betayolu.append(beta)\n",
    "    # sabit = sabit - alpha * dsabit\n",
    "    maliyet = bce(y1, yhat).sum()\n",
    "    maliyetler.append(maliyet)"
   ]
  },
  {
   "cell_type": "code",
   "execution_count": 18,
   "metadata": {},
   "outputs": [
    {
     "data": {
      "text/plain": [
       "Text(0, 0.5, 'Maliyet')"
      ]
     },
     "execution_count": 18,
     "metadata": {},
     "output_type": "execute_result"
    },
    {
     "data": {
      "image/png": "[encoded data removed]",
      "text/plain": [
       "<Figure size 432x288 with 1 Axes>"
      ]
     },
     "metadata": {
      "needs_background": "light"
     },
     "output_type": "display_data"
    }
   ],
   "source": [
    "plt.plot(maliyetler, marker='o')\n",
    "plt.xlabel(\"Iterasyon\")\n",
    "plt.ylabel(\"Maliyet\")"
   ]
  },
  {
   "cell_type": "markdown",
   "metadata": {},
   "source": [
    "Hipotez fonksiyonumuzun ciktisi:"
   ]
  },
  {
   "cell_type": "code",
   "execution_count": 19,
   "metadata": {},
   "outputs": [
    {
     "data": {
      "text/plain": [
       "<matplotlib.collections.PathCollection at 0x200fcab71f0>"
      ]
     },
     "execution_count": 19,
     "metadata": {},
     "output_type": "execute_result"
    },
    {
     "data": {
      "image/png": "[encoded data removed]",
      "text/plain": [
       "<Figure size 432x288 with 2 Axes>"
      ]
     },
     "metadata": {
      "needs_background": "light"
     },
     "output_type": "display_data"
    }
   ],
   "source": [
    "XXravel = np.array([xx.ravel(), yy.ravel()]).T\n",
    "ZZ1 = XXravel @ beta1 + sabit1\n",
    "AA1 = sigmoid(ZZ1)\n",
    "ZZ2 = AA1 @ beta2 + sabit2\n",
    "AA2 = sigmoid(ZZ2)\n",
    "\n",
    "AA2 = AA2.reshape(xx.shape)\n",
    "\n",
    "plt.contourf(xx, yy, AA2, cmap='RdYlBu')\n",
    "plt.colorbar()\n",
    "plt.scatter(*X.T, c=y)"
   ]
  },
  {
   "cell_type": "markdown",
   "metadata": {},
   "source": [
    "Kodumuzu daha moduler bir hale getirmek icin, parcalari tekrar tekrar kullanilabilir fonksiyonlara cevirelim:"
   ]
  },
  {
   "cell_type": "code",
   "execution_count": 20,
   "metadata": {},
   "outputs": [],
   "source": [
    "def feedForward(X, beta1, sabit1, beta2, sabit2):\n",
    "    \"\"\"Ileri beslemeyi tatbik et.\n",
    "    \n",
    "    Ileri besleme, verilen datanin katsayilarla carpilip sabitlerle toplanmasi\n",
    "    ve belirlenen donusumlerin yapilmasindan sonra hipotez fonksiyonunun\n",
    "    ciktisinin alinmasi islemi olacaktir.\n",
    "    \"\"\"\n",
    "    z1 = X @ beta1 + sabit1\n",
    "    a1 = sigmoid(z1)\n",
    "    z2 = a1 @ beta2 + sabit2\n",
    "    yhat = sigmoid(z2)\n",
    "    return yhat, a1\n",
    "\n",
    "def backPropagate(X, y, beta1, sabit1, beta2, sabit2, a1, yhat, alpha):\n",
    "    \"\"\"Geri yayilimi tatbik et.\n",
    "    \n",
    "    Ileri beslemede elde edilen hatanin, sistem boyunca geri dogru yayilarak\n",
    "    katsayi ve sabitlerin guncellenmesini saglayan fonksiyon.\n",
    "    \"\"\"\n",
    "    dyhat = (1 - y) / (1 - yhat) - (y / yhat)\n",
    "    dz2 = yhat * (1 - yhat) * dyhat\n",
    "    dbeta2 = a1.T @ (dz2)\n",
    "    dsabit2 = (dz2).sum()\n",
    "\n",
    "    da1 = dz2 @ beta2.T\n",
    "    dz1 = a1 * (1 - a1) * da1\n",
    "    dbeta1 = X.T @ dz1\n",
    "    dsabit1 = dz1.sum(axis=0)\n",
    "\n",
    "    beta1 = beta1 - alpha * dbeta1\n",
    "    sabit1 = sabit1 - alpha * dsabit1\n",
    "\n",
    "    beta2 = beta2 - alpha * dbeta2\n",
    "    sabit2 = sabit2 - alpha * dsabit2\n",
    "    return beta1, sabit1, beta2, sabit2"
   ]
  },
  {
   "cell_type": "markdown",
   "metadata": {},
   "source": [
    "#### Daha kompleks karar sinirlari\n",
    "\n",
    "Elimizdeki sistemi kullanarak, daha zor (lineer olarak ayrilmayan) bir verisetini tasniflendirmeyi deneyebiliriz."
   ]
  },
  {
   "cell_type": "code",
   "execution_count": 29,
   "metadata": {},
   "outputs": [],
   "source": [
    "X, y = datasets.make_circles()\n",
    "y1 = y[:, None]"
   ]
  },
  {
   "cell_type": "code",
   "execution_count": 30,
   "metadata": {},
   "outputs": [
    {
     "data": {
      "image/png": "[encoded data removed]",
      "text/plain": [
       "<Figure size 432x288 with 1 Axes>"
      ]
     },
     "metadata": {
      "needs_background": "light"
     },
     "output_type": "display_data"
    }
   ],
   "source": [
    "plt.scatter(*X.T, c=y);"
   ]
  },
  {
   "cell_type": "markdown",
   "metadata": {},
   "source": [
    "Asagidaki interaktif hucrede iterasyonlara sari olarak hipotez fonksiyonunun ciktisinin degisimini gozlemleyebilirsiniz.\n",
    "\n",
    "> Ek olarak, sagdaki sekilde gizli katmanin ciktisini (3 boyutlu) gormektesiniz."
   ]
  },
  {
   "cell_type": "code",
   "execution_count": 31,
   "metadata": {},
   "outputs": [
    {
     "data": {
      "application/vnd.jupyter.widget-view+json": {
       "model_id": "eac8514b063b4158a11ee82b8acc3544",
       "version_major": 2,
       "version_minor": 0
      },
      "text/plain": [
       "interactive(children=(IntSlider(value=0, description='iterasyon', max=5000, step=100), Output()), _dom_classes…"
      ]
     },
     "metadata": {},
     "output_type": "display_data"
    }
   ],
   "source": [
    "def graphviz(iterasyon=0):\n",
    "\n",
    "    # Baslangic degerleri\n",
    "    np.random.seed(42)\n",
    "    GIZLI_KATMAN_BOYUTU = 3\n",
    "    beta1 = np.random.randn(2, GIZLI_KATMAN_BOYUTU)\n",
    "    sabit1 = np.zeros(GIZLI_KATMAN_BOYUTU)\n",
    "    beta2 = np.random.randn(GIZLI_KATMAN_BOYUTU, 1)\n",
    "    sabit2 = 0.0\n",
    "    alpha = 1e-2\n",
    "\n",
    "    # Diyagnostik icin\n",
    "    maliyetler = []\n",
    "\n",
    "    # Optimizasyon\n",
    "    for _ in range(iterasyon):\n",
    "        yhat, a1 = feedForward(X, beta1, sabit1, beta2, sabit2)\n",
    "        beta1, sabit1, beta2, sabit2 = backPropagate(X, y1, beta1, sabit1, beta2, sabit2, a1, yhat, alpha)\n",
    "\n",
    "        maliyet = bce(y1, yhat)\n",
    "        maliyet = np.sum(maliyet)\n",
    "        maliyetler.append(maliyet)\n",
    "\n",
    "    # Gorseller\n",
    "    olasi = feedForward(np.array([xx.ravel(), yy.ravel()]).T, beta1, sabit1, beta2, sabit2)[0]    \n",
    "    olasi = olasi.reshape(xx.shape)\n",
    "\n",
    "    fig = plt.figure(figsize=(16, 8))\n",
    "    plt.subplot(1, 2, 1)\n",
    "    plt.contourf(xx, yy, olasi, vmin=0, vmax=1, cmap=plt.cm.bone_r, levels=40)\n",
    "    plt.colorbar().set_label('$\\hat{y}$')\n",
    "    plt.scatter(*X.T, c=y, edgecolors='k')\n",
    "    plt.title(\"Hipotez fonksiyonu ciktisi (dataset uzayi)\")\n",
    "\n",
    "    if iterasyon > 0:\n",
    "        # fig = plt.figure(figsize=(16, 8))\n",
    "        ax = fig.add_subplot(1,2, 2,projection='3d', elev=45, azim=45)\n",
    "        ax.scatter(a1[:, 0], a1[:, 1], a1[:, 2], c=y)\n",
    "        ax.set_title(\"Gizli katman ciktisi (Gizli katman uzayi)\")\n",
    "        ax.set_xlabel(\"$hucre_1$\")\n",
    "        ax.set_ylabel(\"$hucre_2$\")\n",
    "        ax.set_zlabel(\"$hucre_3$\")\n",
    "    else:\n",
    "        ax = fig.add_subplot(1,2, 2,projection='3d', elev=45, azim=45)\n",
    "        ax.set_title(\"Gizli katman ciktisi (Gizli katman uzayi)\")\n",
    "        ax.set_xlabel(\"$hucre_1$\")\n",
    "        ax.set_ylabel(\"$hucre_2$\")\n",
    "        ax.set_zlabel(\"$hucre_3$\")\n",
    "\n",
    "interact(iterasyon=(0,5000,100))(graphviz);"
   ]
  },
  {
   "cell_type": "markdown",
   "metadata": {},
   "source": [
    "MLP, orjinal dataset uzayini 3 boyutlu (ya da konfigurasyona gore daha da yuksek boyutlu) bir uzaya haritaliyor.\n",
    "\n",
    "> Bu haritalamada dikkatinizi ceken bir durum var mi? \n",
    ">- 5000. iterasyonda, gizli katman uzayinda, siyah ve sari noktalari tam olarak ayirabilecek bir duzlem kullanilabilir mi?\n",
    ">- Gizli katman uzayinda noktalar, aralarina bir duzlem girebilecek duruma geldiginde soldaki sekilde ne goruyorsunuz?\n",
    ">- Hipotez fonksiyonu ile siniflar uyumsuzken, gizli katman uzayinda noktalarin durumu nedir?"
   ]
  },
  {
   "cell_type": "markdown",
   "metadata": {},
   "source": [
    "Benzer bir haritalamayi `moons` datasetinde de inceleyebiliriz:"
   ]
  },
  {
   "cell_type": "code",
   "execution_count": 24,
   "metadata": {},
   "outputs": [],
   "source": [
    "X, y = datasets.make_moons()\n",
    "y1 = y[:, None]"
   ]
  },
  {
   "cell_type": "code",
   "execution_count": 25,
   "metadata": {},
   "outputs": [
    {
     "data": {
      "application/vnd.jupyter.widget-view+json": {
       "model_id": "1119131a3308490099f4861c931ab38b",
       "version_major": 2,
       "version_minor": 0
      },
      "text/plain": [
       "interactive(children=(IntSlider(value=0, description='iterasyon', max=5000, step=100), Output()), _dom_classes…"
      ]
     },
     "metadata": {},
     "output_type": "display_data"
    }
   ],
   "source": [
    "# @lru_cache(maxsize=50000)\n",
    "def graphviz(iterasyon=0):\n",
    "\n",
    "    # Baslangic degerleri\n",
    "    np.random.seed(42)\n",
    "    GIZLI_KATMAN_BOYUTU = 3\n",
    "    beta1 = np.random.randn(2, GIZLI_KATMAN_BOYUTU)\n",
    "    sabit1 = np.zeros(GIZLI_KATMAN_BOYUTU)\n",
    "    beta2 = np.random.randn(GIZLI_KATMAN_BOYUTU, 1)\n",
    "    sabit2 = 0.0\n",
    "    alpha = 1e-2\n",
    "\n",
    "    # Diyagnostik icin\n",
    "    maliyetler = []\n",
    "\n",
    "    # Optimizasyon\n",
    "    for _ in range(iterasyon):\n",
    "        yhat, a1 = feedForward(X, beta1, sabit1, beta2, sabit2)\n",
    "        beta1, sabit1, beta2, sabit2 = backPropagate(X, y1, beta1, sabit1, beta2, sabit2, a1, yhat, alpha)\n",
    "\n",
    "        maliyet = bce(y1, yhat)\n",
    "        maliyet = np.sum(maliyet)\n",
    "        maliyetler.append(maliyet)\n",
    "\n",
    "    # Gorseller\n",
    "    olasi = feedForward(np.array([xx.ravel(), yy.ravel()]).T, beta1, sabit1, beta2, sabit2)[0]    \n",
    "    olasi = olasi.reshape(xx.shape)\n",
    "\n",
    "    fig = plt.figure(figsize=(16, 8))\n",
    "    plt.subplot(1, 2, 1)\n",
    "    plt.contourf(xx, yy, olasi, vmin=0, vmax=1, cmap=plt.cm.bone_r, levels=40)\n",
    "    plt.colorbar().set_label('$\\hat{y}$')\n",
    "    plt.scatter(*X.T, c=y, edgecolors='k')\n",
    "    plt.title(\"Hipotez fonksiyonu ciktisi (dataset uzayi)\")\n",
    "\n",
    "    if iterasyon > 0:\n",
    "        # fig = plt.figure(figsize=(16, 8))\n",
    "        ax = fig.add_subplot(1,2, 2,\n",
    "        projection='3d', elev=45, azim=45\n",
    "        )\n",
    "        ax.scatter(\n",
    "            a1[:, 0], \n",
    "            a1[:, 1], \n",
    "            a1[:, 2], \n",
    "            c=y)\n",
    "        ax.set_title(\"Gizli katman ciktisi (Gizli katman uzayi)\")\n",
    "        ax.set_xlabel(\"$hucre_1$\")\n",
    "        ax.set_ylabel(\"$hucre_2$\")\n",
    "        ax.set_zlabel(\"$hucre_3$\")\n",
    "    else:\n",
    "        ax = fig.add_subplot(1,2, 2,\n",
    "        projection='3d', elev=45, azim=45\n",
    "        )\n",
    "        ax.set_title(\"Gizli katman ciktisi (Gizli katman uzayi)\")\n",
    "        ax.set_xlabel(\"$hucre_1$\")\n",
    "        ax.set_ylabel(\"$hucre_2$\")\n",
    "        ax.set_zlabel(\"$hucre_3$\")\n",
    "\n",
    "interact(iterasyon=(0,5000,100))(graphviz);"
   ]
  },
  {
   "cell_type": "markdown",
   "metadata": {},
   "source": [
    "## `sklearn` ile Sinir Agi egitimi"
   ]
  },
  {
   "cell_type": "markdown",
   "metadata": {},
   "source": [
    "Yukarida bastan olusturdugumuz sinir agi mimarisinin aynisini `sklearn` ile yapalim:"
   ]
  },
  {
   "cell_type": "code",
   "execution_count": 26,
   "metadata": {},
   "outputs": [
    {
     "data": {
      "text/plain": [
       "MLPClassifier(activation='logistic', hidden_layer_sizes=(3,),\n",
       "              learning_rate_init=0.01, max_iter=1000, solver='lbfgs')"
      ]
     },
     "execution_count": 26,
     "metadata": {},
     "output_type": "execute_result"
    }
   ],
   "source": [
    "from sklearn import neural_network\n",
    "\n",
    "model = neural_network.MLPClassifier(\n",
    "    hidden_layer_sizes=(3,), \n",
    "    max_iter=1000, \n",
    "    learning_rate_init=0.01,\n",
    "    activation='logistic',\n",
    "    solver='lbfgs',\n",
    "    )\n",
    "model.fit(X, y)"
   ]
  },
  {
   "cell_type": "markdown",
   "metadata": {},
   "source": [
    "Model ciktilarini gorsellestirelim:"
   ]
  },
  {
   "cell_type": "code",
   "execution_count": 27,
   "metadata": {},
   "outputs": [
    {
     "data": {
      "image/png": "[encoded data removed]",
      "text/plain": [
       "<Figure size 432x288 with 1 Axes>"
      ]
     },
     "metadata": {
      "needs_background": "light"
     },
     "output_type": "display_data"
    }
   ],
   "source": [
    "\n",
    "zz = model.predict_proba(np.c_[xx.ravel(), yy.ravel()])[:, 1].reshape(xx.shape)\n",
    "plt.contourf(xx, yy, zz, vmin=0, vmax=1, cmap=plt.cm.bone_r, levels=40)\n",
    "plt.scatter(*X.T, c=y, edgecolors='k');"
   ]
  },
  {
   "cell_type": "markdown",
   "metadata": {},
   "source": [
    "### Regresyon"
   ]
  },
  {
   "cell_type": "markdown",
   "metadata": {},
   "source": [
    "Sinir aglari, tasniflendirme icin kullanilabilecegi gibi *regresyon* icin de kullanilabilir.\n",
    "\n",
    "Bu durumda yapacagimiz degisiklik, cikti katmaninda sigmoid aktivasyonu yerine linear aktivasyon kullanmaktir (yani aktivasyon kullanmamak!)"
   ]
  },
  {
   "cell_type": "code",
   "execution_count": 28,
   "metadata": {},
   "outputs": [
    {
     "data": {
      "image/png": "[encoded data removed]",
      "text/plain": [
       "<Figure size 432x288 with 1 Axes>"
      ]
     },
     "metadata": {
      "needs_background": "light"
     },
     "output_type": "display_data"
    }
   ],
   "source": [
    "np.random.seed(42)\n",
    "Q = np.random.randn(20, 1)\n",
    "f = lambda x: 4*x**2 + 2*x -4.\n",
    "w = (f(Q)).ravel() + np.random.randn(20)\n",
    "\n",
    "plt.scatter(Q, w);"
   ]
  },
  {
   "cell_type": "markdown",
   "metadata": {},
   "source": [
    "Sekildeki dataset icin bir regresyon egrisi olusturmak maksadiyla sinir aglarini kullanalim:"
   ]
  },
  {
   "cell_type": "code",
   "execution_count": 33,
   "metadata": {},
   "outputs": [
    {
     "data": {
      "text/plain": [
       "MLPRegressor(activation='logistic', hidden_layer_sizes=(3,),\n",
       "             learning_rate_init=0.01, max_iter=1000, solver='lbfgs')"
      ]
     },
     "execution_count": 33,
     "metadata": {},
     "output_type": "execute_result"
    }
   ],
   "source": [
    "regressor = neural_network.MLPRegressor(\n",
    "    hidden_layer_sizes=(3,),\n",
    "    max_iter=1000,\n",
    "    learning_rate_init=0.01,\n",
    "    activation='logistic',\n",
    "    solver='lbfgs',\n",
    "    )\n",
    "\n",
    "regressor.fit(Q, w)"
   ]
  },
  {
   "cell_type": "code",
   "execution_count": 34,
   "metadata": {},
   "outputs": [
    {
     "data": {
      "image/png": "[encoded data removed]",
      "text/plain": [
       "<Figure size 432x288 with 1 Axes>"
      ]
     },
     "metadata": {
      "needs_background": "light"
     },
     "output_type": "display_data"
    }
   ],
   "source": [
    "t = np.linspace(-2, 2, 100)\n",
    "plt.plot(t, regressor.predict(t[:, None]), 'r-', label=\"NN regresyon egrisi\")\n",
    "plt.plot(t, f(t), 'b--', label=\"gercek model\")\n",
    "plt.scatter(Q, w, label='veri')\n",
    "plt.legend();"
   ]
  },
  {
   "cell_type": "markdown",
   "metadata": {},
   "source": [
    "Daha guclu (daha cok parametre ve derinlige sahip) sinir aglarini kullanarak egriyi neredeyse tum noktalarin uzerinden gecirebilir miyiz?\n",
    "\n",
    "> 32. dereceden polinomiyel kullandigimiz senaryonun bir benzerinden bahsediyoruz."
   ]
  },
  {
   "cell_type": "code",
   "execution_count": 35,
   "metadata": {},
   "outputs": [
    {
     "data": {
      "text/plain": [
       "MLPRegressor(activation='logistic', hidden_layer_sizes=(30, 30, 30),\n",
       "             learning_rate_init=0.01, max_iter=10000, solver='lbfgs')"
      ]
     },
     "execution_count": 35,
     "metadata": {},
     "output_type": "execute_result"
    }
   ],
   "source": [
    "regressor = neural_network.MLPRegressor(\n",
    "    hidden_layer_sizes=(30, 30, 30),\n",
    "    max_iter=10000,\n",
    "    learning_rate_init=0.01,\n",
    "    activation='logistic',\n",
    "    solver='lbfgs',\n",
    "    )\n",
    "\n",
    "regressor.fit(Q, w)"
   ]
  },
  {
   "cell_type": "code",
   "execution_count": 36,
   "metadata": {},
   "outputs": [
    {
     "data": {
      "image/png": "[encoded data removed]",
      "text/plain": [
       "<Figure size 432x288 with 1 Axes>"
      ]
     },
     "metadata": {
      "needs_background": "light"
     },
     "output_type": "display_data"
    }
   ],
   "source": [
    "t = np.linspace(-2, 2, 100)\n",
    "plt.plot(t, regressor.predict(t[:, None]), 'r-', label=\"NN regresyon egrisi\")\n",
    "plt.plot(t, f(t), 'b--', label=\"gercek model\")\n",
    "plt.scatter(Q, w, label='veri')\n",
    "plt.legend();"
   ]
  },
  {
   "cell_type": "markdown",
   "metadata": {},
   "source": [
    "## Non-lineer aktivasyonlar neden gerekli?"
   ]
  },
  {
   "cell_type": "markdown",
   "metadata": {},
   "source": [
    "Non-lineer aktivasyonu olmadan, bir sinir agi egitmeyi denersek:\n",
    "> `activation = 'identity'` kullanarak $A_i = Z_i$ yapiyoruz."
   ]
  },
  {
   "cell_type": "code",
   "execution_count": 65,
   "metadata": {},
   "outputs": [
    {
     "data": {
      "text/plain": [
       "MLPRegressor(activation='identity', hidden_layer_sizes=(30, 30, 30),\n",
       "             learning_rate_init=0.01, max_iter=10000, solver='lbfgs')"
      ]
     },
     "execution_count": 65,
     "metadata": {},
     "output_type": "execute_result"
    }
   ],
   "source": [
    "regressor = neural_network.MLPRegressor(\n",
    "    hidden_layer_sizes=(30, 30, 30),\n",
    "    max_iter=10000,\n",
    "    learning_rate_init=0.01,\n",
    "    activation='identity',\n",
    "    solver='lbfgs',\n",
    "    \n",
    "    )\n",
    "\n",
    "regressor.fit(Q, w)"
   ]
  },
  {
   "cell_type": "code",
   "execution_count": 66,
   "metadata": {},
   "outputs": [
    {
     "data": {
      "image/png": "[encoded data removed]",
      "text/plain": [
       "<Figure size 432x288 with 1 Axes>"
      ]
     },
     "metadata": {
      "needs_background": "light"
     },
     "output_type": "display_data"
    }
   ],
   "source": [
    "t = np.linspace(-2, 2, 100)\n",
    "plt.plot(t, regressor.predict(t[:, None]), 'r-', label=\"NN regresyon egrisi\")\n",
    "plt.plot(t, f(t), 'b--', label=\"gercek model\")\n",
    "plt.scatter(Q, w, label='veri')\n",
    "plt.legend();"
   ]
  },
  {
   "cell_type": "markdown",
   "metadata": {},
   "source": [
    "Egittigimiz 100'lerce parametreli sinir agi, koca bir lineer regresyon modeline donustu.\n",
    "\n",
    "> Neden?\n"
   ]
  },
  {
   "cell_type": "code",
   "execution_count": 67,
   "metadata": {},
   "outputs": [
    {
     "data": {
      "text/plain": [
       "array([-2.00538664])"
      ]
     },
     "execution_count": 67,
     "metadata": {},
     "output_type": "execute_result"
    }
   ],
   "source": [
    "regressor.predict([[-2]])"
   ]
  },
  {
   "cell_type": "markdown",
   "metadata": {},
   "source": [
    "Adim adim sinir agimizin katmanlarini inceleyelim:"
   ]
  },
  {
   "cell_type": "code",
   "execution_count": 68,
   "metadata": {},
   "outputs": [
    {
     "data": {
      "text/plain": [
       "array([[ 1.05015621, -0.53443281,  0.85406322, -0.54671808,  0.19892822,\n",
       "         0.71407401, -0.1278388 , -0.11659448, -0.76445368,  0.18891226,\n",
       "         0.61919162, -0.66127955,  0.08871243, -0.92657817,  0.08119962,\n",
       "        -0.16352621,  0.9632479 , -0.26014073, -1.01345098, -0.62225413,\n",
       "         0.67060418,  0.22136151, -0.44536754, -0.96399919,  1.06021378,\n",
       "         0.45391348,  0.10952593, -0.90415946,  0.66328675,  0.27110532]])"
      ]
     },
     "execution_count": 68,
     "metadata": {},
     "output_type": "execute_result"
    }
   ],
   "source": [
    "z1 = a1 = [[-2]] @ regressor.coefs_[0] + regressor.intercepts_[0]\n",
    "a1"
   ]
  },
  {
   "cell_type": "code",
   "execution_count": 69,
   "metadata": {},
   "outputs": [
    {
     "data": {
      "text/plain": [
       "array([[-0.78176887,  1.13148821, -0.14590765,  0.19028264, -0.84333338,\n",
       "        -0.09349726,  0.72471342,  0.22178681, -0.26219031, -1.38348214,\n",
       "         0.12332167,  0.63375352, -0.24840421,  0.52330347,  0.03240845,\n",
       "         1.3284465 ,  0.00835841,  0.48788203,  0.54851426,  1.05325892,\n",
       "         0.66929245, -0.96021797,  0.2970476 ,  1.03603192,  0.31156468,\n",
       "        -0.34495814,  0.27780616, -0.79222583, -0.77190486, -0.06397768]])"
      ]
     },
     "execution_count": 69,
     "metadata": {},
     "output_type": "execute_result"
    }
   ],
   "source": [
    "z2 = a2 = a1 @ regressor.coefs_[1] + regressor.intercepts_[1]\n",
    "a2"
   ]
  },
  {
   "cell_type": "code",
   "execution_count": 70,
   "metadata": {},
   "outputs": [
    {
     "data": {
      "text/plain": [
       "array([[-0.01343898, -0.2917772 ,  0.14988523,  0.28343631,  0.4030835 ,\n",
       "        -0.89288342, -0.32066481,  0.11305408,  0.79692567,  0.08801461,\n",
       "        -0.55841313, -1.04594078, -0.7008306 ,  0.43330138, -0.74893932,\n",
       "         0.56917126,  0.83835569,  0.38507272, -0.66946104, -0.85239157,\n",
       "         1.53264563,  0.95431092,  1.478233  , -0.64951062,  0.62053006,\n",
       "        -0.10845006, -0.12739517,  0.57744535, -0.45407731, -0.93312272]])"
      ]
     },
     "execution_count": 70,
     "metadata": {},
     "output_type": "execute_result"
    }
   ],
   "source": [
    "z3 = a3 = a2 @ regressor.coefs_[2] + regressor.intercepts_[2]\n",
    "a3"
   ]
  },
  {
   "cell_type": "code",
   "execution_count": 71,
   "metadata": {},
   "outputs": [
    {
     "data": {
      "text/plain": [
       "array([[-2.00538664]])"
      ]
     },
     "execution_count": 71,
     "metadata": {},
     "output_type": "execute_result"
    }
   ],
   "source": [
    "z4 = a4 = a3 @ regressor.coefs_[3] + regressor.intercepts_[3]\n",
    "a4"
   ]
  },
  {
   "cell_type": "markdown",
   "metadata": {},
   "source": [
    "Tum bu lineer islemler, yalnizca bir katsayi ve bir interseptle gerceklestirilebilirdi."
   ]
  },
  {
   "cell_type": "code",
   "execution_count": 73,
   "metadata": {},
   "outputs": [
    {
     "data": {
      "text/plain": [
       "array([0.15822437])"
      ]
     },
     "execution_count": 73,
     "metadata": {},
     "output_type": "execute_result"
    }
   ],
   "source": [
    "regressor.intercepts_[3]"
   ]
  },
  {
   "cell_type": "code",
   "execution_count": 82,
   "metadata": {},
   "outputs": [
    {
     "data": {
      "text/plain": [
       "(array([0.55579509]), -0.8937051848982577)"
      ]
     },
     "execution_count": 82,
     "metadata": {},
     "output_type": "execute_result"
    }
   ],
   "source": [
    "from sklearn import linear_model\n",
    "lm = linear_model.LinearRegression().fit(Q, w)\n",
    "lm.coef_, lm.intercept_"
   ]
  },
  {
   "cell_type": "code",
   "execution_count": 84,
   "metadata": {},
   "outputs": [
    {
     "data": {
      "image/png": "[encoded data removed]",
      "text/plain": [
       "<Figure size 432x288 with 1 Axes>"
      ]
     },
     "metadata": {
      "needs_background": "light"
     },
     "output_type": "display_data"
    }
   ],
   "source": [
    "t = np.linspace(-2, 2, 100)\n",
    "plt.plot(t, lm.predict(t[:, None]), 'r-', label=\"Lineer regresyon\")\n",
    "plt.plot(t, regressor.predict(t[:, None]), 'g--', label=\"NN (aktivasyonsuz)\")\n",
    "plt.plot(t, f(t), 'b--', label=\"gercek model\")\n",
    "plt.scatter(Q, w, label='veri')\n",
    "plt.legend();"
   ]
  }
 ],
 "metadata": {
  "kernelspec": {
   "display_name": "Python 3.9.7 ('base')",
   "language": "python",
   "name": "python3"
  },
  "language_info": {
   "codemirror_mode": {
    "name": "ipython",
    "version": 3
   },
   "file_extension": ".py",
   "mimetype": "text/x-python",
   "name": "python",
   "nbconvert_exporter": "python",
   "pygments_lexer": "ipython3",
   "version": "3.9.7"
  },
  "orig_nbformat": 4,
  "vscode": {
   "interpreter": {
    "hash": "e4cce46d6be9934fbd27f9ca0432556941ea5bdf741d4f4d64c6cd7f8dfa8fba"
   }
  }
 },
 "nbformat": 4,
 "nbformat_minor": 2
}
