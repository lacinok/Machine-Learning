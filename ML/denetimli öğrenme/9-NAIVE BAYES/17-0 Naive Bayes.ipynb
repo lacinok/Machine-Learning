{
 "cells": [
  {
   "cell_type": "code",
   "execution_count": 1,
   "id": "ae0211c1",
   "metadata": {},
   "outputs": [],
   "source": [
    "from sklearn import datasets, naive_bayes, model_selection\n",
    "import numpy as np\n",
    "import pandas as pd\n",
    "import matplotlib.pyplot as plt"
   ]
  },
  {
   "cell_type": "markdown",
   "id": "547f760f",
   "metadata": {},
   "source": [
    "Biri whatsapp grubuna mesaj atmis, bu kim olabilir desem ne derdiniz?\n",
    "\n",
    "(Mesajla ilgili hicbir bilgi verilmeden)"
   ]
  },
  {
   "cell_type": "code",
   "execution_count": 2,
   "id": "749c1aaf",
   "metadata": {},
   "outputs": [
    {
     "ename": "FileNotFoundError",
     "evalue": "[Errno 2] No such file or directory: 'Bilimciler_temiz.csv'",
     "output_type": "error",
     "traceback": [
      "\u001b[1;31m---------------------------------------------------------------------------\u001b[0m",
      "\u001b[1;31mFileNotFoundError\u001b[0m                         Traceback (most recent call last)",
      "\u001b[1;32m~\\AppData\\Local\\Temp/ipykernel_20936/1987508461.py\u001b[0m in \u001b[0;36m<module>\u001b[1;34m\u001b[0m\n\u001b[1;32m----> 1\u001b[1;33m \u001b[0mdata\u001b[0m \u001b[1;33m=\u001b[0m \u001b[0mpd\u001b[0m\u001b[1;33m.\u001b[0m\u001b[0mread_csv\u001b[0m\u001b[1;33m(\u001b[0m\u001b[1;34m\"Bilimciler_temiz.csv\"\u001b[0m\u001b[1;33m)\u001b[0m\u001b[1;33m\u001b[0m\u001b[1;33m\u001b[0m\u001b[0m\n\u001b[0m",
      "\u001b[1;32mc:\\Users\\berk_\\miniconda3\\envs\\cons1\\lib\\site-packages\\pandas\\util\\_decorators.py\u001b[0m in \u001b[0;36mwrapper\u001b[1;34m(*args, **kwargs)\u001b[0m\n\u001b[0;32m    309\u001b[0m                     \u001b[0mstacklevel\u001b[0m\u001b[1;33m=\u001b[0m\u001b[0mstacklevel\u001b[0m\u001b[1;33m,\u001b[0m\u001b[1;33m\u001b[0m\u001b[1;33m\u001b[0m\u001b[0m\n\u001b[0;32m    310\u001b[0m                 )\n\u001b[1;32m--> 311\u001b[1;33m             \u001b[1;32mreturn\u001b[0m \u001b[0mfunc\u001b[0m\u001b[1;33m(\u001b[0m\u001b[1;33m*\u001b[0m\u001b[0margs\u001b[0m\u001b[1;33m,\u001b[0m \u001b[1;33m**\u001b[0m\u001b[0mkwargs\u001b[0m\u001b[1;33m)\u001b[0m\u001b[1;33m\u001b[0m\u001b[1;33m\u001b[0m\u001b[0m\n\u001b[0m\u001b[0;32m    312\u001b[0m \u001b[1;33m\u001b[0m\u001b[0m\n\u001b[0;32m    313\u001b[0m         \u001b[1;32mreturn\u001b[0m \u001b[0mwrapper\u001b[0m\u001b[1;33m\u001b[0m\u001b[1;33m\u001b[0m\u001b[0m\n",
      "\u001b[1;32mc:\\Users\\berk_\\miniconda3\\envs\\cons1\\lib\\site-packages\\pandas\\io\\parsers\\readers.py\u001b[0m in \u001b[0;36mread_csv\u001b[1;34m(filepath_or_buffer, sep, delimiter, header, names, index_col, usecols, squeeze, prefix, mangle_dupe_cols, dtype, engine, converters, true_values, false_values, skipinitialspace, skiprows, skipfooter, nrows, na_values, keep_default_na, na_filter, verbose, skip_blank_lines, parse_dates, infer_datetime_format, keep_date_col, date_parser, dayfirst, cache_dates, iterator, chunksize, compression, thousands, decimal, lineterminator, quotechar, quoting, doublequote, escapechar, comment, encoding, encoding_errors, dialect, error_bad_lines, warn_bad_lines, on_bad_lines, delim_whitespace, low_memory, memory_map, float_precision, storage_options)\u001b[0m\n\u001b[0;32m    584\u001b[0m     \u001b[0mkwds\u001b[0m\u001b[1;33m.\u001b[0m\u001b[0mupdate\u001b[0m\u001b[1;33m(\u001b[0m\u001b[0mkwds_defaults\u001b[0m\u001b[1;33m)\u001b[0m\u001b[1;33m\u001b[0m\u001b[1;33m\u001b[0m\u001b[0m\n\u001b[0;32m    585\u001b[0m \u001b[1;33m\u001b[0m\u001b[0m\n\u001b[1;32m--> 586\u001b[1;33m     \u001b[1;32mreturn\u001b[0m \u001b[0m_read\u001b[0m\u001b[1;33m(\u001b[0m\u001b[0mfilepath_or_buffer\u001b[0m\u001b[1;33m,\u001b[0m \u001b[0mkwds\u001b[0m\u001b[1;33m)\u001b[0m\u001b[1;33m\u001b[0m\u001b[1;33m\u001b[0m\u001b[0m\n\u001b[0m\u001b[0;32m    587\u001b[0m \u001b[1;33m\u001b[0m\u001b[0m\n\u001b[0;32m    588\u001b[0m \u001b[1;33m\u001b[0m\u001b[0m\n",
      "\u001b[1;32mc:\\Users\\berk_\\miniconda3\\envs\\cons1\\lib\\site-packages\\pandas\\io\\parsers\\readers.py\u001b[0m in \u001b[0;36m_read\u001b[1;34m(filepath_or_buffer, kwds)\u001b[0m\n\u001b[0;32m    480\u001b[0m \u001b[1;33m\u001b[0m\u001b[0m\n\u001b[0;32m    481\u001b[0m     \u001b[1;31m# Create the parser.\u001b[0m\u001b[1;33m\u001b[0m\u001b[1;33m\u001b[0m\u001b[1;33m\u001b[0m\u001b[0m\n\u001b[1;32m--> 482\u001b[1;33m     \u001b[0mparser\u001b[0m \u001b[1;33m=\u001b[0m \u001b[0mTextFileReader\u001b[0m\u001b[1;33m(\u001b[0m\u001b[0mfilepath_or_buffer\u001b[0m\u001b[1;33m,\u001b[0m \u001b[1;33m**\u001b[0m\u001b[0mkwds\u001b[0m\u001b[1;33m)\u001b[0m\u001b[1;33m\u001b[0m\u001b[1;33m\u001b[0m\u001b[0m\n\u001b[0m\u001b[0;32m    483\u001b[0m \u001b[1;33m\u001b[0m\u001b[0m\n\u001b[0;32m    484\u001b[0m     \u001b[1;32mif\u001b[0m \u001b[0mchunksize\u001b[0m \u001b[1;32mor\u001b[0m \u001b[0miterator\u001b[0m\u001b[1;33m:\u001b[0m\u001b[1;33m\u001b[0m\u001b[1;33m\u001b[0m\u001b[0m\n",
      "\u001b[1;32mc:\\Users\\berk_\\miniconda3\\envs\\cons1\\lib\\site-packages\\pandas\\io\\parsers\\readers.py\u001b[0m in \u001b[0;36m__init__\u001b[1;34m(self, f, engine, **kwds)\u001b[0m\n\u001b[0;32m    809\u001b[0m             \u001b[0mself\u001b[0m\u001b[1;33m.\u001b[0m\u001b[0moptions\u001b[0m\u001b[1;33m[\u001b[0m\u001b[1;34m\"has_index_names\"\u001b[0m\u001b[1;33m]\u001b[0m \u001b[1;33m=\u001b[0m \u001b[0mkwds\u001b[0m\u001b[1;33m[\u001b[0m\u001b[1;34m\"has_index_names\"\u001b[0m\u001b[1;33m]\u001b[0m\u001b[1;33m\u001b[0m\u001b[1;33m\u001b[0m\u001b[0m\n\u001b[0;32m    810\u001b[0m \u001b[1;33m\u001b[0m\u001b[0m\n\u001b[1;32m--> 811\u001b[1;33m         \u001b[0mself\u001b[0m\u001b[1;33m.\u001b[0m\u001b[0m_engine\u001b[0m \u001b[1;33m=\u001b[0m \u001b[0mself\u001b[0m\u001b[1;33m.\u001b[0m\u001b[0m_make_engine\u001b[0m\u001b[1;33m(\u001b[0m\u001b[0mself\u001b[0m\u001b[1;33m.\u001b[0m\u001b[0mengine\u001b[0m\u001b[1;33m)\u001b[0m\u001b[1;33m\u001b[0m\u001b[1;33m\u001b[0m\u001b[0m\n\u001b[0m\u001b[0;32m    812\u001b[0m \u001b[1;33m\u001b[0m\u001b[0m\n\u001b[0;32m    813\u001b[0m     \u001b[1;32mdef\u001b[0m \u001b[0mclose\u001b[0m\u001b[1;33m(\u001b[0m\u001b[0mself\u001b[0m\u001b[1;33m)\u001b[0m\u001b[1;33m:\u001b[0m\u001b[1;33m\u001b[0m\u001b[1;33m\u001b[0m\u001b[0m\n",
      "\u001b[1;32mc:\\Users\\berk_\\miniconda3\\envs\\cons1\\lib\\site-packages\\pandas\\io\\parsers\\readers.py\u001b[0m in \u001b[0;36m_make_engine\u001b[1;34m(self, engine)\u001b[0m\n\u001b[0;32m   1038\u001b[0m             )\n\u001b[0;32m   1039\u001b[0m         \u001b[1;31m# error: Too many arguments for \"ParserBase\"\u001b[0m\u001b[1;33m\u001b[0m\u001b[1;33m\u001b[0m\u001b[1;33m\u001b[0m\u001b[0m\n\u001b[1;32m-> 1040\u001b[1;33m         \u001b[1;32mreturn\u001b[0m \u001b[0mmapping\u001b[0m\u001b[1;33m[\u001b[0m\u001b[0mengine\u001b[0m\u001b[1;33m]\u001b[0m\u001b[1;33m(\u001b[0m\u001b[0mself\u001b[0m\u001b[1;33m.\u001b[0m\u001b[0mf\u001b[0m\u001b[1;33m,\u001b[0m \u001b[1;33m**\u001b[0m\u001b[0mself\u001b[0m\u001b[1;33m.\u001b[0m\u001b[0moptions\u001b[0m\u001b[1;33m)\u001b[0m  \u001b[1;31m# type: ignore[call-arg]\u001b[0m\u001b[1;33m\u001b[0m\u001b[1;33m\u001b[0m\u001b[0m\n\u001b[0m\u001b[0;32m   1041\u001b[0m \u001b[1;33m\u001b[0m\u001b[0m\n\u001b[0;32m   1042\u001b[0m     \u001b[1;32mdef\u001b[0m \u001b[0m_failover_to_python\u001b[0m\u001b[1;33m(\u001b[0m\u001b[0mself\u001b[0m\u001b[1;33m)\u001b[0m\u001b[1;33m:\u001b[0m\u001b[1;33m\u001b[0m\u001b[1;33m\u001b[0m\u001b[0m\n",
      "\u001b[1;32mc:\\Users\\berk_\\miniconda3\\envs\\cons1\\lib\\site-packages\\pandas\\io\\parsers\\c_parser_wrapper.py\u001b[0m in \u001b[0;36m__init__\u001b[1;34m(self, src, **kwds)\u001b[0m\n\u001b[0;32m     49\u001b[0m \u001b[1;33m\u001b[0m\u001b[0m\n\u001b[0;32m     50\u001b[0m         \u001b[1;31m# open handles\u001b[0m\u001b[1;33m\u001b[0m\u001b[1;33m\u001b[0m\u001b[1;33m\u001b[0m\u001b[0m\n\u001b[1;32m---> 51\u001b[1;33m         \u001b[0mself\u001b[0m\u001b[1;33m.\u001b[0m\u001b[0m_open_handles\u001b[0m\u001b[1;33m(\u001b[0m\u001b[0msrc\u001b[0m\u001b[1;33m,\u001b[0m \u001b[0mkwds\u001b[0m\u001b[1;33m)\u001b[0m\u001b[1;33m\u001b[0m\u001b[1;33m\u001b[0m\u001b[0m\n\u001b[0m\u001b[0;32m     52\u001b[0m         \u001b[1;32massert\u001b[0m \u001b[0mself\u001b[0m\u001b[1;33m.\u001b[0m\u001b[0mhandles\u001b[0m \u001b[1;32mis\u001b[0m \u001b[1;32mnot\u001b[0m \u001b[1;32mNone\u001b[0m\u001b[1;33m\u001b[0m\u001b[1;33m\u001b[0m\u001b[0m\n\u001b[0;32m     53\u001b[0m \u001b[1;33m\u001b[0m\u001b[0m\n",
      "\u001b[1;32mc:\\Users\\berk_\\miniconda3\\envs\\cons1\\lib\\site-packages\\pandas\\io\\parsers\\base_parser.py\u001b[0m in \u001b[0;36m_open_handles\u001b[1;34m(self, src, kwds)\u001b[0m\n\u001b[0;32m    220\u001b[0m         \u001b[0mLet\u001b[0m \u001b[0mthe\u001b[0m \u001b[0mreaders\u001b[0m \u001b[0mopen\u001b[0m \u001b[0mIOHandles\u001b[0m \u001b[0mafter\u001b[0m \u001b[0mthey\u001b[0m \u001b[0mare\u001b[0m \u001b[0mdone\u001b[0m \u001b[1;32mwith\u001b[0m \u001b[0mtheir\u001b[0m \u001b[0mpotential\u001b[0m \u001b[0mraises\u001b[0m\u001b[1;33m.\u001b[0m\u001b[1;33m\u001b[0m\u001b[1;33m\u001b[0m\u001b[0m\n\u001b[0;32m    221\u001b[0m         \"\"\"\n\u001b[1;32m--> 222\u001b[1;33m         self.handles = get_handle(\n\u001b[0m\u001b[0;32m    223\u001b[0m             \u001b[0msrc\u001b[0m\u001b[1;33m,\u001b[0m\u001b[1;33m\u001b[0m\u001b[1;33m\u001b[0m\u001b[0m\n\u001b[0;32m    224\u001b[0m             \u001b[1;34m\"r\"\u001b[0m\u001b[1;33m,\u001b[0m\u001b[1;33m\u001b[0m\u001b[1;33m\u001b[0m\u001b[0m\n",
      "\u001b[1;32mc:\\Users\\berk_\\miniconda3\\envs\\cons1\\lib\\site-packages\\pandas\\io\\common.py\u001b[0m in \u001b[0;36mget_handle\u001b[1;34m(path_or_buf, mode, encoding, compression, memory_map, is_text, errors, storage_options)\u001b[0m\n\u001b[0;32m    700\u001b[0m         \u001b[1;32mif\u001b[0m \u001b[0mioargs\u001b[0m\u001b[1;33m.\u001b[0m\u001b[0mencoding\u001b[0m \u001b[1;32mand\u001b[0m \u001b[1;34m\"b\"\u001b[0m \u001b[1;32mnot\u001b[0m \u001b[1;32min\u001b[0m \u001b[0mioargs\u001b[0m\u001b[1;33m.\u001b[0m\u001b[0mmode\u001b[0m\u001b[1;33m:\u001b[0m\u001b[1;33m\u001b[0m\u001b[1;33m\u001b[0m\u001b[0m\n\u001b[0;32m    701\u001b[0m             \u001b[1;31m# Encoding\u001b[0m\u001b[1;33m\u001b[0m\u001b[1;33m\u001b[0m\u001b[1;33m\u001b[0m\u001b[0m\n\u001b[1;32m--> 702\u001b[1;33m             handle = open(\n\u001b[0m\u001b[0;32m    703\u001b[0m                 \u001b[0mhandle\u001b[0m\u001b[1;33m,\u001b[0m\u001b[1;33m\u001b[0m\u001b[1;33m\u001b[0m\u001b[0m\n\u001b[0;32m    704\u001b[0m                 \u001b[0mioargs\u001b[0m\u001b[1;33m.\u001b[0m\u001b[0mmode\u001b[0m\u001b[1;33m,\u001b[0m\u001b[1;33m\u001b[0m\u001b[1;33m\u001b[0m\u001b[0m\n",
      "\u001b[1;31mFileNotFoundError\u001b[0m: [Errno 2] No such file or directory: 'Bilimciler_temiz.csv'"
     ]
    }
   ],
   "source": [
    "data = pd.read_csv(\"Bilimciler_temiz.csv\")"
   ]
  },
  {
   "cell_type": "code",
   "execution_count": 3,
   "id": "9eada814",
   "metadata": {},
   "outputs": [
    {
     "ename": "NameError",
     "evalue": "name 'data' is not defined",
     "output_type": "error",
     "traceback": [
      "\u001b[1;31m---------------------------------------------------------------------------\u001b[0m",
      "\u001b[1;31mNameError\u001b[0m                                 Traceback (most recent call last)",
      "\u001b[1;32m~\\AppData\\Local\\Temp/ipykernel_20936/2678419683.py\u001b[0m in \u001b[0;36m<module>\u001b[1;34m\u001b[0m\n\u001b[1;32m----> 1\u001b[1;33m \u001b[0mdata\u001b[0m\u001b[1;33m[\u001b[0m\u001b[1;34m'sender'\u001b[0m\u001b[1;33m]\u001b[0m\u001b[1;33m.\u001b[0m\u001b[0mvalue_counts\u001b[0m\u001b[1;33m(\u001b[0m\u001b[1;36m1\u001b[0m\u001b[1;33m)\u001b[0m\u001b[1;33m.\u001b[0m\u001b[0mhead\u001b[0m\u001b[1;33m(\u001b[0m\u001b[1;36m14\u001b[0m\u001b[1;33m)\u001b[0m\u001b[1;33m.\u001b[0m\u001b[0mrename\u001b[0m\u001b[1;33m(\u001b[0m\u001b[1;34m\"Mesaj frekanslari\"\u001b[0m\u001b[1;33m)\u001b[0m\u001b[1;33m\u001b[0m\u001b[1;33m\u001b[0m\u001b[0m\n\u001b[0m",
      "\u001b[1;31mNameError\u001b[0m: name 'data' is not defined"
     ]
    }
   ],
   "source": [
    "data['sender'].value_counts(1).head(14).rename(\"Mesaj frekanslari\")"
   ]
  },
  {
   "cell_type": "markdown",
   "id": "e023dbb6",
   "metadata": {},
   "source": [
    "$P(kisi=Ersan) = 0.092671$  \n",
    "Ersan'in grup mesajlarindaki genel payi, bu mesajin Ersan'dan gelmis olma olasiliginin iyi bir gostergesi olabilirdi.\n",
    "\n",
    "Bu olasilik, **Prior**'dur. Mesajla ilgili henuz bir sey bilmeden mesajin bir kisiye ait olduguna dair inanciniz."
   ]
  },
  {
   "cell_type": "markdown",
   "id": "6e5f6a08",
   "metadata": {},
   "source": [
    "Mesajin icerigi verilmis olsaydi, fikriniz mutalaka degisirdi:"
   ]
  },
  {
   "cell_type": "markdown",
   "id": "4dd8d719",
   "metadata": {},
   "source": [
    "P(kisi=Ersan | Mesaj=\"Abi pandasa bakin\") = 0.34 (rakam gercek degil temsilidir)"
   ]
  },
  {
   "cell_type": "markdown",
   "id": "5e080f0d",
   "metadata": {},
   "source": [
    "---"
   ]
  },
  {
   "cell_type": "markdown",
   "id": "83cf4051",
   "metadata": {},
   "source": [
    "### Notasyon\n",
    "\n",
    "Ornek bir problem ile ifadelerin nasil formullere cevrildigini gorelim:"
   ]
  },
  {
   "cell_type": "markdown",
   "id": "87664910",
   "metadata": {},
   "source": [
    "E: hatali urun - defolu\n",
    "A ve B: tezgah isimleri\n",
    "\n",
    "Bir fabrikadaki urunlerin %60'i A tezgahinda, %40'i B tezgahinda uretilmektedir.\n",
    "\n",
    "A tezgahindan cikan urunlerin %10'u defolu, B tezgahindan cikan urunlerin %5'inin defolu oldugu bilinmektedir.\n",
    "\n",
    "Bu problemi asagidaki gibi formulize edebilirdik;\n",
    "\n",
    "- $P(A) = 0.6$ Rastgele cekilen bir urunun A tezgahinda uretilmis olma olasiligi\n",
    "- $P(B) = 0.4$ Rastgele cekilen bir urunun B tezgahinda uretilmis olma olasiligi \n",
    "---\n",
    "- $P(E | A) = 0.1$ Urunun A tezgahindan geldigi bilindigine gore defolu olma olasiligi\n",
    "- $P(E | B) = 0.05$ Urunun B tezgahindan geldigi bilindigine gore defolu olma olasiligi\n",
    "\n",
    "Cekilen bir urun defolu olduguna gore A tezgahindan gelmis olma olasiligi $P(A | E)$ nedir?\n",
    "\n",
    "$P(A | E) = ?$"
   ]
  },
  {
   "cell_type": "markdown",
   "id": "d3c37904",
   "metadata": {},
   "source": [
    "## Bayes Teoremi:"
   ]
  },
  {
   "cell_type": "markdown",
   "id": "c0e7b6a0",
   "metadata": {},
   "source": [
    "$$P(A | E) = \\frac{P(E | A) P(A)}{P(E)}$$"
   ]
  },
  {
   "cell_type": "markdown",
   "id": "f902d3f8",
   "metadata": {},
   "source": [
    "$P(E|A)$ ve $P(A)$ halihazirda bize verilmis. $P(E)$'yi hesaplayarak kesin bir olasilik soyleyebilirdik.\n",
    "\n",
    "*Ancak, olasilik vermek yerine bu konuda kesin bir karar verecek olsaydik (A'dan gelmistir ya da B'den gelmistir gibi), olasiligi yuksek secenegi secerdik*"
   ]
  },
  {
   "cell_type": "markdown",
   "id": "16e5dd44",
   "metadata": {},
   "source": [
    "Kiyaslama icin yeterli:\n",
    "\n",
    "- $P(A | E) \\propto P(A) P(E | A)$\n",
    "- $P(B | E) \\propto P(B) P(E | B)$\n",
    "\n",
    "Payda $P(E)$, her iki terimde de ayni oldugu icin kiyaslamayi pay uzerinden yapabiliriz."
   ]
  },
  {
   "cell_type": "markdown",
   "id": "92936fcf",
   "metadata": {},
   "source": [
    "**Mesaj olaylarina donersek:**\n",
    "\n",
    "Mesaj verildigine gore gondericinin belirli bir kisi olma olasiligini asagidaki gibi acabilirdik:"
   ]
  },
  {
   "cell_type": "markdown",
   "id": "8a2d404c",
   "metadata": {},
   "source": [
    "- P(kisi=Ersan | Mesaj=\"Abi pandasa bakin\") = P(mesaj | Ersan) P(Ersan) / P(mesaj)\n",
    "- P(kisi=Sukru | Mesaj=\"Abi pandasa bakin\") = P(mesaj | Sukru) P(Sukru) / P(mesaj)\n",
    "- ...\n",
    "- P(kisi=kisi[i] | Mesaj=\"Abi pandasa bakin\") = P(mesaj | kisi[i]) P(kisi[i]) / P(mesaj)"
   ]
  },
  {
   "cell_type": "markdown",
   "id": "35b0178d",
   "metadata": {},
   "source": [
    "$P(kisi=Ersan | Mesaj=\"Abi\\ pandasa\\ bakin\") \\propto P(mesaj | Ersan) P(Ersan)$\n",
    "\n",
    "Peki bu $P(mesaj | Ersan) P(Ersan)$ terimini nasil parcalayabiliriz?\n",
    "\n",
    "\n",
    "\n"
   ]
  },
  {
   "cell_type": "markdown",
   "id": "0547be9c",
   "metadata": {},
   "source": [
    "Naive bayes -> Naive: feature'larin birbirinden bagimsiz oldugunun kabulu"
   ]
  },
  {
   "cell_type": "markdown",
   "id": "50c50191",
   "metadata": {},
   "source": [
    "$$P(mesaj | Ersan) = P(Abi | Ersan) P(pandas | Ersan) P(bakin | Ersan)$$\n"
   ]
  },
  {
   "cell_type": "markdown",
   "id": "57d210c9",
   "metadata": {},
   "source": [
    "P(Abi) = P(Abi | pandas)  \n",
    "P(kankalar) = P(kankalar | gunaydin)\n"
   ]
  },
  {
   "cell_type": "markdown",
   "id": "71a08220",
   "metadata": {},
   "source": [
    "### Devamli degiskenlerde bagimsizlik"
   ]
  },
  {
   "cell_type": "code",
   "execution_count": 5,
   "id": "613b5349",
   "metadata": {},
   "outputs": [],
   "source": [
    "import scipy.stats as scs\n",
    "import numpy as np"
   ]
  },
  {
   "cell_type": "code",
   "execution_count": 6,
   "id": "daced5eb",
   "metadata": {},
   "outputs": [],
   "source": [
    "xx, yy = np.meshgrid(np.linspace(-8, 8, 300), np.linspace(-6, 6, 300))"
   ]
  },
  {
   "cell_type": "code",
   "execution_count": 308,
   "id": "d13a6feb",
   "metadata": {},
   "outputs": [],
   "source": [
    "dagilim = scs.multivariate_normal([0, 0], [1, 3])\n",
    "zz = dagilim.pdf(np.array([xx.ravel(), yy.ravel()]).T).reshape(xx.shape)"
   ]
  },
  {
   "cell_type": "markdown",
   "id": "51b82a93",
   "metadata": {},
   "source": [
    "##### Bagimsiz degiskenlerde kovaryans"
   ]
  },
  {
   "cell_type": "markdown",
   "id": "a66275bb",
   "metadata": {},
   "source": [
    "Bagimsiz degiskenlerde yalnizca diyagonel elemanlar 0'dan farklidir."
   ]
  },
  {
   "cell_type": "code",
   "execution_count": 617,
   "id": "17e427c9",
   "metadata": {},
   "outputs": [
    {
     "data": {
      "text/plain": [
       "array([[1.00239109, 0.00985279],\n",
       "       [0.00985279, 2.9925725 ]])"
      ]
     },
     "execution_count": 617,
     "metadata": {},
     "output_type": "execute_result"
    }
   ],
   "source": [
    "np.cov(dagilim.rvs(100000).T)"
   ]
  },
  {
   "cell_type": "markdown",
   "id": "c3c3fc61",
   "metadata": {},
   "source": [
    "Bu elemanlar da, her feature'in kendi varyansini gosterir."
   ]
  },
  {
   "cell_type": "code",
   "execution_count": 618,
   "id": "38e8e761",
   "metadata": {},
   "outputs": [
    {
     "data": {
      "text/plain": [
       "array([0.9992275 , 3.00495557])"
      ]
     },
     "execution_count": 618,
     "metadata": {},
     "output_type": "execute_result"
    }
   ],
   "source": [
    "np.var(dagilim.rvs(100000), axis=0)"
   ]
  },
  {
   "cell_type": "markdown",
   "id": "28a3946e",
   "metadata": {},
   "source": [
    "Yaklasik olarak ayni."
   ]
  },
  {
   "cell_type": "markdown",
   "id": "d6a295d1",
   "metadata": {},
   "source": [
    "Benzer maksatli standart bir olcum olan korealsyonu daha once gormustuk:"
   ]
  },
  {
   "cell_type": "code",
   "execution_count": 621,
   "id": "9728c89d",
   "metadata": {},
   "outputs": [
    {
     "data": {
      "text/plain": [
       "array([[ 1.00000000e+00, -9.07318154e-04],\n",
       "       [-9.07318154e-04,  1.00000000e+00]])"
      ]
     },
     "execution_count": 621,
     "metadata": {},
     "output_type": "execute_result"
    }
   ],
   "source": [
    "np.corrcoef(dagilim.rvs(100000).T)"
   ]
  },
  {
   "cell_type": "code",
   "execution_count": 310,
   "id": "a916c7be",
   "metadata": {},
   "outputs": [
    {
     "data": {
      "image/png": "[encoded data removed]",
      "text/plain": [
       "<Figure size 864x576 with 2 Axes>"
      ]
     },
     "metadata": {
      "needs_background": "light"
     },
     "output_type": "display_data"
    }
   ],
   "source": [
    "plt.figure(figsize=(12, 8))\n",
    "plt.scatter(*dagilim.rvs(1000).T)\n",
    "plt.contourf(xx, yy, zz, cmap='jet', levels=100, alpha=0.3)\n",
    "plt.colorbar().set_label(\"Joint PDF\")\n",
    "plt.axis('equal');"
   ]
  },
  {
   "cell_type": "markdown",
   "id": "b4a79ed7",
   "metadata": {},
   "source": [
    "Yukaridaki dagilimdan, $x_1$ degeri $[0, 1]$ araliginda cektigimiz 1000 ornek ile $[1, 2]$ araliginda cektigimiz 1000 ornegin ortalamalarini kiyaslasak bir fark gorur muyduk?"
   ]
  },
  {
   "cell_type": "code",
   "execution_count": 360,
   "id": "e12c8160",
   "metadata": {},
   "outputs": [
    {
     "data": {
      "image/png": "[encoded data removed]",
      "text/plain": [
       "<Figure size 432x288 with 1 Axes>"
      ]
     },
     "metadata": {
      "needs_background": "light"
     },
     "output_type": "display_data"
    }
   ],
   "source": [
    "X = dagilim.rvs(100000)\n",
    "pd.Series(X[(X[:, 0] >= 0) & (X[:, 1] <= 1)][:, 1]).plot(kind='kde')\n",
    "pd.Series(X[(X[:, 0] >= 1) & (X[:, 1] <= 2)][:, 1]).plot(kind='kde')\n",
    "pd.Series(X[(X[:, 0] >= 2) & (X[:, 1] <= 3)][:, 1]).plot(kind='kde');"
   ]
  },
  {
   "cell_type": "markdown",
   "id": "8c361c57",
   "metadata": {},
   "source": [
    "Ortalamalarin ayni oldugu gozukuyor."
   ]
  },
  {
   "cell_type": "code",
   "execution_count": 362,
   "id": "bd781e5f",
   "metadata": {},
   "outputs": [],
   "source": [
    "bg_dagilim = scs.multivariate_normal([0, 0], [[1.0, 0.9], [0.9, 1.0]])\n",
    "\n",
    "zz = bg_dagilim.pdf(np.array([xx.ravel(), yy.ravel()]).T).reshape(xx.shape)"
   ]
  },
  {
   "cell_type": "code",
   "execution_count": 367,
   "id": "0ab7b17e",
   "metadata": {},
   "outputs": [
    {
     "data": {
      "text/plain": [
       "(-8.0, 8.0, -6.0, 6.0)"
      ]
     },
     "execution_count": 367,
     "metadata": {},
     "output_type": "execute_result"
    },
    {
     "data": {
      "image/png": "[encoded data removed]",
      "text/plain": [
       "<Figure size 864x576 with 1 Axes>"
      ]
     },
     "metadata": {
      "needs_background": "light"
     },
     "output_type": "display_data"
    }
   ],
   "source": [
    "plt.figure(figsize=(12, 8))\n",
    "plt.scatter(*bg_dagilim.rvs(1000).T)\n",
    "plt.contourf(xx, yy, zz, alpha=0.3, cmap='jet')\n",
    "plt.axis('equal')"
   ]
  },
  {
   "cell_type": "code",
   "execution_count": 368,
   "id": "7a329926",
   "metadata": {},
   "outputs": [
    {
     "data": {
      "image/png": "[encoded data removed]",
      "text/plain": [
       "<Figure size 432x288 with 1 Axes>"
      ]
     },
     "metadata": {
      "needs_background": "light"
     },
     "output_type": "display_data"
    }
   ],
   "source": [
    "X = bg_dagilim.rvs(100000)\n",
    "pd.Series(X[(X[:, 0] >= 0) & (X[:, 1] <= 1)][:, 1]).plot(kind='kde')\n",
    "pd.Series(X[(X[:, 0] >= 1) & (X[:, 1] <= 2)][:, 1]).plot(kind='kde')\n",
    "pd.Series(X[(X[:, 0] >= 2) & (X[:, 1] <= 3)][:, 1]).plot(kind='kde');"
   ]
  },
  {
   "cell_type": "markdown",
   "id": "6e6bc63f",
   "metadata": {},
   "source": [
    "Secilen araliga gore ortalamalar farklilik gosterdi. Bu durumda, $x_1$ ve $x_2$ bagimsizdir demek mumkun mu?"
   ]
  },
  {
   "cell_type": "markdown",
   "id": "f2b0cc52",
   "metadata": {},
   "source": [
    "##### Bagimli degiskenlerde kovaryans"
   ]
  },
  {
   "cell_type": "code",
   "execution_count": 619,
   "id": "1b29f595",
   "metadata": {},
   "outputs": [
    {
     "data": {
      "text/plain": [
       "array([[1.00456179, 0.9052143 ],\n",
       "       [0.9052143 , 1.00537111]])"
      ]
     },
     "execution_count": 619,
     "metadata": {},
     "output_type": "execute_result"
    }
   ],
   "source": [
    "np.cov(bg_dagilim.rvs(100000).T)"
   ]
  },
  {
   "cell_type": "code",
   "execution_count": 622,
   "id": "a7016c1b",
   "metadata": {},
   "outputs": [
    {
     "data": {
      "text/plain": [
       "array([[1.        , 0.89941215],\n",
       "       [0.89941215, 1.        ]])"
      ]
     },
     "execution_count": 622,
     "metadata": {},
     "output_type": "execute_result"
    }
   ],
   "source": [
    "np.corrcoef(bg_dagilim.rvs(100000).T)"
   ]
  },
  {
   "cell_type": "markdown",
   "id": "9a598f54",
   "metadata": {},
   "source": [
    "Diyagonel haricindeki elemanlarin 0'dan farkli olmasi, degiskenlerin bagimli oldugunu gosterir."
   ]
  },
  {
   "cell_type": "code",
   "execution_count": 620,
   "id": "77a9e9cb",
   "metadata": {},
   "outputs": [
    {
     "data": {
      "text/plain": [
       "array([1.00773642, 1.00522827])"
      ]
     },
     "execution_count": 620,
     "metadata": {},
     "output_type": "execute_result"
    }
   ],
   "source": [
    "np.var(bg_dagilim.rvs(100000), axis=0)"
   ]
  },
  {
   "cell_type": "markdown",
   "id": "57862265",
   "metadata": {},
   "source": [
    "## Naive Bayes ile metin tasniflendirme"
   ]
  },
  {
   "cell_type": "code",
   "execution_count": 370,
   "id": "89dcafd8",
   "metadata": {},
   "outputs": [],
   "source": [
    "data = pd.read_csv(\"Bilimciler_temiz.csv\")\n"
   ]
  },
  {
   "cell_type": "code",
   "execution_count": 371,
   "id": "42f4fd85",
   "metadata": {},
   "outputs": [],
   "source": [
    "from sklearn import feature_extraction, naive_bayes, preprocessing"
   ]
  },
  {
   "cell_type": "code",
   "execution_count": 372,
   "id": "faa73500",
   "metadata": {},
   "outputs": [
    {
     "data": {
      "text/plain": [
       "CountVectorizer()"
      ]
     },
     "execution_count": 372,
     "metadata": {},
     "output_type": "execute_result"
    }
   ],
   "source": [
    "vectorizer = feature_extraction.text.CountVectorizer()\n",
    "vectorizer.fit(data['message'])"
   ]
  },
  {
   "cell_type": "code",
   "execution_count": 373,
   "id": "20c72c4b",
   "metadata": {},
   "outputs": [],
   "source": [
    "X = vectorizer.transform(data['message'])\n",
    "y = data['y']"
   ]
  },
  {
   "cell_type": "code",
   "execution_count": 374,
   "id": "5718a44b",
   "metadata": {},
   "outputs": [
    {
     "data": {
      "text/plain": [
       "'Salı ve perşembe akşam 10da buluşalım bu hafta datayı sonlandıralım beraber tamamen. Çözümleri konuşalım artık.'"
      ]
     },
     "execution_count": 374,
     "metadata": {},
     "output_type": "execute_result"
    }
   ],
   "source": [
    "data['message'][5]"
   ]
  },
  {
   "cell_type": "markdown",
   "id": "44267bb7",
   "metadata": {},
   "source": [
    "### Bag of Words"
   ]
  },
  {
   "cell_type": "code",
   "execution_count": 375,
   "id": "17955792",
   "metadata": {},
   "outputs": [
    {
     "data": {
      "text/html": [
       "<div>\n",
       "<style scoped>\n",
       "    .dataframe tbody tr th:only-of-type {\n",
       "        vertical-align: middle;\n",
       "    }\n",
       "\n",
       "    .dataframe tbody tr th {\n",
       "        vertical-align: top;\n",
       "    }\n",
       "\n",
       "    .dataframe thead th {\n",
       "        text-align: right;\n",
       "    }\n",
       "</style>\n",
       "<table border=\"1\" class=\"dataframe\">\n",
       "  <thead>\n",
       "    <tr style=\"text-align: right;\">\n",
       "      <th></th>\n",
       "      <th>00</th>\n",
       "      <th>0001</th>\n",
       "      <th>00da</th>\n",
       "      <th>01</th>\n",
       "      <th>0130</th>\n",
       "      <th>01_data_science</th>\n",
       "      <th>06</th>\n",
       "      <th>08</th>\n",
       "      <th>10</th>\n",
       "      <th>100</th>\n",
       "      <th>...</th>\n",
       "      <th>şişirmeyeyim</th>\n",
       "      <th>şte</th>\n",
       "      <th>şu</th>\n",
       "      <th>şuan</th>\n",
       "      <th>şurda</th>\n",
       "      <th>şöyle</th>\n",
       "      <th>şükrü</th>\n",
       "      <th>şükrüden</th>\n",
       "      <th>şükrüyle</th>\n",
       "      <th>şükür</th>\n",
       "    </tr>\n",
       "  </thead>\n",
       "  <tbody>\n",
       "    <tr>\n",
       "      <th>0</th>\n",
       "      <td>0</td>\n",
       "      <td>0</td>\n",
       "      <td>0</td>\n",
       "      <td>0</td>\n",
       "      <td>0</td>\n",
       "      <td>0</td>\n",
       "      <td>0</td>\n",
       "      <td>0</td>\n",
       "      <td>0</td>\n",
       "      <td>0</td>\n",
       "      <td>...</td>\n",
       "      <td>0</td>\n",
       "      <td>0</td>\n",
       "      <td>0</td>\n",
       "      <td>0</td>\n",
       "      <td>0</td>\n",
       "      <td>0</td>\n",
       "      <td>0</td>\n",
       "      <td>0</td>\n",
       "      <td>0</td>\n",
       "      <td>0</td>\n",
       "    </tr>\n",
       "    <tr>\n",
       "      <th>1</th>\n",
       "      <td>0</td>\n",
       "      <td>0</td>\n",
       "      <td>0</td>\n",
       "      <td>0</td>\n",
       "      <td>0</td>\n",
       "      <td>0</td>\n",
       "      <td>0</td>\n",
       "      <td>0</td>\n",
       "      <td>0</td>\n",
       "      <td>0</td>\n",
       "      <td>...</td>\n",
       "      <td>0</td>\n",
       "      <td>0</td>\n",
       "      <td>0</td>\n",
       "      <td>0</td>\n",
       "      <td>0</td>\n",
       "      <td>0</td>\n",
       "      <td>0</td>\n",
       "      <td>0</td>\n",
       "      <td>0</td>\n",
       "      <td>0</td>\n",
       "    </tr>\n",
       "    <tr>\n",
       "      <th>2</th>\n",
       "      <td>0</td>\n",
       "      <td>0</td>\n",
       "      <td>0</td>\n",
       "      <td>0</td>\n",
       "      <td>0</td>\n",
       "      <td>0</td>\n",
       "      <td>0</td>\n",
       "      <td>0</td>\n",
       "      <td>0</td>\n",
       "      <td>0</td>\n",
       "      <td>...</td>\n",
       "      <td>0</td>\n",
       "      <td>0</td>\n",
       "      <td>0</td>\n",
       "      <td>0</td>\n",
       "      <td>0</td>\n",
       "      <td>0</td>\n",
       "      <td>1</td>\n",
       "      <td>0</td>\n",
       "      <td>0</td>\n",
       "      <td>0</td>\n",
       "    </tr>\n",
       "    <tr>\n",
       "      <th>3</th>\n",
       "      <td>0</td>\n",
       "      <td>0</td>\n",
       "      <td>0</td>\n",
       "      <td>0</td>\n",
       "      <td>0</td>\n",
       "      <td>0</td>\n",
       "      <td>0</td>\n",
       "      <td>0</td>\n",
       "      <td>0</td>\n",
       "      <td>0</td>\n",
       "      <td>...</td>\n",
       "      <td>0</td>\n",
       "      <td>0</td>\n",
       "      <td>0</td>\n",
       "      <td>0</td>\n",
       "      <td>0</td>\n",
       "      <td>0</td>\n",
       "      <td>0</td>\n",
       "      <td>0</td>\n",
       "      <td>0</td>\n",
       "      <td>0</td>\n",
       "    </tr>\n",
       "    <tr>\n",
       "      <th>4</th>\n",
       "      <td>0</td>\n",
       "      <td>0</td>\n",
       "      <td>0</td>\n",
       "      <td>0</td>\n",
       "      <td>0</td>\n",
       "      <td>0</td>\n",
       "      <td>0</td>\n",
       "      <td>0</td>\n",
       "      <td>0</td>\n",
       "      <td>0</td>\n",
       "      <td>...</td>\n",
       "      <td>0</td>\n",
       "      <td>0</td>\n",
       "      <td>1</td>\n",
       "      <td>0</td>\n",
       "      <td>0</td>\n",
       "      <td>0</td>\n",
       "      <td>0</td>\n",
       "      <td>0</td>\n",
       "      <td>0</td>\n",
       "      <td>0</td>\n",
       "    </tr>\n",
       "    <tr>\n",
       "      <th>...</th>\n",
       "      <td>...</td>\n",
       "      <td>...</td>\n",
       "      <td>...</td>\n",
       "      <td>...</td>\n",
       "      <td>...</td>\n",
       "      <td>...</td>\n",
       "      <td>...</td>\n",
       "      <td>...</td>\n",
       "      <td>...</td>\n",
       "      <td>...</td>\n",
       "      <td>...</td>\n",
       "      <td>...</td>\n",
       "      <td>...</td>\n",
       "      <td>...</td>\n",
       "      <td>...</td>\n",
       "      <td>...</td>\n",
       "      <td>...</td>\n",
       "      <td>...</td>\n",
       "      <td>...</td>\n",
       "      <td>...</td>\n",
       "      <td>...</td>\n",
       "    </tr>\n",
       "    <tr>\n",
       "      <th>1182</th>\n",
       "      <td>0</td>\n",
       "      <td>0</td>\n",
       "      <td>0</td>\n",
       "      <td>0</td>\n",
       "      <td>0</td>\n",
       "      <td>0</td>\n",
       "      <td>0</td>\n",
       "      <td>0</td>\n",
       "      <td>0</td>\n",
       "      <td>0</td>\n",
       "      <td>...</td>\n",
       "      <td>0</td>\n",
       "      <td>0</td>\n",
       "      <td>0</td>\n",
       "      <td>0</td>\n",
       "      <td>0</td>\n",
       "      <td>0</td>\n",
       "      <td>0</td>\n",
       "      <td>0</td>\n",
       "      <td>0</td>\n",
       "      <td>0</td>\n",
       "    </tr>\n",
       "    <tr>\n",
       "      <th>1183</th>\n",
       "      <td>0</td>\n",
       "      <td>0</td>\n",
       "      <td>0</td>\n",
       "      <td>0</td>\n",
       "      <td>0</td>\n",
       "      <td>0</td>\n",
       "      <td>0</td>\n",
       "      <td>0</td>\n",
       "      <td>0</td>\n",
       "      <td>0</td>\n",
       "      <td>...</td>\n",
       "      <td>0</td>\n",
       "      <td>0</td>\n",
       "      <td>0</td>\n",
       "      <td>0</td>\n",
       "      <td>0</td>\n",
       "      <td>0</td>\n",
       "      <td>0</td>\n",
       "      <td>0</td>\n",
       "      <td>0</td>\n",
       "      <td>0</td>\n",
       "    </tr>\n",
       "    <tr>\n",
       "      <th>1184</th>\n",
       "      <td>0</td>\n",
       "      <td>0</td>\n",
       "      <td>0</td>\n",
       "      <td>0</td>\n",
       "      <td>0</td>\n",
       "      <td>0</td>\n",
       "      <td>0</td>\n",
       "      <td>0</td>\n",
       "      <td>0</td>\n",
       "      <td>0</td>\n",
       "      <td>...</td>\n",
       "      <td>0</td>\n",
       "      <td>0</td>\n",
       "      <td>0</td>\n",
       "      <td>0</td>\n",
       "      <td>0</td>\n",
       "      <td>0</td>\n",
       "      <td>0</td>\n",
       "      <td>0</td>\n",
       "      <td>0</td>\n",
       "      <td>0</td>\n",
       "    </tr>\n",
       "    <tr>\n",
       "      <th>1185</th>\n",
       "      <td>0</td>\n",
       "      <td>0</td>\n",
       "      <td>0</td>\n",
       "      <td>0</td>\n",
       "      <td>0</td>\n",
       "      <td>0</td>\n",
       "      <td>0</td>\n",
       "      <td>0</td>\n",
       "      <td>0</td>\n",
       "      <td>0</td>\n",
       "      <td>...</td>\n",
       "      <td>0</td>\n",
       "      <td>0</td>\n",
       "      <td>0</td>\n",
       "      <td>0</td>\n",
       "      <td>0</td>\n",
       "      <td>0</td>\n",
       "      <td>0</td>\n",
       "      <td>0</td>\n",
       "      <td>0</td>\n",
       "      <td>0</td>\n",
       "    </tr>\n",
       "    <tr>\n",
       "      <th>1186</th>\n",
       "      <td>0</td>\n",
       "      <td>0</td>\n",
       "      <td>0</td>\n",
       "      <td>0</td>\n",
       "      <td>0</td>\n",
       "      <td>0</td>\n",
       "      <td>0</td>\n",
       "      <td>0</td>\n",
       "      <td>0</td>\n",
       "      <td>0</td>\n",
       "      <td>...</td>\n",
       "      <td>0</td>\n",
       "      <td>0</td>\n",
       "      <td>0</td>\n",
       "      <td>0</td>\n",
       "      <td>0</td>\n",
       "      <td>0</td>\n",
       "      <td>0</td>\n",
       "      <td>0</td>\n",
       "      <td>0</td>\n",
       "      <td>0</td>\n",
       "    </tr>\n",
       "  </tbody>\n",
       "</table>\n",
       "<p>1187 rows × 2737 columns</p>\n",
       "</div>"
      ],
      "text/plain": [
       "      00  0001  00da  01  0130  01_data_science  06  08  10  100  ...  \\\n",
       "0      0     0     0   0     0                0   0   0   0    0  ...   \n",
       "1      0     0     0   0     0                0   0   0   0    0  ...   \n",
       "2      0     0     0   0     0                0   0   0   0    0  ...   \n",
       "3      0     0     0   0     0                0   0   0   0    0  ...   \n",
       "4      0     0     0   0     0                0   0   0   0    0  ...   \n",
       "...   ..   ...   ...  ..   ...              ...  ..  ..  ..  ...  ...   \n",
       "1182   0     0     0   0     0                0   0   0   0    0  ...   \n",
       "1183   0     0     0   0     0                0   0   0   0    0  ...   \n",
       "1184   0     0     0   0     0                0   0   0   0    0  ...   \n",
       "1185   0     0     0   0     0                0   0   0   0    0  ...   \n",
       "1186   0     0     0   0     0                0   0   0   0    0  ...   \n",
       "\n",
       "      şişirmeyeyim  şte  şu  şuan  şurda  şöyle  şükrü  şükrüden  şükrüyle  \\\n",
       "0                0    0   0     0      0      0      0         0         0   \n",
       "1                0    0   0     0      0      0      0         0         0   \n",
       "2                0    0   0     0      0      0      1         0         0   \n",
       "3                0    0   0     0      0      0      0         0         0   \n",
       "4                0    0   1     0      0      0      0         0         0   \n",
       "...            ...  ...  ..   ...    ...    ...    ...       ...       ...   \n",
       "1182             0    0   0     0      0      0      0         0         0   \n",
       "1183             0    0   0     0      0      0      0         0         0   \n",
       "1184             0    0   0     0      0      0      0         0         0   \n",
       "1185             0    0   0     0      0      0      0         0         0   \n",
       "1186             0    0   0     0      0      0      0         0         0   \n",
       "\n",
       "      şükür  \n",
       "0         0  \n",
       "1         0  \n",
       "2         0  \n",
       "3         0  \n",
       "4         0  \n",
       "...     ...  \n",
       "1182      0  \n",
       "1183      0  \n",
       "1184      0  \n",
       "1185      0  \n",
       "1186      0  \n",
       "\n",
       "[1187 rows x 2737 columns]"
      ]
     },
     "execution_count": 375,
     "metadata": {},
     "output_type": "execute_result"
    }
   ],
   "source": [
    "pd.DataFrame(X.toarray()).rename(columns={v:k for k, v in vectorizer.vocabulary_.items()})"
   ]
  },
  {
   "cell_type": "code",
   "execution_count": 388,
   "id": "62bb8019",
   "metadata": {},
   "outputs": [
    {
     "data": {
      "text/plain": [
       "gitti       1\n",
       "tam         1\n",
       "00          0\n",
       "olayi       0\n",
       "olanlara    0\n",
       "           ..\n",
       "ettim       0\n",
       "ettin       0\n",
       "evde        0\n",
       "evdeyim     0\n",
       "şükür       0\n",
       "Name: 0, Length: 2737, dtype: int64"
      ]
     },
     "execution_count": 388,
     "metadata": {},
     "output_type": "execute_result"
    }
   ],
   "source": [
    "ornek_mesaj = 'tam zamanında gülmek getirip gitti ❤'\n",
    "pd.DataFrame(vectorizer.transform([ornek_mesaj]).toarray()) \\\n",
    "    .rename(columns={v:k for k, v in vectorizer.vocabulary_.items()}) \\\n",
    "    .loc[0] \\\n",
    "    .sort_values(ascending=False)"
   ]
  },
  {
   "cell_type": "markdown",
   "id": "93189b4e",
   "metadata": {},
   "source": [
    "Egitim setinde gordugumuz her bir ozel kelime bir \"feature\"i temsil ediyor. Ornek mesaji bu sekilde vektorize ettik."
   ]
  },
  {
   "cell_type": "code",
   "execution_count": 499,
   "id": "4baf8a14",
   "metadata": {},
   "outputs": [],
   "source": [
    "model = naive_bayes.BernoulliNB(alpha=0)"
   ]
  },
  {
   "cell_type": "code",
   "execution_count": 500,
   "id": "465e72b8",
   "metadata": {},
   "outputs": [
    {
     "name": "stderr",
     "output_type": "stream",
     "text": [
      "C:\\Users\\berk_\\miniconda3\\envs\\cons1\\lib\\site-packages\\sklearn\\naive_bayes.py:555: UserWarning: alpha too small will result in numeric errors, setting alpha = 1.0e-10\n",
      "  warnings.warn(\n"
     ]
    },
    {
     "data": {
      "text/plain": [
       "BernoulliNB(alpha=0)"
      ]
     },
     "execution_count": 500,
     "metadata": {},
     "output_type": "execute_result"
    }
   ],
   "source": [
    "model.fit(X, data['sender'])"
   ]
  },
  {
   "cell_type": "code",
   "execution_count": 398,
   "id": "9f2ef0ff",
   "metadata": {},
   "outputs": [
    {
     "data": {
      "text/plain": [
       "array(['Abdullah Atçılı', 'Adem Tekinbaş', 'Ahmet Umit Çalışkan',\n",
       "       'Emre Kopuz', 'Ersan Yagci', 'Fethi Bam Bam',\n",
       "       'Muzaffer Selim Yakasız', 'Sinan Yilmaz', 'Talip Akdemir',\n",
       "       'Yusuf Can', 'reis', 'reis: Iki opsiyon var', 'reis: konular',\n",
       "       'reis: ucuncusu de Lineer Regression', 'Ömer Esin Yıldız',\n",
       "       'İbrahim Halil Kaplan', '\\u202aEngin\\u202c'], dtype='<U35')"
      ]
     },
     "execution_count": 398,
     "metadata": {},
     "output_type": "execute_result"
    }
   ],
   "source": [
    "model.classes_"
   ]
  },
  {
   "cell_type": "code",
   "execution_count": 412,
   "id": "662d222c",
   "metadata": {},
   "outputs": [],
   "source": [
    "olasiliklar = model.predict_proba(vectorizer.transform([\"tam zamanında gülmek getirip gitti ❤\"]))[0]"
   ]
  },
  {
   "cell_type": "code",
   "execution_count": 413,
   "id": "4df91a85",
   "metadata": {},
   "outputs": [
    {
     "data": {
      "text/plain": [
       "array([8.80437455e-022, 1.86732628e-020, 1.85120370e-021, 7.73621451e-021,\n",
       "       1.92703966e-011, 1.21610904e-019, 9.87674261e-021, 1.00000000e+000,\n",
       "       1.06980856e-019, 4.12252148e-011, 5.72317144e-022, 3.37538158e-077,\n",
       "       3.37538242e-107, 3.37538018e-027, 7.03632758e-022, 3.57310084e-020,\n",
       "       7.52594709e-021])"
      ]
     },
     "execution_count": 413,
     "metadata": {},
     "output_type": "execute_result"
    }
   ],
   "source": [
    "olasiliklar"
   ]
  },
  {
   "cell_type": "code",
   "execution_count": 414,
   "id": "564fcea3",
   "metadata": {},
   "outputs": [
    {
     "data": {
      "text/plain": [
       "Sinan Yilmaz                            1.000000e+00\n",
       "Yusuf Can                               4.122521e-11\n",
       "Ersan Yagci                             1.927040e-11\n",
       "Fethi Bam Bam                           1.216109e-19\n",
       "Talip Akdemir                           1.069809e-19\n",
       "İbrahim Halil Kaplan                    3.573101e-20\n",
       "Adem Tekinbaş                           1.867326e-20\n",
       "Muzaffer Selim Yakasız                  9.876743e-21\n",
       "Emre Kopuz                              7.736215e-21\n",
       "‪Engin‬                                 7.525947e-21\n",
       "Ahmet Umit Çalışkan                     1.851204e-21\n",
       "Abdullah Atçılı                         8.804375e-22\n",
       "Ömer Esin Yıldız                        7.036328e-22\n",
       "reis                                    5.723171e-22\n",
       "reis: ucuncusu de Lineer Regression     3.375380e-27\n",
       "reis: Iki opsiyon var                   3.375382e-77\n",
       "reis: konular                          3.375382e-107\n",
       "dtype: float64"
      ]
     },
     "execution_count": 414,
     "metadata": {},
     "output_type": "execute_result"
    }
   ],
   "source": [
    "pd.Series(olasiliklar,\n",
    "         index=model.classes_).sort_values(ascending=False)"
   ]
  },
  {
   "cell_type": "markdown",
   "id": "5db5c6a8",
   "metadata": {},
   "source": [
    "Model neden Sinan'dan bu kadar emin?"
   ]
  },
  {
   "cell_type": "code",
   "execution_count": 415,
   "id": "00583bfa",
   "metadata": {},
   "outputs": [],
   "source": [
    "sayilar = pd.DataFrame(X.toarray(), index=data.index).rename(columns={v:k for k, v in vectorizer.vocabulary_.items()})"
   ]
  },
  {
   "cell_type": "code",
   "execution_count": 424,
   "id": "170e4875",
   "metadata": {},
   "outputs": [
    {
     "data": {
      "text/html": [
       "<style type=\"text/css\">\n",
       "#T_ebe10_row0_col4, #T_ebe10_row1_col4, #T_ebe10_row2_col4, #T_ebe10_row3_col4, #T_ebe10_row4_col4, #T_ebe10_row5_col4, #T_ebe10_row6_col4, #T_ebe10_row8_col4, #T_ebe10_row9_col4, #T_ebe10_row10_col4, #T_ebe10_row11_col4, #T_ebe10_row12_col4, #T_ebe10_row13_col4, #T_ebe10_row14_col4, #T_ebe10_row15_col4, #T_ebe10_row16_col4 {\n",
       "  background-color: red;\n",
       "}\n",
       "#T_ebe10_row7_col4 {\n",
       "  background-color: green;\n",
       "}\n",
       "</style>\n",
       "<table id=\"T_ebe10_\">\n",
       "  <thead>\n",
       "    <tr>\n",
       "      <th class=\"blank level0\" >&nbsp;</th>\n",
       "      <th class=\"col_heading level0 col0\" >tam</th>\n",
       "      <th class=\"col_heading level0 col1\" >zamanında</th>\n",
       "      <th class=\"col_heading level0 col2\" >gülmek</th>\n",
       "      <th class=\"col_heading level0 col3\" >getirip</th>\n",
       "      <th class=\"col_heading level0 col4\" >gitti</th>\n",
       "      <th class=\"col_heading level0 col5\" >❤</th>\n",
       "    </tr>\n",
       "    <tr>\n",
       "      <th class=\"index_name level0\" >sender</th>\n",
       "      <th class=\"blank col0\" >&nbsp;</th>\n",
       "      <th class=\"blank col1\" >&nbsp;</th>\n",
       "      <th class=\"blank col2\" >&nbsp;</th>\n",
       "      <th class=\"blank col3\" >&nbsp;</th>\n",
       "      <th class=\"blank col4\" >&nbsp;</th>\n",
       "      <th class=\"blank col5\" >&nbsp;</th>\n",
       "    </tr>\n",
       "  </thead>\n",
       "  <tbody>\n",
       "    <tr>\n",
       "      <th id=\"T_ebe10_level0_row0\" class=\"row_heading level0 row0\" >Abdullah Atçılı</th>\n",
       "      <td id=\"T_ebe10_row0_col0\" class=\"data row0 col0\" >0.000000</td>\n",
       "      <td id=\"T_ebe10_row0_col1\" class=\"data row0 col1\" >nan</td>\n",
       "      <td id=\"T_ebe10_row0_col2\" class=\"data row0 col2\" >nan</td>\n",
       "      <td id=\"T_ebe10_row0_col3\" class=\"data row0 col3\" >nan</td>\n",
       "      <td id=\"T_ebe10_row0_col4\" class=\"data row0 col4\" >0.000000</td>\n",
       "      <td id=\"T_ebe10_row0_col5\" class=\"data row0 col5\" >nan</td>\n",
       "    </tr>\n",
       "    <tr>\n",
       "      <th id=\"T_ebe10_level0_row1\" class=\"row_heading level0 row1\" >Adem Tekinbaş</th>\n",
       "      <td id=\"T_ebe10_row1_col0\" class=\"data row1 col0\" >0.000000</td>\n",
       "      <td id=\"T_ebe10_row1_col1\" class=\"data row1 col1\" >nan</td>\n",
       "      <td id=\"T_ebe10_row1_col2\" class=\"data row1 col2\" >nan</td>\n",
       "      <td id=\"T_ebe10_row1_col3\" class=\"data row1 col3\" >nan</td>\n",
       "      <td id=\"T_ebe10_row1_col4\" class=\"data row1 col4\" >0.000000</td>\n",
       "      <td id=\"T_ebe10_row1_col5\" class=\"data row1 col5\" >nan</td>\n",
       "    </tr>\n",
       "    <tr>\n",
       "      <th id=\"T_ebe10_level0_row2\" class=\"row_heading level0 row2\" >Ahmet Umit Çalışkan</th>\n",
       "      <td id=\"T_ebe10_row2_col0\" class=\"data row2 col0\" >0.000000</td>\n",
       "      <td id=\"T_ebe10_row2_col1\" class=\"data row2 col1\" >nan</td>\n",
       "      <td id=\"T_ebe10_row2_col2\" class=\"data row2 col2\" >nan</td>\n",
       "      <td id=\"T_ebe10_row2_col3\" class=\"data row2 col3\" >nan</td>\n",
       "      <td id=\"T_ebe10_row2_col4\" class=\"data row2 col4\" >0.000000</td>\n",
       "      <td id=\"T_ebe10_row2_col5\" class=\"data row2 col5\" >nan</td>\n",
       "    </tr>\n",
       "    <tr>\n",
       "      <th id=\"T_ebe10_level0_row3\" class=\"row_heading level0 row3\" >Emre Kopuz</th>\n",
       "      <td id=\"T_ebe10_row3_col0\" class=\"data row3 col0\" >0.000000</td>\n",
       "      <td id=\"T_ebe10_row3_col1\" class=\"data row3 col1\" >nan</td>\n",
       "      <td id=\"T_ebe10_row3_col2\" class=\"data row3 col2\" >nan</td>\n",
       "      <td id=\"T_ebe10_row3_col3\" class=\"data row3 col3\" >nan</td>\n",
       "      <td id=\"T_ebe10_row3_col4\" class=\"data row3 col4\" >0.000000</td>\n",
       "      <td id=\"T_ebe10_row3_col5\" class=\"data row3 col5\" >nan</td>\n",
       "    </tr>\n",
       "    <tr>\n",
       "      <th id=\"T_ebe10_level0_row4\" class=\"row_heading level0 row4\" >Ersan Yagci</th>\n",
       "      <td id=\"T_ebe10_row4_col0\" class=\"data row4 col0\" >0.027273</td>\n",
       "      <td id=\"T_ebe10_row4_col1\" class=\"data row4 col1\" >nan</td>\n",
       "      <td id=\"T_ebe10_row4_col2\" class=\"data row4 col2\" >nan</td>\n",
       "      <td id=\"T_ebe10_row4_col3\" class=\"data row4 col3\" >nan</td>\n",
       "      <td id=\"T_ebe10_row4_col4\" class=\"data row4 col4\" >0.000000</td>\n",
       "      <td id=\"T_ebe10_row4_col5\" class=\"data row4 col5\" >nan</td>\n",
       "    </tr>\n",
       "    <tr>\n",
       "      <th id=\"T_ebe10_level0_row5\" class=\"row_heading level0 row5\" >Fethi Bam Bam</th>\n",
       "      <td id=\"T_ebe10_row5_col0\" class=\"data row5 col0\" >0.000000</td>\n",
       "      <td id=\"T_ebe10_row5_col1\" class=\"data row5 col1\" >nan</td>\n",
       "      <td id=\"T_ebe10_row5_col2\" class=\"data row5 col2\" >nan</td>\n",
       "      <td id=\"T_ebe10_row5_col3\" class=\"data row5 col3\" >nan</td>\n",
       "      <td id=\"T_ebe10_row5_col4\" class=\"data row5 col4\" >0.000000</td>\n",
       "      <td id=\"T_ebe10_row5_col5\" class=\"data row5 col5\" >nan</td>\n",
       "    </tr>\n",
       "    <tr>\n",
       "      <th id=\"T_ebe10_level0_row6\" class=\"row_heading level0 row6\" >Muzaffer Selim Yakasız</th>\n",
       "      <td id=\"T_ebe10_row6_col0\" class=\"data row6 col0\" >0.000000</td>\n",
       "      <td id=\"T_ebe10_row6_col1\" class=\"data row6 col1\" >nan</td>\n",
       "      <td id=\"T_ebe10_row6_col2\" class=\"data row6 col2\" >nan</td>\n",
       "      <td id=\"T_ebe10_row6_col3\" class=\"data row6 col3\" >nan</td>\n",
       "      <td id=\"T_ebe10_row6_col4\" class=\"data row6 col4\" >0.000000</td>\n",
       "      <td id=\"T_ebe10_row6_col5\" class=\"data row6 col5\" >nan</td>\n",
       "    </tr>\n",
       "    <tr>\n",
       "      <th id=\"T_ebe10_level0_row7\" class=\"row_heading level0 row7\" >Sinan Yilmaz</th>\n",
       "      <td id=\"T_ebe10_row7_col0\" class=\"data row7 col0\" >0.030303</td>\n",
       "      <td id=\"T_ebe10_row7_col1\" class=\"data row7 col1\" >nan</td>\n",
       "      <td id=\"T_ebe10_row7_col2\" class=\"data row7 col2\" >nan</td>\n",
       "      <td id=\"T_ebe10_row7_col3\" class=\"data row7 col3\" >nan</td>\n",
       "      <td id=\"T_ebe10_row7_col4\" class=\"data row7 col4\" >0.015152</td>\n",
       "      <td id=\"T_ebe10_row7_col5\" class=\"data row7 col5\" >nan</td>\n",
       "    </tr>\n",
       "    <tr>\n",
       "      <th id=\"T_ebe10_level0_row8\" class=\"row_heading level0 row8\" >Talip Akdemir</th>\n",
       "      <td id=\"T_ebe10_row8_col0\" class=\"data row8 col0\" >0.000000</td>\n",
       "      <td id=\"T_ebe10_row8_col1\" class=\"data row8 col1\" >nan</td>\n",
       "      <td id=\"T_ebe10_row8_col2\" class=\"data row8 col2\" >nan</td>\n",
       "      <td id=\"T_ebe10_row8_col3\" class=\"data row8 col3\" >nan</td>\n",
       "      <td id=\"T_ebe10_row8_col4\" class=\"data row8 col4\" >0.000000</td>\n",
       "      <td id=\"T_ebe10_row8_col5\" class=\"data row8 col5\" >nan</td>\n",
       "    </tr>\n",
       "    <tr>\n",
       "      <th id=\"T_ebe10_level0_row9\" class=\"row_heading level0 row9\" >Yusuf Can</th>\n",
       "      <td id=\"T_ebe10_row9_col0\" class=\"data row9 col0\" >0.010526</td>\n",
       "      <td id=\"T_ebe10_row9_col1\" class=\"data row9 col1\" >nan</td>\n",
       "      <td id=\"T_ebe10_row9_col2\" class=\"data row9 col2\" >nan</td>\n",
       "      <td id=\"T_ebe10_row9_col3\" class=\"data row9 col3\" >nan</td>\n",
       "      <td id=\"T_ebe10_row9_col4\" class=\"data row9 col4\" >0.000000</td>\n",
       "      <td id=\"T_ebe10_row9_col5\" class=\"data row9 col5\" >nan</td>\n",
       "    </tr>\n",
       "    <tr>\n",
       "      <th id=\"T_ebe10_level0_row10\" class=\"row_heading level0 row10\" >reis</th>\n",
       "      <td id=\"T_ebe10_row10_col0\" class=\"data row10 col0\" >0.000000</td>\n",
       "      <td id=\"T_ebe10_row10_col1\" class=\"data row10 col1\" >nan</td>\n",
       "      <td id=\"T_ebe10_row10_col2\" class=\"data row10 col2\" >nan</td>\n",
       "      <td id=\"T_ebe10_row10_col3\" class=\"data row10 col3\" >nan</td>\n",
       "      <td id=\"T_ebe10_row10_col4\" class=\"data row10 col4\" >0.000000</td>\n",
       "      <td id=\"T_ebe10_row10_col5\" class=\"data row10 col5\" >nan</td>\n",
       "    </tr>\n",
       "    <tr>\n",
       "      <th id=\"T_ebe10_level0_row11\" class=\"row_heading level0 row11\" >reis: Iki opsiyon var</th>\n",
       "      <td id=\"T_ebe10_row11_col0\" class=\"data row11 col0\" >0.000000</td>\n",
       "      <td id=\"T_ebe10_row11_col1\" class=\"data row11 col1\" >nan</td>\n",
       "      <td id=\"T_ebe10_row11_col2\" class=\"data row11 col2\" >nan</td>\n",
       "      <td id=\"T_ebe10_row11_col3\" class=\"data row11 col3\" >nan</td>\n",
       "      <td id=\"T_ebe10_row11_col4\" class=\"data row11 col4\" >0.000000</td>\n",
       "      <td id=\"T_ebe10_row11_col5\" class=\"data row11 col5\" >nan</td>\n",
       "    </tr>\n",
       "    <tr>\n",
       "      <th id=\"T_ebe10_level0_row12\" class=\"row_heading level0 row12\" >reis: konular</th>\n",
       "      <td id=\"T_ebe10_row12_col0\" class=\"data row12 col0\" >0.000000</td>\n",
       "      <td id=\"T_ebe10_row12_col1\" class=\"data row12 col1\" >nan</td>\n",
       "      <td id=\"T_ebe10_row12_col2\" class=\"data row12 col2\" >nan</td>\n",
       "      <td id=\"T_ebe10_row12_col3\" class=\"data row12 col3\" >nan</td>\n",
       "      <td id=\"T_ebe10_row12_col4\" class=\"data row12 col4\" >0.000000</td>\n",
       "      <td id=\"T_ebe10_row12_col5\" class=\"data row12 col5\" >nan</td>\n",
       "    </tr>\n",
       "    <tr>\n",
       "      <th id=\"T_ebe10_level0_row13\" class=\"row_heading level0 row13\" >reis: ucuncusu de Lineer Regression</th>\n",
       "      <td id=\"T_ebe10_row13_col0\" class=\"data row13 col0\" >0.000000</td>\n",
       "      <td id=\"T_ebe10_row13_col1\" class=\"data row13 col1\" >nan</td>\n",
       "      <td id=\"T_ebe10_row13_col2\" class=\"data row13 col2\" >nan</td>\n",
       "      <td id=\"T_ebe10_row13_col3\" class=\"data row13 col3\" >nan</td>\n",
       "      <td id=\"T_ebe10_row13_col4\" class=\"data row13 col4\" >0.000000</td>\n",
       "      <td id=\"T_ebe10_row13_col5\" class=\"data row13 col5\" >nan</td>\n",
       "    </tr>\n",
       "    <tr>\n",
       "      <th id=\"T_ebe10_level0_row14\" class=\"row_heading level0 row14\" >Ömer Esin Yıldız</th>\n",
       "      <td id=\"T_ebe10_row14_col0\" class=\"data row14 col0\" >0.000000</td>\n",
       "      <td id=\"T_ebe10_row14_col1\" class=\"data row14 col1\" >nan</td>\n",
       "      <td id=\"T_ebe10_row14_col2\" class=\"data row14 col2\" >nan</td>\n",
       "      <td id=\"T_ebe10_row14_col3\" class=\"data row14 col3\" >nan</td>\n",
       "      <td id=\"T_ebe10_row14_col4\" class=\"data row14 col4\" >0.000000</td>\n",
       "      <td id=\"T_ebe10_row14_col5\" class=\"data row14 col5\" >nan</td>\n",
       "    </tr>\n",
       "    <tr>\n",
       "      <th id=\"T_ebe10_level0_row15\" class=\"row_heading level0 row15\" >İbrahim Halil Kaplan</th>\n",
       "      <td id=\"T_ebe10_row15_col0\" class=\"data row15 col0\" >0.000000</td>\n",
       "      <td id=\"T_ebe10_row15_col1\" class=\"data row15 col1\" >nan</td>\n",
       "      <td id=\"T_ebe10_row15_col2\" class=\"data row15 col2\" >nan</td>\n",
       "      <td id=\"T_ebe10_row15_col3\" class=\"data row15 col3\" >nan</td>\n",
       "      <td id=\"T_ebe10_row15_col4\" class=\"data row15 col4\" >0.000000</td>\n",
       "      <td id=\"T_ebe10_row15_col5\" class=\"data row15 col5\" >nan</td>\n",
       "    </tr>\n",
       "    <tr>\n",
       "      <th id=\"T_ebe10_level0_row16\" class=\"row_heading level0 row16\" >‪Engin‬</th>\n",
       "      <td id=\"T_ebe10_row16_col0\" class=\"data row16 col0\" >0.000000</td>\n",
       "      <td id=\"T_ebe10_row16_col1\" class=\"data row16 col1\" >nan</td>\n",
       "      <td id=\"T_ebe10_row16_col2\" class=\"data row16 col2\" >nan</td>\n",
       "      <td id=\"T_ebe10_row16_col3\" class=\"data row16 col3\" >nan</td>\n",
       "      <td id=\"T_ebe10_row16_col4\" class=\"data row16 col4\" >0.000000</td>\n",
       "      <td id=\"T_ebe10_row16_col5\" class=\"data row16 col5\" >nan</td>\n",
       "    </tr>\n",
       "  </tbody>\n",
       "</table>\n"
      ],
      "text/plain": [
       "<pandas.io.formats.style.Styler at 0x20d6ad8a4c0>"
      ]
     },
     "execution_count": 424,
     "metadata": {},
     "output_type": "execute_result"
    }
   ],
   "source": [
    "sayilar.reindex(['tam', \"zamanında\", \"gülmek\", \"getirip\", \"gitti\", \"❤\"], axis=1).assign(sender=data['sender']) \\\n",
    "    .groupby('sender').mean().style \\\n",
    "    .highlight_max(subset=['gitti'], color='green') \\\n",
    "    .highlight_min(subset=['gitti'], color='red')\n"
   ]
  },
  {
   "cell_type": "markdown",
   "id": "b39dc7a1",
   "metadata": {},
   "source": [
    "\"gitti\" kelimesini egitim setinde Sinan'dan baska kimse kullanmadi. Bu durumda\n",
    "\n",
    "$$P(kisi=Muzo | mesaj) = P(gitti | Muzo) P(tam| Muzo) = 0$$\n",
    "$$P(kisi=Apo | mesaj) = P(gitti | Apo) P(tam| Apo) = 0$$\n",
    "....\n",
    "\n",
    "Bu gormeyi arzu ettiginiz bir durum mu?"
   ]
  },
  {
   "cell_type": "markdown",
   "id": "7922607f",
   "metadata": {},
   "source": [
    "## Smoothing\n",
    "\n",
    "Egitim setinde kullanmadigi kelimeleri kisinin test setinde kullanmasi halinde, bu kisiler icin olasilik 0.0 olarak hesaplanacakti. Normalize edilmis orijinal frekanslari asagida gozlemleyelim:"
   ]
  },
  {
   "cell_type": "code",
   "execution_count": 427,
   "id": "df21b187",
   "metadata": {},
   "outputs": [
    {
     "data": {
      "text/html": [
       "<div>\n",
       "<style scoped>\n",
       "    .dataframe tbody tr th:only-of-type {\n",
       "        vertical-align: middle;\n",
       "    }\n",
       "\n",
       "    .dataframe tbody tr th {\n",
       "        vertical-align: top;\n",
       "    }\n",
       "\n",
       "    .dataframe thead th {\n",
       "        text-align: right;\n",
       "    }\n",
       "</style>\n",
       "<table border=\"1\" class=\"dataframe\">\n",
       "  <thead>\n",
       "    <tr style=\"text-align: right;\">\n",
       "      <th></th>\n",
       "      <th>00</th>\n",
       "      <th>0001</th>\n",
       "      <th>00da</th>\n",
       "      <th>01</th>\n",
       "      <th>0130</th>\n",
       "      <th>01_data_science</th>\n",
       "      <th>06</th>\n",
       "      <th>08</th>\n",
       "      <th>10</th>\n",
       "      <th>100</th>\n",
       "      <th>...</th>\n",
       "      <th>şişirmeyeyim</th>\n",
       "      <th>şte</th>\n",
       "      <th>şu</th>\n",
       "      <th>şuan</th>\n",
       "      <th>şurda</th>\n",
       "      <th>şöyle</th>\n",
       "      <th>şükrü</th>\n",
       "      <th>şükrüden</th>\n",
       "      <th>şükrüyle</th>\n",
       "      <th>şükür</th>\n",
       "    </tr>\n",
       "    <tr>\n",
       "      <th>sender</th>\n",
       "      <th></th>\n",
       "      <th></th>\n",
       "      <th></th>\n",
       "      <th></th>\n",
       "      <th></th>\n",
       "      <th></th>\n",
       "      <th></th>\n",
       "      <th></th>\n",
       "      <th></th>\n",
       "      <th></th>\n",
       "      <th></th>\n",
       "      <th></th>\n",
       "      <th></th>\n",
       "      <th></th>\n",
       "      <th></th>\n",
       "      <th></th>\n",
       "      <th></th>\n",
       "      <th></th>\n",
       "      <th></th>\n",
       "      <th></th>\n",
       "      <th></th>\n",
       "    </tr>\n",
       "  </thead>\n",
       "  <tbody>\n",
       "    <tr>\n",
       "      <th>Abdullah Atçılı</th>\n",
       "      <td>0.00</td>\n",
       "      <td>0.0</td>\n",
       "      <td>1.0</td>\n",
       "      <td>0.0</td>\n",
       "      <td>0.0</td>\n",
       "      <td>1.0</td>\n",
       "      <td>0.0</td>\n",
       "      <td>0.0</td>\n",
       "      <td>0.166667</td>\n",
       "      <td>1.0</td>\n",
       "      <td>...</td>\n",
       "      <td>0.0</td>\n",
       "      <td>0.0</td>\n",
       "      <td>0.2</td>\n",
       "      <td>0.0</td>\n",
       "      <td>0.0</td>\n",
       "      <td>0.0</td>\n",
       "      <td>0.380952</td>\n",
       "      <td>0.0</td>\n",
       "      <td>0.0</td>\n",
       "      <td>0.0</td>\n",
       "    </tr>\n",
       "    <tr>\n",
       "      <th>Adem Tekinbaş</th>\n",
       "      <td>0.00</td>\n",
       "      <td>0.0</td>\n",
       "      <td>0.0</td>\n",
       "      <td>0.0</td>\n",
       "      <td>0.0</td>\n",
       "      <td>0.0</td>\n",
       "      <td>0.0</td>\n",
       "      <td>0.0</td>\n",
       "      <td>0.000000</td>\n",
       "      <td>0.0</td>\n",
       "      <td>...</td>\n",
       "      <td>0.0</td>\n",
       "      <td>0.0</td>\n",
       "      <td>0.0</td>\n",
       "      <td>0.0</td>\n",
       "      <td>0.0</td>\n",
       "      <td>0.0</td>\n",
       "      <td>0.000000</td>\n",
       "      <td>0.0</td>\n",
       "      <td>0.0</td>\n",
       "      <td>0.0</td>\n",
       "    </tr>\n",
       "    <tr>\n",
       "      <th>Ahmet Umit Çalışkan</th>\n",
       "      <td>0.00</td>\n",
       "      <td>0.0</td>\n",
       "      <td>0.0</td>\n",
       "      <td>0.0</td>\n",
       "      <td>0.0</td>\n",
       "      <td>0.0</td>\n",
       "      <td>0.0</td>\n",
       "      <td>1.0</td>\n",
       "      <td>0.000000</td>\n",
       "      <td>0.0</td>\n",
       "      <td>...</td>\n",
       "      <td>0.0</td>\n",
       "      <td>0.0</td>\n",
       "      <td>0.2</td>\n",
       "      <td>0.0</td>\n",
       "      <td>0.0</td>\n",
       "      <td>0.0</td>\n",
       "      <td>0.190476</td>\n",
       "      <td>1.0</td>\n",
       "      <td>1.0</td>\n",
       "      <td>1.0</td>\n",
       "    </tr>\n",
       "    <tr>\n",
       "      <th>Emre Kopuz</th>\n",
       "      <td>0.00</td>\n",
       "      <td>0.0</td>\n",
       "      <td>0.0</td>\n",
       "      <td>0.0</td>\n",
       "      <td>0.0</td>\n",
       "      <td>0.0</td>\n",
       "      <td>0.0</td>\n",
       "      <td>0.0</td>\n",
       "      <td>0.000000</td>\n",
       "      <td>0.0</td>\n",
       "      <td>...</td>\n",
       "      <td>0.0</td>\n",
       "      <td>0.0</td>\n",
       "      <td>0.0</td>\n",
       "      <td>0.0</td>\n",
       "      <td>0.0</td>\n",
       "      <td>0.0</td>\n",
       "      <td>0.142857</td>\n",
       "      <td>0.0</td>\n",
       "      <td>0.0</td>\n",
       "      <td>0.0</td>\n",
       "    </tr>\n",
       "    <tr>\n",
       "      <th>Ersan Yagci</th>\n",
       "      <td>0.00</td>\n",
       "      <td>0.0</td>\n",
       "      <td>0.0</td>\n",
       "      <td>0.0</td>\n",
       "      <td>0.0</td>\n",
       "      <td>0.0</td>\n",
       "      <td>0.0</td>\n",
       "      <td>0.0</td>\n",
       "      <td>0.166667</td>\n",
       "      <td>0.0</td>\n",
       "      <td>...</td>\n",
       "      <td>0.0</td>\n",
       "      <td>1.0</td>\n",
       "      <td>0.4</td>\n",
       "      <td>0.0</td>\n",
       "      <td>1.0</td>\n",
       "      <td>0.0</td>\n",
       "      <td>0.190476</td>\n",
       "      <td>0.0</td>\n",
       "      <td>0.0</td>\n",
       "      <td>0.0</td>\n",
       "    </tr>\n",
       "    <tr>\n",
       "      <th>Fethi Bam Bam</th>\n",
       "      <td>0.00</td>\n",
       "      <td>0.0</td>\n",
       "      <td>0.0</td>\n",
       "      <td>0.0</td>\n",
       "      <td>0.0</td>\n",
       "      <td>0.0</td>\n",
       "      <td>0.0</td>\n",
       "      <td>0.0</td>\n",
       "      <td>0.000000</td>\n",
       "      <td>0.0</td>\n",
       "      <td>...</td>\n",
       "      <td>0.0</td>\n",
       "      <td>0.0</td>\n",
       "      <td>0.0</td>\n",
       "      <td>0.0</td>\n",
       "      <td>0.0</td>\n",
       "      <td>0.0</td>\n",
       "      <td>0.000000</td>\n",
       "      <td>0.0</td>\n",
       "      <td>0.0</td>\n",
       "      <td>0.0</td>\n",
       "    </tr>\n",
       "    <tr>\n",
       "      <th>Muzaffer Selim Yakasız</th>\n",
       "      <td>0.00</td>\n",
       "      <td>0.0</td>\n",
       "      <td>0.0</td>\n",
       "      <td>0.0</td>\n",
       "      <td>0.0</td>\n",
       "      <td>0.0</td>\n",
       "      <td>0.0</td>\n",
       "      <td>0.0</td>\n",
       "      <td>0.000000</td>\n",
       "      <td>0.0</td>\n",
       "      <td>...</td>\n",
       "      <td>0.0</td>\n",
       "      <td>0.0</td>\n",
       "      <td>0.0</td>\n",
       "      <td>0.0</td>\n",
       "      <td>0.0</td>\n",
       "      <td>0.0</td>\n",
       "      <td>0.047619</td>\n",
       "      <td>0.0</td>\n",
       "      <td>0.0</td>\n",
       "      <td>0.0</td>\n",
       "    </tr>\n",
       "    <tr>\n",
       "      <th>Sinan Yilmaz</th>\n",
       "      <td>0.00</td>\n",
       "      <td>0.0</td>\n",
       "      <td>0.0</td>\n",
       "      <td>0.0</td>\n",
       "      <td>0.0</td>\n",
       "      <td>0.0</td>\n",
       "      <td>0.0</td>\n",
       "      <td>0.0</td>\n",
       "      <td>0.333333</td>\n",
       "      <td>0.0</td>\n",
       "      <td>...</td>\n",
       "      <td>0.0</td>\n",
       "      <td>0.0</td>\n",
       "      <td>0.2</td>\n",
       "      <td>1.0</td>\n",
       "      <td>0.0</td>\n",
       "      <td>0.5</td>\n",
       "      <td>0.000000</td>\n",
       "      <td>0.0</td>\n",
       "      <td>0.0</td>\n",
       "      <td>0.0</td>\n",
       "    </tr>\n",
       "    <tr>\n",
       "      <th>Talip Akdemir</th>\n",
       "      <td>0.00</td>\n",
       "      <td>0.0</td>\n",
       "      <td>0.0</td>\n",
       "      <td>0.0</td>\n",
       "      <td>0.0</td>\n",
       "      <td>0.0</td>\n",
       "      <td>0.0</td>\n",
       "      <td>0.0</td>\n",
       "      <td>0.000000</td>\n",
       "      <td>0.0</td>\n",
       "      <td>...</td>\n",
       "      <td>0.0</td>\n",
       "      <td>0.0</td>\n",
       "      <td>0.0</td>\n",
       "      <td>0.0</td>\n",
       "      <td>0.0</td>\n",
       "      <td>0.0</td>\n",
       "      <td>0.000000</td>\n",
       "      <td>0.0</td>\n",
       "      <td>0.0</td>\n",
       "      <td>0.0</td>\n",
       "    </tr>\n",
       "    <tr>\n",
       "      <th>Yusuf Can</th>\n",
       "      <td>0.25</td>\n",
       "      <td>1.0</td>\n",
       "      <td>0.0</td>\n",
       "      <td>0.0</td>\n",
       "      <td>1.0</td>\n",
       "      <td>0.0</td>\n",
       "      <td>0.0</td>\n",
       "      <td>0.0</td>\n",
       "      <td>0.166667</td>\n",
       "      <td>0.0</td>\n",
       "      <td>...</td>\n",
       "      <td>0.0</td>\n",
       "      <td>0.0</td>\n",
       "      <td>0.0</td>\n",
       "      <td>0.0</td>\n",
       "      <td>0.0</td>\n",
       "      <td>0.5</td>\n",
       "      <td>0.000000</td>\n",
       "      <td>0.0</td>\n",
       "      <td>0.0</td>\n",
       "      <td>0.0</td>\n",
       "    </tr>\n",
       "    <tr>\n",
       "      <th>reis</th>\n",
       "      <td>0.50</td>\n",
       "      <td>0.0</td>\n",
       "      <td>0.0</td>\n",
       "      <td>1.0</td>\n",
       "      <td>0.0</td>\n",
       "      <td>0.0</td>\n",
       "      <td>0.0</td>\n",
       "      <td>0.0</td>\n",
       "      <td>0.166667</td>\n",
       "      <td>0.0</td>\n",
       "      <td>...</td>\n",
       "      <td>1.0</td>\n",
       "      <td>0.0</td>\n",
       "      <td>0.0</td>\n",
       "      <td>0.0</td>\n",
       "      <td>0.0</td>\n",
       "      <td>0.0</td>\n",
       "      <td>0.000000</td>\n",
       "      <td>0.0</td>\n",
       "      <td>0.0</td>\n",
       "      <td>0.0</td>\n",
       "    </tr>\n",
       "    <tr>\n",
       "      <th>reis: Iki opsiyon var</th>\n",
       "      <td>0.00</td>\n",
       "      <td>0.0</td>\n",
       "      <td>0.0</td>\n",
       "      <td>0.0</td>\n",
       "      <td>0.0</td>\n",
       "      <td>0.0</td>\n",
       "      <td>0.0</td>\n",
       "      <td>0.0</td>\n",
       "      <td>0.000000</td>\n",
       "      <td>0.0</td>\n",
       "      <td>...</td>\n",
       "      <td>0.0</td>\n",
       "      <td>0.0</td>\n",
       "      <td>0.0</td>\n",
       "      <td>0.0</td>\n",
       "      <td>0.0</td>\n",
       "      <td>0.0</td>\n",
       "      <td>0.000000</td>\n",
       "      <td>0.0</td>\n",
       "      <td>0.0</td>\n",
       "      <td>0.0</td>\n",
       "    </tr>\n",
       "    <tr>\n",
       "      <th>reis: konular</th>\n",
       "      <td>0.00</td>\n",
       "      <td>0.0</td>\n",
       "      <td>0.0</td>\n",
       "      <td>0.0</td>\n",
       "      <td>0.0</td>\n",
       "      <td>0.0</td>\n",
       "      <td>0.0</td>\n",
       "      <td>0.0</td>\n",
       "      <td>0.000000</td>\n",
       "      <td>0.0</td>\n",
       "      <td>...</td>\n",
       "      <td>0.0</td>\n",
       "      <td>0.0</td>\n",
       "      <td>0.0</td>\n",
       "      <td>0.0</td>\n",
       "      <td>0.0</td>\n",
       "      <td>0.0</td>\n",
       "      <td>0.000000</td>\n",
       "      <td>0.0</td>\n",
       "      <td>0.0</td>\n",
       "      <td>0.0</td>\n",
       "    </tr>\n",
       "    <tr>\n",
       "      <th>reis: ucuncusu de Lineer Regression</th>\n",
       "      <td>0.00</td>\n",
       "      <td>0.0</td>\n",
       "      <td>0.0</td>\n",
       "      <td>0.0</td>\n",
       "      <td>0.0</td>\n",
       "      <td>0.0</td>\n",
       "      <td>0.0</td>\n",
       "      <td>0.0</td>\n",
       "      <td>0.000000</td>\n",
       "      <td>0.0</td>\n",
       "      <td>...</td>\n",
       "      <td>0.0</td>\n",
       "      <td>0.0</td>\n",
       "      <td>0.0</td>\n",
       "      <td>0.0</td>\n",
       "      <td>0.0</td>\n",
       "      <td>0.0</td>\n",
       "      <td>0.000000</td>\n",
       "      <td>0.0</td>\n",
       "      <td>0.0</td>\n",
       "      <td>0.0</td>\n",
       "    </tr>\n",
       "    <tr>\n",
       "      <th>Ömer Esin Yıldız</th>\n",
       "      <td>0.00</td>\n",
       "      <td>0.0</td>\n",
       "      <td>0.0</td>\n",
       "      <td>0.0</td>\n",
       "      <td>0.0</td>\n",
       "      <td>0.0</td>\n",
       "      <td>0.0</td>\n",
       "      <td>0.0</td>\n",
       "      <td>0.000000</td>\n",
       "      <td>0.0</td>\n",
       "      <td>...</td>\n",
       "      <td>0.0</td>\n",
       "      <td>0.0</td>\n",
       "      <td>0.0</td>\n",
       "      <td>0.0</td>\n",
       "      <td>0.0</td>\n",
       "      <td>0.0</td>\n",
       "      <td>0.047619</td>\n",
       "      <td>0.0</td>\n",
       "      <td>0.0</td>\n",
       "      <td>0.0</td>\n",
       "    </tr>\n",
       "    <tr>\n",
       "      <th>İbrahim Halil Kaplan</th>\n",
       "      <td>0.00</td>\n",
       "      <td>0.0</td>\n",
       "      <td>0.0</td>\n",
       "      <td>0.0</td>\n",
       "      <td>0.0</td>\n",
       "      <td>0.0</td>\n",
       "      <td>0.0</td>\n",
       "      <td>0.0</td>\n",
       "      <td>0.000000</td>\n",
       "      <td>0.0</td>\n",
       "      <td>...</td>\n",
       "      <td>0.0</td>\n",
       "      <td>0.0</td>\n",
       "      <td>0.0</td>\n",
       "      <td>0.0</td>\n",
       "      <td>0.0</td>\n",
       "      <td>0.0</td>\n",
       "      <td>0.000000</td>\n",
       "      <td>0.0</td>\n",
       "      <td>0.0</td>\n",
       "      <td>0.0</td>\n",
       "    </tr>\n",
       "    <tr>\n",
       "      <th>‪Engin‬</th>\n",
       "      <td>0.25</td>\n",
       "      <td>0.0</td>\n",
       "      <td>0.0</td>\n",
       "      <td>0.0</td>\n",
       "      <td>0.0</td>\n",
       "      <td>0.0</td>\n",
       "      <td>1.0</td>\n",
       "      <td>0.0</td>\n",
       "      <td>0.000000</td>\n",
       "      <td>0.0</td>\n",
       "      <td>...</td>\n",
       "      <td>0.0</td>\n",
       "      <td>0.0</td>\n",
       "      <td>0.0</td>\n",
       "      <td>0.0</td>\n",
       "      <td>0.0</td>\n",
       "      <td>0.0</td>\n",
       "      <td>0.000000</td>\n",
       "      <td>0.0</td>\n",
       "      <td>0.0</td>\n",
       "      <td>0.0</td>\n",
       "    </tr>\n",
       "  </tbody>\n",
       "</table>\n",
       "<p>17 rows × 2737 columns</p>\n",
       "</div>"
      ],
      "text/plain": [
       "                                       00  0001  00da   01  0130  \\\n",
       "sender                                                             \n",
       "Abdullah Atçılı                      0.00   0.0   1.0  0.0   0.0   \n",
       "Adem Tekinbaş                        0.00   0.0   0.0  0.0   0.0   \n",
       "Ahmet Umit Çalışkan                  0.00   0.0   0.0  0.0   0.0   \n",
       "Emre Kopuz                           0.00   0.0   0.0  0.0   0.0   \n",
       "Ersan Yagci                          0.00   0.0   0.0  0.0   0.0   \n",
       "Fethi Bam Bam                        0.00   0.0   0.0  0.0   0.0   \n",
       "Muzaffer Selim Yakasız               0.00   0.0   0.0  0.0   0.0   \n",
       "Sinan Yilmaz                         0.00   0.0   0.0  0.0   0.0   \n",
       "Talip Akdemir                        0.00   0.0   0.0  0.0   0.0   \n",
       "Yusuf Can                            0.25   1.0   0.0  0.0   1.0   \n",
       "reis                                 0.50   0.0   0.0  1.0   0.0   \n",
       "reis: Iki opsiyon var                0.00   0.0   0.0  0.0   0.0   \n",
       "reis: konular                        0.00   0.0   0.0  0.0   0.0   \n",
       "reis: ucuncusu de Lineer Regression  0.00   0.0   0.0  0.0   0.0   \n",
       "Ömer Esin Yıldız                     0.00   0.0   0.0  0.0   0.0   \n",
       "İbrahim Halil Kaplan                 0.00   0.0   0.0  0.0   0.0   \n",
       "‪Engin‬                              0.25   0.0   0.0  0.0   0.0   \n",
       "\n",
       "                                     01_data_science   06   08        10  100  \\\n",
       "sender                                                                          \n",
       "Abdullah Atçılı                                  1.0  0.0  0.0  0.166667  1.0   \n",
       "Adem Tekinbaş                                    0.0  0.0  0.0  0.000000  0.0   \n",
       "Ahmet Umit Çalışkan                              0.0  0.0  1.0  0.000000  0.0   \n",
       "Emre Kopuz                                       0.0  0.0  0.0  0.000000  0.0   \n",
       "Ersan Yagci                                      0.0  0.0  0.0  0.166667  0.0   \n",
       "Fethi Bam Bam                                    0.0  0.0  0.0  0.000000  0.0   \n",
       "Muzaffer Selim Yakasız                           0.0  0.0  0.0  0.000000  0.0   \n",
       "Sinan Yilmaz                                     0.0  0.0  0.0  0.333333  0.0   \n",
       "Talip Akdemir                                    0.0  0.0  0.0  0.000000  0.0   \n",
       "Yusuf Can                                        0.0  0.0  0.0  0.166667  0.0   \n",
       "reis                                             0.0  0.0  0.0  0.166667  0.0   \n",
       "reis: Iki opsiyon var                            0.0  0.0  0.0  0.000000  0.0   \n",
       "reis: konular                                    0.0  0.0  0.0  0.000000  0.0   \n",
       "reis: ucuncusu de Lineer Regression              0.0  0.0  0.0  0.000000  0.0   \n",
       "Ömer Esin Yıldız                                 0.0  0.0  0.0  0.000000  0.0   \n",
       "İbrahim Halil Kaplan                             0.0  0.0  0.0  0.000000  0.0   \n",
       "‪Engin‬                                          0.0  1.0  0.0  0.000000  0.0   \n",
       "\n",
       "                                     ...  şişirmeyeyim  şte   şu  şuan  şurda  \\\n",
       "sender                               ...                                        \n",
       "Abdullah Atçılı                      ...           0.0  0.0  0.2   0.0    0.0   \n",
       "Adem Tekinbaş                        ...           0.0  0.0  0.0   0.0    0.0   \n",
       "Ahmet Umit Çalışkan                  ...           0.0  0.0  0.2   0.0    0.0   \n",
       "Emre Kopuz                           ...           0.0  0.0  0.0   0.0    0.0   \n",
       "Ersan Yagci                          ...           0.0  1.0  0.4   0.0    1.0   \n",
       "Fethi Bam Bam                        ...           0.0  0.0  0.0   0.0    0.0   \n",
       "Muzaffer Selim Yakasız               ...           0.0  0.0  0.0   0.0    0.0   \n",
       "Sinan Yilmaz                         ...           0.0  0.0  0.2   1.0    0.0   \n",
       "Talip Akdemir                        ...           0.0  0.0  0.0   0.0    0.0   \n",
       "Yusuf Can                            ...           0.0  0.0  0.0   0.0    0.0   \n",
       "reis                                 ...           1.0  0.0  0.0   0.0    0.0   \n",
       "reis: Iki opsiyon var                ...           0.0  0.0  0.0   0.0    0.0   \n",
       "reis: konular                        ...           0.0  0.0  0.0   0.0    0.0   \n",
       "reis: ucuncusu de Lineer Regression  ...           0.0  0.0  0.0   0.0    0.0   \n",
       "Ömer Esin Yıldız                     ...           0.0  0.0  0.0   0.0    0.0   \n",
       "İbrahim Halil Kaplan                 ...           0.0  0.0  0.0   0.0    0.0   \n",
       "‪Engin‬                              ...           0.0  0.0  0.0   0.0    0.0   \n",
       "\n",
       "                                     şöyle     şükrü  şükrüden  şükrüyle  \\\n",
       "sender                                                                     \n",
       "Abdullah Atçılı                        0.0  0.380952       0.0       0.0   \n",
       "Adem Tekinbaş                          0.0  0.000000       0.0       0.0   \n",
       "Ahmet Umit Çalışkan                    0.0  0.190476       1.0       1.0   \n",
       "Emre Kopuz                             0.0  0.142857       0.0       0.0   \n",
       "Ersan Yagci                            0.0  0.190476       0.0       0.0   \n",
       "Fethi Bam Bam                          0.0  0.000000       0.0       0.0   \n",
       "Muzaffer Selim Yakasız                 0.0  0.047619       0.0       0.0   \n",
       "Sinan Yilmaz                           0.5  0.000000       0.0       0.0   \n",
       "Talip Akdemir                          0.0  0.000000       0.0       0.0   \n",
       "Yusuf Can                              0.5  0.000000       0.0       0.0   \n",
       "reis                                   0.0  0.000000       0.0       0.0   \n",
       "reis: Iki opsiyon var                  0.0  0.000000       0.0       0.0   \n",
       "reis: konular                          0.0  0.000000       0.0       0.0   \n",
       "reis: ucuncusu de Lineer Regression    0.0  0.000000       0.0       0.0   \n",
       "Ömer Esin Yıldız                       0.0  0.047619       0.0       0.0   \n",
       "İbrahim Halil Kaplan                   0.0  0.000000       0.0       0.0   \n",
       "‪Engin‬                                0.0  0.000000       0.0       0.0   \n",
       "\n",
       "                                     şükür  \n",
       "sender                                      \n",
       "Abdullah Atçılı                        0.0  \n",
       "Adem Tekinbaş                          0.0  \n",
       "Ahmet Umit Çalışkan                    1.0  \n",
       "Emre Kopuz                             0.0  \n",
       "Ersan Yagci                            0.0  \n",
       "Fethi Bam Bam                          0.0  \n",
       "Muzaffer Selim Yakasız                 0.0  \n",
       "Sinan Yilmaz                           0.0  \n",
       "Talip Akdemir                          0.0  \n",
       "Yusuf Can                              0.0  \n",
       "reis                                   0.0  \n",
       "reis: Iki opsiyon var                  0.0  \n",
       "reis: konular                          0.0  \n",
       "reis: ucuncusu de Lineer Regression    0.0  \n",
       "Ömer Esin Yıldız                       0.0  \n",
       "İbrahim Halil Kaplan                   0.0  \n",
       "‪Engin‬                                0.0  \n",
       "\n",
       "[17 rows x 2737 columns]"
      ]
     },
     "execution_count": 427,
     "metadata": {},
     "output_type": "execute_result"
    }
   ],
   "source": [
    "pd.DataFrame(X.toarray(), index=data.index).rename(columns={v:k for k, v in vectorizer.vocabulary_.items()}) \\\n",
    "    .assign(sender=data['sender']).groupby('sender').sum().apply(lambda x: x / x.sum(), axis=0)"
   ]
  },
  {
   "cell_type": "markdown",
   "id": "bfa6ab40",
   "metadata": {},
   "source": [
    "Tum frekanslari 1 arttirsak, aradaki buyukluk-kucukluk iliskisini halen korurken 0 olasilik problemini cozebilir miydik? "
   ]
  },
  {
   "cell_type": "code",
   "execution_count": 428,
   "id": "213db708",
   "metadata": {},
   "outputs": [
    {
     "data": {
      "text/html": [
       "<div>\n",
       "<style scoped>\n",
       "    .dataframe tbody tr th:only-of-type {\n",
       "        vertical-align: middle;\n",
       "    }\n",
       "\n",
       "    .dataframe tbody tr th {\n",
       "        vertical-align: top;\n",
       "    }\n",
       "\n",
       "    .dataframe thead th {\n",
       "        text-align: right;\n",
       "    }\n",
       "</style>\n",
       "<table border=\"1\" class=\"dataframe\">\n",
       "  <thead>\n",
       "    <tr style=\"text-align: right;\">\n",
       "      <th></th>\n",
       "      <th>00</th>\n",
       "      <th>0001</th>\n",
       "      <th>00da</th>\n",
       "      <th>01</th>\n",
       "      <th>0130</th>\n",
       "      <th>01_data_science</th>\n",
       "      <th>06</th>\n",
       "      <th>08</th>\n",
       "      <th>10</th>\n",
       "      <th>100</th>\n",
       "      <th>...</th>\n",
       "      <th>şişirmeyeyim</th>\n",
       "      <th>şte</th>\n",
       "      <th>şu</th>\n",
       "      <th>şuan</th>\n",
       "      <th>şurda</th>\n",
       "      <th>şöyle</th>\n",
       "      <th>şükrü</th>\n",
       "      <th>şükrüden</th>\n",
       "      <th>şükrüyle</th>\n",
       "      <th>şükür</th>\n",
       "    </tr>\n",
       "    <tr>\n",
       "      <th>sender</th>\n",
       "      <th></th>\n",
       "      <th></th>\n",
       "      <th></th>\n",
       "      <th></th>\n",
       "      <th></th>\n",
       "      <th></th>\n",
       "      <th></th>\n",
       "      <th></th>\n",
       "      <th></th>\n",
       "      <th></th>\n",
       "      <th></th>\n",
       "      <th></th>\n",
       "      <th></th>\n",
       "      <th></th>\n",
       "      <th></th>\n",
       "      <th></th>\n",
       "      <th></th>\n",
       "      <th></th>\n",
       "      <th></th>\n",
       "      <th></th>\n",
       "      <th></th>\n",
       "    </tr>\n",
       "  </thead>\n",
       "  <tbody>\n",
       "    <tr>\n",
       "      <th>Abdullah Atçılı</th>\n",
       "      <td>0.047619</td>\n",
       "      <td>0.055556</td>\n",
       "      <td>0.157895</td>\n",
       "      <td>0.045455</td>\n",
       "      <td>0.055556</td>\n",
       "      <td>0.111111</td>\n",
       "      <td>0.055556</td>\n",
       "      <td>0.055556</td>\n",
       "      <td>0.086957</td>\n",
       "      <td>0.111111</td>\n",
       "      <td>...</td>\n",
       "      <td>0.055556</td>\n",
       "      <td>0.055556</td>\n",
       "      <td>0.090909</td>\n",
       "      <td>0.055556</td>\n",
       "      <td>0.055556</td>\n",
       "      <td>0.052632</td>\n",
       "      <td>0.236842</td>\n",
       "      <td>0.055556</td>\n",
       "      <td>0.055556</td>\n",
       "      <td>0.055556</td>\n",
       "    </tr>\n",
       "    <tr>\n",
       "      <th>Adem Tekinbaş</th>\n",
       "      <td>0.047619</td>\n",
       "      <td>0.055556</td>\n",
       "      <td>0.052632</td>\n",
       "      <td>0.045455</td>\n",
       "      <td>0.055556</td>\n",
       "      <td>0.055556</td>\n",
       "      <td>0.055556</td>\n",
       "      <td>0.055556</td>\n",
       "      <td>0.043478</td>\n",
       "      <td>0.055556</td>\n",
       "      <td>...</td>\n",
       "      <td>0.055556</td>\n",
       "      <td>0.055556</td>\n",
       "      <td>0.045455</td>\n",
       "      <td>0.055556</td>\n",
       "      <td>0.055556</td>\n",
       "      <td>0.052632</td>\n",
       "      <td>0.026316</td>\n",
       "      <td>0.055556</td>\n",
       "      <td>0.055556</td>\n",
       "      <td>0.055556</td>\n",
       "    </tr>\n",
       "    <tr>\n",
       "      <th>Ahmet Umit Çalışkan</th>\n",
       "      <td>0.047619</td>\n",
       "      <td>0.055556</td>\n",
       "      <td>0.052632</td>\n",
       "      <td>0.045455</td>\n",
       "      <td>0.055556</td>\n",
       "      <td>0.055556</td>\n",
       "      <td>0.055556</td>\n",
       "      <td>0.111111</td>\n",
       "      <td>0.043478</td>\n",
       "      <td>0.055556</td>\n",
       "      <td>...</td>\n",
       "      <td>0.055556</td>\n",
       "      <td>0.055556</td>\n",
       "      <td>0.090909</td>\n",
       "      <td>0.055556</td>\n",
       "      <td>0.055556</td>\n",
       "      <td>0.052632</td>\n",
       "      <td>0.131579</td>\n",
       "      <td>0.111111</td>\n",
       "      <td>0.111111</td>\n",
       "      <td>0.111111</td>\n",
       "    </tr>\n",
       "    <tr>\n",
       "      <th>Emre Kopuz</th>\n",
       "      <td>0.047619</td>\n",
       "      <td>0.055556</td>\n",
       "      <td>0.052632</td>\n",
       "      <td>0.045455</td>\n",
       "      <td>0.055556</td>\n",
       "      <td>0.055556</td>\n",
       "      <td>0.055556</td>\n",
       "      <td>0.055556</td>\n",
       "      <td>0.043478</td>\n",
       "      <td>0.055556</td>\n",
       "      <td>...</td>\n",
       "      <td>0.055556</td>\n",
       "      <td>0.055556</td>\n",
       "      <td>0.045455</td>\n",
       "      <td>0.055556</td>\n",
       "      <td>0.055556</td>\n",
       "      <td>0.052632</td>\n",
       "      <td>0.105263</td>\n",
       "      <td>0.055556</td>\n",
       "      <td>0.055556</td>\n",
       "      <td>0.055556</td>\n",
       "    </tr>\n",
       "    <tr>\n",
       "      <th>Ersan Yagci</th>\n",
       "      <td>0.047619</td>\n",
       "      <td>0.055556</td>\n",
       "      <td>0.052632</td>\n",
       "      <td>0.045455</td>\n",
       "      <td>0.055556</td>\n",
       "      <td>0.055556</td>\n",
       "      <td>0.055556</td>\n",
       "      <td>0.055556</td>\n",
       "      <td>0.086957</td>\n",
       "      <td>0.055556</td>\n",
       "      <td>...</td>\n",
       "      <td>0.055556</td>\n",
       "      <td>0.111111</td>\n",
       "      <td>0.136364</td>\n",
       "      <td>0.055556</td>\n",
       "      <td>0.111111</td>\n",
       "      <td>0.052632</td>\n",
       "      <td>0.131579</td>\n",
       "      <td>0.055556</td>\n",
       "      <td>0.055556</td>\n",
       "      <td>0.055556</td>\n",
       "    </tr>\n",
       "    <tr>\n",
       "      <th>Fethi Bam Bam</th>\n",
       "      <td>0.047619</td>\n",
       "      <td>0.055556</td>\n",
       "      <td>0.052632</td>\n",
       "      <td>0.045455</td>\n",
       "      <td>0.055556</td>\n",
       "      <td>0.055556</td>\n",
       "      <td>0.055556</td>\n",
       "      <td>0.055556</td>\n",
       "      <td>0.043478</td>\n",
       "      <td>0.055556</td>\n",
       "      <td>...</td>\n",
       "      <td>0.055556</td>\n",
       "      <td>0.055556</td>\n",
       "      <td>0.045455</td>\n",
       "      <td>0.055556</td>\n",
       "      <td>0.055556</td>\n",
       "      <td>0.052632</td>\n",
       "      <td>0.026316</td>\n",
       "      <td>0.055556</td>\n",
       "      <td>0.055556</td>\n",
       "      <td>0.055556</td>\n",
       "    </tr>\n",
       "    <tr>\n",
       "      <th>Muzaffer Selim Yakasız</th>\n",
       "      <td>0.047619</td>\n",
       "      <td>0.055556</td>\n",
       "      <td>0.052632</td>\n",
       "      <td>0.045455</td>\n",
       "      <td>0.055556</td>\n",
       "      <td>0.055556</td>\n",
       "      <td>0.055556</td>\n",
       "      <td>0.055556</td>\n",
       "      <td>0.043478</td>\n",
       "      <td>0.055556</td>\n",
       "      <td>...</td>\n",
       "      <td>0.055556</td>\n",
       "      <td>0.055556</td>\n",
       "      <td>0.045455</td>\n",
       "      <td>0.055556</td>\n",
       "      <td>0.055556</td>\n",
       "      <td>0.052632</td>\n",
       "      <td>0.052632</td>\n",
       "      <td>0.055556</td>\n",
       "      <td>0.055556</td>\n",
       "      <td>0.055556</td>\n",
       "    </tr>\n",
       "    <tr>\n",
       "      <th>Sinan Yilmaz</th>\n",
       "      <td>0.047619</td>\n",
       "      <td>0.055556</td>\n",
       "      <td>0.052632</td>\n",
       "      <td>0.045455</td>\n",
       "      <td>0.055556</td>\n",
       "      <td>0.055556</td>\n",
       "      <td>0.055556</td>\n",
       "      <td>0.055556</td>\n",
       "      <td>0.130435</td>\n",
       "      <td>0.055556</td>\n",
       "      <td>...</td>\n",
       "      <td>0.055556</td>\n",
       "      <td>0.055556</td>\n",
       "      <td>0.090909</td>\n",
       "      <td>0.111111</td>\n",
       "      <td>0.055556</td>\n",
       "      <td>0.105263</td>\n",
       "      <td>0.026316</td>\n",
       "      <td>0.055556</td>\n",
       "      <td>0.055556</td>\n",
       "      <td>0.055556</td>\n",
       "    </tr>\n",
       "    <tr>\n",
       "      <th>Talip Akdemir</th>\n",
       "      <td>0.047619</td>\n",
       "      <td>0.055556</td>\n",
       "      <td>0.052632</td>\n",
       "      <td>0.045455</td>\n",
       "      <td>0.055556</td>\n",
       "      <td>0.055556</td>\n",
       "      <td>0.055556</td>\n",
       "      <td>0.055556</td>\n",
       "      <td>0.043478</td>\n",
       "      <td>0.055556</td>\n",
       "      <td>...</td>\n",
       "      <td>0.055556</td>\n",
       "      <td>0.055556</td>\n",
       "      <td>0.045455</td>\n",
       "      <td>0.055556</td>\n",
       "      <td>0.055556</td>\n",
       "      <td>0.052632</td>\n",
       "      <td>0.026316</td>\n",
       "      <td>0.055556</td>\n",
       "      <td>0.055556</td>\n",
       "      <td>0.055556</td>\n",
       "    </tr>\n",
       "    <tr>\n",
       "      <th>Yusuf Can</th>\n",
       "      <td>0.095238</td>\n",
       "      <td>0.111111</td>\n",
       "      <td>0.052632</td>\n",
       "      <td>0.045455</td>\n",
       "      <td>0.111111</td>\n",
       "      <td>0.055556</td>\n",
       "      <td>0.055556</td>\n",
       "      <td>0.055556</td>\n",
       "      <td>0.086957</td>\n",
       "      <td>0.055556</td>\n",
       "      <td>...</td>\n",
       "      <td>0.055556</td>\n",
       "      <td>0.055556</td>\n",
       "      <td>0.045455</td>\n",
       "      <td>0.055556</td>\n",
       "      <td>0.055556</td>\n",
       "      <td>0.105263</td>\n",
       "      <td>0.026316</td>\n",
       "      <td>0.055556</td>\n",
       "      <td>0.055556</td>\n",
       "      <td>0.055556</td>\n",
       "    </tr>\n",
       "    <tr>\n",
       "      <th>reis</th>\n",
       "      <td>0.142857</td>\n",
       "      <td>0.055556</td>\n",
       "      <td>0.052632</td>\n",
       "      <td>0.272727</td>\n",
       "      <td>0.055556</td>\n",
       "      <td>0.055556</td>\n",
       "      <td>0.055556</td>\n",
       "      <td>0.055556</td>\n",
       "      <td>0.086957</td>\n",
       "      <td>0.055556</td>\n",
       "      <td>...</td>\n",
       "      <td>0.111111</td>\n",
       "      <td>0.055556</td>\n",
       "      <td>0.045455</td>\n",
       "      <td>0.055556</td>\n",
       "      <td>0.055556</td>\n",
       "      <td>0.052632</td>\n",
       "      <td>0.026316</td>\n",
       "      <td>0.055556</td>\n",
       "      <td>0.055556</td>\n",
       "      <td>0.055556</td>\n",
       "    </tr>\n",
       "    <tr>\n",
       "      <th>reis: Iki opsiyon var</th>\n",
       "      <td>0.047619</td>\n",
       "      <td>0.055556</td>\n",
       "      <td>0.052632</td>\n",
       "      <td>0.045455</td>\n",
       "      <td>0.055556</td>\n",
       "      <td>0.055556</td>\n",
       "      <td>0.055556</td>\n",
       "      <td>0.055556</td>\n",
       "      <td>0.043478</td>\n",
       "      <td>0.055556</td>\n",
       "      <td>...</td>\n",
       "      <td>0.055556</td>\n",
       "      <td>0.055556</td>\n",
       "      <td>0.045455</td>\n",
       "      <td>0.055556</td>\n",
       "      <td>0.055556</td>\n",
       "      <td>0.052632</td>\n",
       "      <td>0.026316</td>\n",
       "      <td>0.055556</td>\n",
       "      <td>0.055556</td>\n",
       "      <td>0.055556</td>\n",
       "    </tr>\n",
       "    <tr>\n",
       "      <th>reis: konular</th>\n",
       "      <td>0.047619</td>\n",
       "      <td>0.055556</td>\n",
       "      <td>0.052632</td>\n",
       "      <td>0.045455</td>\n",
       "      <td>0.055556</td>\n",
       "      <td>0.055556</td>\n",
       "      <td>0.055556</td>\n",
       "      <td>0.055556</td>\n",
       "      <td>0.043478</td>\n",
       "      <td>0.055556</td>\n",
       "      <td>...</td>\n",
       "      <td>0.055556</td>\n",
       "      <td>0.055556</td>\n",
       "      <td>0.045455</td>\n",
       "      <td>0.055556</td>\n",
       "      <td>0.055556</td>\n",
       "      <td>0.052632</td>\n",
       "      <td>0.026316</td>\n",
       "      <td>0.055556</td>\n",
       "      <td>0.055556</td>\n",
       "      <td>0.055556</td>\n",
       "    </tr>\n",
       "    <tr>\n",
       "      <th>reis: ucuncusu de Lineer Regression</th>\n",
       "      <td>0.047619</td>\n",
       "      <td>0.055556</td>\n",
       "      <td>0.052632</td>\n",
       "      <td>0.045455</td>\n",
       "      <td>0.055556</td>\n",
       "      <td>0.055556</td>\n",
       "      <td>0.055556</td>\n",
       "      <td>0.055556</td>\n",
       "      <td>0.043478</td>\n",
       "      <td>0.055556</td>\n",
       "      <td>...</td>\n",
       "      <td>0.055556</td>\n",
       "      <td>0.055556</td>\n",
       "      <td>0.045455</td>\n",
       "      <td>0.055556</td>\n",
       "      <td>0.055556</td>\n",
       "      <td>0.052632</td>\n",
       "      <td>0.026316</td>\n",
       "      <td>0.055556</td>\n",
       "      <td>0.055556</td>\n",
       "      <td>0.055556</td>\n",
       "    </tr>\n",
       "    <tr>\n",
       "      <th>Ömer Esin Yıldız</th>\n",
       "      <td>0.047619</td>\n",
       "      <td>0.055556</td>\n",
       "      <td>0.052632</td>\n",
       "      <td>0.045455</td>\n",
       "      <td>0.055556</td>\n",
       "      <td>0.055556</td>\n",
       "      <td>0.055556</td>\n",
       "      <td>0.055556</td>\n",
       "      <td>0.043478</td>\n",
       "      <td>0.055556</td>\n",
       "      <td>...</td>\n",
       "      <td>0.055556</td>\n",
       "      <td>0.055556</td>\n",
       "      <td>0.045455</td>\n",
       "      <td>0.055556</td>\n",
       "      <td>0.055556</td>\n",
       "      <td>0.052632</td>\n",
       "      <td>0.052632</td>\n",
       "      <td>0.055556</td>\n",
       "      <td>0.055556</td>\n",
       "      <td>0.055556</td>\n",
       "    </tr>\n",
       "    <tr>\n",
       "      <th>İbrahim Halil Kaplan</th>\n",
       "      <td>0.047619</td>\n",
       "      <td>0.055556</td>\n",
       "      <td>0.052632</td>\n",
       "      <td>0.045455</td>\n",
       "      <td>0.055556</td>\n",
       "      <td>0.055556</td>\n",
       "      <td>0.055556</td>\n",
       "      <td>0.055556</td>\n",
       "      <td>0.043478</td>\n",
       "      <td>0.055556</td>\n",
       "      <td>...</td>\n",
       "      <td>0.055556</td>\n",
       "      <td>0.055556</td>\n",
       "      <td>0.045455</td>\n",
       "      <td>0.055556</td>\n",
       "      <td>0.055556</td>\n",
       "      <td>0.052632</td>\n",
       "      <td>0.026316</td>\n",
       "      <td>0.055556</td>\n",
       "      <td>0.055556</td>\n",
       "      <td>0.055556</td>\n",
       "    </tr>\n",
       "    <tr>\n",
       "      <th>‪Engin‬</th>\n",
       "      <td>0.095238</td>\n",
       "      <td>0.055556</td>\n",
       "      <td>0.052632</td>\n",
       "      <td>0.045455</td>\n",
       "      <td>0.055556</td>\n",
       "      <td>0.055556</td>\n",
       "      <td>0.111111</td>\n",
       "      <td>0.055556</td>\n",
       "      <td>0.043478</td>\n",
       "      <td>0.055556</td>\n",
       "      <td>...</td>\n",
       "      <td>0.055556</td>\n",
       "      <td>0.055556</td>\n",
       "      <td>0.045455</td>\n",
       "      <td>0.055556</td>\n",
       "      <td>0.055556</td>\n",
       "      <td>0.052632</td>\n",
       "      <td>0.026316</td>\n",
       "      <td>0.055556</td>\n",
       "      <td>0.055556</td>\n",
       "      <td>0.055556</td>\n",
       "    </tr>\n",
       "  </tbody>\n",
       "</table>\n",
       "<p>17 rows × 2737 columns</p>\n",
       "</div>"
      ],
      "text/plain": [
       "                                           00      0001      00da        01  \\\n",
       "sender                                                                        \n",
       "Abdullah Atçılı                      0.047619  0.055556  0.157895  0.045455   \n",
       "Adem Tekinbaş                        0.047619  0.055556  0.052632  0.045455   \n",
       "Ahmet Umit Çalışkan                  0.047619  0.055556  0.052632  0.045455   \n",
       "Emre Kopuz                           0.047619  0.055556  0.052632  0.045455   \n",
       "Ersan Yagci                          0.047619  0.055556  0.052632  0.045455   \n",
       "Fethi Bam Bam                        0.047619  0.055556  0.052632  0.045455   \n",
       "Muzaffer Selim Yakasız               0.047619  0.055556  0.052632  0.045455   \n",
       "Sinan Yilmaz                         0.047619  0.055556  0.052632  0.045455   \n",
       "Talip Akdemir                        0.047619  0.055556  0.052632  0.045455   \n",
       "Yusuf Can                            0.095238  0.111111  0.052632  0.045455   \n",
       "reis                                 0.142857  0.055556  0.052632  0.272727   \n",
       "reis: Iki opsiyon var                0.047619  0.055556  0.052632  0.045455   \n",
       "reis: konular                        0.047619  0.055556  0.052632  0.045455   \n",
       "reis: ucuncusu de Lineer Regression  0.047619  0.055556  0.052632  0.045455   \n",
       "Ömer Esin Yıldız                     0.047619  0.055556  0.052632  0.045455   \n",
       "İbrahim Halil Kaplan                 0.047619  0.055556  0.052632  0.045455   \n",
       "‪Engin‬                              0.095238  0.055556  0.052632  0.045455   \n",
       "\n",
       "                                         0130  01_data_science        06  \\\n",
       "sender                                                                     \n",
       "Abdullah Atçılı                      0.055556         0.111111  0.055556   \n",
       "Adem Tekinbaş                        0.055556         0.055556  0.055556   \n",
       "Ahmet Umit Çalışkan                  0.055556         0.055556  0.055556   \n",
       "Emre Kopuz                           0.055556         0.055556  0.055556   \n",
       "Ersan Yagci                          0.055556         0.055556  0.055556   \n",
       "Fethi Bam Bam                        0.055556         0.055556  0.055556   \n",
       "Muzaffer Selim Yakasız               0.055556         0.055556  0.055556   \n",
       "Sinan Yilmaz                         0.055556         0.055556  0.055556   \n",
       "Talip Akdemir                        0.055556         0.055556  0.055556   \n",
       "Yusuf Can                            0.111111         0.055556  0.055556   \n",
       "reis                                 0.055556         0.055556  0.055556   \n",
       "reis: Iki opsiyon var                0.055556         0.055556  0.055556   \n",
       "reis: konular                        0.055556         0.055556  0.055556   \n",
       "reis: ucuncusu de Lineer Regression  0.055556         0.055556  0.055556   \n",
       "Ömer Esin Yıldız                     0.055556         0.055556  0.055556   \n",
       "İbrahim Halil Kaplan                 0.055556         0.055556  0.055556   \n",
       "‪Engin‬                              0.055556         0.055556  0.111111   \n",
       "\n",
       "                                           08        10       100  ...  \\\n",
       "sender                                                             ...   \n",
       "Abdullah Atçılı                      0.055556  0.086957  0.111111  ...   \n",
       "Adem Tekinbaş                        0.055556  0.043478  0.055556  ...   \n",
       "Ahmet Umit Çalışkan                  0.111111  0.043478  0.055556  ...   \n",
       "Emre Kopuz                           0.055556  0.043478  0.055556  ...   \n",
       "Ersan Yagci                          0.055556  0.086957  0.055556  ...   \n",
       "Fethi Bam Bam                        0.055556  0.043478  0.055556  ...   \n",
       "Muzaffer Selim Yakasız               0.055556  0.043478  0.055556  ...   \n",
       "Sinan Yilmaz                         0.055556  0.130435  0.055556  ...   \n",
       "Talip Akdemir                        0.055556  0.043478  0.055556  ...   \n",
       "Yusuf Can                            0.055556  0.086957  0.055556  ...   \n",
       "reis                                 0.055556  0.086957  0.055556  ...   \n",
       "reis: Iki opsiyon var                0.055556  0.043478  0.055556  ...   \n",
       "reis: konular                        0.055556  0.043478  0.055556  ...   \n",
       "reis: ucuncusu de Lineer Regression  0.055556  0.043478  0.055556  ...   \n",
       "Ömer Esin Yıldız                     0.055556  0.043478  0.055556  ...   \n",
       "İbrahim Halil Kaplan                 0.055556  0.043478  0.055556  ...   \n",
       "‪Engin‬                              0.055556  0.043478  0.055556  ...   \n",
       "\n",
       "                                     şişirmeyeyim       şte        şu  \\\n",
       "sender                                                                  \n",
       "Abdullah Atçılı                          0.055556  0.055556  0.090909   \n",
       "Adem Tekinbaş                            0.055556  0.055556  0.045455   \n",
       "Ahmet Umit Çalışkan                      0.055556  0.055556  0.090909   \n",
       "Emre Kopuz                               0.055556  0.055556  0.045455   \n",
       "Ersan Yagci                              0.055556  0.111111  0.136364   \n",
       "Fethi Bam Bam                            0.055556  0.055556  0.045455   \n",
       "Muzaffer Selim Yakasız                   0.055556  0.055556  0.045455   \n",
       "Sinan Yilmaz                             0.055556  0.055556  0.090909   \n",
       "Talip Akdemir                            0.055556  0.055556  0.045455   \n",
       "Yusuf Can                                0.055556  0.055556  0.045455   \n",
       "reis                                     0.111111  0.055556  0.045455   \n",
       "reis: Iki opsiyon var                    0.055556  0.055556  0.045455   \n",
       "reis: konular                            0.055556  0.055556  0.045455   \n",
       "reis: ucuncusu de Lineer Regression      0.055556  0.055556  0.045455   \n",
       "Ömer Esin Yıldız                         0.055556  0.055556  0.045455   \n",
       "İbrahim Halil Kaplan                     0.055556  0.055556  0.045455   \n",
       "‪Engin‬                                  0.055556  0.055556  0.045455   \n",
       "\n",
       "                                         şuan     şurda     şöyle     şükrü  \\\n",
       "sender                                                                        \n",
       "Abdullah Atçılı                      0.055556  0.055556  0.052632  0.236842   \n",
       "Adem Tekinbaş                        0.055556  0.055556  0.052632  0.026316   \n",
       "Ahmet Umit Çalışkan                  0.055556  0.055556  0.052632  0.131579   \n",
       "Emre Kopuz                           0.055556  0.055556  0.052632  0.105263   \n",
       "Ersan Yagci                          0.055556  0.111111  0.052632  0.131579   \n",
       "Fethi Bam Bam                        0.055556  0.055556  0.052632  0.026316   \n",
       "Muzaffer Selim Yakasız               0.055556  0.055556  0.052632  0.052632   \n",
       "Sinan Yilmaz                         0.111111  0.055556  0.105263  0.026316   \n",
       "Talip Akdemir                        0.055556  0.055556  0.052632  0.026316   \n",
       "Yusuf Can                            0.055556  0.055556  0.105263  0.026316   \n",
       "reis                                 0.055556  0.055556  0.052632  0.026316   \n",
       "reis: Iki opsiyon var                0.055556  0.055556  0.052632  0.026316   \n",
       "reis: konular                        0.055556  0.055556  0.052632  0.026316   \n",
       "reis: ucuncusu de Lineer Regression  0.055556  0.055556  0.052632  0.026316   \n",
       "Ömer Esin Yıldız                     0.055556  0.055556  0.052632  0.052632   \n",
       "İbrahim Halil Kaplan                 0.055556  0.055556  0.052632  0.026316   \n",
       "‪Engin‬                              0.055556  0.055556  0.052632  0.026316   \n",
       "\n",
       "                                     şükrüden  şükrüyle     şükür  \n",
       "sender                                                             \n",
       "Abdullah Atçılı                      0.055556  0.055556  0.055556  \n",
       "Adem Tekinbaş                        0.055556  0.055556  0.055556  \n",
       "Ahmet Umit Çalışkan                  0.111111  0.111111  0.111111  \n",
       "Emre Kopuz                           0.055556  0.055556  0.055556  \n",
       "Ersan Yagci                          0.055556  0.055556  0.055556  \n",
       "Fethi Bam Bam                        0.055556  0.055556  0.055556  \n",
       "Muzaffer Selim Yakasız               0.055556  0.055556  0.055556  \n",
       "Sinan Yilmaz                         0.055556  0.055556  0.055556  \n",
       "Talip Akdemir                        0.055556  0.055556  0.055556  \n",
       "Yusuf Can                            0.055556  0.055556  0.055556  \n",
       "reis                                 0.055556  0.055556  0.055556  \n",
       "reis: Iki opsiyon var                0.055556  0.055556  0.055556  \n",
       "reis: konular                        0.055556  0.055556  0.055556  \n",
       "reis: ucuncusu de Lineer Regression  0.055556  0.055556  0.055556  \n",
       "Ömer Esin Yıldız                     0.055556  0.055556  0.055556  \n",
       "İbrahim Halil Kaplan                 0.055556  0.055556  0.055556  \n",
       "‪Engin‬                              0.055556  0.055556  0.055556  \n",
       "\n",
       "[17 rows x 2737 columns]"
      ]
     },
     "execution_count": 428,
     "metadata": {},
     "output_type": "execute_result"
    }
   ],
   "source": [
    "pd.DataFrame(X.toarray(), index=data.index).rename(columns={v:k for k, v in vectorizer.vocabulary_.items()}) \\\n",
    "    .assign(sender=data['sender']).groupby('sender').sum().__add__(1).apply(lambda x: x / x.sum(), axis=0)"
   ]
  },
  {
   "cell_type": "markdown",
   "id": "9dbaedc1",
   "metadata": {},
   "source": [
    "Yapilan duzleme islemi, muhakkak frekanslar arasindaki iliskiyi etkileyecektir. Cok yuksek bir sayi ile duzleme yapilan asagidaki senaryoyu dusunelim:"
   ]
  },
  {
   "cell_type": "code",
   "execution_count": 429,
   "id": "d9ab050f",
   "metadata": {},
   "outputs": [
    {
     "data": {
      "text/html": [
       "<div>\n",
       "<style scoped>\n",
       "    .dataframe tbody tr th:only-of-type {\n",
       "        vertical-align: middle;\n",
       "    }\n",
       "\n",
       "    .dataframe tbody tr th {\n",
       "        vertical-align: top;\n",
       "    }\n",
       "\n",
       "    .dataframe thead th {\n",
       "        text-align: right;\n",
       "    }\n",
       "</style>\n",
       "<table border=\"1\" class=\"dataframe\">\n",
       "  <thead>\n",
       "    <tr style=\"text-align: right;\">\n",
       "      <th></th>\n",
       "      <th>00</th>\n",
       "      <th>0001</th>\n",
       "      <th>00da</th>\n",
       "      <th>01</th>\n",
       "      <th>0130</th>\n",
       "      <th>01_data_science</th>\n",
       "      <th>06</th>\n",
       "      <th>08</th>\n",
       "      <th>10</th>\n",
       "      <th>100</th>\n",
       "      <th>...</th>\n",
       "      <th>şişirmeyeyim</th>\n",
       "      <th>şte</th>\n",
       "      <th>şu</th>\n",
       "      <th>şuan</th>\n",
       "      <th>şurda</th>\n",
       "      <th>şöyle</th>\n",
       "      <th>şükrü</th>\n",
       "      <th>şükrüden</th>\n",
       "      <th>şükrüyle</th>\n",
       "      <th>şükür</th>\n",
       "    </tr>\n",
       "    <tr>\n",
       "      <th>sender</th>\n",
       "      <th></th>\n",
       "      <th></th>\n",
       "      <th></th>\n",
       "      <th></th>\n",
       "      <th></th>\n",
       "      <th></th>\n",
       "      <th></th>\n",
       "      <th></th>\n",
       "      <th></th>\n",
       "      <th></th>\n",
       "      <th></th>\n",
       "      <th></th>\n",
       "      <th></th>\n",
       "      <th></th>\n",
       "      <th></th>\n",
       "      <th></th>\n",
       "      <th></th>\n",
       "      <th></th>\n",
       "      <th></th>\n",
       "      <th></th>\n",
       "      <th></th>\n",
       "    </tr>\n",
       "  </thead>\n",
       "  <tbody>\n",
       "    <tr>\n",
       "      <th>Abdullah Atçılı</th>\n",
       "      <td>0.058810</td>\n",
       "      <td>0.058820</td>\n",
       "      <td>0.058934</td>\n",
       "      <td>0.058806</td>\n",
       "      <td>0.058820</td>\n",
       "      <td>0.058879</td>\n",
       "      <td>0.058820</td>\n",
       "      <td>0.058820</td>\n",
       "      <td>0.058862</td>\n",
       "      <td>0.058879</td>\n",
       "      <td>...</td>\n",
       "      <td>0.058820</td>\n",
       "      <td>0.058820</td>\n",
       "      <td>0.058865</td>\n",
       "      <td>0.058820</td>\n",
       "      <td>0.058820</td>\n",
       "      <td>0.058817</td>\n",
       "      <td>0.059221</td>\n",
       "      <td>0.058820</td>\n",
       "      <td>0.058820</td>\n",
       "      <td>0.058820</td>\n",
       "    </tr>\n",
       "    <tr>\n",
       "      <th>Adem Tekinbaş</th>\n",
       "      <td>0.058810</td>\n",
       "      <td>0.058820</td>\n",
       "      <td>0.058817</td>\n",
       "      <td>0.058806</td>\n",
       "      <td>0.058820</td>\n",
       "      <td>0.058820</td>\n",
       "      <td>0.058820</td>\n",
       "      <td>0.058820</td>\n",
       "      <td>0.058803</td>\n",
       "      <td>0.058820</td>\n",
       "      <td>...</td>\n",
       "      <td>0.058820</td>\n",
       "      <td>0.058820</td>\n",
       "      <td>0.058806</td>\n",
       "      <td>0.058820</td>\n",
       "      <td>0.058820</td>\n",
       "      <td>0.058817</td>\n",
       "      <td>0.058751</td>\n",
       "      <td>0.058820</td>\n",
       "      <td>0.058820</td>\n",
       "      <td>0.058820</td>\n",
       "    </tr>\n",
       "    <tr>\n",
       "      <th>Ahmet Umit Çalışkan</th>\n",
       "      <td>0.058810</td>\n",
       "      <td>0.058820</td>\n",
       "      <td>0.058817</td>\n",
       "      <td>0.058806</td>\n",
       "      <td>0.058820</td>\n",
       "      <td>0.058820</td>\n",
       "      <td>0.058820</td>\n",
       "      <td>0.058879</td>\n",
       "      <td>0.058803</td>\n",
       "      <td>0.058820</td>\n",
       "      <td>...</td>\n",
       "      <td>0.058820</td>\n",
       "      <td>0.058820</td>\n",
       "      <td>0.058865</td>\n",
       "      <td>0.058820</td>\n",
       "      <td>0.058820</td>\n",
       "      <td>0.058817</td>\n",
       "      <td>0.058986</td>\n",
       "      <td>0.058879</td>\n",
       "      <td>0.058879</td>\n",
       "      <td>0.058879</td>\n",
       "    </tr>\n",
       "    <tr>\n",
       "      <th>Emre Kopuz</th>\n",
       "      <td>0.058810</td>\n",
       "      <td>0.058820</td>\n",
       "      <td>0.058817</td>\n",
       "      <td>0.058806</td>\n",
       "      <td>0.058820</td>\n",
       "      <td>0.058820</td>\n",
       "      <td>0.058820</td>\n",
       "      <td>0.058820</td>\n",
       "      <td>0.058803</td>\n",
       "      <td>0.058820</td>\n",
       "      <td>...</td>\n",
       "      <td>0.058820</td>\n",
       "      <td>0.058820</td>\n",
       "      <td>0.058806</td>\n",
       "      <td>0.058820</td>\n",
       "      <td>0.058820</td>\n",
       "      <td>0.058817</td>\n",
       "      <td>0.058927</td>\n",
       "      <td>0.058820</td>\n",
       "      <td>0.058820</td>\n",
       "      <td>0.058820</td>\n",
       "    </tr>\n",
       "    <tr>\n",
       "      <th>Ersan Yagci</th>\n",
       "      <td>0.058810</td>\n",
       "      <td>0.058820</td>\n",
       "      <td>0.058817</td>\n",
       "      <td>0.058806</td>\n",
       "      <td>0.058820</td>\n",
       "      <td>0.058820</td>\n",
       "      <td>0.058820</td>\n",
       "      <td>0.058820</td>\n",
       "      <td>0.058862</td>\n",
       "      <td>0.058820</td>\n",
       "      <td>...</td>\n",
       "      <td>0.058820</td>\n",
       "      <td>0.058879</td>\n",
       "      <td>0.058924</td>\n",
       "      <td>0.058820</td>\n",
       "      <td>0.058879</td>\n",
       "      <td>0.058817</td>\n",
       "      <td>0.058986</td>\n",
       "      <td>0.058820</td>\n",
       "      <td>0.058820</td>\n",
       "      <td>0.058820</td>\n",
       "    </tr>\n",
       "    <tr>\n",
       "      <th>Fethi Bam Bam</th>\n",
       "      <td>0.058810</td>\n",
       "      <td>0.058820</td>\n",
       "      <td>0.058817</td>\n",
       "      <td>0.058806</td>\n",
       "      <td>0.058820</td>\n",
       "      <td>0.058820</td>\n",
       "      <td>0.058820</td>\n",
       "      <td>0.058820</td>\n",
       "      <td>0.058803</td>\n",
       "      <td>0.058820</td>\n",
       "      <td>...</td>\n",
       "      <td>0.058820</td>\n",
       "      <td>0.058820</td>\n",
       "      <td>0.058806</td>\n",
       "      <td>0.058820</td>\n",
       "      <td>0.058820</td>\n",
       "      <td>0.058817</td>\n",
       "      <td>0.058751</td>\n",
       "      <td>0.058820</td>\n",
       "      <td>0.058820</td>\n",
       "      <td>0.058820</td>\n",
       "    </tr>\n",
       "    <tr>\n",
       "      <th>Muzaffer Selim Yakasız</th>\n",
       "      <td>0.058810</td>\n",
       "      <td>0.058820</td>\n",
       "      <td>0.058817</td>\n",
       "      <td>0.058806</td>\n",
       "      <td>0.058820</td>\n",
       "      <td>0.058820</td>\n",
       "      <td>0.058820</td>\n",
       "      <td>0.058820</td>\n",
       "      <td>0.058803</td>\n",
       "      <td>0.058820</td>\n",
       "      <td>...</td>\n",
       "      <td>0.058820</td>\n",
       "      <td>0.058820</td>\n",
       "      <td>0.058806</td>\n",
       "      <td>0.058820</td>\n",
       "      <td>0.058820</td>\n",
       "      <td>0.058817</td>\n",
       "      <td>0.058810</td>\n",
       "      <td>0.058820</td>\n",
       "      <td>0.058820</td>\n",
       "      <td>0.058820</td>\n",
       "    </tr>\n",
       "    <tr>\n",
       "      <th>Sinan Yilmaz</th>\n",
       "      <td>0.058810</td>\n",
       "      <td>0.058820</td>\n",
       "      <td>0.058817</td>\n",
       "      <td>0.058806</td>\n",
       "      <td>0.058820</td>\n",
       "      <td>0.058820</td>\n",
       "      <td>0.058820</td>\n",
       "      <td>0.058820</td>\n",
       "      <td>0.058920</td>\n",
       "      <td>0.058820</td>\n",
       "      <td>...</td>\n",
       "      <td>0.058820</td>\n",
       "      <td>0.058820</td>\n",
       "      <td>0.058865</td>\n",
       "      <td>0.058879</td>\n",
       "      <td>0.058820</td>\n",
       "      <td>0.058875</td>\n",
       "      <td>0.058751</td>\n",
       "      <td>0.058820</td>\n",
       "      <td>0.058820</td>\n",
       "      <td>0.058820</td>\n",
       "    </tr>\n",
       "    <tr>\n",
       "      <th>Talip Akdemir</th>\n",
       "      <td>0.058810</td>\n",
       "      <td>0.058820</td>\n",
       "      <td>0.058817</td>\n",
       "      <td>0.058806</td>\n",
       "      <td>0.058820</td>\n",
       "      <td>0.058820</td>\n",
       "      <td>0.058820</td>\n",
       "      <td>0.058820</td>\n",
       "      <td>0.058803</td>\n",
       "      <td>0.058820</td>\n",
       "      <td>...</td>\n",
       "      <td>0.058820</td>\n",
       "      <td>0.058820</td>\n",
       "      <td>0.058806</td>\n",
       "      <td>0.058820</td>\n",
       "      <td>0.058820</td>\n",
       "      <td>0.058817</td>\n",
       "      <td>0.058751</td>\n",
       "      <td>0.058820</td>\n",
       "      <td>0.058820</td>\n",
       "      <td>0.058820</td>\n",
       "    </tr>\n",
       "    <tr>\n",
       "      <th>Yusuf Can</th>\n",
       "      <td>0.058869</td>\n",
       "      <td>0.058879</td>\n",
       "      <td>0.058817</td>\n",
       "      <td>0.058806</td>\n",
       "      <td>0.058879</td>\n",
       "      <td>0.058820</td>\n",
       "      <td>0.058820</td>\n",
       "      <td>0.058820</td>\n",
       "      <td>0.058862</td>\n",
       "      <td>0.058820</td>\n",
       "      <td>...</td>\n",
       "      <td>0.058820</td>\n",
       "      <td>0.058820</td>\n",
       "      <td>0.058806</td>\n",
       "      <td>0.058820</td>\n",
       "      <td>0.058820</td>\n",
       "      <td>0.058875</td>\n",
       "      <td>0.058751</td>\n",
       "      <td>0.058820</td>\n",
       "      <td>0.058820</td>\n",
       "      <td>0.058820</td>\n",
       "    </tr>\n",
       "    <tr>\n",
       "      <th>reis</th>\n",
       "      <td>0.058927</td>\n",
       "      <td>0.058820</td>\n",
       "      <td>0.058817</td>\n",
       "      <td>0.059100</td>\n",
       "      <td>0.058820</td>\n",
       "      <td>0.058820</td>\n",
       "      <td>0.058820</td>\n",
       "      <td>0.058820</td>\n",
       "      <td>0.058862</td>\n",
       "      <td>0.058820</td>\n",
       "      <td>...</td>\n",
       "      <td>0.058879</td>\n",
       "      <td>0.058820</td>\n",
       "      <td>0.058806</td>\n",
       "      <td>0.058820</td>\n",
       "      <td>0.058820</td>\n",
       "      <td>0.058817</td>\n",
       "      <td>0.058751</td>\n",
       "      <td>0.058820</td>\n",
       "      <td>0.058820</td>\n",
       "      <td>0.058820</td>\n",
       "    </tr>\n",
       "    <tr>\n",
       "      <th>reis: Iki opsiyon var</th>\n",
       "      <td>0.058810</td>\n",
       "      <td>0.058820</td>\n",
       "      <td>0.058817</td>\n",
       "      <td>0.058806</td>\n",
       "      <td>0.058820</td>\n",
       "      <td>0.058820</td>\n",
       "      <td>0.058820</td>\n",
       "      <td>0.058820</td>\n",
       "      <td>0.058803</td>\n",
       "      <td>0.058820</td>\n",
       "      <td>...</td>\n",
       "      <td>0.058820</td>\n",
       "      <td>0.058820</td>\n",
       "      <td>0.058806</td>\n",
       "      <td>0.058820</td>\n",
       "      <td>0.058820</td>\n",
       "      <td>0.058817</td>\n",
       "      <td>0.058751</td>\n",
       "      <td>0.058820</td>\n",
       "      <td>0.058820</td>\n",
       "      <td>0.058820</td>\n",
       "    </tr>\n",
       "    <tr>\n",
       "      <th>reis: konular</th>\n",
       "      <td>0.058810</td>\n",
       "      <td>0.058820</td>\n",
       "      <td>0.058817</td>\n",
       "      <td>0.058806</td>\n",
       "      <td>0.058820</td>\n",
       "      <td>0.058820</td>\n",
       "      <td>0.058820</td>\n",
       "      <td>0.058820</td>\n",
       "      <td>0.058803</td>\n",
       "      <td>0.058820</td>\n",
       "      <td>...</td>\n",
       "      <td>0.058820</td>\n",
       "      <td>0.058820</td>\n",
       "      <td>0.058806</td>\n",
       "      <td>0.058820</td>\n",
       "      <td>0.058820</td>\n",
       "      <td>0.058817</td>\n",
       "      <td>0.058751</td>\n",
       "      <td>0.058820</td>\n",
       "      <td>0.058820</td>\n",
       "      <td>0.058820</td>\n",
       "    </tr>\n",
       "    <tr>\n",
       "      <th>reis: ucuncusu de Lineer Regression</th>\n",
       "      <td>0.058810</td>\n",
       "      <td>0.058820</td>\n",
       "      <td>0.058817</td>\n",
       "      <td>0.058806</td>\n",
       "      <td>0.058820</td>\n",
       "      <td>0.058820</td>\n",
       "      <td>0.058820</td>\n",
       "      <td>0.058820</td>\n",
       "      <td>0.058803</td>\n",
       "      <td>0.058820</td>\n",
       "      <td>...</td>\n",
       "      <td>0.058820</td>\n",
       "      <td>0.058820</td>\n",
       "      <td>0.058806</td>\n",
       "      <td>0.058820</td>\n",
       "      <td>0.058820</td>\n",
       "      <td>0.058817</td>\n",
       "      <td>0.058751</td>\n",
       "      <td>0.058820</td>\n",
       "      <td>0.058820</td>\n",
       "      <td>0.058820</td>\n",
       "    </tr>\n",
       "    <tr>\n",
       "      <th>Ömer Esin Yıldız</th>\n",
       "      <td>0.058810</td>\n",
       "      <td>0.058820</td>\n",
       "      <td>0.058817</td>\n",
       "      <td>0.058806</td>\n",
       "      <td>0.058820</td>\n",
       "      <td>0.058820</td>\n",
       "      <td>0.058820</td>\n",
       "      <td>0.058820</td>\n",
       "      <td>0.058803</td>\n",
       "      <td>0.058820</td>\n",
       "      <td>...</td>\n",
       "      <td>0.058820</td>\n",
       "      <td>0.058820</td>\n",
       "      <td>0.058806</td>\n",
       "      <td>0.058820</td>\n",
       "      <td>0.058820</td>\n",
       "      <td>0.058817</td>\n",
       "      <td>0.058810</td>\n",
       "      <td>0.058820</td>\n",
       "      <td>0.058820</td>\n",
       "      <td>0.058820</td>\n",
       "    </tr>\n",
       "    <tr>\n",
       "      <th>İbrahim Halil Kaplan</th>\n",
       "      <td>0.058810</td>\n",
       "      <td>0.058820</td>\n",
       "      <td>0.058817</td>\n",
       "      <td>0.058806</td>\n",
       "      <td>0.058820</td>\n",
       "      <td>0.058820</td>\n",
       "      <td>0.058820</td>\n",
       "      <td>0.058820</td>\n",
       "      <td>0.058803</td>\n",
       "      <td>0.058820</td>\n",
       "      <td>...</td>\n",
       "      <td>0.058820</td>\n",
       "      <td>0.058820</td>\n",
       "      <td>0.058806</td>\n",
       "      <td>0.058820</td>\n",
       "      <td>0.058820</td>\n",
       "      <td>0.058817</td>\n",
       "      <td>0.058751</td>\n",
       "      <td>0.058820</td>\n",
       "      <td>0.058820</td>\n",
       "      <td>0.058820</td>\n",
       "    </tr>\n",
       "    <tr>\n",
       "      <th>‪Engin‬</th>\n",
       "      <td>0.058869</td>\n",
       "      <td>0.058820</td>\n",
       "      <td>0.058817</td>\n",
       "      <td>0.058806</td>\n",
       "      <td>0.058820</td>\n",
       "      <td>0.058820</td>\n",
       "      <td>0.058879</td>\n",
       "      <td>0.058820</td>\n",
       "      <td>0.058803</td>\n",
       "      <td>0.058820</td>\n",
       "      <td>...</td>\n",
       "      <td>0.058820</td>\n",
       "      <td>0.058820</td>\n",
       "      <td>0.058806</td>\n",
       "      <td>0.058820</td>\n",
       "      <td>0.058820</td>\n",
       "      <td>0.058817</td>\n",
       "      <td>0.058751</td>\n",
       "      <td>0.058820</td>\n",
       "      <td>0.058820</td>\n",
       "      <td>0.058820</td>\n",
       "    </tr>\n",
       "  </tbody>\n",
       "</table>\n",
       "<p>17 rows × 2737 columns</p>\n",
       "</div>"
      ],
      "text/plain": [
       "                                           00      0001      00da        01  \\\n",
       "sender                                                                        \n",
       "Abdullah Atçılı                      0.058810  0.058820  0.058934  0.058806   \n",
       "Adem Tekinbaş                        0.058810  0.058820  0.058817  0.058806   \n",
       "Ahmet Umit Çalışkan                  0.058810  0.058820  0.058817  0.058806   \n",
       "Emre Kopuz                           0.058810  0.058820  0.058817  0.058806   \n",
       "Ersan Yagci                          0.058810  0.058820  0.058817  0.058806   \n",
       "Fethi Bam Bam                        0.058810  0.058820  0.058817  0.058806   \n",
       "Muzaffer Selim Yakasız               0.058810  0.058820  0.058817  0.058806   \n",
       "Sinan Yilmaz                         0.058810  0.058820  0.058817  0.058806   \n",
       "Talip Akdemir                        0.058810  0.058820  0.058817  0.058806   \n",
       "Yusuf Can                            0.058869  0.058879  0.058817  0.058806   \n",
       "reis                                 0.058927  0.058820  0.058817  0.059100   \n",
       "reis: Iki opsiyon var                0.058810  0.058820  0.058817  0.058806   \n",
       "reis: konular                        0.058810  0.058820  0.058817  0.058806   \n",
       "reis: ucuncusu de Lineer Regression  0.058810  0.058820  0.058817  0.058806   \n",
       "Ömer Esin Yıldız                     0.058810  0.058820  0.058817  0.058806   \n",
       "İbrahim Halil Kaplan                 0.058810  0.058820  0.058817  0.058806   \n",
       "‪Engin‬                              0.058869  0.058820  0.058817  0.058806   \n",
       "\n",
       "                                         0130  01_data_science        06  \\\n",
       "sender                                                                     \n",
       "Abdullah Atçılı                      0.058820         0.058879  0.058820   \n",
       "Adem Tekinbaş                        0.058820         0.058820  0.058820   \n",
       "Ahmet Umit Çalışkan                  0.058820         0.058820  0.058820   \n",
       "Emre Kopuz                           0.058820         0.058820  0.058820   \n",
       "Ersan Yagci                          0.058820         0.058820  0.058820   \n",
       "Fethi Bam Bam                        0.058820         0.058820  0.058820   \n",
       "Muzaffer Selim Yakasız               0.058820         0.058820  0.058820   \n",
       "Sinan Yilmaz                         0.058820         0.058820  0.058820   \n",
       "Talip Akdemir                        0.058820         0.058820  0.058820   \n",
       "Yusuf Can                            0.058879         0.058820  0.058820   \n",
       "reis                                 0.058820         0.058820  0.058820   \n",
       "reis: Iki opsiyon var                0.058820         0.058820  0.058820   \n",
       "reis: konular                        0.058820         0.058820  0.058820   \n",
       "reis: ucuncusu de Lineer Regression  0.058820         0.058820  0.058820   \n",
       "Ömer Esin Yıldız                     0.058820         0.058820  0.058820   \n",
       "İbrahim Halil Kaplan                 0.058820         0.058820  0.058820   \n",
       "‪Engin‬                              0.058820         0.058820  0.058879   \n",
       "\n",
       "                                           08        10       100  ...  \\\n",
       "sender                                                             ...   \n",
       "Abdullah Atçılı                      0.058820  0.058862  0.058879  ...   \n",
       "Adem Tekinbaş                        0.058820  0.058803  0.058820  ...   \n",
       "Ahmet Umit Çalışkan                  0.058879  0.058803  0.058820  ...   \n",
       "Emre Kopuz                           0.058820  0.058803  0.058820  ...   \n",
       "Ersan Yagci                          0.058820  0.058862  0.058820  ...   \n",
       "Fethi Bam Bam                        0.058820  0.058803  0.058820  ...   \n",
       "Muzaffer Selim Yakasız               0.058820  0.058803  0.058820  ...   \n",
       "Sinan Yilmaz                         0.058820  0.058920  0.058820  ...   \n",
       "Talip Akdemir                        0.058820  0.058803  0.058820  ...   \n",
       "Yusuf Can                            0.058820  0.058862  0.058820  ...   \n",
       "reis                                 0.058820  0.058862  0.058820  ...   \n",
       "reis: Iki opsiyon var                0.058820  0.058803  0.058820  ...   \n",
       "reis: konular                        0.058820  0.058803  0.058820  ...   \n",
       "reis: ucuncusu de Lineer Regression  0.058820  0.058803  0.058820  ...   \n",
       "Ömer Esin Yıldız                     0.058820  0.058803  0.058820  ...   \n",
       "İbrahim Halil Kaplan                 0.058820  0.058803  0.058820  ...   \n",
       "‪Engin‬                              0.058820  0.058803  0.058820  ...   \n",
       "\n",
       "                                     şişirmeyeyim       şte        şu  \\\n",
       "sender                                                                  \n",
       "Abdullah Atçılı                          0.058820  0.058820  0.058865   \n",
       "Adem Tekinbaş                            0.058820  0.058820  0.058806   \n",
       "Ahmet Umit Çalışkan                      0.058820  0.058820  0.058865   \n",
       "Emre Kopuz                               0.058820  0.058820  0.058806   \n",
       "Ersan Yagci                              0.058820  0.058879  0.058924   \n",
       "Fethi Bam Bam                            0.058820  0.058820  0.058806   \n",
       "Muzaffer Selim Yakasız                   0.058820  0.058820  0.058806   \n",
       "Sinan Yilmaz                             0.058820  0.058820  0.058865   \n",
       "Talip Akdemir                            0.058820  0.058820  0.058806   \n",
       "Yusuf Can                                0.058820  0.058820  0.058806   \n",
       "reis                                     0.058879  0.058820  0.058806   \n",
       "reis: Iki opsiyon var                    0.058820  0.058820  0.058806   \n",
       "reis: konular                            0.058820  0.058820  0.058806   \n",
       "reis: ucuncusu de Lineer Regression      0.058820  0.058820  0.058806   \n",
       "Ömer Esin Yıldız                         0.058820  0.058820  0.058806   \n",
       "İbrahim Halil Kaplan                     0.058820  0.058820  0.058806   \n",
       "‪Engin‬                                  0.058820  0.058820  0.058806   \n",
       "\n",
       "                                         şuan     şurda     şöyle     şükrü  \\\n",
       "sender                                                                        \n",
       "Abdullah Atçılı                      0.058820  0.058820  0.058817  0.059221   \n",
       "Adem Tekinbaş                        0.058820  0.058820  0.058817  0.058751   \n",
       "Ahmet Umit Çalışkan                  0.058820  0.058820  0.058817  0.058986   \n",
       "Emre Kopuz                           0.058820  0.058820  0.058817  0.058927   \n",
       "Ersan Yagci                          0.058820  0.058879  0.058817  0.058986   \n",
       "Fethi Bam Bam                        0.058820  0.058820  0.058817  0.058751   \n",
       "Muzaffer Selim Yakasız               0.058820  0.058820  0.058817  0.058810   \n",
       "Sinan Yilmaz                         0.058879  0.058820  0.058875  0.058751   \n",
       "Talip Akdemir                        0.058820  0.058820  0.058817  0.058751   \n",
       "Yusuf Can                            0.058820  0.058820  0.058875  0.058751   \n",
       "reis                                 0.058820  0.058820  0.058817  0.058751   \n",
       "reis: Iki opsiyon var                0.058820  0.058820  0.058817  0.058751   \n",
       "reis: konular                        0.058820  0.058820  0.058817  0.058751   \n",
       "reis: ucuncusu de Lineer Regression  0.058820  0.058820  0.058817  0.058751   \n",
       "Ömer Esin Yıldız                     0.058820  0.058820  0.058817  0.058810   \n",
       "İbrahim Halil Kaplan                 0.058820  0.058820  0.058817  0.058751   \n",
       "‪Engin‬                              0.058820  0.058820  0.058817  0.058751   \n",
       "\n",
       "                                     şükrüden  şükrüyle     şükür  \n",
       "sender                                                             \n",
       "Abdullah Atçılı                      0.058820  0.058820  0.058820  \n",
       "Adem Tekinbaş                        0.058820  0.058820  0.058820  \n",
       "Ahmet Umit Çalışkan                  0.058879  0.058879  0.058879  \n",
       "Emre Kopuz                           0.058820  0.058820  0.058820  \n",
       "Ersan Yagci                          0.058820  0.058820  0.058820  \n",
       "Fethi Bam Bam                        0.058820  0.058820  0.058820  \n",
       "Muzaffer Selim Yakasız               0.058820  0.058820  0.058820  \n",
       "Sinan Yilmaz                         0.058820  0.058820  0.058820  \n",
       "Talip Akdemir                        0.058820  0.058820  0.058820  \n",
       "Yusuf Can                            0.058820  0.058820  0.058820  \n",
       "reis                                 0.058820  0.058820  0.058820  \n",
       "reis: Iki opsiyon var                0.058820  0.058820  0.058820  \n",
       "reis: konular                        0.058820  0.058820  0.058820  \n",
       "reis: ucuncusu de Lineer Regression  0.058820  0.058820  0.058820  \n",
       "Ömer Esin Yıldız                     0.058820  0.058820  0.058820  \n",
       "İbrahim Halil Kaplan                 0.058820  0.058820  0.058820  \n",
       "‪Engin‬                              0.058820  0.058820  0.058820  \n",
       "\n",
       "[17 rows x 2737 columns]"
      ]
     },
     "execution_count": 429,
     "metadata": {},
     "output_type": "execute_result"
    }
   ],
   "source": [
    "pd.DataFrame(X.toarray(), index=data.index).rename(columns={v:k for k, v in vectorizer.vocabulary_.items()}) \\\n",
    "    .assign(sender=data['sender']).groupby('sender').sum().__add__(1000).apply(lambda x: x / x.sum(), axis=0)"
   ]
  },
  {
   "cell_type": "markdown",
   "id": "c5c322db",
   "metadata": {},
   "source": [
    "\"Feature\"lar bilgi verici ozelliklerini kaybetmeye basladi."
   ]
  },
  {
   "cell_type": "code",
   "execution_count": 73,
   "id": "1b31bc3b",
   "metadata": {},
   "outputs": [
    {
     "data": {
      "text/plain": [
       "10da         1\n",
       "akşam        1\n",
       "cumartesi    1\n",
       "dersi        1\n",
       "giriş        1\n",
       "ilk          1\n",
       "learninge    1\n",
       "machine      1\n",
       "vericek      1\n",
       "yapıcak      1\n",
       "üstat        1\n",
       "şükrü        1\n",
       "Name: 2, dtype: int64"
      ]
     },
     "execution_count": 73,
     "metadata": {},
     "output_type": "execute_result"
    }
   ],
   "source": [
    "pd.DataFrame(X.toarray()).rename(columns={v:k for k, v in vectorizer.vocabulary_.items()}).loc[2].loc[lambda x: x==1]"
   ]
  },
  {
   "cell_type": "code",
   "execution_count": null,
   "id": "6353f3eb",
   "metadata": {},
   "outputs": [],
   "source": [
    "P(Ersan | mesaj) = P(mesaj | Ersan) P(Ersan)"
   ]
  },
  {
   "cell_type": "code",
   "execution_count": 457,
   "id": "dc76ba87",
   "metadata": {},
   "outputs": [],
   "source": [
    "duzlemeli_model = naive_bayes.BernoulliNB(alpha=1e-1)"
   ]
  },
  {
   "cell_type": "code",
   "execution_count": 458,
   "id": "61a4bda4",
   "metadata": {},
   "outputs": [
    {
     "data": {
      "text/plain": [
       "BernoulliNB(alpha=0.1)"
      ]
     },
     "execution_count": 458,
     "metadata": {},
     "output_type": "execute_result"
    }
   ],
   "source": [
    "duzlemeli_model.fit(X, data['sender'])"
   ]
  },
  {
   "cell_type": "code",
   "execution_count": 459,
   "id": "094d1b71",
   "metadata": {},
   "outputs": [],
   "source": [
    "duzlemeli_olasiliklar = duzlemeli_model.predict_proba(vectorizer.transform([\"tam zamanında gülmek getirip gitti ❤\"]))[0]"
   ]
  },
  {
   "cell_type": "markdown",
   "id": "41e4503d",
   "metadata": {},
   "source": [
    "0.1 duzleme ile alinan sonuclar ciddi degisiklik gosterdi. Cumlede \"tam\" kelimesi geciyor diye artik %100 Sinan demiyoruz."
   ]
  },
  {
   "cell_type": "code",
   "execution_count": 460,
   "id": "ebb99bdd",
   "metadata": {},
   "outputs": [
    {
     "data": {
      "text/plain": [
       "Sinan Yilmaz                            7.408438e-01\n",
       "Yusuf Can                               1.025093e-01\n",
       "Ersan Yagci                             6.667942e-02\n",
       "Muzaffer Selim Yakasız                  4.909161e-02\n",
       "Ahmet Umit Çalışkan                     2.127406e-02\n",
       "Abdullah Atçılı                         7.201146e-03\n",
       "Emre Kopuz                              6.276602e-03\n",
       "reis                                    2.760513e-03\n",
       "‪Engin‬                                 2.115876e-03\n",
       "Adem Tekinbaş                           9.703893e-04\n",
       "Ömer Esin Yıldız                        2.170271e-04\n",
       "İbrahim Halil Kaplan                    6.023070e-05\n",
       "Talip Akdemir                           1.141241e-14\n",
       "Fethi Bam Bam                           4.233757e-23\n",
       "reis: ucuncusu de Lineer Regression    3.794551e-102\n",
       "reis: Iki opsiyon var                  2.356118e-107\n",
       "reis: konular                          1.770186e-110\n",
       "dtype: float64"
      ]
     },
     "execution_count": 460,
     "metadata": {},
     "output_type": "execute_result"
    }
   ],
   "source": [
    "pd.Series(duzlemeli_olasiliklar,\n",
    "         index=duzlemeli_model.classes_).sort_values(ascending=False)"
   ]
  },
  {
   "cell_type": "markdown",
   "id": "9123db36",
   "metadata": {},
   "source": [
    "Biraz daha duzleme ile daha dramatik sonuclar aliyoruz:"
   ]
  },
  {
   "cell_type": "code",
   "execution_count": 475,
   "id": "34e4842b",
   "metadata": {},
   "outputs": [],
   "source": [
    "duzlemeli_model = naive_bayes.BernoulliNB(alpha=1.)"
   ]
  },
  {
   "cell_type": "code",
   "execution_count": 476,
   "id": "506d64e2",
   "metadata": {},
   "outputs": [
    {
     "data": {
      "text/plain": [
       "BernoulliNB()"
      ]
     },
     "execution_count": 476,
     "metadata": {},
     "output_type": "execute_result"
    }
   ],
   "source": [
    "duzlemeli_model.fit(X, data['sender'])"
   ]
  },
  {
   "cell_type": "code",
   "execution_count": 477,
   "id": "b4160d50",
   "metadata": {},
   "outputs": [],
   "source": [
    "duzlemeli_olasiliklar = duzlemeli_model.predict_proba(vectorizer.transform([\"tam zamanında gülmek getirip gitti ❤\"]))[0]"
   ]
  },
  {
   "cell_type": "markdown",
   "id": "68b63aed",
   "metadata": {},
   "source": [
    "0.1 duzleme ile alinan sonuclar ciddi degisiklik gosterdi. Cumlede \"tam\" kelimesi geciyor diye artik %100 Sinan demiyoruz."
   ]
  },
  {
   "cell_type": "code",
   "execution_count": 478,
   "id": "ac0b6b3b",
   "metadata": {},
   "outputs": [
    {
     "data": {
      "text/plain": [
       "Ahmet Umit Çalışkan                     9.822266e-01\n",
       "Abdullah Atçılı                         1.633059e-02\n",
       "Muzaffer Selim Yakasız                  1.375381e-03\n",
       "reis                                    5.940648e-05\n",
       "Ersan Yagci                             7.524454e-06\n",
       "Yusuf Can                               5.252875e-07\n",
       "Emre Kopuz                              2.440761e-11\n",
       "Sinan Yilmaz                            9.883917e-12\n",
       "‪Engin‬                                 9.278414e-16\n",
       "Ömer Esin Yıldız                        2.100927e-16\n",
       "Adem Tekinbaş                           2.702034e-22\n",
       "İbrahim Halil Kaplan                    9.476172e-36\n",
       "Talip Akdemir                          9.808826e-119\n",
       "Fethi Bam Bam                          1.327570e-176\n",
       "reis: Iki opsiyon var                   0.000000e+00\n",
       "reis: konular                           0.000000e+00\n",
       "reis: ucuncusu de Lineer Regression     0.000000e+00\n",
       "dtype: float64"
      ]
     },
     "execution_count": 478,
     "metadata": {},
     "output_type": "execute_result"
    }
   ],
   "source": [
    "pd.Series(duzlemeli_olasiliklar,\n",
    "         index=duzlemeli_model.classes_).sort_values(ascending=False)"
   ]
  },
  {
   "cell_type": "markdown",
   "id": "02cb25f3",
   "metadata": {},
   "source": [
    "Peki, frekanslarda Sinan'in ciddi avantaji olmasina ragmen nasil bu sonucu aldik?\n",
    "\n",
    "**Prior**"
   ]
  },
  {
   "cell_type": "markdown",
   "id": "267d5af2",
   "metadata": {},
   "source": [
    "Asiri duzleme, feature'larin ayirt edici gucunu yok etti ve kararimizda **prior**larin ciddi etkisini goruyoruz (Sinan genelde cok az, Ahmet Umit ise cok fazla mesaj atiyor - mesaj icerigine bakmaksizin.)"
   ]
  },
  {
   "cell_type": "markdown",
   "id": "b04c882a",
   "metadata": {},
   "source": [
    "**Uniform prior** durumunda - mesaj icerigine bakmaksizin herhangi birine ait olma olasiliklari esit olsaydi modelimizin kararlari ne olacakti?"
   ]
  },
  {
   "cell_type": "code",
   "execution_count": 480,
   "id": "b47e7407",
   "metadata": {},
   "outputs": [
    {
     "data": {
      "text/plain": [
       "Ahmet Umit Çalışkan                     9.769161e-01\n",
       "Abdullah Atçılı                         2.068060e-02\n",
       "Muzaffer Selim Yakasız                  2.286870e-03\n",
       "reis                                    1.003076e-04\n",
       "Ersan Yagci                             1.489951e-05\n",
       "Yusuf Can                               1.204379e-06\n",
       "Emre Kopuz                              7.594809e-11\n",
       "Sinan Yilmaz                            3.261932e-11\n",
       "‪Engin‬                                 3.674521e-15\n",
       "Ömer Esin Yıldız                        8.171703e-16\n",
       "Adem Tekinbaş                           1.435478e-21\n",
       "İbrahim Halil Kaplan                    7.644672e-35\n",
       "Talip Akdemir                          2.670649e-117\n",
       "Fethi Bam Bam                          5.783318e-175\n",
       "reis: Iki opsiyon var                   0.000000e+00\n",
       "reis: konular                           0.000000e+00\n",
       "reis: ucuncusu de Lineer Regression     0.000000e+00\n",
       "dtype: float64"
      ]
     },
     "execution_count": 480,
     "metadata": {},
     "output_type": "execute_result"
    }
   ],
   "source": [
    "uniform_model = naive_bayes.BernoulliNB(alpha=1., fit_prior=False)\n",
    "uniform_model.fit(X, data['sender'])\n",
    "uniform_olasiliklar = uniform_model.predict_proba(vectorizer.transform([\"tam zamanında gülmek getirip gitti ❤\"]))[0]\n",
    "pd.Series(uniform_olasiliklar,\n",
    "         index=uniform_model.classes_).sort_values(ascending=False)"
   ]
  },
  {
   "cell_type": "code",
   "execution_count": 481,
   "id": "cdc5eaca",
   "metadata": {},
   "outputs": [
    {
     "data": {
      "text/plain": [
       "array([0.05882353, 0.05882353, 0.05882353, 0.05882353, 0.05882353,\n",
       "       0.05882353, 0.05882353, 0.05882353, 0.05882353, 0.05882353,\n",
       "       0.05882353, 0.05882353, 0.05882353, 0.05882353, 0.05882353,\n",
       "       0.05882353, 0.05882353])"
      ]
     },
     "execution_count": 481,
     "metadata": {},
     "output_type": "execute_result"
    }
   ],
   "source": [
    "np.exp(uniform_model.class_log_prior_)"
   ]
  },
  {
   "cell_type": "markdown",
   "id": "72a34b41",
   "metadata": {},
   "source": [
    "## Karar dinamikleri"
   ]
  },
  {
   "cell_type": "markdown",
   "id": "0f691480",
   "metadata": {},
   "source": [
    "Uniform prior"
   ]
  },
  {
   "cell_type": "code",
   "execution_count": 495,
   "id": "7a40d17a",
   "metadata": {},
   "outputs": [
    {
     "data": {
      "text/html": [
       "<div>\n",
       "<style scoped>\n",
       "    .dataframe tbody tr th:only-of-type {\n",
       "        vertical-align: middle;\n",
       "    }\n",
       "\n",
       "    .dataframe tbody tr th {\n",
       "        vertical-align: top;\n",
       "    }\n",
       "\n",
       "    .dataframe thead th {\n",
       "        text-align: right;\n",
       "    }\n",
       "</style>\n",
       "<table border=\"1\" class=\"dataframe\">\n",
       "  <thead>\n",
       "    <tr style=\"text-align: right;\">\n",
       "      <th></th>\n",
       "      <th>tam</th>\n",
       "      <th>zamanında</th>\n",
       "      <th>gülmek</th>\n",
       "      <th>getirip</th>\n",
       "      <th>gitti</th>\n",
       "      <th>priors</th>\n",
       "    </tr>\n",
       "  </thead>\n",
       "  <tbody>\n",
       "    <tr>\n",
       "      <th>Abdullah Atçılı</th>\n",
       "      <td>0.005747</td>\n",
       "      <td>NaN</td>\n",
       "      <td>NaN</td>\n",
       "      <td>NaN</td>\n",
       "      <td>0.005747</td>\n",
       "      <td>0.058824</td>\n",
       "    </tr>\n",
       "    <tr>\n",
       "      <th>Adem Tekinbaş</th>\n",
       "      <td>0.023256</td>\n",
       "      <td>NaN</td>\n",
       "      <td>NaN</td>\n",
       "      <td>NaN</td>\n",
       "      <td>0.023256</td>\n",
       "      <td>0.058824</td>\n",
       "    </tr>\n",
       "    <tr>\n",
       "      <th>Ahmet Umit Çalışkan</th>\n",
       "      <td>0.004525</td>\n",
       "      <td>NaN</td>\n",
       "      <td>NaN</td>\n",
       "      <td>NaN</td>\n",
       "      <td>0.004525</td>\n",
       "      <td>0.058824</td>\n",
       "    </tr>\n",
       "    <tr>\n",
       "      <th>Emre Kopuz</th>\n",
       "      <td>0.013889</td>\n",
       "      <td>NaN</td>\n",
       "      <td>NaN</td>\n",
       "      <td>NaN</td>\n",
       "      <td>0.013889</td>\n",
       "      <td>0.058824</td>\n",
       "    </tr>\n",
       "    <tr>\n",
       "      <th>Ersan Yagci</th>\n",
       "      <td>0.035714</td>\n",
       "      <td>NaN</td>\n",
       "      <td>NaN</td>\n",
       "      <td>NaN</td>\n",
       "      <td>0.008929</td>\n",
       "      <td>0.058824</td>\n",
       "    </tr>\n",
       "    <tr>\n",
       "      <th>Fethi Bam Bam</th>\n",
       "      <td>0.142857</td>\n",
       "      <td>NaN</td>\n",
       "      <td>NaN</td>\n",
       "      <td>NaN</td>\n",
       "      <td>0.142857</td>\n",
       "      <td>0.058824</td>\n",
       "    </tr>\n",
       "    <tr>\n",
       "      <th>Muzaffer Selim Yakasız</th>\n",
       "      <td>0.007519</td>\n",
       "      <td>NaN</td>\n",
       "      <td>NaN</td>\n",
       "      <td>NaN</td>\n",
       "      <td>0.007519</td>\n",
       "      <td>0.058824</td>\n",
       "    </tr>\n",
       "    <tr>\n",
       "      <th>Sinan Yilmaz</th>\n",
       "      <td>0.044118</td>\n",
       "      <td>NaN</td>\n",
       "      <td>NaN</td>\n",
       "      <td>NaN</td>\n",
       "      <td>0.029412</td>\n",
       "      <td>0.058824</td>\n",
       "    </tr>\n",
       "    <tr>\n",
       "      <th>Talip Akdemir</th>\n",
       "      <td>0.100000</td>\n",
       "      <td>NaN</td>\n",
       "      <td>NaN</td>\n",
       "      <td>NaN</td>\n",
       "      <td>0.100000</td>\n",
       "      <td>0.058824</td>\n",
       "    </tr>\n",
       "    <tr>\n",
       "      <th>Yusuf Can</th>\n",
       "      <td>0.020619</td>\n",
       "      <td>NaN</td>\n",
       "      <td>NaN</td>\n",
       "      <td>NaN</td>\n",
       "      <td>0.010309</td>\n",
       "      <td>0.058824</td>\n",
       "    </tr>\n",
       "    <tr>\n",
       "      <th>reis</th>\n",
       "      <td>0.007634</td>\n",
       "      <td>NaN</td>\n",
       "      <td>NaN</td>\n",
       "      <td>NaN</td>\n",
       "      <td>0.007634</td>\n",
       "      <td>0.058824</td>\n",
       "    </tr>\n",
       "    <tr>\n",
       "      <th>reis: Iki opsiyon var</th>\n",
       "      <td>0.333333</td>\n",
       "      <td>NaN</td>\n",
       "      <td>NaN</td>\n",
       "      <td>NaN</td>\n",
       "      <td>0.333333</td>\n",
       "      <td>0.058824</td>\n",
       "    </tr>\n",
       "    <tr>\n",
       "      <th>reis: konular</th>\n",
       "      <td>0.333333</td>\n",
       "      <td>NaN</td>\n",
       "      <td>NaN</td>\n",
       "      <td>NaN</td>\n",
       "      <td>0.333333</td>\n",
       "      <td>0.058824</td>\n",
       "    </tr>\n",
       "    <tr>\n",
       "      <th>reis: ucuncusu de Lineer Regression</th>\n",
       "      <td>0.333333</td>\n",
       "      <td>NaN</td>\n",
       "      <td>NaN</td>\n",
       "      <td>NaN</td>\n",
       "      <td>0.333333</td>\n",
       "      <td>0.058824</td>\n",
       "    </tr>\n",
       "    <tr>\n",
       "      <th>Ömer Esin Yıldız</th>\n",
       "      <td>0.017241</td>\n",
       "      <td>NaN</td>\n",
       "      <td>NaN</td>\n",
       "      <td>NaN</td>\n",
       "      <td>0.017241</td>\n",
       "      <td>0.058824</td>\n",
       "    </tr>\n",
       "    <tr>\n",
       "      <th>İbrahim Halil Kaplan</th>\n",
       "      <td>0.034483</td>\n",
       "      <td>NaN</td>\n",
       "      <td>NaN</td>\n",
       "      <td>NaN</td>\n",
       "      <td>0.034483</td>\n",
       "      <td>0.058824</td>\n",
       "    </tr>\n",
       "    <tr>\n",
       "      <th>‪Engin‬</th>\n",
       "      <td>0.017544</td>\n",
       "      <td>NaN</td>\n",
       "      <td>NaN</td>\n",
       "      <td>NaN</td>\n",
       "      <td>0.017544</td>\n",
       "      <td>0.058824</td>\n",
       "    </tr>\n",
       "  </tbody>\n",
       "</table>\n",
       "</div>"
      ],
      "text/plain": [
       "                                          tam  zamanında  gülmek  getirip  \\\n",
       "Abdullah Atçılı                      0.005747        NaN     NaN      NaN   \n",
       "Adem Tekinbaş                        0.023256        NaN     NaN      NaN   \n",
       "Ahmet Umit Çalışkan                  0.004525        NaN     NaN      NaN   \n",
       "Emre Kopuz                           0.013889        NaN     NaN      NaN   \n",
       "Ersan Yagci                          0.035714        NaN     NaN      NaN   \n",
       "Fethi Bam Bam                        0.142857        NaN     NaN      NaN   \n",
       "Muzaffer Selim Yakasız               0.007519        NaN     NaN      NaN   \n",
       "Sinan Yilmaz                         0.044118        NaN     NaN      NaN   \n",
       "Talip Akdemir                        0.100000        NaN     NaN      NaN   \n",
       "Yusuf Can                            0.020619        NaN     NaN      NaN   \n",
       "reis                                 0.007634        NaN     NaN      NaN   \n",
       "reis: Iki opsiyon var                0.333333        NaN     NaN      NaN   \n",
       "reis: konular                        0.333333        NaN     NaN      NaN   \n",
       "reis: ucuncusu de Lineer Regression  0.333333        NaN     NaN      NaN   \n",
       "Ömer Esin Yıldız                     0.017241        NaN     NaN      NaN   \n",
       "İbrahim Halil Kaplan                 0.034483        NaN     NaN      NaN   \n",
       "‪Engin‬                              0.017544        NaN     NaN      NaN   \n",
       "\n",
       "                                        gitti    priors  \n",
       "Abdullah Atçılı                      0.005747  0.058824  \n",
       "Adem Tekinbaş                        0.023256  0.058824  \n",
       "Ahmet Umit Çalışkan                  0.004525  0.058824  \n",
       "Emre Kopuz                           0.013889  0.058824  \n",
       "Ersan Yagci                          0.008929  0.058824  \n",
       "Fethi Bam Bam                        0.142857  0.058824  \n",
       "Muzaffer Selim Yakasız               0.007519  0.058824  \n",
       "Sinan Yilmaz                         0.029412  0.058824  \n",
       "Talip Akdemir                        0.100000  0.058824  \n",
       "Yusuf Can                            0.010309  0.058824  \n",
       "reis                                 0.007634  0.058824  \n",
       "reis: Iki opsiyon var                0.333333  0.058824  \n",
       "reis: konular                        0.333333  0.058824  \n",
       "reis: ucuncusu de Lineer Regression  0.333333  0.058824  \n",
       "Ömer Esin Yıldız                     0.017241  0.058824  \n",
       "İbrahim Halil Kaplan                 0.034483  0.058824  \n",
       "‪Engin‬                              0.017544  0.058824  "
      ]
     },
     "execution_count": 495,
     "metadata": {},
     "output_type": "execute_result"
    }
   ],
   "source": [
    "pd.DataFrame(uniform_model.feature_log_prob_,\n",
    "            index=uniform_model.classes_,\n",
    "            ).rename(columns={v: k for k, v in vectorizer.vocabulary_.items()}) \\\n",
    "    .reindex(['tam', 'zamanında', 'gülmek', 'getirip', 'gitti'], axis=1).pipe(np.exp) \\\n",
    "    .assign(priors=np.exp(uniform_model.class_log_prior_))"
   ]
  },
  {
   "cell_type": "markdown",
   "id": "0fc43ca4",
   "metadata": {},
   "source": [
    "Prior'lar veriden hesaplandiginda"
   ]
  },
  {
   "cell_type": "code",
   "execution_count": 501,
   "id": "d7883ac5",
   "metadata": {},
   "outputs": [
    {
     "data": {
      "text/html": [
       "<div>\n",
       "<style scoped>\n",
       "    .dataframe tbody tr th:only-of-type {\n",
       "        vertical-align: middle;\n",
       "    }\n",
       "\n",
       "    .dataframe tbody tr th {\n",
       "        vertical-align: top;\n",
       "    }\n",
       "\n",
       "    .dataframe thead th {\n",
       "        text-align: right;\n",
       "    }\n",
       "</style>\n",
       "<table border=\"1\" class=\"dataframe\">\n",
       "  <thead>\n",
       "    <tr style=\"text-align: right;\">\n",
       "      <th></th>\n",
       "      <th>tam</th>\n",
       "      <th>zamanında</th>\n",
       "      <th>gülmek</th>\n",
       "      <th>getirip</th>\n",
       "      <th>gitti</th>\n",
       "      <th>❤</th>\n",
       "      <th>priors</th>\n",
       "    </tr>\n",
       "  </thead>\n",
       "  <tbody>\n",
       "    <tr>\n",
       "      <th>Abdullah Atçılı</th>\n",
       "      <td>0.005747</td>\n",
       "      <td>NaN</td>\n",
       "      <td>NaN</td>\n",
       "      <td>NaN</td>\n",
       "      <td>0.005747</td>\n",
       "      <td>NaN</td>\n",
       "      <td>0.144903</td>\n",
       "    </tr>\n",
       "    <tr>\n",
       "      <th>Adem Tekinbaş</th>\n",
       "      <td>0.023256</td>\n",
       "      <td>NaN</td>\n",
       "      <td>NaN</td>\n",
       "      <td>NaN</td>\n",
       "      <td>0.023256</td>\n",
       "      <td>NaN</td>\n",
       "      <td>0.034541</td>\n",
       "    </tr>\n",
       "    <tr>\n",
       "      <th>Ahmet Umit Çalışkan</th>\n",
       "      <td>0.004525</td>\n",
       "      <td>NaN</td>\n",
       "      <td>NaN</td>\n",
       "      <td>NaN</td>\n",
       "      <td>0.004525</td>\n",
       "      <td>NaN</td>\n",
       "      <td>0.184499</td>\n",
       "    </tr>\n",
       "    <tr>\n",
       "      <th>Emre Kopuz</th>\n",
       "      <td>0.013889</td>\n",
       "      <td>NaN</td>\n",
       "      <td>NaN</td>\n",
       "      <td>NaN</td>\n",
       "      <td>0.013889</td>\n",
       "      <td>NaN</td>\n",
       "      <td>0.058972</td>\n",
       "    </tr>\n",
       "    <tr>\n",
       "      <th>Ersan Yagci</th>\n",
       "      <td>0.035714</td>\n",
       "      <td>NaN</td>\n",
       "      <td>NaN</td>\n",
       "      <td>NaN</td>\n",
       "      <td>0.008929</td>\n",
       "      <td>NaN</td>\n",
       "      <td>0.092671</td>\n",
       "    </tr>\n",
       "    <tr>\n",
       "      <th>Fethi Bam Bam</th>\n",
       "      <td>0.142857</td>\n",
       "      <td>NaN</td>\n",
       "      <td>NaN</td>\n",
       "      <td>NaN</td>\n",
       "      <td>0.142857</td>\n",
       "      <td>NaN</td>\n",
       "      <td>0.004212</td>\n",
       "    </tr>\n",
       "    <tr>\n",
       "      <th>Muzaffer Selim Yakasız</th>\n",
       "      <td>0.007519</td>\n",
       "      <td>NaN</td>\n",
       "      <td>NaN</td>\n",
       "      <td>NaN</td>\n",
       "      <td>0.007519</td>\n",
       "      <td>NaN</td>\n",
       "      <td>0.110362</td>\n",
       "    </tr>\n",
       "    <tr>\n",
       "      <th>Sinan Yilmaz</th>\n",
       "      <td>0.044118</td>\n",
       "      <td>NaN</td>\n",
       "      <td>NaN</td>\n",
       "      <td>NaN</td>\n",
       "      <td>0.029412</td>\n",
       "      <td>NaN</td>\n",
       "      <td>0.055602</td>\n",
       "    </tr>\n",
       "    <tr>\n",
       "      <th>Talip Akdemir</th>\n",
       "      <td>0.100000</td>\n",
       "      <td>NaN</td>\n",
       "      <td>NaN</td>\n",
       "      <td>NaN</td>\n",
       "      <td>0.100000</td>\n",
       "      <td>NaN</td>\n",
       "      <td>0.006740</td>\n",
       "    </tr>\n",
       "    <tr>\n",
       "      <th>Yusuf Can</th>\n",
       "      <td>0.020619</td>\n",
       "      <td>NaN</td>\n",
       "      <td>NaN</td>\n",
       "      <td>NaN</td>\n",
       "      <td>0.010309</td>\n",
       "      <td>NaN</td>\n",
       "      <td>0.080034</td>\n",
       "    </tr>\n",
       "    <tr>\n",
       "      <th>reis</th>\n",
       "      <td>0.007634</td>\n",
       "      <td>NaN</td>\n",
       "      <td>NaN</td>\n",
       "      <td>NaN</td>\n",
       "      <td>0.007634</td>\n",
       "      <td>NaN</td>\n",
       "      <td>0.108677</td>\n",
       "    </tr>\n",
       "    <tr>\n",
       "      <th>reis: Iki opsiyon var</th>\n",
       "      <td>0.333333</td>\n",
       "      <td>NaN</td>\n",
       "      <td>NaN</td>\n",
       "      <td>NaN</td>\n",
       "      <td>0.333333</td>\n",
       "      <td>NaN</td>\n",
       "      <td>0.000842</td>\n",
       "    </tr>\n",
       "    <tr>\n",
       "      <th>reis: konular</th>\n",
       "      <td>0.333333</td>\n",
       "      <td>NaN</td>\n",
       "      <td>NaN</td>\n",
       "      <td>NaN</td>\n",
       "      <td>0.333333</td>\n",
       "      <td>NaN</td>\n",
       "      <td>0.000842</td>\n",
       "    </tr>\n",
       "    <tr>\n",
       "      <th>reis: ucuncusu de Lineer Regression</th>\n",
       "      <td>0.333333</td>\n",
       "      <td>NaN</td>\n",
       "      <td>NaN</td>\n",
       "      <td>NaN</td>\n",
       "      <td>0.333333</td>\n",
       "      <td>NaN</td>\n",
       "      <td>0.000842</td>\n",
       "    </tr>\n",
       "    <tr>\n",
       "      <th>Ömer Esin Yıldız</th>\n",
       "      <td>0.017241</td>\n",
       "      <td>NaN</td>\n",
       "      <td>NaN</td>\n",
       "      <td>NaN</td>\n",
       "      <td>0.017241</td>\n",
       "      <td>NaN</td>\n",
       "      <td>0.047178</td>\n",
       "    </tr>\n",
       "    <tr>\n",
       "      <th>İbrahim Halil Kaplan</th>\n",
       "      <td>0.034483</td>\n",
       "      <td>NaN</td>\n",
       "      <td>NaN</td>\n",
       "      <td>NaN</td>\n",
       "      <td>0.034483</td>\n",
       "      <td>NaN</td>\n",
       "      <td>0.022746</td>\n",
       "    </tr>\n",
       "    <tr>\n",
       "      <th>‪Engin‬</th>\n",
       "      <td>0.017544</td>\n",
       "      <td>NaN</td>\n",
       "      <td>NaN</td>\n",
       "      <td>NaN</td>\n",
       "      <td>0.017544</td>\n",
       "      <td>NaN</td>\n",
       "      <td>0.046335</td>\n",
       "    </tr>\n",
       "  </tbody>\n",
       "</table>\n",
       "</div>"
      ],
      "text/plain": [
       "                                          tam  zamanında  gülmek  getirip  \\\n",
       "Abdullah Atçılı                      0.005747        NaN     NaN      NaN   \n",
       "Adem Tekinbaş                        0.023256        NaN     NaN      NaN   \n",
       "Ahmet Umit Çalışkan                  0.004525        NaN     NaN      NaN   \n",
       "Emre Kopuz                           0.013889        NaN     NaN      NaN   \n",
       "Ersan Yagci                          0.035714        NaN     NaN      NaN   \n",
       "Fethi Bam Bam                        0.142857        NaN     NaN      NaN   \n",
       "Muzaffer Selim Yakasız               0.007519        NaN     NaN      NaN   \n",
       "Sinan Yilmaz                         0.044118        NaN     NaN      NaN   \n",
       "Talip Akdemir                        0.100000        NaN     NaN      NaN   \n",
       "Yusuf Can                            0.020619        NaN     NaN      NaN   \n",
       "reis                                 0.007634        NaN     NaN      NaN   \n",
       "reis: Iki opsiyon var                0.333333        NaN     NaN      NaN   \n",
       "reis: konular                        0.333333        NaN     NaN      NaN   \n",
       "reis: ucuncusu de Lineer Regression  0.333333        NaN     NaN      NaN   \n",
       "Ömer Esin Yıldız                     0.017241        NaN     NaN      NaN   \n",
       "İbrahim Halil Kaplan                 0.034483        NaN     NaN      NaN   \n",
       "‪Engin‬                              0.017544        NaN     NaN      NaN   \n",
       "\n",
       "                                        gitti   ❤    priors  \n",
       "Abdullah Atçılı                      0.005747 NaN  0.144903  \n",
       "Adem Tekinbaş                        0.023256 NaN  0.034541  \n",
       "Ahmet Umit Çalışkan                  0.004525 NaN  0.184499  \n",
       "Emre Kopuz                           0.013889 NaN  0.058972  \n",
       "Ersan Yagci                          0.008929 NaN  0.092671  \n",
       "Fethi Bam Bam                        0.142857 NaN  0.004212  \n",
       "Muzaffer Selim Yakasız               0.007519 NaN  0.110362  \n",
       "Sinan Yilmaz                         0.029412 NaN  0.055602  \n",
       "Talip Akdemir                        0.100000 NaN  0.006740  \n",
       "Yusuf Can                            0.010309 NaN  0.080034  \n",
       "reis                                 0.007634 NaN  0.108677  \n",
       "reis: Iki opsiyon var                0.333333 NaN  0.000842  \n",
       "reis: konular                        0.333333 NaN  0.000842  \n",
       "reis: ucuncusu de Lineer Regression  0.333333 NaN  0.000842  \n",
       "Ömer Esin Yıldız                     0.017241 NaN  0.047178  \n",
       "İbrahim Halil Kaplan                 0.034483 NaN  0.022746  \n",
       "‪Engin‬                              0.017544 NaN  0.046335  "
      ]
     },
     "execution_count": 501,
     "metadata": {},
     "output_type": "execute_result"
    }
   ],
   "source": [
    "pd.DataFrame(duzlemeli_model.feature_log_prob_,\n",
    "            index=duzlemeli_model.classes_,\n",
    "            ).rename(columns={v: k for k, v in vectorizer.vocabulary_.items()}) \\\n",
    "    .reindex(['tam', 'zamanında', 'gülmek', 'getirip', 'gitti', '❤'], axis=1).pipe(np.exp) \\\n",
    "    .assign(priors=np.exp(duzlemeli_model.class_log_prior_))"
   ]
  },
  {
   "cell_type": "markdown",
   "id": "09ac638c",
   "metadata": {},
   "source": [
    "Duzleme olmadan"
   ]
  },
  {
   "cell_type": "code",
   "execution_count": 503,
   "id": "c6d837e9",
   "metadata": {},
   "outputs": [
    {
     "data": {
      "text/html": [
       "<div>\n",
       "<style scoped>\n",
       "    .dataframe tbody tr th:only-of-type {\n",
       "        vertical-align: middle;\n",
       "    }\n",
       "\n",
       "    .dataframe tbody tr th {\n",
       "        vertical-align: top;\n",
       "    }\n",
       "\n",
       "    .dataframe thead th {\n",
       "        text-align: right;\n",
       "    }\n",
       "</style>\n",
       "<table border=\"1\" class=\"dataframe\">\n",
       "  <thead>\n",
       "    <tr style=\"text-align: right;\">\n",
       "      <th></th>\n",
       "      <th>tam</th>\n",
       "      <th>zamanında</th>\n",
       "      <th>gülmek</th>\n",
       "      <th>getirip</th>\n",
       "      <th>gitti</th>\n",
       "      <th>❤</th>\n",
       "      <th>priors</th>\n",
       "    </tr>\n",
       "  </thead>\n",
       "  <tbody>\n",
       "    <tr>\n",
       "      <th>Abdullah Atçılı</th>\n",
       "      <td>5.813953e-13</td>\n",
       "      <td>NaN</td>\n",
       "      <td>NaN</td>\n",
       "      <td>NaN</td>\n",
       "      <td>5.813953e-13</td>\n",
       "      <td>NaN</td>\n",
       "      <td>0.144903</td>\n",
       "    </tr>\n",
       "    <tr>\n",
       "      <th>Adem Tekinbaş</th>\n",
       "      <td>2.439024e-12</td>\n",
       "      <td>NaN</td>\n",
       "      <td>NaN</td>\n",
       "      <td>NaN</td>\n",
       "      <td>2.439024e-12</td>\n",
       "      <td>NaN</td>\n",
       "      <td>0.034541</td>\n",
       "    </tr>\n",
       "    <tr>\n",
       "      <th>Ahmet Umit Çalışkan</th>\n",
       "      <td>4.566210e-13</td>\n",
       "      <td>NaN</td>\n",
       "      <td>NaN</td>\n",
       "      <td>NaN</td>\n",
       "      <td>4.566210e-13</td>\n",
       "      <td>NaN</td>\n",
       "      <td>0.184499</td>\n",
       "    </tr>\n",
       "    <tr>\n",
       "      <th>Emre Kopuz</th>\n",
       "      <td>1.428571e-12</td>\n",
       "      <td>NaN</td>\n",
       "      <td>NaN</td>\n",
       "      <td>NaN</td>\n",
       "      <td>1.428571e-12</td>\n",
       "      <td>NaN</td>\n",
       "      <td>0.058972</td>\n",
       "    </tr>\n",
       "    <tr>\n",
       "      <th>Ersan Yagci</th>\n",
       "      <td>2.727273e-02</td>\n",
       "      <td>NaN</td>\n",
       "      <td>NaN</td>\n",
       "      <td>NaN</td>\n",
       "      <td>9.090909e-13</td>\n",
       "      <td>NaN</td>\n",
       "      <td>0.092671</td>\n",
       "    </tr>\n",
       "    <tr>\n",
       "      <th>Fethi Bam Bam</th>\n",
       "      <td>2.000000e-11</td>\n",
       "      <td>NaN</td>\n",
       "      <td>NaN</td>\n",
       "      <td>NaN</td>\n",
       "      <td>2.000000e-11</td>\n",
       "      <td>NaN</td>\n",
       "      <td>0.004212</td>\n",
       "    </tr>\n",
       "    <tr>\n",
       "      <th>Muzaffer Selim Yakasız</th>\n",
       "      <td>7.633588e-13</td>\n",
       "      <td>NaN</td>\n",
       "      <td>NaN</td>\n",
       "      <td>NaN</td>\n",
       "      <td>7.633588e-13</td>\n",
       "      <td>NaN</td>\n",
       "      <td>0.110362</td>\n",
       "    </tr>\n",
       "    <tr>\n",
       "      <th>Sinan Yilmaz</th>\n",
       "      <td>3.030303e-02</td>\n",
       "      <td>NaN</td>\n",
       "      <td>NaN</td>\n",
       "      <td>NaN</td>\n",
       "      <td>1.515152e-02</td>\n",
       "      <td>NaN</td>\n",
       "      <td>0.055602</td>\n",
       "    </tr>\n",
       "    <tr>\n",
       "      <th>Talip Akdemir</th>\n",
       "      <td>1.250000e-11</td>\n",
       "      <td>NaN</td>\n",
       "      <td>NaN</td>\n",
       "      <td>NaN</td>\n",
       "      <td>1.250000e-11</td>\n",
       "      <td>NaN</td>\n",
       "      <td>0.006740</td>\n",
       "    </tr>\n",
       "    <tr>\n",
       "      <th>Yusuf Can</th>\n",
       "      <td>1.052632e-02</td>\n",
       "      <td>NaN</td>\n",
       "      <td>NaN</td>\n",
       "      <td>NaN</td>\n",
       "      <td>1.052632e-12</td>\n",
       "      <td>NaN</td>\n",
       "      <td>0.080034</td>\n",
       "    </tr>\n",
       "    <tr>\n",
       "      <th>reis</th>\n",
       "      <td>7.751938e-13</td>\n",
       "      <td>NaN</td>\n",
       "      <td>NaN</td>\n",
       "      <td>NaN</td>\n",
       "      <td>7.751938e-13</td>\n",
       "      <td>NaN</td>\n",
       "      <td>0.108677</td>\n",
       "    </tr>\n",
       "    <tr>\n",
       "      <th>reis: Iki opsiyon var</th>\n",
       "      <td>1.000000e-10</td>\n",
       "      <td>NaN</td>\n",
       "      <td>NaN</td>\n",
       "      <td>NaN</td>\n",
       "      <td>1.000000e-10</td>\n",
       "      <td>NaN</td>\n",
       "      <td>0.000842</td>\n",
       "    </tr>\n",
       "    <tr>\n",
       "      <th>reis: konular</th>\n",
       "      <td>1.000000e-10</td>\n",
       "      <td>NaN</td>\n",
       "      <td>NaN</td>\n",
       "      <td>NaN</td>\n",
       "      <td>1.000000e-10</td>\n",
       "      <td>NaN</td>\n",
       "      <td>0.000842</td>\n",
       "    </tr>\n",
       "    <tr>\n",
       "      <th>reis: ucuncusu de Lineer Regression</th>\n",
       "      <td>1.000000e-10</td>\n",
       "      <td>NaN</td>\n",
       "      <td>NaN</td>\n",
       "      <td>NaN</td>\n",
       "      <td>1.000000e-10</td>\n",
       "      <td>NaN</td>\n",
       "      <td>0.000842</td>\n",
       "    </tr>\n",
       "    <tr>\n",
       "      <th>Ömer Esin Yıldız</th>\n",
       "      <td>1.785714e-12</td>\n",
       "      <td>NaN</td>\n",
       "      <td>NaN</td>\n",
       "      <td>NaN</td>\n",
       "      <td>1.785714e-12</td>\n",
       "      <td>NaN</td>\n",
       "      <td>0.047178</td>\n",
       "    </tr>\n",
       "    <tr>\n",
       "      <th>İbrahim Halil Kaplan</th>\n",
       "      <td>3.703704e-12</td>\n",
       "      <td>NaN</td>\n",
       "      <td>NaN</td>\n",
       "      <td>NaN</td>\n",
       "      <td>3.703704e-12</td>\n",
       "      <td>NaN</td>\n",
       "      <td>0.022746</td>\n",
       "    </tr>\n",
       "    <tr>\n",
       "      <th>‪Engin‬</th>\n",
       "      <td>1.818182e-12</td>\n",
       "      <td>NaN</td>\n",
       "      <td>NaN</td>\n",
       "      <td>NaN</td>\n",
       "      <td>1.818182e-12</td>\n",
       "      <td>NaN</td>\n",
       "      <td>0.046335</td>\n",
       "    </tr>\n",
       "  </tbody>\n",
       "</table>\n",
       "</div>"
      ],
      "text/plain": [
       "                                              tam  zamanında  gülmek  getirip  \\\n",
       "Abdullah Atçılı                      5.813953e-13        NaN     NaN      NaN   \n",
       "Adem Tekinbaş                        2.439024e-12        NaN     NaN      NaN   \n",
       "Ahmet Umit Çalışkan                  4.566210e-13        NaN     NaN      NaN   \n",
       "Emre Kopuz                           1.428571e-12        NaN     NaN      NaN   \n",
       "Ersan Yagci                          2.727273e-02        NaN     NaN      NaN   \n",
       "Fethi Bam Bam                        2.000000e-11        NaN     NaN      NaN   \n",
       "Muzaffer Selim Yakasız               7.633588e-13        NaN     NaN      NaN   \n",
       "Sinan Yilmaz                         3.030303e-02        NaN     NaN      NaN   \n",
       "Talip Akdemir                        1.250000e-11        NaN     NaN      NaN   \n",
       "Yusuf Can                            1.052632e-02        NaN     NaN      NaN   \n",
       "reis                                 7.751938e-13        NaN     NaN      NaN   \n",
       "reis: Iki opsiyon var                1.000000e-10        NaN     NaN      NaN   \n",
       "reis: konular                        1.000000e-10        NaN     NaN      NaN   \n",
       "reis: ucuncusu de Lineer Regression  1.000000e-10        NaN     NaN      NaN   \n",
       "Ömer Esin Yıldız                     1.785714e-12        NaN     NaN      NaN   \n",
       "İbrahim Halil Kaplan                 3.703704e-12        NaN     NaN      NaN   \n",
       "‪Engin‬                              1.818182e-12        NaN     NaN      NaN   \n",
       "\n",
       "                                            gitti   ❤    priors  \n",
       "Abdullah Atçılı                      5.813953e-13 NaN  0.144903  \n",
       "Adem Tekinbaş                        2.439024e-12 NaN  0.034541  \n",
       "Ahmet Umit Çalışkan                  4.566210e-13 NaN  0.184499  \n",
       "Emre Kopuz                           1.428571e-12 NaN  0.058972  \n",
       "Ersan Yagci                          9.090909e-13 NaN  0.092671  \n",
       "Fethi Bam Bam                        2.000000e-11 NaN  0.004212  \n",
       "Muzaffer Selim Yakasız               7.633588e-13 NaN  0.110362  \n",
       "Sinan Yilmaz                         1.515152e-02 NaN  0.055602  \n",
       "Talip Akdemir                        1.250000e-11 NaN  0.006740  \n",
       "Yusuf Can                            1.052632e-12 NaN  0.080034  \n",
       "reis                                 7.751938e-13 NaN  0.108677  \n",
       "reis: Iki opsiyon var                1.000000e-10 NaN  0.000842  \n",
       "reis: konular                        1.000000e-10 NaN  0.000842  \n",
       "reis: ucuncusu de Lineer Regression  1.000000e-10 NaN  0.000842  \n",
       "Ömer Esin Yıldız                     1.785714e-12 NaN  0.047178  \n",
       "İbrahim Halil Kaplan                 3.703704e-12 NaN  0.022746  \n",
       "‪Engin‬                              1.818182e-12 NaN  0.046335  "
      ]
     },
     "execution_count": 503,
     "metadata": {},
     "output_type": "execute_result"
    }
   ],
   "source": [
    "pd.DataFrame(model.feature_log_prob_,\n",
    "            index=duzlemeli_model.classes_,\n",
    "            ).rename(columns={v: k for k, v in vectorizer.vocabulary_.items()}) \\\n",
    "    .reindex(['tam', 'zamanında', 'gülmek', 'getirip', 'gitti', '❤'], axis=1).pipe(np.exp) \\\n",
    "    .assign(priors=np.exp(model.class_log_prior_))"
   ]
  },
  {
   "cell_type": "markdown",
   "id": "401a4a30",
   "metadata": {},
   "source": [
    "## Ikili tasniflendirme"
   ]
  },
  {
   "cell_type": "code",
   "execution_count": 504,
   "id": "06cce5a7",
   "metadata": {},
   "outputs": [
    {
     "data": {
      "text/plain": [
       "0.09267059814658804"
      ]
     },
     "execution_count": 504,
     "metadata": {},
     "output_type": "execute_result"
    }
   ],
   "source": [
    "data['y'].mean()"
   ]
  },
  {
   "cell_type": "code",
   "execution_count": 509,
   "id": "a04b9631",
   "metadata": {},
   "outputs": [
    {
     "name": "stderr",
     "output_type": "stream",
     "text": [
      "C:\\Users\\berk_\\miniconda3\\envs\\cons1\\lib\\site-packages\\sklearn\\naive_bayes.py:555: UserWarning: alpha too small will result in numeric errors, setting alpha = 1.0e-10\n",
      "  warnings.warn(\n"
     ]
    },
    {
     "data": {
      "text/plain": [
       "BernoulliNB(alpha=0)"
      ]
     },
     "execution_count": 509,
     "metadata": {},
     "output_type": "execute_result"
    }
   ],
   "source": [
    "model.fit(X, y)"
   ]
  },
  {
   "cell_type": "code",
   "execution_count": 510,
   "id": "b949e5a9",
   "metadata": {},
   "outputs": [
    {
     "data": {
      "text/plain": [
       "0.9898904802021904"
      ]
     },
     "execution_count": 510,
     "metadata": {},
     "output_type": "execute_result"
    }
   ],
   "source": [
    "model.score(X, y)"
   ]
  },
  {
   "cell_type": "markdown",
   "id": "428fd4e6",
   "metadata": {},
   "source": [
    "Duzleme olmaksizin cok yuksek bir egitim skoru aliyoruz. Peki bir capraz dogrulama ile test skorlarini da kontrol edersek ..."
   ]
  },
  {
   "cell_type": "code",
   "execution_count": 515,
   "id": "da3c7592",
   "metadata": {},
   "outputs": [
    {
     "name": "stderr",
     "output_type": "stream",
     "text": [
      "C:\\Users\\berk_\\miniconda3\\envs\\cons1\\lib\\site-packages\\sklearn\\naive_bayes.py:555: UserWarning: alpha too small will result in numeric errors, setting alpha = 1.0e-10\n",
      "  warnings.warn(\n",
      "C:\\Users\\berk_\\miniconda3\\envs\\cons1\\lib\\site-packages\\sklearn\\naive_bayes.py:555: UserWarning: alpha too small will result in numeric errors, setting alpha = 1.0e-10\n",
      "  warnings.warn(\n",
      "C:\\Users\\berk_\\miniconda3\\envs\\cons1\\lib\\site-packages\\sklearn\\naive_bayes.py:555: UserWarning: alpha too small will result in numeric errors, setting alpha = 1.0e-10\n",
      "  warnings.warn(\n",
      "C:\\Users\\berk_\\miniconda3\\envs\\cons1\\lib\\site-packages\\sklearn\\naive_bayes.py:555: UserWarning: alpha too small will result in numeric errors, setting alpha = 1.0e-10\n",
      "  warnings.warn(\n",
      "C:\\Users\\berk_\\miniconda3\\envs\\cons1\\lib\\site-packages\\sklearn\\naive_bayes.py:555: UserWarning: alpha too small will result in numeric errors, setting alpha = 1.0e-10\n",
      "  warnings.warn(\n"
     ]
    },
    {
     "data": {
      "text/plain": [
       "{'fit_time': array([0.00399828, 0.00299883, 0.00299859, 0.00300074, 0.00300241]),\n",
       " 'score_time': array([0.00100112, 0.00199914, 0.00099969, 0.0009985 , 0.00099874]),\n",
       " 'test_score': array([0.72268908, 0.81092437, 0.78059072, 0.7721519 , 0.78059072])}"
      ]
     },
     "execution_count": 515,
     "metadata": {},
     "output_type": "execute_result"
    }
   ],
   "source": [
    "model_selection.cross_validate(model, X, y, cv=5)"
   ]
  },
  {
   "cell_type": "code",
   "execution_count": 518,
   "id": "fc6feeff",
   "metadata": {},
   "outputs": [],
   "source": [
    "model = naive_bayes.BernoulliNB(alpha=1)"
   ]
  },
  {
   "cell_type": "code",
   "execution_count": 519,
   "id": "d7ddbf6b",
   "metadata": {},
   "outputs": [
    {
     "data": {
      "text/plain": [
       "{'fit_time': array([0.00300407, 0.00299978, 0.00299668, 0.00200033, 0.00299931]),\n",
       " 'score_time': array([0.00099635, 0.00100112, 0.        , 0.00099897, 0.        ]),\n",
       " 'test_score': array([0.90756303, 0.89495798, 0.89029536, 0.89451477, 0.89451477])}"
      ]
     },
     "execution_count": 519,
     "metadata": {},
     "output_type": "execute_result"
    }
   ],
   "source": [
    "model_selection.cross_validate(model, X, y, cv=5)"
   ]
  },
  {
   "cell_type": "markdown",
   "id": "c406489f",
   "metadata": {},
   "source": [
    "## Tahmin ornekleri"
   ]
  },
  {
   "cell_type": "code",
   "execution_count": 521,
   "id": "2b79e205",
   "metadata": {},
   "outputs": [
    {
     "data": {
      "text/plain": [
       "BernoulliNB(alpha=1)"
      ]
     },
     "execution_count": 521,
     "metadata": {},
     "output_type": "execute_result"
    }
   ],
   "source": [
    "model.fit(X, y)"
   ]
  },
  {
   "cell_type": "code",
   "execution_count": 522,
   "id": "42457791",
   "metadata": {},
   "outputs": [
    {
     "data": {
      "text/plain": [
       "array([[1.00000000e+00, 4.96203453e-11]])"
      ]
     },
     "execution_count": 522,
     "metadata": {},
     "output_type": "execute_result"
    }
   ],
   "source": [
    "model.predict_proba(vectorizer.transform(['abiler selam']))"
   ]
  },
  {
   "cell_type": "code",
   "execution_count": 523,
   "id": "21b60e2c",
   "metadata": {},
   "outputs": [
    {
     "data": {
      "text/plain": [
       "array([[1.00000000e+00, 5.15234642e-11]])"
      ]
     },
     "execution_count": 523,
     "metadata": {},
     "output_type": "execute_result"
    }
   ],
   "source": [
    "model.predict_proba(vectorizer.transform(['abiler']))"
   ]
  },
  {
   "cell_type": "code",
   "execution_count": 524,
   "id": "0df12072",
   "metadata": {},
   "outputs": [
    {
     "data": {
      "text/plain": [
       "array([[1.00000000e+00, 6.23719424e-12]])"
      ]
     },
     "execution_count": 524,
     "metadata": {},
     "output_type": "execute_result"
    }
   ],
   "source": [
    "model.predict_proba(vectorizer.transform(['knks']))"
   ]
  },
  {
   "cell_type": "code",
   "execution_count": 525,
   "id": "c75231fb",
   "metadata": {},
   "outputs": [
    {
     "data": {
      "text/plain": [
       "array([[1.00000000e+00, 2.62151386e-11]])"
      ]
     },
     "execution_count": 525,
     "metadata": {},
     "output_type": "execute_result"
    }
   ],
   "source": [
    "model.predict_proba(vectorizer.transform(['kanka abiler']))"
   ]
  },
  {
   "cell_type": "markdown",
   "id": "e42d1780",
   "metadata": {},
   "source": [
    "P(feature | kisi)"
   ]
  },
  {
   "cell_type": "code",
   "execution_count": 528,
   "id": "ca88990c",
   "metadata": {},
   "outputs": [],
   "source": [
    "feature_probas = pd.DataFrame(model.feature_log_prob_.T).rename(index={v:k for k, v in vectorizer.vocabulary_.items()})"
   ]
  },
  {
   "cell_type": "code",
   "execution_count": 529,
   "id": "059fbb52",
   "metadata": {},
   "outputs": [
    {
     "data": {
      "text/html": [
       "<div>\n",
       "<style scoped>\n",
       "    .dataframe tbody tr th:only-of-type {\n",
       "        vertical-align: middle;\n",
       "    }\n",
       "\n",
       "    .dataframe tbody tr th {\n",
       "        vertical-align: top;\n",
       "    }\n",
       "\n",
       "    .dataframe thead th {\n",
       "        text-align: right;\n",
       "    }\n",
       "</style>\n",
       "<table border=\"1\" class=\"dataframe\">\n",
       "  <thead>\n",
       "    <tr style=\"text-align: right;\">\n",
       "      <th></th>\n",
       "      <th>0</th>\n",
       "      <th>1</th>\n",
       "    </tr>\n",
       "  </thead>\n",
       "  <tbody>\n",
       "    <tr>\n",
       "      <th>00</th>\n",
       "      <td>-5.374352</td>\n",
       "      <td>-4.718499</td>\n",
       "    </tr>\n",
       "    <tr>\n",
       "      <th>0001</th>\n",
       "      <td>-6.290643</td>\n",
       "      <td>-4.718499</td>\n",
       "    </tr>\n",
       "    <tr>\n",
       "      <th>00da</th>\n",
       "      <td>-5.885178</td>\n",
       "      <td>-4.718499</td>\n",
       "    </tr>\n",
       "    <tr>\n",
       "      <th>01</th>\n",
       "      <td>-5.192030</td>\n",
       "      <td>-4.718499</td>\n",
       "    </tr>\n",
       "    <tr>\n",
       "      <th>0130</th>\n",
       "      <td>-6.290643</td>\n",
       "      <td>-4.718499</td>\n",
       "    </tr>\n",
       "  </tbody>\n",
       "</table>\n",
       "</div>"
      ],
      "text/plain": [
       "             0         1\n",
       "00   -5.374352 -4.718499\n",
       "0001 -6.290643 -4.718499\n",
       "00da -5.885178 -4.718499\n",
       "01   -5.192030 -4.718499\n",
       "0130 -6.290643 -4.718499"
      ]
     },
     "execution_count": 529,
     "metadata": {},
     "output_type": "execute_result"
    }
   ],
   "source": [
    "feature_probas.head()"
   ]
  },
  {
   "cell_type": "code",
   "execution_count": 530,
   "id": "db2fa0c0",
   "metadata": {},
   "outputs": [
    {
     "data": {
      "text/plain": [
       "array([-0.09724972, -2.37870403])"
      ]
     },
     "execution_count": 530,
     "metadata": {},
     "output_type": "execute_result"
    }
   ],
   "source": [
    "model.class_log_prior_"
   ]
  },
  {
   "cell_type": "code",
   "execution_count": 531,
   "id": "3a517cf3",
   "metadata": {},
   "outputs": [],
   "source": [
    "mesaj = 'kanka abiler'"
   ]
  },
  {
   "cell_type": "code",
   "execution_count": 532,
   "id": "54c5a5d1",
   "metadata": {},
   "outputs": [
    {
     "data": {
      "text/plain": [
       "0    0.000487\n",
       "1    0.000207\n",
       "dtype: float64"
      ]
     },
     "execution_count": 532,
     "metadata": {},
     "output_type": "execute_result"
    }
   ],
   "source": [
    "np.exp(feature_probas.loc['kanka'] + feature_probas.loc['abiler'] + model.class_log_prior_)"
   ]
  },
  {
   "cell_type": "code",
   "execution_count": 533,
   "id": "ba396083",
   "metadata": {},
   "outputs": [
    {
     "data": {
      "text/plain": [
       "0    0.000487\n",
       "1    0.000207\n",
       "dtype: float64"
      ]
     },
     "execution_count": 533,
     "metadata": {},
     "output_type": "execute_result"
    }
   ],
   "source": [
    "np.exp(feature_probas.loc['kanka']) * np.exp(feature_probas.loc['abiler']) * np.exp(model.class_log_prior_)"
   ]
  },
  {
   "cell_type": "code",
   "execution_count": 534,
   "id": "04f4bec5",
   "metadata": {},
   "outputs": [
    {
     "data": {
      "text/plain": [
       "0    0.701912\n",
       "1    0.298088\n",
       "dtype: float64"
      ]
     },
     "execution_count": 534,
     "metadata": {},
     "output_type": "execute_result"
    }
   ],
   "source": [
    "(np.exp(feature_probas.loc['kanka']) * np.exp(feature_probas.loc['abiler']) * np.exp(model.class_log_prior_)) \\\n",
    "    .pipe(lambda x: x/x.sum())"
   ]
  },
  {
   "cell_type": "code",
   "execution_count": 535,
   "id": "26531795",
   "metadata": {},
   "outputs": [
    {
     "data": {
      "text/plain": [
       "0    0.473421\n",
       "1    0.526579\n",
       "dtype: float64"
      ]
     },
     "execution_count": 535,
     "metadata": {},
     "output_type": "execute_result"
    }
   ],
   "source": [
    "(feature_probas.loc['kanka'] + feature_probas.loc['abiler'] + model.class_log_prior_).pipe(lambda x: x/x.sum())"
   ]
  },
  {
   "cell_type": "code",
   "execution_count": 536,
   "id": "30935372",
   "metadata": {},
   "outputs": [
    {
     "data": {
      "text/plain": [
       "0.8475147430497051"
      ]
     },
     "execution_count": 536,
     "metadata": {},
     "output_type": "execute_result"
    }
   ],
   "source": [
    "naive_bayes.GaussianNB().fit(X.toarray(), y).score(X.toarray(), y)"
   ]
  },
  {
   "cell_type": "code",
   "execution_count": 537,
   "id": "1baab172",
   "metadata": {},
   "outputs": [
    {
     "data": {
      "text/plain": [
       "0.9696714406065712"
      ]
     },
     "execution_count": 537,
     "metadata": {},
     "output_type": "execute_result"
    }
   ],
   "source": [
    "naive_bayes.MultinomialNB().fit(X, y).score(X, y)"
   ]
  },
  {
   "cell_type": "code",
   "execution_count": 538,
   "id": "d3637228",
   "metadata": {},
   "outputs": [
    {
     "data": {
      "text/plain": [
       "0.8753159224936815"
      ]
     },
     "execution_count": 538,
     "metadata": {},
     "output_type": "execute_result"
    }
   ],
   "source": [
    "naive_bayes.ComplementNB().fit(X, y).score(X, y)"
   ]
  },
  {
   "cell_type": "code",
   "execution_count": 539,
   "id": "6828d3c5",
   "metadata": {},
   "outputs": [],
   "source": [
    "from sklearn import metrics"
   ]
  },
  {
   "cell_type": "code",
   "execution_count": 540,
   "id": "2fac09c1",
   "metadata": {},
   "outputs": [
    {
     "data": {
      "text/plain": [
       "0.875"
      ]
     },
     "execution_count": 540,
     "metadata": {},
     "output_type": "execute_result"
    }
   ],
   "source": [
    "metrics.f1_score(y, naive_bayes.ComplementNB(alpha=1e-4, fit_prior=False).fit(X, y).predict(X))"
   ]
  },
  {
   "cell_type": "code",
   "execution_count": 541,
   "id": "588df704",
   "metadata": {},
   "outputs": [
    {
     "data": {
      "text/plain": [
       "0.5486284289276808"
      ]
     },
     "execution_count": 541,
     "metadata": {},
     "output_type": "execute_result"
    }
   ],
   "source": [
    "metrics.f1_score(y, naive_bayes.GaussianNB(priors=[0.5, 0.5]).fit(X.toarray(), y).predict(X.toarray()))"
   ]
  },
  {
   "cell_type": "code",
   "execution_count": 542,
   "id": "0f29cfda",
   "metadata": {},
   "outputs": [
    {
     "data": {
      "text/plain": [
       "0.9244444444444444"
      ]
     },
     "execution_count": 542,
     "metadata": {},
     "output_type": "execute_result"
    }
   ],
   "source": [
    "metrics.f1_score(y, naive_bayes.BernoulliNB(class_prior=[0.5, 0.5], alpha=1e-4).fit(X.toarray(), y).predict(X.toarray()))"
   ]
  },
  {
   "cell_type": "code",
   "execution_count": 543,
   "id": "0172285b",
   "metadata": {},
   "outputs": [
    {
     "data": {
      "text/plain": [
       "0.8085106382978723"
      ]
     },
     "execution_count": 543,
     "metadata": {},
     "output_type": "execute_result"
    }
   ],
   "source": [
    "metrics.f1_score(y, naive_bayes.MultinomialNB(fit_prior=True).fit(X.toarray(), y).predict(X.toarray()))"
   ]
  },
  {
   "cell_type": "markdown",
   "id": "cff18dfa",
   "metadata": {},
   "source": [
    "log(P(feature | kisi) P(kisi)) = log(P(feature | kisi)) + log(P(kisi))"
   ]
  },
  {
   "cell_type": "markdown",
   "id": "b2bc6979",
   "metadata": {},
   "source": [
    "## Devamli degiskenler?"
   ]
  },
  {
   "cell_type": "code",
   "execution_count": 35,
   "id": "1f2d7f9f",
   "metadata": {},
   "outputs": [],
   "source": [
    "from sklearn import datasets, model_selection, naive_bayes\n",
    "import pandas as pd\n",
    "import numpy as np\n",
    "import matplotlib.pyplot as plt"
   ]
  },
  {
   "cell_type": "code",
   "execution_count": 36,
   "id": "8c2e98b2",
   "metadata": {},
   "outputs": [],
   "source": [
    "data = datasets.load_iris()\n",
    "X = pd.DataFrame(data['data'], columns=data['feature_names'])\n",
    "y = pd.Series(data['target'])\n",
    "\n",
    "X_train, X_test, y_train, y_test = model_selection.train_test_split(\n",
    "    X, y, test_size=0.2)"
   ]
  },
  {
   "cell_type": "code",
   "execution_count": 37,
   "id": "a3362510",
   "metadata": {},
   "outputs": [
    {
     "data": {
      "text/plain": [
       "0    50\n",
       "1    50\n",
       "2    50\n",
       "dtype: int64"
      ]
     },
     "execution_count": 37,
     "metadata": {},
     "output_type": "execute_result"
    }
   ],
   "source": [
    "y.value_counts()"
   ]
  },
  {
   "cell_type": "code",
   "execution_count": 38,
   "id": "8709ac11",
   "metadata": {},
   "outputs": [
    {
     "data": {
      "text/html": [
       "<div>\n",
       "<style scoped>\n",
       "    .dataframe tbody tr th:only-of-type {\n",
       "        vertical-align: middle;\n",
       "    }\n",
       "\n",
       "    .dataframe tbody tr th {\n",
       "        vertical-align: top;\n",
       "    }\n",
       "\n",
       "    .dataframe thead th {\n",
       "        text-align: right;\n",
       "    }\n",
       "</style>\n",
       "<table border=\"1\" class=\"dataframe\">\n",
       "  <thead>\n",
       "    <tr style=\"text-align: right;\">\n",
       "      <th></th>\n",
       "      <th>sepal length (cm)</th>\n",
       "      <th>sepal width (cm)</th>\n",
       "      <th>petal length (cm)</th>\n",
       "      <th>petal width (cm)</th>\n",
       "    </tr>\n",
       "  </thead>\n",
       "  <tbody>\n",
       "    <tr>\n",
       "      <th>99</th>\n",
       "      <td>5.7</td>\n",
       "      <td>2.8</td>\n",
       "      <td>4.1</td>\n",
       "      <td>1.3</td>\n",
       "    </tr>\n",
       "    <tr>\n",
       "      <th>104</th>\n",
       "      <td>6.5</td>\n",
       "      <td>3.0</td>\n",
       "      <td>5.8</td>\n",
       "      <td>2.2</td>\n",
       "    </tr>\n",
       "    <tr>\n",
       "      <th>5</th>\n",
       "      <td>5.4</td>\n",
       "      <td>3.9</td>\n",
       "      <td>1.7</td>\n",
       "      <td>0.4</td>\n",
       "    </tr>\n",
       "    <tr>\n",
       "      <th>12</th>\n",
       "      <td>4.8</td>\n",
       "      <td>3.0</td>\n",
       "      <td>1.4</td>\n",
       "      <td>0.1</td>\n",
       "    </tr>\n",
       "    <tr>\n",
       "      <th>122</th>\n",
       "      <td>7.7</td>\n",
       "      <td>2.8</td>\n",
       "      <td>6.7</td>\n",
       "      <td>2.0</td>\n",
       "    </tr>\n",
       "  </tbody>\n",
       "</table>\n",
       "</div>"
      ],
      "text/plain": [
       "     sepal length (cm)  sepal width (cm)  petal length (cm)  petal width (cm)\n",
       "99                 5.7               2.8                4.1               1.3\n",
       "104                6.5               3.0                5.8               2.2\n",
       "5                  5.4               3.9                1.7               0.4\n",
       "12                 4.8               3.0                1.4               0.1\n",
       "122                7.7               2.8                6.7               2.0"
      ]
     },
     "execution_count": 38,
     "metadata": {},
     "output_type": "execute_result"
    }
   ],
   "source": [
    "X_train.head()"
   ]
  },
  {
   "cell_type": "code",
   "execution_count": 39,
   "id": "a31b6895",
   "metadata": {},
   "outputs": [
    {
     "data": {
      "text/plain": [
       "<matplotlib.collections.PathCollection at 0x1e5101da910>"
      ]
     },
     "execution_count": 39,
     "metadata": {},
     "output_type": "execute_result"
    },
    {
     "data": {
      "image/png": "[encoded data removed]",
      "text/plain": [
       "<Figure size 432x288 with 1 Axes>"
      ]
     },
     "metadata": {
      "needs_background": "light"
     },
     "output_type": "display_data"
    }
   ],
   "source": [
    "plt.scatter(X_train.iloc[:,0], y_train, c=y_train)"
   ]
  },
  {
   "cell_type": "markdown",
   "id": "164a3169",
   "metadata": {},
   "source": [
    "# Fit"
   ]
  },
  {
   "cell_type": "code",
   "execution_count": 40,
   "id": "e6ada714",
   "metadata": {},
   "outputs": [],
   "source": [
    "mu = X_train.assign(y=y).groupby('y')['sepal length (cm)'].mean()"
   ]
  },
  {
   "cell_type": "code",
   "execution_count": 41,
   "id": "73d256f9",
   "metadata": {},
   "outputs": [],
   "source": [
    "sigma = X_train.assign(y=y).groupby('y')['sepal length (cm)'].std()"
   ]
  },
  {
   "cell_type": "code",
   "execution_count": 42,
   "id": "4ce726c0",
   "metadata": {},
   "outputs": [],
   "source": [
    "priors = y.value_counts(1).sort_index()"
   ]
  },
  {
   "cell_type": "code",
   "execution_count": 43,
   "id": "5774c9c3",
   "metadata": {},
   "outputs": [
    {
     "data": {
      "text/plain": [
       "0    0.333333\n",
       "1    0.333333\n",
       "2    0.333333\n",
       "dtype: float64"
      ]
     },
     "execution_count": 43,
     "metadata": {},
     "output_type": "execute_result"
    }
   ],
   "source": [
    "priors"
   ]
  },
  {
   "cell_type": "code",
   "execution_count": 44,
   "id": "9a9fec4b",
   "metadata": {},
   "outputs": [
    {
     "data": {
      "text/plain": [
       "Text(0.5, 0, 'sepal length (cm)')"
      ]
     },
     "execution_count": 44,
     "metadata": {},
     "output_type": "execute_result"
    },
    {
     "data": {
      "image/png": "[encoded data removed]",
      "text/plain": [
       "<Figure size 432x288 with 1 Axes>"
      ]
     },
     "metadata": {
      "needs_background": "light"
     },
     "output_type": "display_data"
    }
   ],
   "source": [
    "t = np.linspace(4, 9, 100)\n",
    "plt.plot(t, scs.norm(mu, sigma).pdf(np.array([t]*3).T) + [0, 1, 2])\n",
    "plt.scatter(X_train.iloc[:,0], y_train, c=y_train)\n",
    "plt.xlabel(X.columns[0])"
   ]
  },
  {
   "cell_type": "code",
   "execution_count": 45,
   "id": "dc7a8936",
   "metadata": {},
   "outputs": [],
   "source": [
    "parametrelerimiz = scs.norm(mu, sigma)"
   ]
  },
  {
   "cell_type": "code",
   "execution_count": 46,
   "id": "1f75f104",
   "metadata": {},
   "outputs": [
    {
     "data": {
      "text/plain": [
       "0    4.272301e-16\n",
       "1    3.996489e-03\n",
       "2    9.960035e-01\n",
       "dtype: float64"
      ]
     },
     "execution_count": 46,
     "metadata": {},
     "output_type": "execute_result"
    }
   ],
   "source": [
    "(parametrelerimiz.pdf([8, 8, 8]) * priors).pipe(lambda x: x/x.sum())"
   ]
  },
  {
   "cell_type": "code",
   "execution_count": 47,
   "id": "9c0430e3",
   "metadata": {},
   "outputs": [
    {
     "name": "stderr",
     "output_type": "stream",
     "text": [
      "c:\\Users\\berk_\\miniconda3\\envs\\cons1\\lib\\site-packages\\sklearn\\base.py:445: UserWarning: X does not have valid feature names, but GaussianNB was fitted with feature names\n",
      "  warnings.warn(\n"
     ]
    },
    {
     "data": {
      "text/plain": [
       "array([2])"
      ]
     },
     "execution_count": 47,
     "metadata": {},
     "output_type": "execute_result"
    }
   ],
   "source": [
    "naive_bayes.GaussianNB().fit(X_train.iloc[:, 0:1], y_train).predict([[8]])"
   ]
  },
  {
   "cell_type": "code",
   "execution_count": 48,
   "id": "086be30a",
   "metadata": {},
   "outputs": [
    {
     "name": "stderr",
     "output_type": "stream",
     "text": [
      "c:\\Users\\berk_\\miniconda3\\envs\\cons1\\lib\\site-packages\\sklearn\\base.py:445: UserWarning: X does not have valid feature names, but GaussianNB was fitted with feature names\n",
      "  warnings.warn(\n"
     ]
    },
    {
     "data": {
      "text/plain": [
       "array([[1.92195932e-16, 3.43760213e-03, 9.96562398e-01]])"
      ]
     },
     "execution_count": 48,
     "metadata": {},
     "output_type": "execute_result"
    }
   ],
   "source": [
    "naive_bayes.GaussianNB().fit(X_train.iloc[:, 0:1], y_train).predict_proba([[8]])"
   ]
  },
  {
   "cell_type": "markdown",
   "id": "a0fa3162",
   "metadata": {},
   "source": [
    "## Multivariate Gaussian"
   ]
  },
  {
   "cell_type": "code",
   "execution_count": 49,
   "id": "4e6e30f0",
   "metadata": {},
   "outputs": [
    {
     "data": {
      "text/plain": [
       "<matplotlib.collections.PathCollection at 0x1e5102dbe20>"
      ]
     },
     "execution_count": 49,
     "metadata": {},
     "output_type": "execute_result"
    },
    {
     "data": {
      "image/png": "[encoded data removed]",
      "text/plain": [
       "<Figure size 432x288 with 1 Axes>"
      ]
     },
     "metadata": {
      "needs_background": "light"
     },
     "output_type": "display_data"
    }
   ],
   "source": [
    "plt.scatter(*X_train.iloc[:,0:2].values.T, c=y_train)"
   ]
  },
  {
   "cell_type": "code",
   "execution_count": 50,
   "id": "98028ff2",
   "metadata": {},
   "outputs": [],
   "source": [
    "gnb = naive_bayes.GaussianNB().fit(X_train.iloc[:,0:2], y_train)"
   ]
  },
  {
   "cell_type": "code",
   "execution_count": 52,
   "id": "29590270",
   "metadata": {},
   "outputs": [
    {
     "data": {
      "text/plain": [
       "<matplotlib.collections.PathCollection at 0x1e51036a730>"
      ]
     },
     "execution_count": 52,
     "metadata": {},
     "output_type": "execute_result"
    },
    {
     "data": {
      "image/png": "[encoded data removed]",
      "text/plain": [
       "<Figure size 432x288 with 1 Axes>"
      ]
     },
     "metadata": {
      "needs_background": "light"
     },
     "output_type": "display_data"
    }
   ],
   "source": [
    "plt.scatter(*X_train.iloc[:,0:2].values.T, c=y_train)\n",
    "plt.scatter(*gnb.theta_.T, color='red')"
   ]
  },
  {
   "cell_type": "code",
   "execution_count": 51,
   "id": "b3880cb8",
   "metadata": {},
   "outputs": [
    {
     "data": {
      "text/plain": [
       "array([[4.96666667, 3.4       ],\n",
       "       [5.97179487, 2.82051282],\n",
       "       [6.58461538, 2.96666667]])"
      ]
     },
     "execution_count": 51,
     "metadata": {},
     "output_type": "execute_result"
    }
   ],
   "source": [
    "gnb.theta_"
   ]
  },
  {
   "cell_type": "code",
   "execution_count": 53,
   "id": "f2bce5c2",
   "metadata": {},
   "outputs": [
    {
     "data": {
      "text/plain": [
       "array([[0.11650794, 0.13476191],\n",
       "       [0.24099934, 0.08675871],\n",
       "       [0.37976331, 0.0965812 ]])"
      ]
     },
     "execution_count": 53,
     "metadata": {},
     "output_type": "execute_result"
    }
   ],
   "source": [
    "gnb.var_"
   ]
  },
  {
   "cell_type": "code",
   "execution_count": 55,
   "id": "257876bd",
   "metadata": {},
   "outputs": [],
   "source": [
    "xx, yy= np.meshgrid(np.linspace(4, 8, 100, ), np.linspace(2, 4.5, 100))"
   ]
  },
  {
   "cell_type": "code",
   "execution_count": 56,
   "id": "462ad8ab",
   "metadata": {},
   "outputs": [],
   "source": [
    "c1_dagilim = scs.multivariate_normal([5.02564103, 3.43589744], np.array([0.14498356, 0.16486522])**0.5)"
   ]
  },
  {
   "cell_type": "code",
   "execution_count": 57,
   "id": "f1c887cc",
   "metadata": {},
   "outputs": [],
   "source": [
    "zz = c1_dagilim.pdf(np.array([xx.ravel(), yy.ravel()]).T).reshape(xx.shape)"
   ]
  },
  {
   "cell_type": "code",
   "execution_count": 58,
   "id": "bdbde33e",
   "metadata": {},
   "outputs": [
    {
     "data": {
      "text/plain": [
       "<matplotlib.collections.PathCollection at 0x1e5103ddcd0>"
      ]
     },
     "execution_count": 58,
     "metadata": {},
     "output_type": "execute_result"
    },
    {
     "data": {
      "image/png": "[encoded data removed]",
      "text/plain": [
       "<Figure size 432x288 with 1 Axes>"
      ]
     },
     "metadata": {
      "needs_background": "light"
     },
     "output_type": "display_data"
    }
   ],
   "source": [
    "plt.contourf(xx, yy, zz, cmap='jet')\n",
    "plt.scatter(*X_train.iloc[:,0:2].values.T, c=y_train)"
   ]
  },
  {
   "cell_type": "markdown",
   "id": "8be9db3e",
   "metadata": {},
   "source": [
    "P(c1 | D) = P(c1 | x1) * P(c1 | x2)"
   ]
  },
  {
   "cell_type": "code",
   "execution_count": 59,
   "id": "d9ceb0e7",
   "metadata": {},
   "outputs": [
    {
     "data": {
      "text/plain": [
       "0.8666666666666667"
      ]
     },
     "execution_count": 59,
     "metadata": {},
     "output_type": "execute_result"
    }
   ],
   "source": [
    "naive_bayes.GaussianNB().fit(X_train.iloc[:,0:2], y_train).score(X_test.iloc[:, 0:2], y_test)"
   ]
  },
  {
   "cell_type": "code",
   "execution_count": 60,
   "id": "56e48793",
   "metadata": {},
   "outputs": [
    {
     "data": {
      "text/plain": [
       "0.9333333333333333"
      ]
     },
     "execution_count": 60,
     "metadata": {},
     "output_type": "execute_result"
    }
   ],
   "source": [
    "naive_bayes.GaussianNB(var_smoothing=1e-9).fit(X_train, y_train).score(X_test, y_test)"
   ]
  },
  {
   "cell_type": "markdown",
   "id": "a8671609",
   "metadata": {},
   "source": [
    "## Naive Bayes\n",
    "\n",
    "- Bayes teoremi\n",
    "- Generatif bir model\n",
    "    - Yeni bir class eklense dahi ogrenebilir\n",
    "- Online ogrenme\n",
    "- Dagilimlar (her sinif icin feature'larin dagilimi) P(feature=X | sinif)\n",
    "- Naive: dagilimlarin birbirinden bagimsiz oldugu kabulu\n",
    "- Farkli veri tipleri farkli olasilik modellemeleri gerektirebilir\n",
    "    - Devamli degiskenler: Gaussian\n",
    "    - Frekans/binary : Multinomial/Bernoulli NB\n",
    "- Smoothing: \n",
    "    - Kategori/binary: training setinde gorunmeyen feature'lari test'de yok saymamak icin\n",
    "    - Gaussian: varyans 0 cikmasin, sayisal stabilite\n",
    "- "
   ]
  },
  {
   "cell_type": "code",
   "execution_count": null,
   "id": "7e86c1e4",
   "metadata": {},
   "outputs": [
    {
     "data": {
      "text/plain": [
       "GaussianNB()"
      ]
     },
     "execution_count": 61,
     "metadata": {},
     "output_type": "execute_result"
    }
   ],
   "source": [
    "model = naive_bayes.GaussianNB()\n",
    "model.fit(X_train, y_train)"
   ]
  },
  {
   "cell_type": "code",
   "execution_count": null,
   "id": "52dc5dff",
   "metadata": {},
   "outputs": [],
   "source": [
    "model = naive_bayes.GaussianNB()"
   ]
  },
  {
   "cell_type": "code",
   "execution_count": 62,
   "id": "ffb2ae64",
   "metadata": {},
   "outputs": [
    {
     "data": {
      "text/plain": [
       "array([[4.96666667, 3.4       , 1.44285714, 0.24047619],\n",
       "       [5.97179487, 2.82051282, 4.29230769, 1.33076923],\n",
       "       [6.58461538, 2.96666667, 5.58205128, 2.02564103]])"
      ]
     },
     "execution_count": 62,
     "metadata": {},
     "output_type": "execute_result"
    }
   ],
   "source": [
    "model.theta_"
   ]
  },
  {
   "cell_type": "code",
   "execution_count": 63,
   "id": "5e95817b",
   "metadata": {},
   "outputs": [
    {
     "data": {
      "text/plain": [
       "array([[0.11650794, 0.13476191, 0.02721089, 0.01145692],\n",
       "       [0.24099935, 0.08675871, 0.18788955, 0.04213018],\n",
       "       [0.37976332, 0.0965812 , 0.28916503, 0.08395793]])"
      ]
     },
     "execution_count": 63,
     "metadata": {},
     "output_type": "execute_result"
    }
   ],
   "source": [
    "model.var_"
   ]
  },
  {
   "cell_type": "code",
   "execution_count": 574,
   "id": "4ac7cdde",
   "metadata": {},
   "outputs": [
    {
     "data": {
      "text/plain": [
       "GaussianNB()"
      ]
     },
     "execution_count": 574,
     "metadata": {},
     "output_type": "execute_result"
    }
   ],
   "source": [
    "model.partial_fit(X_test, y_test)"
   ]
  },
  {
   "cell_type": "code",
   "execution_count": 575,
   "id": "a5c46b26",
   "metadata": {},
   "outputs": [
    {
     "data": {
      "text/plain": [
       "array([[5.006, 3.428, 1.462, 0.246],\n",
       "       [5.936, 2.77 , 4.26 , 1.326],\n",
       "       [6.588, 2.974, 5.552, 2.026]])"
      ]
     },
     "execution_count": 575,
     "metadata": {},
     "output_type": "execute_result"
    }
   ],
   "source": [
    "model.theta_"
   ]
  },
  {
   "cell_type": "code",
   "execution_count": 576,
   "id": "e5fa2ebc",
   "metadata": {},
   "outputs": [
    {
     "data": {
      "text/plain": [
       "array([[0.121764, 0.140816, 0.029556, 0.010884],\n",
       "       [0.261104, 0.0965  , 0.2164  , 0.038324],\n",
       "       [0.396256, 0.101924, 0.298496, 0.073924]])"
      ]
     },
     "execution_count": 576,
     "metadata": {},
     "output_type": "execute_result"
    }
   ],
   "source": [
    "model.var_"
   ]
  },
  {
   "cell_type": "code",
   "execution_count": 577,
   "id": "f8f39f91",
   "metadata": {},
   "outputs": [
    {
     "data": {
      "text/plain": [
       "0.9333333333333333"
      ]
     },
     "execution_count": 577,
     "metadata": {},
     "output_type": "execute_result"
    }
   ],
   "source": [
    "model = naive_bayes.GaussianNB()\n",
    "model.fit(X_train, y_train)\n",
    "model.score(X_test, y_test)"
   ]
  },
  {
   "cell_type": "code",
   "execution_count": 578,
   "id": "998c4728",
   "metadata": {},
   "outputs": [
    {
     "data": {
      "text/plain": [
       "array([[5.0425    , 3.4375    , 1.4725    , 0.2425    ],\n",
       "       [5.93181818, 2.77045455, 4.23863636, 1.31363636],\n",
       "       [6.58333333, 2.95      , 5.525     , 2.01388889]])"
      ]
     },
     "execution_count": 578,
     "metadata": {},
     "output_type": "execute_result"
    }
   ],
   "source": [
    "model.theta_"
   ]
  },
  {
   "cell_type": "code",
   "execution_count": 579,
   "id": "79a82cdb",
   "metadata": {},
   "outputs": [
    {
     "data": {
      "text/plain": [
       "array([[0.11894375, 0.11284375, 0.02449375, 0.01244375],\n",
       "       [0.25671488, 0.09208161, 0.20646178, 0.03345042],\n",
       "       [0.43861111, 0.09472223, 0.30520834, 0.06952932]])"
      ]
     },
     "execution_count": 579,
     "metadata": {},
     "output_type": "execute_result"
    }
   ],
   "source": [
    "model.var_"
   ]
  },
  {
   "cell_type": "code",
   "execution_count": 65,
   "id": "74b684da",
   "metadata": {},
   "outputs": [
    {
     "data": {
      "text/plain": [
       "120"
      ]
     },
     "execution_count": 65,
     "metadata": {},
     "output_type": "execute_result"
    }
   ],
   "source": [
    "N = X_train.shape[0]\n",
    "N"
   ]
  },
  {
   "cell_type": "code",
   "execution_count": 66,
   "id": "50587b71",
   "metadata": {},
   "outputs": [
    {
     "data": {
      "text/plain": [
       "99    1\n",
       "dtype: int32"
      ]
     },
     "execution_count": 66,
     "metadata": {},
     "output_type": "execute_result"
    }
   ],
   "source": [
    "y_train.iloc[0:0+1]"
   ]
  },
  {
   "cell_type": "markdown",
   "id": "638779bd",
   "metadata": {},
   "source": [
    "## Online learning: partial fit\n",
    "\n",
    "Ornekleri tek tek gormek ile toptan gormek arasinda NB icin fark yok."
   ]
  },
  {
   "cell_type": "code",
   "execution_count": 67,
   "id": "5337decb",
   "metadata": {},
   "outputs": [],
   "source": [
    "model = naive_bayes.GaussianNB()\n",
    "for i in range(N-1, -1, -1):\n",
    "    model.partial_fit(X_train.iloc[i:i+1], y_train.iloc[i:i+1], classes=[0, 1, 2])"
   ]
  },
  {
   "cell_type": "code",
   "execution_count": 68,
   "id": "8fbc7cce",
   "metadata": {},
   "outputs": [
    {
     "data": {
      "text/plain": [
       "0.9333333333333333"
      ]
     },
     "execution_count": 68,
     "metadata": {},
     "output_type": "execute_result"
    }
   ],
   "source": [
    "model.score(X_test, y_test)"
   ]
  },
  {
   "cell_type": "code",
   "execution_count": 69,
   "id": "cf961b0e",
   "metadata": {},
   "outputs": [
    {
     "data": {
      "text/plain": [
       "array([[4.96666667, 3.4       , 1.44285714, 0.24047619],\n",
       "       [5.97179487, 2.82051282, 4.29230769, 1.33076923],\n",
       "       [6.58461538, 2.96666667, 5.58205128, 2.02564103]])"
      ]
     },
     "execution_count": 69,
     "metadata": {},
     "output_type": "execute_result"
    }
   ],
   "source": [
    "model.theta_"
   ]
  },
  {
   "cell_type": "code",
   "execution_count": 70,
   "id": "ae22e96a",
   "metadata": {},
   "outputs": [
    {
     "data": {
      "text/plain": [
       "array([[0.11650794, 0.1347619 , 0.02721088, 0.01145692],\n",
       "       [0.24099934, 0.08675871, 0.18788955, 0.04213018],\n",
       "       [0.37976331, 0.0965812 , 0.28916502, 0.08395792]])"
      ]
     },
     "execution_count": 70,
     "metadata": {},
     "output_type": "execute_result"
    }
   ],
   "source": [
    "model.var_"
   ]
  },
  {
   "cell_type": "code",
   "execution_count": null,
   "id": "e375d705",
   "metadata": {},
   "outputs": [],
   "source": []
  },
  {
   "cell_type": "markdown",
   "id": "a7b2c658",
   "metadata": {},
   "source": [
    "## Karar sinirlari"
   ]
  },
  {
   "cell_type": "code",
   "execution_count": 71,
   "id": "09e79bad",
   "metadata": {},
   "outputs": [],
   "source": [
    "from ipywidgets import interact"
   ]
  },
  {
   "cell_type": "code",
   "execution_count": 72,
   "id": "442f1103",
   "metadata": {},
   "outputs": [
    {
     "data": {
      "application/vnd.jupyter.widget-view+json": {
       "model_id": "32c8d67235a74fc8a3e65631e39e5b96",
       "version_major": 2,
       "version_minor": 0
      },
      "text/plain": [
       "interactive(children=(IntSlider(value=1, description='c1_prior_rel', max=10, min=1), IntSlider(value=1, descri…"
      ]
     },
     "metadata": {},
     "output_type": "display_data"
    }
   ],
   "source": [
    "@interact(c1_prior_rel=(1,10,1), c2_prior_rel=(1, 10, 1), c3_prior_rel=(1, 10, 1), var_smoothing_e=(-9,2,1))\n",
    "def nbviz(c1_prior_rel=1, c2_prior_rel=1, c3_prior_rel=1, var_smoothing_e=-9):\n",
    "    priors = np.array([c1_prior_rel, c2_prior_rel, c3_prior_rel])\n",
    "    priors = priors / priors.sum()\n",
    "    irismodel = naive_bayes.GaussianNB(priors=priors, var_smoothing=10**var_smoothing_e)\n",
    "    irismodel.fit(X.iloc[:, :2], y)\n",
    "    ss, dd = np.meshgrid(np.linspace(4, 8, 100), np.linspace(1, 5, 100))\n",
    "    pp = irismodel.predict(pd.DataFrame(np.array([ss.ravel(), dd.ravel()]).T, columns=X.columns[:2])).reshape(ss.shape)\n",
    "    plt.contourf(ss, dd, pp)\n",
    "    plt.scatter(X.iloc[:, 0], X.iloc[:, 1], c=y, edgecolors='black')\n",
    "    plt.xlabel(X.columns[0])\n",
    "    plt.ylabel(X.columns[1])\n"
   ]
  },
  {
   "cell_type": "code",
   "execution_count": null,
   "id": "a9844ea9",
   "metadata": {},
   "outputs": [],
   "source": []
  }
 ],
 "metadata": {
  "kernelspec": {
   "display_name": "Python 3.8.12 ('cons1')",
   "language": "python",
   "name": "python3"
  },
  "language_info": {
   "codemirror_mode": {
    "name": "ipython",
    "version": 3
   },
   "file_extension": ".py",
   "mimetype": "text/x-python",
   "name": "python",
   "nbconvert_exporter": "python",
   "pygments_lexer": "ipython3",
   "version": "3.8.12"
  },
  "vscode": {
   "interpreter": {
    "hash": "a571a25d3379e9645cc932b401c674531bbcf658e9b176b05ab9004deb2f65c4"
   }
  }
 },
 "nbformat": 4,
 "nbformat_minor": 5
}
