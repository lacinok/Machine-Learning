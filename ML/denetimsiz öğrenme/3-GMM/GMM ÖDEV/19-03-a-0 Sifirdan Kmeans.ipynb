{
 "cells": [
  {
   "cell_type": "code",
   "execution_count": 5,
   "metadata": {},
   "outputs": [],
   "source": [
    "import numpy as np\n",
    "from sklearn import datasets\n",
    "import matplotlib.pyplot as plt"
   ]
  },
  {
   "cell_type": "markdown",
   "metadata": {},
   "source": [
    "# 0. 0'dan K-means"
   ]
  },
  {
   "cell_type": "markdown",
   "metadata": {},
   "source": [
    "`numpy` islemleri ile sifirdan `K-means` algoritmasini isletecek bir kumelendirici `class`'i olusturunuz."
   ]
  },
  {
   "cell_type": "markdown",
   "metadata": {},
   "source": [
    "Gerekli islemler icin asagidaki `class` iskeletini kullanmak isterseniz gerekli alt rutinleri tamamlamalisiniz.\n",
    "\n",
    "*Kendi fonksiyonunuzu-`class`'inizi da yazabilirsiniz.*"
   ]
  },
  {
   "cell_type": "code",
   "execution_count": 43,
   "metadata": {},
   "outputs": [],
   "source": [
    "class Kumelendirici:\n",
    "    def __init__(self, kume_sayisi=3, max_iter=100):\n",
    "        # Bu metodda degisiklige ihtiyac olmamali\n",
    "        self.kume_sayisi = kume_sayisi\n",
    "        self.max_iter = max_iter\n",
    "        self.merkezler = None  # (kume_sayisi, n) boyutunda matris\n",
    "        self.kume_indexleri = None # (m,) boyutunda vektor\n",
    "\n",
    "    def fit(self, X):\n",
    "        # Bu metodda degisiklige ihtiyac olmamali\n",
    "        # X (m, n) boyutunda veri matrisi\n",
    "\n",
    "        # Rastgele merkezlerle basla\n",
    "        self.merkezler = self.rastgele_merkez_sec(X)\n",
    "        for _ in range(self.max_iter):\n",
    "\n",
    "            # Orneklere kume ata\n",
    "            eski_indexler = self.kume_indexleri\n",
    "            self.kume_indexleri = self.orneklere_kume_ata(X)\n",
    "\n",
    "            # Eski atama ile yeni atamayi karsilastir\n",
    "            if self.atamalar_degismedi(self.kume_indexleri, eski_indexler):\n",
    "                self.wcss = self.wcss_hesapla(X)\n",
    "                break  # Eger atamalar degismedi ise algoritma yakinsamistir\n",
    "\n",
    "            # Merkezleri yeniden hesapla\n",
    "            self.merkezler = self.merkezleri_hesapla(X)\n",
    "        return self\n",
    "\n",
    "    def rastgele_merkez_sec(self, X):\n",
    "        # X (m, n) boyutunda veri matrisi\n",
    "        # Rastgele kume merkezlerini dondurun\n",
    "        pass\n",
    "\n",
    "    def atamalar_degismedi(self, yeni, eski):\n",
    "        # Atamalar degismemisse True dondurun\n",
    "        # yeni ve eski (m,) boyutunda vektorler\n",
    "        pass\n",
    "\n",
    "    def orneklere_kume_ata(self, X):\n",
    "        # Her bir ornegi kumelere atayin\n",
    "        # Atanan kume indekslerini dondurun\n",
    "        self.merkezler # kume merkezleri burada, veri argumanlardan geliyor\n",
    "        pass\n",
    "\n",
    "    def merkezleri_hesapla(self, X):\n",
    "        # Her bir kume icin merkezleri hesaplayin\n",
    "        # Hesaplanan merkezleri dondurun\n",
    "        self.kume_indexleri # kume indeksleri elinizde, veri argumanlardan geliyor\n",
    "        pass\n",
    "\n",
    "    def predict(self, X):\n",
    "        # X (m, n) boyutunda veri matrisi\n",
    "        # X'in kume indekslerini dondurun\n",
    "        pass\n",
    "\n",
    "    def wcss_hesapla(self, X):\n",
    "        # X (m, n) boyutunda veri matrisi\n",
    "        # WCSS'yi hesaplayarak dondurun\n",
    "        pass\n",
    "\n"
   ]
  },
  {
   "cell_type": "markdown",
   "metadata": {},
   "source": [
    "# 1. Test"
   ]
  },
  {
   "cell_type": "markdown",
   "metadata": {},
   "source": [
    "## 1.a. Entegrasyon testi"
   ]
  },
  {
   "cell_type": "markdown",
   "metadata": {},
   "source": [
    "Algoritmanizi asagidaki veri uzerinde test ediniz. Sonuclarinizi gorsellestiriniz."
   ]
  },
  {
   "cell_type": "code",
   "execution_count": 247,
   "metadata": {},
   "outputs": [
    {
     "data": {
      "image/png": "[encoded data removed]",
      "text/plain": [
       "<Figure size 432x288 with 1 Axes>"
      ]
     },
     "metadata": {
      "needs_background": "light"
     },
     "output_type": "display_data"
    }
   ],
   "source": [
    "X, y = datasets.make_blobs(random_state=42)\n",
    "plt.scatter(X[:, 0], X[:, 1], c=y);"
   ]
  },
  {
   "cell_type": "code",
   "execution_count": null,
   "metadata": {},
   "outputs": [],
   "source": []
  },
  {
   "cell_type": "markdown",
   "metadata": {},
   "source": [
    "## 1.b Performans testi"
   ]
  },
  {
   "cell_type": "markdown",
   "metadata": {},
   "source": [
    "20 ayri kumelendirme uzerinde alinan WCSS degerlerini yazdiriniz. Farkli sonuclar aliyorsaniz sebebini aciklayiniz."
   ]
  },
  {
   "cell_type": "code",
   "execution_count": null,
   "metadata": {},
   "outputs": [],
   "source": []
  },
  {
   "cell_type": "markdown",
   "metadata": {},
   "source": [
    "# 2. Lokal minima (opsiyonel)"
   ]
  },
  {
   "cell_type": "markdown",
   "metadata": {},
   "source": [
    "Algoritmanizin lokal minimaya takilma olasiligini azaltacak gerekli degisiklikleri yapiniz."
   ]
  },
  {
   "cell_type": "markdown",
   "metadata": {},
   "source": [
    "Degisikliklerinizi asagidaki iskelet `class` uzerinde yapabilir ya da kendi fonksiyonunuzu yazabilirsiniz."
   ]
  },
  {
   "cell_type": "code",
   "execution_count": 238,
   "metadata": {},
   "outputs": [],
   "source": [
    "class CiddiKumeci(Kumelendirici):\n",
    "    def __init__(self, kume_sayisi=3, max_iter=100, n_init=10):\n",
    "        super().__init__(kume_sayisi, max_iter)\n",
    "        self.n_init = n_init\n",
    "\n",
    "    def fit(self, X):\n",
    "        # Ebeveyn sinifin fit metodunu `super().fit(X)` ile cagirabilirsiniz.\n",
    "        # Oneri: ebeveynin fit metodunu defaten cagirip wcss ve kume merkezlerini kaydetmek\n",
    "        # Muteakiben, en kucuk wcss'ye ait kume merkezlerini tekrar ilgili \"attribute\"'a atamak\n",
    "        return self"
   ]
  },
  {
   "cell_type": "markdown",
   "metadata": {},
   "source": [
    "## 2.a Test"
   ]
  },
  {
   "cell_type": "markdown",
   "metadata": {},
   "source": [
    "Gelistirilmis algoritmanizi test ediniz.\n",
    "\n",
    "20 farkli kumelendirmenin WCSS sonuclarini yazdiriniz."
   ]
  },
  {
   "cell_type": "code",
   "execution_count": null,
   "metadata": {},
   "outputs": [],
   "source": []
  }
 ],
 "metadata": {
  "kernelspec": {
   "display_name": "Python 3.8.12 ('cons1')",
   "language": "python",
   "name": "python3"
  },
  "language_info": {
   "codemirror_mode": {
    "name": "ipython",
    "version": 3
   },
   "file_extension": ".py",
   "mimetype": "text/x-python",
   "name": "python",
   "nbconvert_exporter": "python",
   "pygments_lexer": "ipython3",
   "version": "3.8.12"
  },
  "orig_nbformat": 4,
  "vscode": {
   "interpreter": {
    "hash": "a571a25d3379e9645cc932b401c674531bbcf658e9b176b05ab9004deb2f65c4"
   }
  }
 },
 "nbformat": 4,
 "nbformat_minor": 2
}
